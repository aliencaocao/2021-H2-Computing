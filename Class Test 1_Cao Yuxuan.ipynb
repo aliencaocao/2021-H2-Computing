{
 "cells": [
  {
   "cell_type": "markdown",
   "metadata": {},
   "source": [
    "####           Class Test 1\n",
    "\n",
    "```\n",
    "Date: Apr 2021 \n",
    "Total marks: 20 \n",
    "Duration: 30 mins\n",
    "\n",
    "```\n"
   ]
  },
  {
   "cell_type": "markdown",
   "metadata": {},
   "source": [
    "1. Write a program that displays a temperature conversion table for degrees Celsius and degrees Fahrenheit. The table should include rows for all temperatures between 0 and 100 degrees Celsius that are multiples of 10 degrees Celsius. The formula to convert degrees Celsius (C) and degrees Fahrenheit (F) is  **F = (C * 9 / 5) + 32**. Format the output as follows:\n",
    "\n",
    "```\n",
    "               Celsius    Fahrenheit\n",
    "                     0            32\n",
    "                    10            50\n",
    "                     .             .\n",
    "                     .             . \n",
    "                     .             .\n",
    "                    90           194\n",
    "                   100           212 \n",
    "                                                                                           [5]\n",
    "                                                                                           \n",
    "```"
   ]
  },
  {
   "cell_type": "code",
   "execution_count": 46,
   "metadata": {},
   "outputs": [
    {
     "name": "stdout",
     "output_type": "stream",
     "text": [
      "Celsius    Fahrenheit\n",
      "      0            32\n",
      "     10            50\n",
      "     20            68\n",
      "     30            86\n",
      "     40           104\n",
      "     50           122\n",
      "     60           140\n",
      "     70           158\n",
      "     80           176\n",
      "     90           194\n",
      "    100           212\n"
     ]
    }
   ],
   "source": [
    "print (f\"{'Celsius':>5}    {'Fahrenheit':>5}\")\n",
    "for i in range(0, 11):  # 10+1\n",
    "    tempc = 0 + i * 10  #add 10 each time\n",
    "    tempf = (tempc*9/5)+32\n",
    "    print (f\"{round(tempc):>7}       {round(tempf):>7}\")\n"
   ]
  },
  {
   "cell_type": "markdown",
   "metadata": {},
   "source": [
    "2.    A game which uses a coin is played between two players, P (the player) and R (the receiver), as follows.\n",
    "\n",
    "```\n",
    "The coin is tossed. If it is a head, P pays R one dollar and the game is over. Otherwise, it \n",
    "is a tail, and the coin is tossed a second time. If it is a head this time, P pays R two \n",
    "dollars and the game is over. But if it is another tail, the coin is tossed a third time. \n",
    "If it is now a head, P pays R four dollars and the game is over. If it is still a tail, \n",
    "the coin is tossed again. This continues, doubling the payment each time a tail is tossed,\n",
    "until a head is tossed, at which point P pays R and the game is over.\n",
    "\n",
    "```\n",
    "Write a program which will simulate the playing of this game 5 times. For each game, display an __H__ each time the outcome is heads, and a **T** each time the outcome is tails, with all of the outcomes shown on the same line. The final line of the printout should state the average payment made by P to R. \n",
    "\n",
    " **Hint:** Use **randint** from the random module to simulate the tossing of a coin.  \n",
    "e.g.  **randint(0, 1)** generates either 0 (indicates a tail) or 1 (indicates a head)\n",
    "\n",
    "**Note:** Do not use break statements in your program.\n",
    "\n",
    "\n",
    "A sample output is shown below.\n",
    " \n",
    "``` \n",
    " Game 1:  T T T T H \n",
    " P pays R $16.00\n",
    "\n",
    " Game 2:  H \n",
    " P pays R $1.00\n",
    "\n",
    " Game 3:  T H \n",
    " P pays R $2.00\n",
    "\n",
    " Game 4:  H \n",
    " P pays R $1.00\n",
    "\n",
    " Game 5:  T T H \n",
    " P pays R $4.00\n",
    "\n",
    " Average payment made by P to R is $4.80\n",
    "                                                                                          [8]\n",
    "                                                                                         \n",
    "                                                                                          ```\n",
    "                                                                                      \n",
    "        "
   ]
  },
  {
   "cell_type": "code",
   "execution_count": 34,
   "metadata": {},
   "outputs": [
    {
     "name": "stdout",
     "output_type": "stream",
     "text": [
      "Game 1:  H\n",
      "P pays R $1.00\n",
      "\n",
      "Game 2:  H\n",
      "P pays R $1.00\n",
      "\n",
      "Game 3:  T H\n",
      "P pays R $2.00\n",
      "\n",
      "Game 4:  T H\n",
      "P pays R $2.00\n",
      "\n",
      "Game 5:  T T T H\n",
      "P pays R $8.00\n",
      "\n",
      "Average payment made by P to R is $2.80\n"
     ]
    }
   ],
   "source": [
    "from random import randint\n",
    "from statistics import mean\n",
    "totalPay = []\n",
    "for i in range(5):\n",
    "    results = []\n",
    "    game = 0\n",
    "    gameContinue = True\n",
    "    while gameContinue:\n",
    "        toss = randint(0,1)\n",
    "        if toss == 1:  # Head\n",
    "            pay = 1 * 2**game\n",
    "            results += ['H']\n",
    "            gameContinue = False\n",
    "        else:  # Tail\n",
    "            results += ['T']\n",
    "            game += 1\n",
    "    print(f'Game {i+1}:', end='  ')\n",
    "    print(*results, sep=' ')\n",
    "    totalPay += [pay]\n",
    "    print(f'P pays R ${pay:.2f}')\n",
    "    print()\n",
    "avgPay = mean(totalPay)\n",
    "print(f'Average payment made by P to R is ${avgPay:.2f}')\n"
   ]
  },
  {
   "cell_type": "markdown",
   "metadata": {},
   "source": [
    "3. The value of __pi__ can be approximated by the following infinite series:\n",
    "                 \n",
    "**pi = 3 + (4 / (2 \\* 3 \\* 4)) - (4 / (4 \\* 5 \\* 6)) + (4 / (6 \\* 7 \\* 8)) - (4 / (8 \\* 9 \\* 10)) + . . . . . . .** \n",
    "\n",
    "                 \n",
    "Write a program that displays 15 approximations of **pi** . The first approximation should make use of only the first term from the infinite series. Each additional approximation displayed by your program should include one more term in the series, making it a better approximation of **pi** than any of the approximations displayed previously. \n",
    "```\n",
    "                                                                                           [7]\n",
    "                                                                                           ```\n"
   ]
  },
  {
   "cell_type": "code",
   "execution_count": 45,
   "metadata": {},
   "outputs": [
    {
     "name": "stdout",
     "output_type": "stream",
     "text": [
      "3\n",
      "3.1666666666666665\n",
      "3.1333333333333333\n",
      "3.145238095238095\n",
      "3.1396825396825396\n",
      "3.1427128427128426\n",
      "3.1408813408813407\n",
      "3.142071817071817\n",
      "3.1412548236077646\n",
      "3.141839618929402\n",
      "3.1414067184965018\n",
      "3.1417360992606653\n",
      "3.141479689004255\n",
      "3.1416831892077552\n",
      "3.1415189855952756\n"
     ]
    }
   ],
   "source": [
    "pi = 3\n",
    "termSign = 1\n",
    "for i in range(4, 34, 2):\n",
    "    print(pi)  # First term is 3 so print first before changing value\n",
    "    term = 4/((i-2) * (i-1) * i) * termSign\n",
    "    pi += term\n",
    "    termSign *= -1"
   ]
  }
 ],
 "metadata": {
  "kernelspec": {
   "display_name": "Python 3",
   "language": "python",
   "name": "python3"
  },
  "language_info": {
   "codemirror_mode": {
    "name": "ipython",
    "version": 3
   },
   "file_extension": ".py",
   "mimetype": "text/x-python",
   "name": "python",
   "nbconvert_exporter": "python",
   "pygments_lexer": "ipython3",
   "version": "3.6.4"
  }
 },
 "nbformat": 4,
 "nbformat_minor": 2
}