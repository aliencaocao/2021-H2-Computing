{
 "cells": [
  {
   "cell_type": "code",
   "execution_count": 3,
   "metadata": {
    "collapsed": true,
    "pycharm": {
     "name": "#%%\n"
    }
   },
   "outputs": [
    {
     "data": {
      "text/plain": "[1, 2, 3, 4, 5, 6, 7, 8, 9]"
     },
     "execution_count": 3,
     "metadata": {},
     "output_type": "execute_result"
    }
   ],
   "source": [
    "def partition(A, start, end):\n",
    "    i = start + 1  # skip the first element as using first element as pivot\n",
    "    pivot = A[start]\n",
    "    for j in range(start+1, end+1):  # start from 2nd element as first one is pivot, end+1 because range() dont include the last item\n",
    "        if A[j] < pivot:  # if current element is less than pivot, exchange ith and jth element, then increase i by 1, else, only j increase by 1\n",
    "            A[i], A[j] = A[j], A[i]\n",
    "            i += 1\n",
    "    A[start], A[i-1] = A[i-1], A[start]  # After loop is done, swap the start (pivot) with (i-1)th element, (i-1)th is like a borderline of the smaller segment and larger segment\n",
    "    return i-1  # return the index of the pivot\n",
    "\n",
    "def quicksort(A, start, end):\n",
    "    if start < end:\n",
    "        pivot_pos = partition(A, start, end)  # index of the pivot\n",
    "        quicksort(A, start, pivot_pos-1)  # quick sort the front part\n",
    "        quicksort(A, pivot_pos+1, end)  # quick sort the back part\n",
    "\n",
    "A = [5, 3, 7, 2, 9, 1, 4, 6, 8]\n",
    "quicksort(A, 0, len(A)-1)\n",
    "A"
   ]
  }
 ],
 "metadata": {
  "kernelspec": {
   "display_name": "Python 3",
   "language": "python",
   "name": "python3"
  },
  "language_info": {
   "codemirror_mode": {
    "name": "ipython",
    "version": 2
   },
   "file_extension": ".py",
   "mimetype": "text/x-python",
   "name": "python",
   "nbconvert_exporter": "python",
   "pygments_lexer": "ipython2",
   "version": "2.7.6"
  }
 },
 "nbformat": 4,
 "nbformat_minor": 0
}