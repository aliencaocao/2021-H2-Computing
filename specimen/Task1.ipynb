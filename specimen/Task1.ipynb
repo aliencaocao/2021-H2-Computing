{
 "cells": [
  {
   "cell_type": "code",
   "execution_count": 7,
   "id": "74abad4f",
   "metadata": {
    "pycharm": {
     "name": "#%%\n"
    }
   },
   "outputs": [
    {
     "name": "stdout",
     "output_type": "stream",
     "text": [
      "Input a letter=\n",
      "The input is not a letter, please try again!\n",
      "Input a letter=\n",
      "The input is not a letter, please try again!\n",
      "Input a lettera\n",
      "a\n"
     ]
    }
   ],
   "source": [
    "# Task 1.1\n",
    "import string\n",
    "letter = input('Input a letter')\n",
    "while letter not in string.ascii_letters:\n",
    "    print('The input is not a letter, please try again!')\n",
    "    letter = input('Input a letter')\n",
    "print(letter)"
   ]
  },
  {
   "cell_type": "code",
   "execution_count": 1,
   "id": "b14a413e",
   "metadata": {
    "pycharm": {
     "name": "#%%\n"
    }
   },
   "outputs": [
    {
     "name": "stdout",
     "output_type": "stream",
     "text": [
      "Input a letterB\n",
      "Input a base11\n",
      "Letter                             B\n",
      "Denary                             66\n",
      "Number base 11                     60\n"
     ]
    }
   ],
   "source": [
    "# Task 1.2\n",
    "letter = input('Input a letter')\n",
    "base = int(input('Input a base'))\n",
    "\n",
    "def convert_base(num, base):\n",
    "    result = ''\n",
    "    letters = 'ABCD'\n",
    "    rem = num%base\n",
    "    div = num//base\n",
    "    result += str(rem) if rem < 10 else letters[rem-10]\n",
    "    while div:\n",
    "        rem = div%base\n",
    "        div = div//base\n",
    "        result += str(rem) if rem < 10 else letters[rem-10]\n",
    "    result = result[::-1]  # reverse the list\n",
    "    return result\n",
    "\n",
    "if 10 < base < 15:\n",
    "    denary = ord(letter)\n",
    "    changed_base = convert_base(denary, base)\n",
    "    print(f'{\"Letter\":<35}{letter:>}')\n",
    "    print(f'{\"Denary\":<35}{denary:>}')\n",
    "    print(f'{\"Number base\"+\" \"+str(base):<35}{changed_base:>}')\n",
    "else:\n",
    "    print('base out of range!')"
   ]
  },
  {
   "cell_type": "code",
   "execution_count": 9,
   "id": "4b1ae3b7",
   "metadata": {
    "pycharm": {
     "name": "#%%\n"
    }
   },
   "outputs": [
    {
     "name": "stdout",
     "output_type": "stream",
     "text": [
      "1. Enter a letter\n",
      "2. Convert to Denary\n",
      "3. Convert to base 11\n",
      "4. Convert to base 12\n",
      "5. Convert to base 13\n",
      "6. Convert to base 14\n",
      "7. End\n",
      "Enter a choice1\n",
      "Input a letterX\n",
      "1. Enter a letter\n",
      "2. Convert to Denary\n",
      "3. Convert to base 11\n",
      "4. Convert to base 12\n",
      "5. Convert to base 13\n",
      "6. Convert to base 14\n",
      "7. End\n",
      "Enter a choice5\n",
      "Base 13: 6A\n",
      "1. Enter a letter\n",
      "2. Convert to Denary\n",
      "3. Convert to base 11\n",
      "4. Convert to base 12\n",
      "5. Convert to base 13\n",
      "6. Convert to base 14\n",
      "7. End\n",
      "Enter a choice4\n",
      "Base 12: 74\n",
      "1. Enter a letter\n",
      "2. Convert to Denary\n",
      "3. Convert to base 11\n",
      "4. Convert to base 12\n",
      "5. Convert to base 13\n",
      "6. Convert to base 14\n",
      "7. End\n",
      "Enter a choice3\n",
      "Base 11: 80\n",
      "1. Enter a letter\n",
      "2. Convert to Denary\n",
      "3. Convert to base 11\n",
      "4. Convert to base 12\n",
      "5. Convert to base 13\n",
      "6. Convert to base 14\n",
      "7. End\n",
      "Enter a choice1\n",
      "Input a lettery\n",
      "1. Enter a letter\n",
      "2. Convert to Denary\n",
      "3. Convert to base 11\n",
      "4. Convert to base 12\n",
      "5. Convert to base 13\n",
      "6. Convert to base 14\n",
      "7. End\n",
      "Enter a choice2\n",
      "Denary: 121\n",
      "1. Enter a letter\n",
      "2. Convert to Denary\n",
      "3. Convert to base 11\n",
      "4. Convert to base 12\n",
      "5. Convert to base 13\n",
      "6. Convert to base 14\n",
      "7. End\n",
      "Enter a choice7\n",
      "Exiting\n"
     ]
    }
   ],
   "source": [
    "def convert_base(num, base):\n",
    "    result = ''\n",
    "    letters = 'ABCD'\n",
    "    rem = num%base\n",
    "    div = num//base\n",
    "    result += str(rem) if rem < 10 else letters[rem-10]\n",
    "    while div:\n",
    "        rem = div%base\n",
    "        div = div//base\n",
    "        result += str(rem) if rem < 10 else letters[rem-10]\n",
    "    result = result[::-1]  # reverse the list\n",
    "    return result\n",
    "\n",
    "\n",
    "def menu():\n",
    "    print('1. Enter a letter\\n2. Convert to Denary\\n3. Convert to base 11\\n4. Convert to base 12\\n5. Convert to base 13\\n6. Convert to base 14\\n7. End')\n",
    "    choice = int(input('Enter a choice'))\n",
    "    while not (1 <= choice <= 7):\n",
    "        print('Please input a valid choice!')\n",
    "        choice = int(input('Enter a choice'))\n",
    "    return choice\n",
    "\n",
    "def main():\n",
    "    choice = None\n",
    "    letter = ''\n",
    "    while choice != 7:\n",
    "        choice = menu()\n",
    "        if choice == 1:\n",
    "            letter = input('Input a letter')\n",
    "            denary_letter = ord(letter)\n",
    "        elif letter:\n",
    "            if choice == 2:\n",
    "                print(f'Denary: {denary_letter}')\n",
    "            elif choice == 3:\n",
    "                print(f'Base 11: {convert_base(denary_letter, 11)}')\n",
    "            elif choice == 4:\n",
    "                print(f'Base 12: {convert_base(denary_letter, 12)}')\n",
    "            elif choice == 5:\n",
    "                print(f'Base 13: {convert_base(denary_letter, 13)}')\n",
    "            elif choice == 6:\n",
    "                print(f'Base 14: {convert_base(denary_letter, 14)}')\n",
    "        else:\n",
    "            print('Enter a letter before doing conversions!')\n",
    "    print('Exiting')\n",
    "\n",
    "main()"
   ]
  }
 ],
 "metadata": {
  "kernelspec": {
   "display_name": "Python 3 (ipykernel)",
   "language": "python",
   "name": "python3"
  },
  "language_info": {
   "codemirror_mode": {
    "name": "ipython",
    "version": 3
   },
   "file_extension": ".py",
   "mimetype": "text/x-python",
   "name": "python",
   "nbconvert_exporter": "python",
   "pygments_lexer": "ipython3",
   "version": "3.9.13"
  }
 },
 "nbformat": 4,
 "nbformat_minor": 5
}