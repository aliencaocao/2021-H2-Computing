{
 "cells": [
  {
   "cell_type": "markdown",
   "metadata": {},
   "source": [
    "1.  Write a program that compute the median and mode of a set of numbers. It reads a list of numbers from a text file **q1.txt** and print their median and mode. \n",
    "\n"
   ]
  },
  {
   "cell_type": "code",
   "execution_count": 1,
   "metadata": {},
   "outputs": [
    {
     "name": "stdout",
     "output_type": "stream",
     "text": [
      "Mode: 3.0\n",
      "Median: 3.0\n",
      "Mode: 7.0\n",
      "Median: 2.0\n",
      "Mode: 7.0\n",
      "Median: 6.5\n"
     ]
    }
   ],
   "source": [
    "import statistics\n",
    "with open('q1.txt', 'r') as f:\n",
    "    lines = f.read().splitlines()\n",
    "for line in lines:\n",
    "    numbers = [float(x) for x in line.split()]\n",
    "    print('Mode:', statistics.mode(numbers))\n",
    "    print('Median:', statistics.median(numbers))"
   ]
  },
  {
   "cell_type": "markdown",
   "metadata": {},
   "source": [
    "2.   Write a program that allows the user to navigate the lines of text in a file. The program should prompt the user for a filename and input the lines of text into a list. The program then prints the number of lines in the file and prompts the user for a line number. Actual line numbers range from 1 to the number of lines in the file, If the input is zero, the program quits. Otherwise, the program prints the line associated with that number. Use **q2.txt** to test your program.\n",
    "\n"
   ]
  },
  {
   "cell_type": "code",
   "execution_count": 2,
   "metadata": {},
   "outputs": [
    {
     "name": "stdout",
     "output_type": "stream",
     "text": [
      "No of lines in file is 5\n",
      "This is the first line.\n",
      "This is the second line.\n",
      "This is the third line.\n",
      "This is the fourth line.\n",
      "This is the fifth line.\n"
     ]
    }
   ],
   "source": [
    "fileName = input('Enter the file name: ')\n",
    "with open(fileName, 'r') as f:\n",
    "    lines = f.read().splitlines()\n",
    "print('No of lines in file is', len(lines))\n",
    "stop = False\n",
    "while not stop:\n",
    "    lineNum = int(input(f'Enter a line number between 1 to {len(lines)}: '))\n",
    "    if lineNum == 0:\n",
    "        stop = True\n",
    "    elif lineNum <= len(lines):\n",
    "        print(lines[lineNum-1]) # list start from 0\n",
    "    else:\n",
    "        print('Please enter a valid line number')\n"
   ]
  },
  {
   "cell_type": "markdown",
   "metadata": {},
   "source": [
    "3.\tA file, **q3.txt**, contains words separated by newlines. \n",
    "\n",
    "(a)\tWrite a program that print all of the unique words in the file in alphabetical order\n",
    "\n",
    "(b)\tWrite a program that output the unique words and their frequencies in alphabetical order\n",
    "\n",
    "(c)\tWrite a program that output the most frequent word(s) in alphabetical order\n",
    "\n"
   ]
  },
  {
   "cell_type": "code",
   "execution_count": 3,
   "metadata": {},
   "outputs": [
    {
     "name": "stdout",
     "output_type": "stream",
     "text": [
      "chased, cow, dog, man, the\n",
      "\n",
      "chased: 2\n",
      "cow: 2\n",
      "dog: 1\n",
      "man: 1\n",
      "the: 2\n",
      "\n",
      "Most frequent word is/are chased, cow, the\n"
     ]
    }
   ],
   "source": [
    "# part a\n",
    "with open('q3.txt', 'r') as f:\n",
    "    lines = f.read().splitlines()\n",
    "unique_sorted = sorted(list(dict.fromkeys(lines)))\n",
    "print(\", \".join(unique_sorted))\n",
    "\n",
    "# part b\n",
    "print()\n",
    "wordCount = {}\n",
    "for line in lines:\n",
    "    for word in line.split():\n",
    "        wordCount[word] = wordCount.get(word, 0) + 1  # Assign 0 if not counted yet\n",
    "for word in sorted(wordCount.keys()):\n",
    "    print(f'{word}: {wordCount[word]}')\n",
    "\n",
    "# part c\n",
    "print()\n",
    "words, counts = [], []\n",
    "for word, count in wordCount.items():\n",
    "    # make parallel list\n",
    "    words += [word]\n",
    "    counts += [int(count)]\n",
    "maxCount = max(counts)\n",
    "mostFreqWords = []\n",
    "for word, count in wordCount.items():\n",
    "    if count == maxCount:\n",
    "        mostFreqWords += [word]\n",
    "print(f'Most frequent word is/are {\", \".join(sorted(mostFreqWords))}')\n"
   ]
  }
 ],
 "metadata": {
  "kernelspec": {
   "display_name": "Python 3",
   "language": "python",
   "name": "python3"
  },
  "language_info": {
   "codemirror_mode": {
    "name": "ipython",
    "version": 3
   },
   "file_extension": ".py",
   "mimetype": "text/x-python",
   "name": "python",
   "nbconvert_exporter": "python",
   "pygments_lexer": "ipython3",
   "version": "3.6.4"
  }
 },
 "nbformat": 4,
 "nbformat_minor": 2
}