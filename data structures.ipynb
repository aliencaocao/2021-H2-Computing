{
 "cells": [
  {
   "cell_type": "code",
   "execution_count": 2,
   "metadata": {
    "collapsed": true
   },
   "outputs": [],
   "source": [
    "class Node:\n",
    "    def __init__(self, data, nxt=None):\n",
    "        self._data = data\n",
    "        self._next = nxt\n",
    "\n",
    "    def getData(self):\n",
    "        return self._data\n",
    "\n",
    "    def getNext(self):\n",
    "        return self._next\n",
    "\n",
    "    def setData(self, data):\n",
    "        self._data = data\n",
    "\n",
    "    def setNext(self, node):\n",
    "        self._next = node\n",
    "\n",
    "    def __str__(self):\n",
    "        ret = f'Data: {self.getData()}'\n",
    "        if self.getNext():\n",
    "            ret += f'\\nNext: {self.getNext().getData()}'\n",
    "        else:\n",
    "            ret += '\\nNext: None'\n",
    "        return ret"
   ]
  },
  {
   "cell_type": "code",
   "execution_count": 14,
   "outputs": [
    {
     "name": "stdout",
     "output_type": "stream",
     "text": [
      "True\n",
      "2\n",
      "0\n",
      "1\n",
      "2\n",
      "3\n",
      "4\n",
      "five\n",
      "6\n",
      "7\n",
      "8\n",
      "9\n",
      "\n"
     ]
    }
   ],
   "source": [
    "class LinkedList:\n",
    "    def __init__(self):\n",
    "        self._head = None\n",
    "        self._tail = None\n",
    "\n",
    "    def isEmpty(self):\n",
    "        return self._head is None\n",
    "\n",
    "    def create_from_list(self, data):\n",
    "        for i in data:\n",
    "            self.append(i)\n",
    "\n",
    "    def peek(self):\n",
    "        return self._head.getData()\n",
    "\n",
    "    def search(self, data):\n",
    "        current = self._head\n",
    "        while current:\n",
    "            if current.getData() == data:\n",
    "                return current\n",
    "            current = current.getNext()\n",
    "        return False\n",
    "\n",
    "    def append(self, data):\n",
    "        node = Node(data)\n",
    "        if self.isEmpty():\n",
    "            self._head = node\n",
    "            self._tail = node\n",
    "        else:\n",
    "            self._tail.setNext(node)\n",
    "            self._tail = node\n",
    "\n",
    "    def prepend(self, data):\n",
    "        node = Node(data)\n",
    "        if self.isEmpty():\n",
    "            self._head = node\n",
    "            self._tail = node\n",
    "        else:\n",
    "            node.setNext(self._head)\n",
    "            self._head = node\n",
    "\n",
    "    def insert(self, index, data):\n",
    "        '''Returns a boolean indicating success or failure'''\n",
    "        if self.isEmpty():\n",
    "            return False\n",
    "        if index == 0:\n",
    "            self.prepend(data)\n",
    "            return True\n",
    "        current = self._head\n",
    "        for i in range(index-1):\n",
    "            current = current.getNext()\n",
    "        node = Node(data)\n",
    "        node.setNext(current.getNext())\n",
    "        current.setNext(node)  # must set next after setting new node's next else it will be overriden\n",
    "        return True\n",
    "\n",
    "    def remove(self, index):\n",
    "        '''Returns a boolean indicating success or failure'''\n",
    "        if self.isEmpty():\n",
    "            return False\n",
    "        if index == 0:\n",
    "            self._head = self._head.getNext()\n",
    "            return True\n",
    "        current = self._head\n",
    "        for i in range(index-1):\n",
    "            current = current.getNext()\n",
    "        current.setNext(current.getNext().getNext())  # skip the node at index\n",
    "        return True\n",
    "\n",
    "    def replace(self, data_or_index_to_be_replaced, new_data, mode='data'):\n",
    "        '''Mode can be data or index, default data\n",
    "        Returns a boolean indicating success or fail'''\n",
    "        assert mode in ['data', 'index'], 'Mode must be data or index'\n",
    "        current = self._head\n",
    "        counter = 0\n",
    "        found = True\n",
    "        while current:\n",
    "            if mode == 'data' and current.getData() == data_or_index_to_be_replaced:\n",
    "                current.setData(new_data)\n",
    "                found = True\n",
    "            elif mode == 'index' and isinstance(data_or_index_to_be_replaced, int) and counter == data_or_index_to_be_replaced:\n",
    "                current.setData(new_data)\n",
    "                found = True\n",
    "            current = current.getNext()\n",
    "            counter += 1\n",
    "        if found:\n",
    "            return True\n",
    "        else:\n",
    "            return False\n",
    "\n",
    "    def __getitem__(self, index):\n",
    "        '''Allows python-like list index access'''\n",
    "        current = self._head\n",
    "        for i in range(index):\n",
    "            current = current.getNext()\n",
    "        return current.getData()\n",
    "\n",
    "    def __setitem__(self, index, value):\n",
    "        '''Allows python-like list index access'''\n",
    "        self.replace(index, value, mode='index')\n",
    "\n",
    "    def __delitem__(self, index):\n",
    "        '''Allows python-like list index access'''\n",
    "        self.remove(index)\n",
    "\n",
    "    def __len__(self):\n",
    "        counter = 0\n",
    "        current = self._head\n",
    "        while current:\n",
    "            counter += 1\n",
    "            current = current.getNext()\n",
    "        return counter\n",
    "\n",
    "    def __str__(self):\n",
    "        result = ''\n",
    "        current = self._head\n",
    "        while current:\n",
    "            result += f'{current.getData()}\\n'\n",
    "            current = current.getNext()\n",
    "        return result\n",
    "\n",
    "linked_list = LinkedList()\n",
    "linked_list.create_from_list(list(range(10)))\n",
    "print(linked_list.replace(5, 'five', mode='data'))\n",
    "print(linked_list[2])\n",
    "print(linked_list)"
   ],
   "metadata": {
    "collapsed": false,
    "pycharm": {
     "name": "#%%\n"
    }
   }
  },
  {
   "cell_type": "code",
   "execution_count": 2,
   "outputs": [
    {
     "name": "stdout",
     "output_type": "stream",
     "text": [
      "Data: A\n",
      "Next: B\n",
      "Data: B\n",
      "Next: C\n",
      "Data: C\n",
      "Next: None\n"
     ]
    }
   ],
   "source": [
    "node3 = Node('C', None)\n",
    "node2 = Node('B', node3)\n",
    "node1 = Node('A', node2)\n",
    "print(node1)\n",
    "print(node2)\n",
    "print(node3)"
   ],
   "metadata": {
    "collapsed": false,
    "pycharm": {
     "name": "#%%\n"
    }
   }
  },
  {
   "cell_type": "code",
   "execution_count": 3,
   "outputs": [
    {
     "name": "stdout",
     "output_type": "stream",
     "text": [
      "Data: 8\n",
      "Next: 7\n",
      "10\n",
      "9\n",
      "8\n",
      "7\n",
      "6\n",
      "5\n",
      "4\n",
      "3\n",
      "2\n",
      "1\n"
     ]
    }
   ],
   "source": [
    "head = None\n",
    "for i in range(10):\n",
    "    head = Node(i+1, head)\n",
    "print(head.getNext().getNext())\n",
    "\n",
    "probe = head\n",
    "while probe:\n",
    "    print(probe.getData())\n",
    "    probe = probe.getNext()"
   ],
   "metadata": {
    "collapsed": false,
    "pycharm": {
     "name": "#%%\n"
    }
   }
  },
  {
   "cell_type": "code",
   "execution_count": 4,
   "outputs": [
    {
     "name": "stdout",
     "output_type": "stream",
     "text": [
      "Found 2\n"
     ]
    }
   ],
   "source": [
    "ptr = None\n",
    "for i in range(10):\n",
    "    ptr = Node(i+1, ptr)\n",
    "\n",
    "def search(ptr, value):\n",
    "    while ptr:\n",
    "        if ptr.getData() == value:\n",
    "            return ptr\n",
    "        ptr = ptr.getNext()\n",
    "    return None\n",
    "\n",
    "to_search = 2\n",
    "if search(ptr, to_search):\n",
    "    print(f'Found {to_search}')\n",
    "else:\n",
    "    print(f'{to_search} not found')"
   ],
   "metadata": {
    "collapsed": false,
    "pycharm": {
     "name": "#%%\n"
    }
   }
  },
  {
   "cell_type": "code",
   "execution_count": 8,
   "outputs": [],
   "source": [
    "# Replacement with data\n",
    "head = None\n",
    "for i in range(10):\n",
    "    head = Node(i+1, head)\n",
    "\n",
    "probe = head\n",
    "\n",
    "data_to_replace = 2\n",
    "while probe:\n",
    "    if probe.getData() == data_to_replace:\n",
    "        probe.setData('replaced 2')\n",
    "    probe = probe.getNext()\n",
    "\n",
    "\n",
    "# Replacement by index\n",
    "head = None\n",
    "for i in range(10):\n",
    "    head = Node(i+1, head)\n",
    "\n",
    "probe = head\n",
    "\n",
    "index_to_replace = 4\n",
    "for i in range(index_to_replace-1):\n",
    "    probe = probe.getNext()\n",
    "probe.setData('replaced at index 4')"
   ],
   "metadata": {
    "collapsed": false,
    "pycharm": {
     "name": "#%%\n"
    }
   }
  },
  {
   "cell_type": "code",
   "execution_count": null,
   "outputs": [],
   "source": [
    "# Insert at head\n",
    "new_data = 'new data'\n",
    "head = Node(new_data, head)\n",
    "\n",
    "# Insert at end\n",
    "new_data = 'new data'\n",
    "new_node  = Node(new_data, None)\n",
    "if not head:  # if the head is empty\n",
    "    head = new_node\n",
    "else:\n",
    "    probe = head\n",
    "    while probe.getNext():  # iterate all the way the end of the list\n",
    "        probe = probe.getNext()\n",
    "    probe.setNext(new_node)"
   ],
   "metadata": {
    "collapsed": false,
    "pycharm": {
     "name": "#%%\n"
    }
   }
  },
  {
   "cell_type": "code",
   "execution_count": null,
   "outputs": [],
   "source": [
    "# Removing at beginning\n",
    "def remove_at_front(head):\n",
    "    removed_data = head.getData()\n",
    "    head = head.getNext()\n",
    "    return removed_data, head\n",
    "\n",
    "# Removing at end\n",
    "\n",
    "def remove_at_end(head):\n",
    "    if not head.getNext():\n",
    "        removed_item = head.getData()\n",
    "        head = None\n",
    "    else:\n",
    "        probe = head\n",
    "        while probe.getNext().getNext():  # 2 get next to stop iternation at 2nd last item since we r removing the last one\n",
    "            probe = probe.getNext()\n",
    "        removed_item = probe.getNext().getData()\n",
    "        probe.setNext(None)\n",
    "    return removed_item, head"
   ],
   "metadata": {
    "collapsed": false,
    "pycharm": {
     "name": "#%%\n"
    }
   }
  },
  {
   "cell_type": "code",
   "execution_count": null,
   "outputs": [],
   "source": [
    "class linked_list:\n",
    "    def __init__(self):\n",
    "        self._head = None\n",
    "    def get_head(self):\n",
    "        return self._head\n",
    "    def add_to_front(self, data):\n",
    "        new_node = Node(data, self._head)\n",
    "        self._head = new_node\n",
    "    def add_to_end(self, data):\n",
    "        new_node = Node(data, None)\n",
    "        if not self._head:\n",
    "            self._head = new_node\n",
    "        else:\n",
    "            probe = self._head\n",
    "            while probe.getNext():\n",
    "                probe = probe.getNext()\n",
    "            probe.setNext(new_node)\n",
    "    def remove_at_front(self):\n",
    "        removed_data = self._head.getData()\n",
    "        self._head = self._head.getNext()\n",
    "        return removed_data\n",
    "    def remove_at_end(self):\n",
    "        if not self._head.getNext():\n",
    "            removed_data = self._head.getData()\n",
    "            self._head = None\n",
    "        else:\n",
    "            probe = self._head\n",
    "            while probe.getNext().getNext():\n",
    "                probe = probe.getNext()\n",
    "            removed_data = probe.getNext().getData()\n",
    "            probe.setNext(None)\n",
    "        return removed_data\n",
    "    def __str__(self):\n",
    "        ret = ''\n",
    "        probe = self._head\n",
    "        while probe:\n",
    "            ret += f'{probe.getData()} -> '\n",
    "            probe = probe.getNext()\n",
    "        return ret"
   ],
   "metadata": {
    "collapsed": false,
    "pycharm": {
     "name": "#%%\n"
    }
   }
  },
  {
   "cell_type": "code",
   "execution_count": null,
   "outputs": [],
   "source": [
    " "
   ],
   "metadata": {
    "collapsed": false,
    "pycharm": {
     "name": "#%%\n"
    }
   }
  }
 ],
 "metadata": {
  "kernelspec": {
   "display_name": "Python 3",
   "language": "python",
   "name": "python3"
  },
  "language_info": {
   "codemirror_mode": {
    "name": "ipython",
    "version": 2
   },
   "file_extension": ".py",
   "mimetype": "text/x-python",
   "name": "python",
   "nbconvert_exporter": "python",
   "pygments_lexer": "ipython2",
   "version": "2.7.6"
  }
 },
 "nbformat": 4,
 "nbformat_minor": 0
}