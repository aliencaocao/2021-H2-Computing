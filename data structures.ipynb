{
 "cells": [
  {
   "cell_type": "code",
   "execution_count": 1,
   "metadata": {
    "collapsed": true
   },
   "outputs": [],
   "source": [
    "class Node:\n",
    "    def __init__(self, data, nxt=None):\n",
    "        self._data = data\n",
    "        self._next = nxt\n",
    "    def getData(self):\n",
    "        return self._data\n",
    "    def getNext(self):\n",
    "        return self._next\n",
    "    def setData(self, data):\n",
    "        self._data = data\n",
    "    def setNext(self, node):\n",
    "        self._next = node\n",
    "    def __str__(self):\n",
    "        ret = f'Data: {self.getData()}'\n",
    "        if self.getNext() is not None:\n",
    "            ret += f'\\nNext: {self.getNext().getData()}'\n",
    "        else:\n",
    "            ret += '\\nNext: None'\n",
    "        return ret"
   ]
  },
  {
   "cell_type": "code",
   "execution_count": 2,
   "outputs": [
    {
     "name": "stdout",
     "output_type": "stream",
     "text": [
      "Data: A\n",
      "Next: B\n",
      "Data: B\n",
      "Next: C\n",
      "Data: C\n",
      "Next: None\n"
     ]
    }
   ],
   "source": [
    "node3 = Node('C', None)\n",
    "node2 = Node('B', node3)\n",
    "node1 = Node('A', node2)\n",
    "print(node1)\n",
    "print(node2)\n",
    "print(node3)"
   ],
   "metadata": {
    "collapsed": false,
    "pycharm": {
     "name": "#%%\n"
    }
   }
  },
  {
   "cell_type": "code",
   "execution_count": 3,
   "outputs": [
    {
     "name": "stdout",
     "output_type": "stream",
     "text": [
      "Data: 8\n",
      "Next: 7\n",
      "10\n",
      "9\n",
      "8\n",
      "7\n",
      "6\n",
      "5\n",
      "4\n",
      "3\n",
      "2\n",
      "1\n"
     ]
    }
   ],
   "source": [
    "head = None\n",
    "for i in range(10):\n",
    "    head = Node(i+1, head)\n",
    "print(head.getNext().getNext())\n",
    "\n",
    "probe = head\n",
    "while probe:\n",
    "    print(probe.getData())\n",
    "    probe = probe.getNext()"
   ],
   "metadata": {
    "collapsed": false,
    "pycharm": {
     "name": "#%%\n"
    }
   }
  },
  {
   "cell_type": "code",
   "execution_count": 4,
   "outputs": [
    {
     "name": "stdout",
     "output_type": "stream",
     "text": [
      "Found 2\n"
     ]
    }
   ],
   "source": [
    "ptr = None\n",
    "for i in range(10):\n",
    "    ptr = Node(i+1, ptr)\n",
    "\n",
    "def search(ptr, value):\n",
    "    while ptr:\n",
    "        if ptr.getData() == value:\n",
    "            return ptr\n",
    "        ptr = ptr.getNext()\n",
    "    return None\n",
    "\n",
    "to_search = 2\n",
    "if search(ptr, to_search):\n",
    "    print(f'Found {to_search}')\n",
    "else:\n",
    "    print(f'{to_search} not found')"
   ],
   "metadata": {
    "collapsed": false,
    "pycharm": {
     "name": "#%%\n"
    }
   }
  },
  {
   "cell_type": "code",
   "execution_count": 8,
   "outputs": [],
   "source": [
    "# Replacement with data\n",
    "head = None\n",
    "for i in range(10):\n",
    "    head = Node(i+1, head)\n",
    "\n",
    "probe = head\n",
    "\n",
    "data_to_replace = 2\n",
    "while probe:\n",
    "    if probe.getData() == data_to_replace:\n",
    "        probe.setData('replaced 2')\n",
    "    probe = probe.getNext()\n",
    "\n",
    "\n",
    "# Replacement by index\n",
    "head = None\n",
    "for i in range(10):\n",
    "    head = Node(i+1, head)\n",
    "\n",
    "probe = head\n",
    "\n",
    "index_to_replace = 4\n",
    "for i in range(index_to_replace-1):\n",
    "    probe = probe.getNext()\n",
    "probe.setData('replaced at index 4')"
   ],
   "metadata": {
    "collapsed": false,
    "pycharm": {
     "name": "#%%\n"
    }
   }
  },
  {
   "cell_type": "code",
   "execution_count": null,
   "outputs": [],
   "source": [
    "# Insert at head\n",
    "new_data = 'new data'\n",
    "head = Node(new_data, head)\n",
    "\n",
    "# Insert at end\n",
    "new_data = 'new data'\n",
    "new_node  = Node(new_data, None)\n",
    "if not head:  # if the head is empty\n",
    "    head = new_node\n",
    "else:\n",
    "    probe = head\n",
    "    while probe.getNext():  # iterate all the way the end of the list\n",
    "        probe = probe.getNext()\n",
    "    probe.setNext(new_node)"
   ],
   "metadata": {
    "collapsed": false,
    "pycharm": {
     "name": "#%%\n"
    }
   }
  },
  {
   "cell_type": "code",
   "execution_count": null,
   "outputs": [],
   "source": [
    "# Removing at beginning\n",
    "def remove_at_front(head):\n",
    "    removed_data = head.getData()\n",
    "    head = head.getNext()\n",
    "    return removed_data, head\n",
    "\n",
    "# Removing at end\n",
    "\n",
    "def remove_at_end(head):\n",
    "    if not head.getNext():\n",
    "        removed_item = head.getData()\n",
    "        head = None\n",
    "    else:\n",
    "        probe = head\n",
    "        while probe.getNext().getNext():  # 2 get next to stop iternation at 2nd last item since we r removing the last one\n",
    "            probe = probe.getNext()\n",
    "        removed_item = probe.getNext().getData()\n",
    "        probe.setNext(None)\n",
    "    return removed_item, head"
   ],
   "metadata": {
    "collapsed": false,
    "pycharm": {
     "name": "#%%\n"
    }
   }
  },
  {
   "cell_type": "code",
   "execution_count": null,
   "outputs": [],
   "source": [],
   "metadata": {
    "collapsed": false,
    "pycharm": {
     "name": "#%%\n"
    }
   }
  }
 ],
 "metadata": {
  "kernelspec": {
   "display_name": "Python 3",
   "language": "python",
   "name": "python3"
  },
  "language_info": {
   "codemirror_mode": {
    "name": "ipython",
    "version": 2
   },
   "file_extension": ".py",
   "mimetype": "text/x-python",
   "name": "python",
   "nbconvert_exporter": "python",
   "pygments_lexer": "ipython2",
   "version": "2.7.6"
  }
 },
 "nbformat": 4,
 "nbformat_minor": 0
}