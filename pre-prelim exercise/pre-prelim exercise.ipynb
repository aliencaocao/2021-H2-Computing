{
 "cells": [
  {
   "cell_type": "code",
   "execution_count": 1,
   "metadata": {
    "collapsed": true,
    "pycharm": {
     "name": "#%%\n"
    }
   },
   "outputs": [
    {
     "name": "stdout",
     "output_type": "stream",
     "text": [
      "Current date and time: 2022-08-14 15:59:35.900613\n",
      "Current year: 2022\n",
      "Month of year: 8\n",
      "Week number of the year: 32\n",
      "Week day of the week: Sunday\n",
      "Day of year: 225\n",
      "Day of the month: 14\n",
      "Day of the week: 7\n"
     ]
    }
   ],
   "source": [
    "# Task 1.1\n",
    "import datetime\n",
    "import calendar\n",
    "print('Current date and time:', datetime.datetime.now())\n",
    "print('Current year:', datetime.date.today().year)\n",
    "print('Month of year:', datetime.date.today().month)\n",
    "print('Week number of the year:', datetime.date.today().isocalendar()[1])\n",
    "print('Week day of the week:', calendar.day_name[datetime.date.today().weekday()])\n",
    "print('Day of year:', (datetime.date.today() - datetime.date(2022, 1, 1)).days)\n",
    "print('Day of the month:', datetime.date.today().day)\n",
    "print('Day of the week:', datetime.date.today().isoweekday())"
   ]
  },
  {
   "cell_type": "code",
   "execution_count": 2,
   "outputs": [
    {
     "name": "stdout",
     "output_type": "stream",
     "text": [
      "2022-08-09 15:59:35.916450\n"
     ]
    }
   ],
   "source": [
    "# Task 1.2\n",
    "print(datetime.datetime.today() - datetime.timedelta(days=5))"
   ],
   "metadata": {
    "collapsed": false,
    "pycharm": {
     "name": "#%%\n"
    }
   }
  },
  {
   "cell_type": "code",
   "execution_count": 3,
   "outputs": [
    {
     "name": "stdout",
     "output_type": "stream",
     "text": [
      "2022-08-14\n",
      "2022-08-15\n",
      "2022-08-16\n",
      "2022-08-17\n",
      "2022-08-18\n"
     ]
    }
   ],
   "source": [
    "# Task 1.3\n",
    "print('\\n'.join([str(datetime.date.today() + datetime.timedelta(days=i)) for i in range(5)]))"
   ],
   "metadata": {
    "collapsed": false,
    "pycharm": {
     "name": "#%%\n"
    }
   }
  },
  {
   "cell_type": "code",
   "execution_count": 4,
   "outputs": [
    {
     "name": "stdout",
     "output_type": "stream",
     "text": [
      "2022-08-14\n",
      "2022-08-13\n",
      "2022-08-12\n",
      "2022-08-11\n",
      "2022-08-10\n"
     ]
    }
   ],
   "source": [
    "# Task 1.4\n",
    "print('\\n'.join([str(datetime.date.today() - datetime.timedelta(days=i)) for i in range(5)]))"
   ],
   "metadata": {
    "collapsed": false,
    "pycharm": {
     "name": "#%%\n"
    }
   }
  },
  {
   "cell_type": "code",
   "execution_count": 5,
   "outputs": [
    {
     "name": "stdout",
     "output_type": "stream",
     "text": [
      "[9024, 4327, 4144, 4793, 6313, 4791, 4368, 4524, 4922, 4439]\n"
     ]
    }
   ],
   "source": [
    "# Task 2.1\n",
    "import random\n",
    "print(random.sample(population=range(1000, 10000), k=10))"
   ],
   "metadata": {
    "collapsed": false,
    "pycharm": {
     "name": "#%%\n"
    }
   }
  },
  {
   "cell_type": "code",
   "execution_count": 6,
   "outputs": [
    {
     "name": "stdout",
     "output_type": "stream",
     "text": [
      "70109\n"
     ]
    }
   ],
   "source": [
    "# Task 2.2\n",
    "import random\n",
    "print(random.sample(population=range(10000, 100000), k=10)[random.randint(0, 9)])"
   ],
   "metadata": {
    "collapsed": false,
    "pycharm": {
     "name": "#%%\n"
    }
   }
  },
  {
   "cell_type": "code",
   "execution_count": 7,
   "outputs": [
    {
     "name": "stdout",
     "output_type": "stream",
     "text": [
      "u\n"
     ]
    }
   ],
   "source": [
    "# Task 2.3\n",
    "import random\n",
    "from string import ascii_letters\n",
    "print(random.sample(population=ascii_letters, k=16)[random.randint(0, 9)])"
   ],
   "metadata": {
    "collapsed": false,
    "pycharm": {
     "name": "#%%\n"
    }
   }
  },
  {
   "cell_type": "code",
   "execution_count": 8,
   "outputs": [
    {
     "name": "stdout",
     "output_type": "stream",
     "text": [
      "VW5&sBVclLA7WrDz\n"
     ]
    }
   ],
   "source": [
    "# Task 2.4\n",
    "import random\n",
    "from string import ascii_letters, ascii_uppercase, digits\n",
    "special_allowed = '@#!$%&?'\n",
    "password = ''.join(random.sample(population=ascii_uppercase, k=2))\n",
    "password += ''.join(random.sample(population=digits, k=1))\n",
    "password += ''.join(random.sample(population=special_allowed, k=1))\n",
    "password += ''.join(random.sample(population=ascii_letters+digits+special_allowed, k=16-2-1-1))\n",
    "print(password)"
   ],
   "metadata": {
    "collapsed": false,
    "pycharm": {
     "name": "#%%\n"
    }
   }
  },
  {
   "cell_type": "code",
   "execution_count": 9,
   "outputs": [],
   "source": [
    "# Task 3.1\n",
    "import random\n",
    "numbers = [random.sample(population=range(10000, 100000), k=2) for i in range(50)]\n",
    "data = [' '.join(map(str, i)) + ' ' + str(abs(i[0] - i[1])) for i in numbers]\n",
    "with open('numbers.txt', 'w+') as f:\n",
    "    f.write('\\n'.join(data))"
   ],
   "metadata": {
    "collapsed": false,
    "pycharm": {
     "name": "#%%\n"
    }
   }
  },
  {
   "cell_type": "code",
   "execution_count": 10,
   "outputs": [],
   "source": [
    "# Task 3.2\n",
    "class MyNumber:\n",
    "    def __init__(self, number1, number2, difference):\n",
    "        self.number1 = int(number1)\n",
    "        self.number2 = int(number2)\n",
    "        self.difference = int(difference)\n",
    "\n",
    "    def get_number1(self):\n",
    "        return self.number1\n",
    "\n",
    "    def get_number2(self):\n",
    "        return self.number2\n",
    "\n",
    "    def get_difference(self):\n",
    "        return self.difference\n",
    "\n",
    "    def set_number1(self, number1):\n",
    "        self.number1 = int(number1)\n",
    "\n",
    "    def set_number2(self, number2):\n",
    "        self.number2 = int(number2)\n",
    "\n",
    "    def set_difference(self, difference):\n",
    "        self.difference = int(difference)\n",
    "\n",
    "    def getNumber(self):\n",
    "        return self.number1 + self.difference"
   ],
   "metadata": {
    "collapsed": false,
    "pycharm": {
     "name": "#%%\n"
    }
   }
  },
  {
   "cell_type": "code",
   "execution_count": 11,
   "outputs": [],
   "source": [
    "# Task 3.3\n",
    "class MyNumber2(MyNumber):\n",
    "    def getNumber(self):\n",
    "        return self.number1 + self.number2\n",
    "\n",
    "class MyNumber3(MyNumber):\n",
    "    def getNumber(self):\n",
    "        return self.number1 * self.number2"
   ],
   "metadata": {
    "collapsed": false,
    "pycharm": {
     "name": "#%%\n"
    }
   }
  },
  {
   "cell_type": "code",
   "execution_count": 12,
   "outputs": [
    {
     "name": "stdout",
     "output_type": "stream",
     "text": [
      "95710 15013 80697 1436894230\n",
      "96862 85882 10980 8318702284\n",
      "49228 55966 6738 2755094248\n",
      "72776 39459 33317 2871668184\n",
      "68737 13326 55411 915989262\n",
      "40729 18163 22566 739760827\n",
      "83230 19444 63786 1618324120\n",
      "87460 99013 11553 8659676980\n",
      "23315 31062 7747 724210530\n",
      "44426 27255 17171 1210830630\n",
      "89890 68391 21499 6147666990\n",
      "99392 68938 30454 6851885696\n",
      "29229 95963 66734 2804902527\n",
      "18662 51605 32943 963052510\n",
      "39330 57776 18446 2272330080\n",
      "10768 29521 18753 317882128\n",
      "82566 51775 30791 4274854650\n",
      "69038 46212 22826 3190384056\n",
      "88019 93433 5414 181452\n",
      "83844 76762 7082 6436033128\n",
      "31025 32774 1749 32774\n",
      "55406 18191 37215 1007890546\n",
      "37164 89081 51917 3310606284\n",
      "61635 26023 35612 1603927605\n",
      "50946 86870 35924 4425679020\n",
      "29881 54831 24950 1638405111\n",
      "31761 63743 31982 2024541423\n",
      "23184 94606 71422 2193345504\n",
      "26086 97274 71188 2537489564\n",
      "51053 99386 48333 5073953458\n",
      "83270 68263 15007 5684260010\n",
      "57561 71801 14240 4132937361\n",
      "56985 13518 43467 770323230\n",
      "45485 68409 22924 3111583365\n",
      "53027 39467 13560 2092816609\n",
      "78242 39498 38744 3090402516\n",
      "16913 94185 77272 1592950905\n",
      "27346 54480 27134 1489810080\n",
      "70223 41191 29032 2892555593\n",
      "26434 22447 3987 48881\n",
      "25347 88928 63581 2254058016\n",
      "93754 60404 33350 5663116616\n",
      "92505 71107 21398 6577753035\n",
      "84827 12386 72441 1050667222\n",
      "29413 39235 9822 1154019055\n",
      "11692 34459 22767 402894628\n",
      "16189 78782 62593 1275401798\n",
      "25587 17867 7720 457162929\n",
      "41255 69753 28498 2877660015\n",
      "88899 75548 13351 6716141652\n"
     ]
    }
   ],
   "source": [
    "# Task 3.4\n",
    "with open('numbers.txt', 'r') as f:  # auto closes\n",
    "    lines = f.read().splitlines()\n",
    "\n",
    "def process(line):\n",
    "    diff = int(line.split()[-1])\n",
    "    if diff < 2000:\n",
    "        return MyNumber(*line.split())\n",
    "    elif 2000 <= diff <= 6000:\n",
    "        return MyNumber2(*line.split())\n",
    "    else:\n",
    "        return MyNumber3(*line.split())\n",
    "\n",
    "numbers = [process(line) for line in lines]\n",
    "for num in numbers:\n",
    "    print(num.get_number1(), num.get_number2(), num.get_difference(), num.getNumber())"
   ],
   "metadata": {
    "collapsed": false,
    "pycharm": {
     "name": "#%%\n"
    }
   }
  }
 ],
 "metadata": {
  "kernelspec": {
   "display_name": "Python 3",
   "language": "python",
   "name": "python3"
  },
  "language_info": {
   "codemirror_mode": {
    "name": "ipython",
    "version": 2
   },
   "file_extension": ".py",
   "mimetype": "text/x-python",
   "name": "python",
   "nbconvert_exporter": "python",
   "pygments_lexer": "ipython2",
   "version": "2.7.6"
  }
 },
 "nbformat": 4,
 "nbformat_minor": 0
}