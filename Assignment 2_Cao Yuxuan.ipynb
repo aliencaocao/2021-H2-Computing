{
 "cells": [
  {
   "cell_type": "markdown",
   "metadata": {},
   "source": [
    "1.\tWrite a program that accepts the user’s name (as text) and age (as an integer) as input. The program should output a sentence containing the user’s name and current age, and age in 10 years’ time."
   ]
  },
  {
   "cell_type": "code",
   "execution_count": 1,
   "metadata": {},
   "outputs": [
    {
     "name": "stdout",
     "output_type": "stream",
     "text": [
      "Billy's age in 10 years is 30\n"
     ]
    }
   ],
   "source": [
    "name = input(\"Your name?\")\n",
    "age = int(input(\"Your age?\"))+10\n",
    "print(name + \"'s age in 10 years is\", age)"
   ]
  },
  {
   "cell_type": "markdown",
   "metadata": {},
   "source": [
    "2.\tWrite a program that takes the radius of a sphere (a floating-point number) as input and output the sphere’s diameter, circumference, surface area, and volume. "
   ]
  },
  {
   "cell_type": "code",
   "execution_count": 2,
   "metadata": {},
   "outputs": [
    {
     "name": "stdout",
     "output_type": "stream",
     "text": [
      "diameter: 20.0\n",
      "Area: 1256.6370614359173\n",
      "volume: 4188.790204786391\n",
      "circumference: 62.83185307179586\n"
     ]
    }
   ],
   "source": [
    "import math\n",
    "\n",
    "radius = float(input(\"Radius\"))\n",
    "diameter = radius * 2\n",
    "area = 4 * math.pi * radius ** 2\n",
    "volume = (4/3) * math.pi * radius ** 3\n",
    "cir = 2 * math.pi * radius\n",
    "\n",
    "print(\"diameter:\", diameter)\n",
    "print(\"Area:\", area)\n",
    "print(\"volume:\", volume)\n",
    "print(\"circumference:\", cir)"
   ]
  },
  {
   "cell_type": "markdown",
   "metadata": {},
   "source": [
    " 3.\tAn employee’s total weekly pay equals the hourly wage multiplied by the total number of regular hours plus overtime pay. Overtime pay equals the overtime hours multiplied by 1.5 times the hourly wage. Write a program that takes as inputs the hourly wage, total regular hours, and total overtime hours and display an employee’s total weekly pay (round to the nearest dollar). "
   ]
  },
  {
   "cell_type": "code",
   "execution_count": 3,
   "metadata": {
    "pycharm": {
     "name": "#%%\n"
    }
   },
   "outputs": [
    {
     "name": "stdout",
     "output_type": "stream",
     "text": [
      "Total pay: $ 7\n"
     ]
    }
   ],
   "source": [
    "import math\n",
    "\n",
    "wage = float(input(\"Hourly wage: \"))\n",
    "RegHour = float(input(\"Regular hours: \"))\n",
    "OT = float(input(\"Overtime hours: \"))\n",
    "pay = wage * RegHour + wage * 1.5 * OT\n",
    "\n",
    "\n",
    "def round_up(n, decimals=0):\n",
    "    multiplier = 10 ** decimals  # enlarge the input value by degrees of 10 to facilitate addition of 0.5\n",
    "    return math.floor(n * multiplier + 0.5) / multiplier  # add 0.5 to tie-break. E.g. 2.2+0.5=2.7, return 2.0\n",
    "\n",
    "\n",
    "print(\"Total pay: $\", round(round_up(pay, 0)))  # Use another round() to output in 0 d.p."
   ]
  }
 ],
 "metadata": {
  "kernelspec": {
   "display_name": "Python 3",
   "language": "python",
   "name": "python3"
  },
  "language_info": {
   "codemirror_mode": {
    "name": "ipython",
    "version": 3
   },
   "file_extension": ".py",
   "mimetype": "text/x-python",
   "name": "python",
   "nbconvert_exporter": "python",
   "pygments_lexer": "ipython3",
   "version": "3.6.4"
  }
 },
 "nbformat": 4,
 "nbformat_minor": 2
}