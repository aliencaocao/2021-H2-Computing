{
 "cells": [
  {
   "cell_type": "code",
   "execution_count": 1,
   "metadata": {
    "collapsed": true
   },
   "outputs": [
    {
     "name": "stdout",
     "output_type": "stream",
     "text": [
      "100\n"
     ]
    }
   ],
   "source": [
    "def mul(x, y):\n",
    "    if y == 1:\n",
    "        return x\n",
    "    else:\n",
    "        return x + mul(x, y-1)\n",
    "\n",
    "print(mul(10, 10))"
   ]
  },
  {
   "cell_type": "code",
   "execution_count": 25,
   "outputs": [
    {
     "name": "stdout",
     "output_type": "stream",
     "text": [
      "*\n",
      "**\n",
      "***\n",
      "****\n",
      "*****\n",
      "******\n",
      "*******\n",
      "********\n",
      "*********\n",
      "**********\n"
     ]
    }
   ],
   "source": [
    "def printast(n):\n",
    "    a = []\n",
    "    if n == 1:  # When it reaches desired n\n",
    "        a += ['*']\n",
    "    else:\n",
    "        a += [('*' * n)]\n",
    "        printast(n-1)\n",
    "    print(*a, sep='\\n')\n",
    "\n",
    "printast(10)"
   ],
   "metadata": {
    "collapsed": false,
    "pycharm": {
     "name": "#%%\n"
    }
   }
  },
  {
   "cell_type": "code",
   "execution_count": 10,
   "outputs": [
    {
     "name": "stdout",
     "output_type": "stream",
     "text": [
      "None\n"
     ]
    }
   ],
   "source": [
    "numList = []\n",
    "\n",
    "def add(n):\n",
    "    global numList\n",
    "    if type(n) == 'list':\n",
    "        if len(numList) == 1:\n",
    "            return numList[0]\n",
    "        else:\n",
    "            return numList[0] + add(numList[1:])\n",
    "    else:\n",
    "        for i in range(n):\n",
    "            numList += [i+1]\n",
    "\n",
    "print(add(5))"
   ],
   "metadata": {
    "collapsed": false,
    "pycharm": {
     "name": "#%%\n"
    }
   }
  },
  {
   "cell_type": "code",
   "execution_count": 9,
   "outputs": [
    {
     "name": "stdout",
     "output_type": "stream",
     "text": [
      "Welcome to ATM!\n",
      "\n",
      "1. Deposit\n",
      "2. Withdrawal\n",
      "3. See balance\n",
      "4. Quit\n",
      "\n",
      "\n",
      "Deposited $20.0, new balance is $69.90.\n",
      "\n",
      "1. Deposit\n",
      "2. Withdrawal\n",
      "3. See balance\n",
      "4. Quit\n",
      "\n",
      "\n",
      "\n",
      "You can with draw the following amount:\n",
      "1. $50\n",
      "2. $100\n",
      "3. $200\n",
      "4. $500\n",
      "5. Back\n",
      "Please input your choice below: \n",
      "Your bank balance is $69.90, which is lower than the amount requested to withdraw.\n",
      "\n",
      "1. Deposit\n",
      "2. Withdrawal\n",
      "3. See balance\n",
      "4. Quit\n",
      "\n",
      "\n",
      "Deposited $32.0, new balance is $101.90.\n",
      "\n",
      "1. Deposit\n",
      "2. Withdrawal\n",
      "3. See balance\n",
      "4. Quit\n",
      "\n",
      "\n",
      "\n",
      "You can with draw the following amount:\n",
      "1. $50\n",
      "2. $100\n",
      "3. $200\n",
      "4. $500\n",
      "5. Back\n",
      "Please input your choice below: \n",
      "Withdrawal success. New balance: $51.90.\n",
      "\n",
      "1. Deposit\n",
      "2. Withdrawal\n",
      "3. See balance\n",
      "4. Quit\n",
      "\n",
      "\n",
      "The balance is $51.90\n",
      "\n",
      "1. Deposit\n",
      "2. Withdrawal\n",
      "3. See balance\n",
      "4. Quit\n",
      "\n",
      "\n",
      "Thanks and have a great day!\n"
     ]
    }
   ],
   "source": [
    "balance = 49.9\n",
    "\n",
    "\n",
    "def deposit(amt):\n",
    "    global balance\n",
    "    balance += amt\n",
    "    print(f'Deposited ${amt}, new balance is ${balance:.2f}.')\n",
    "    return 0\n",
    "\n",
    "\n",
    "def withdraw():\n",
    "    global balance\n",
    "    if balance < 50:\n",
    "        print(f'Your bank balance is ${balance:.2f}, which is lower than the minimum withdrawal amount of $50.')\n",
    "        return 1\n",
    "    else:\n",
    "        print()\n",
    "        print(\n",
    "            'You can with draw the following amount:\\n1. $50\\n2. $100\\n3. $200\\n4. $500\\n5. Back\\nPlease input your choice below: ')\n",
    "        withdrawChoice = int(input('Withdrawal Choice (1-5)； '))\n",
    "        if withdrawChoice == 1:\n",
    "            balance -= 50\n",
    "            print(f'Withdrawal success. New balance: ${balance:.2f}.')\n",
    "        elif withdrawChoice == 2:\n",
    "            if balance < 100:\n",
    "                print(f'Your bank balance is ${balance:.2f}, which is lower than the amount requested to withdraw.')\n",
    "                return 1\n",
    "            else:\n",
    "                balance -= 100\n",
    "                print(f'Withdrawal success. New balance: ${balance:.2f}.')\n",
    "                return 0\n",
    "        elif withdrawChoice == 3:\n",
    "            if balance < 200:\n",
    "                print(f'Your bank balance is ${balance:.2f}, which is lower than the amount requested to withdraw.')\n",
    "                return 1\n",
    "            else:\n",
    "                balance -= 200\n",
    "                print(f'Withdrawal success. New balance: ${balance:.2f}.')\n",
    "                return 0\n",
    "        elif withdrawChoice == 4:\n",
    "            if balance < 500:\n",
    "                print(f'Your bank balance is ${balance:.2f}, which is lower than the amount requested to withdraw.')\n",
    "                return 1\n",
    "            else:\n",
    "                balance -= 500\n",
    "                print(f'Withdrawal success. New balance: ${balance:.2f}.')\n",
    "                return 0\n",
    "        elif withdrawChoice == 5:\n",
    "            return 0\n",
    "        else:\n",
    "            print('Please enter a valid choice.')\n",
    "            return 1\n",
    "\n",
    "\n",
    "def seeBalance():\n",
    "    global balance\n",
    "    return f'The balance is ${balance:.2f}'\n",
    "\n",
    "\n",
    "def quit():\n",
    "    return 'Thanks and have a great day!'\n",
    "\n",
    "\n",
    "def main():\n",
    "    print('Welcome to ATM!')\n",
    "    while True:\n",
    "        print()\n",
    "        print('1. Deposit\\n2. Withdrawal\\n3. See balance\\n4. Quit\\n')\n",
    "        print()\n",
    "        choice = int(input('Select the task (1-4): '))\n",
    "        if choice == 1:\n",
    "            deposit(float(input('Enter the amount to deposit: ')))\n",
    "            continue\n",
    "        elif choice == 2:\n",
    "            success = withdraw()\n",
    "            if success == 0:\n",
    "                continue\n",
    "        elif choice == 3:\n",
    "            print(seeBalance())\n",
    "            continue\n",
    "        elif choice == 4:\n",
    "            print(quit())\n",
    "            break\n",
    "        else:\n",
    "            print('Please input an integer from 1 to 4')\n",
    "            continue\n",
    "\n",
    "\n",
    "main()"
   ],
   "metadata": {
    "collapsed": false,
    "pycharm": {
     "name": "#%%\n"
    }
   }
  }
 ],
 "metadata": {
  "kernelspec": {
   "display_name": "Python 3",
   "language": "python",
   "name": "python3"
  },
  "language_info": {
   "codemirror_mode": {
    "name": "ipython",
    "version": 2
   },
   "file_extension": ".py",
   "mimetype": "text/x-python",
   "name": "python",
   "nbconvert_exporter": "python",
   "pygments_lexer": "ipython2",
   "version": "2.7.6"
  }
 },
 "nbformat": 4,
 "nbformat_minor": 0
}