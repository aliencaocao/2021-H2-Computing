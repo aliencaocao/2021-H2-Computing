{
 "cells": [
  {
   "cell_type": "code",
   "execution_count": 9,
   "metadata": {
    "pycharm": {
     "name": "#%%\n"
    }
   },
   "outputs": [
    {
     "name": "stdout",
     "output_type": "stream",
     "text": [
      "882\n"
     ]
    }
   ],
   "source": [
    "# Task 2.1\n",
    "import string\n",
    "def task2_1(filename):\n",
    "    with open(filename, 'r') as f:  # closes automatically\n",
    "        lines = f.read().splitlines()\n",
    "    stripped_words = []\n",
    "    for line in lines:\n",
    "        line = line.lower()\n",
    "        temp = ''\n",
    "        for letter in line:\n",
    "            if letter in string.ascii_lowercase + ' ':\n",
    "                temp += letter\n",
    "        stripped_words += temp.split()\n",
    "    return stripped_words\n",
    "\n",
    "print(len(task2_1('LYRICS.txt')))"
   ]
  },
  {
   "cell_type": "code",
   "execution_count": 26,
   "metadata": {
    "pycharm": {
     "name": "#%%\n"
    }
   },
   "outputs": [
    {
     "name": "stdout",
     "output_type": "stream",
     "text": [
      "['buy', 'cut', 'fix', 'pay', 'rip', 'use', 'burn', 'call', 'code', 'drag', 'drop', 'fill', 'find', 'load', 'lock', 'name', 'play', 'plug', 'read', 'save', 'scan', 'send', 'snap', 'surf', 'tune', 'turn', 'view', 'work', 'zoom', 'break', 'bring', 'check', 'click', 'crack', 'cross', 'erase', 'leave', 'paste', 'pause', 'point', 'press', 'print', 'touch', 'trash', 'unzip', 'watch', 'write', 'change', 'charge', 'format', 'rename', 'scroll', 'unlock', 'update', 'rewrite', 'upgrade']\n",
      "56\n"
     ]
    }
   ],
   "source": [
    "# Task 2.2\n",
    "def task2_2(list_of_words):\n",
    "    words_before_it = [list_of_words[i] for i in range(len(list_of_words)-1) if list_of_words[i+1] == 'it']\n",
    "    unique_words = list(set(words_before_it))\n",
    "    unique_words_len_dict = {w: len(w) for w in unique_words}\n",
    "    sorted_unique_words = sorted(unique_words_len_dict.keys(), key=unique_words_len_dict.get)\n",
    "    unique_words_split_by_len = {str(length): [] for length in set(unique_words_len_dict.values())}\n",
    "    for i in sorted_unique_words:\n",
    "        unique_words_split_by_len[str(len(i))].append(i)\n",
    "    sorted_unique_words = [sorted(i) for i in unique_words_split_by_len.values()]\n",
    "    result = []\n",
    "    for i in sorted_unique_words:\n",
    "        result += i\n",
    "    return result\n",
    "    \n",
    "result = task2_2(task2_1('LYRICS.txt'))\n",
    "print(result)\n",
    "print(len(result))"
   ]
  },
  {
   "cell_type": "code",
   "execution_count": 34,
   "metadata": {
    "pycharm": {
     "name": "#%%\n"
    }
   },
   "outputs": [
    {
     "data": {
      "text/plain": [
       "'read it, surf it, erase it, unlock it, scan it, pause it, change it, tune it.'"
      ]
     },
     "execution_count": 34,
     "metadata": {},
     "output_type": "execute_result"
    }
   ],
   "source": [
    "# Task 2.3\n",
    "import random\n",
    "def task2_3(list_of_words, number):\n",
    "    chosen = random.sample(list_of_words, number)\n",
    "    lyric = ' it, '.join(chosen) + ' it.'  # join() does not append delimiter at the end so we manually add it\n",
    "    return lyric\n",
    "\n",
    "task2_3(result, 8)"
   ]
  }
 ],
 "metadata": {
  "kernelspec": {
   "display_name": "Python 3",
   "language": "python",
   "name": "python3"
  },
  "language_info": {
   "codemirror_mode": {
    "name": "ipython",
    "version": 3
   },
   "file_extension": ".py",
   "mimetype": "text/x-python",
   "name": "python",
   "nbconvert_exporter": "python",
   "pygments_lexer": "ipython3",
   "version": "3.6.4"
  }
 },
 "nbformat": 4,
 "nbformat_minor": 2
}