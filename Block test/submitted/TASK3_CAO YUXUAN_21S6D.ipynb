{
 "cells": [
  {
   "cell_type": "code",
   "execution_count": 15,
   "metadata": {
    "pycharm": {
     "name": "#%%\n"
    }
   },
   "outputs": [],
   "source": [
    "# Task 3.1\n",
    "class Node:\n",
    "    def __init__(self, data, left, right):\n",
    "        self.data = data\n",
    "        self.left = left\n",
    "        self.right = right\n",
    "        \n",
    "class BSTree:\n",
    "    def __init__(self):\n",
    "        self.thisTree = [Node(None, None, None) for i in range(10)]\n",
    "    \n",
    "    def constructor(self):\n",
    "        self.root = 0\n",
    "        self.nextFree = 0\n",
    "        for i in range(len(self.thisTree)-1):  # exclude last node\n",
    "            self.thisTree[i].left = self.thisTree[i+1]\n",
    "    \n",
    "    def add(self, newItem):\n",
    "        if self.nextFree == 0:\n",
    "            self.thisTree[self.root].data = newItem\n",
    "            self.thisTree[self.root].left = None  # unlink from free nodes\n",
    "            self.nextFree += 1\n",
    "        else:\n",
    "            if self.nextFree > 8:  # 9 is max index, it has to be <= 8 to be able to fit a new item\n",
    "                raise Exception('Tree is full!')\n",
    "            ptr = self.thisTree[self.root]\n",
    "            self.thisTree[self.nextFree].data = newItem\n",
    "            while ptr:\n",
    "                if newItem > ptr.data:\n",
    "                    ptr = ptr.right\n",
    "                elif newItem < ptr.data:\n",
    "                    ptr = ptr.left\n",
    "                else:  # newItem == ptr.data\n",
    "                    raise Exception('newItem equal to existing data is not handled!')\n",
    "            if newItem < ptr.data:\n",
    "                ptr.left = self.thisTree[self.nextFree]\n",
    "            elif newItem > ptr.data:\n",
    "                ptr.right = self.thisTree[self.nextFree]\n",
    "            else:  # newItem == ptr.data\n",
    "                raise Exception('newItem equal to existing data is not handled!')\n",
    "            self.thisTree[self.nextFree].left = None  # unlink node from free nodes\n",
    "            self.nextFree += 1\n",
    "    \n",
    "    def displayInOrder(self):\n",
    "        self._displayInOrder(self.thisTree[self.root])\n",
    "    \n",
    "    def _displayInOrder(self, root):\n",
    "        if root:\n",
    "            self._displayInOrder(root.left)\n",
    "            print(root.data)\n",
    "            self._displayInOrder(root.right)\n",
    "    \n",
    "    def displayPostOrder(self):\n",
    "        self._displayPostOrder(self.thisTree[self.root])\n",
    "    \n",
    "    def _displayPostOrder(self, root):\n",
    "        if root:\n",
    "            self._displayPostOrder(root.left)\n",
    "            self._displayPostOrder(root.right)\n",
    "            print(root.data)\n",
    "    \n",
    "    def display(self):\n",
    "        print('Root:', self.root)\n",
    "        print('nextFree:', self.nextFree)\n",
    "        for i in self.thisTree:\n",
    "            print(i.data)"
   ]
  },
  {
   "cell_type": "code",
   "execution_count": 16,
   "metadata": {
    "pycharm": {
     "name": "#%%\n"
    }
   },
   "outputs": [
    {
     "ename": "AttributeError",
     "evalue": "'NoneType' object has no attribute 'data'",
     "output_type": "error",
     "traceback": [
      "\u001B[1;31m---------------------------------------------------------------------------\u001B[0m",
      "\u001B[1;31mAttributeError\u001B[0m                            Traceback (most recent call last)",
      "\u001B[1;32m<ipython-input-16-0ba54191c396>\u001B[0m in \u001B[0;36m<module>\u001B[1;34m()\u001B[0m\n\u001B[0;32m      5\u001B[0m     \u001B[0mnames\u001B[0m \u001B[1;33m=\u001B[0m \u001B[0mf\u001B[0m\u001B[1;33m.\u001B[0m\u001B[0mread\u001B[0m\u001B[1;33m(\u001B[0m\u001B[1;33m)\u001B[0m\u001B[1;33m.\u001B[0m\u001B[0msplitlines\u001B[0m\u001B[1;33m(\u001B[0m\u001B[1;33m)\u001B[0m\u001B[1;33m\u001B[0m\u001B[0m\n\u001B[0;32m      6\u001B[0m \u001B[1;32mfor\u001B[0m \u001B[0mname\u001B[0m \u001B[1;32min\u001B[0m \u001B[0mnames\u001B[0m\u001B[1;33m:\u001B[0m\u001B[1;33m\u001B[0m\u001B[0m\n\u001B[1;32m----> 7\u001B[1;33m     \u001B[0mbst\u001B[0m\u001B[1;33m.\u001B[0m\u001B[0madd\u001B[0m\u001B[1;33m(\u001B[0m\u001B[0mname\u001B[0m\u001B[1;33m)\u001B[0m\u001B[1;33m\u001B[0m\u001B[0m\n\u001B[0m\u001B[0;32m      8\u001B[0m \u001B[0mbst\u001B[0m\u001B[1;33m.\u001B[0m\u001B[0mdisplay\u001B[0m\u001B[1;33m(\u001B[0m\u001B[1;33m)\u001B[0m\u001B[1;33m\u001B[0m\u001B[0m\n\u001B[0;32m      9\u001B[0m \u001B[0mbst\u001B[0m\u001B[1;33m.\u001B[0m\u001B[0mdisplayInOrder\u001B[0m\u001B[1;33m(\u001B[0m\u001B[1;33m)\u001B[0m\u001B[1;33m\u001B[0m\u001B[0m\n",
      "\u001B[1;32m<ipython-input-15-041156d0ab13>\u001B[0m in \u001B[0;36madd\u001B[1;34m(self, newItem)\u001B[0m\n\u001B[0;32m     33\u001B[0m                 \u001B[1;32melse\u001B[0m\u001B[1;33m:\u001B[0m  \u001B[1;31m# newItem == ptr.data\u001B[0m\u001B[1;33m\u001B[0m\u001B[0m\n\u001B[0;32m     34\u001B[0m                     \u001B[1;32mraise\u001B[0m \u001B[0mException\u001B[0m\u001B[1;33m(\u001B[0m\u001B[1;34m'newItem equal to existing data is not handled!'\u001B[0m\u001B[1;33m)\u001B[0m\u001B[1;33m\u001B[0m\u001B[0m\n\u001B[1;32m---> 35\u001B[1;33m             \u001B[1;32mif\u001B[0m \u001B[0mnewItem\u001B[0m \u001B[1;33m<\u001B[0m \u001B[0mptr\u001B[0m\u001B[1;33m.\u001B[0m\u001B[0mdata\u001B[0m\u001B[1;33m:\u001B[0m\u001B[1;33m\u001B[0m\u001B[0m\n\u001B[0m\u001B[0;32m     36\u001B[0m                 \u001B[0mptr\u001B[0m\u001B[1;33m.\u001B[0m\u001B[0mleft\u001B[0m \u001B[1;33m=\u001B[0m \u001B[0mself\u001B[0m\u001B[1;33m.\u001B[0m\u001B[0mthisTree\u001B[0m\u001B[1;33m[\u001B[0m\u001B[0mself\u001B[0m\u001B[1;33m.\u001B[0m\u001B[0mnextFree\u001B[0m\u001B[1;33m]\u001B[0m\u001B[1;33m\u001B[0m\u001B[0m\n\u001B[0;32m     37\u001B[0m             \u001B[1;32melif\u001B[0m \u001B[0mnewItem\u001B[0m \u001B[1;33m>\u001B[0m \u001B[0mptr\u001B[0m\u001B[1;33m.\u001B[0m\u001B[0mdata\u001B[0m\u001B[1;33m:\u001B[0m\u001B[1;33m\u001B[0m\u001B[0m\n",
      "\u001B[1;31mAttributeError\u001B[0m: 'NoneType' object has no attribute 'data'"
     ]
    }
   ],
   "source": [
    "# Task 3.2\n",
    "bst = BSTree()\n",
    "bst.constructor()\n",
    "with open('NAMES.txt', 'r') as f: # automatically closes\n",
    "    names = f.read().splitlines()\n",
    "for name in names:\n",
    "    bst.add(name)\n",
    "bst.display()\n",
    "bst.displayInOrder()\n",
    "bst.displayPostOrder()"
   ]
  }
 ],
 "metadata": {
  "kernelspec": {
   "display_name": "Python 3",
   "language": "python",
   "name": "python3"
  },
  "language_info": {
   "codemirror_mode": {
    "name": "ipython",
    "version": 3
   },
   "file_extension": ".py",
   "mimetype": "text/x-python",
   "name": "python",
   "nbconvert_exporter": "python",
   "pygments_lexer": "ipython3",
   "version": "3.6.4"
  }
 },
 "nbformat": 4,
 "nbformat_minor": 2
}