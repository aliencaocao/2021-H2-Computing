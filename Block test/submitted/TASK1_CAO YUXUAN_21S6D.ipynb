{
 "cells": [
  {
   "cell_type": "code",
   "execution_count": 8,
   "metadata": {
    "pycharm": {
     "name": "#%%\n"
    }
   },
   "outputs": [
    {
     "name": "stdout",
     "output_type": "stream",
     "text": [
      "{'_id': ObjectId('628ec761dbb13400e432a759'), 'country': 'Australia', 'city': 'Sydney', 'price': 904, 'company': 'B Airways', 'durationHour': 8}\n",
      "{'_id': ObjectId('628ec761dbb13400e432a75a'), 'country': 'Australia', 'city': 'Melbourne', 'price': 1628, 'company': 'Q Airlines', 'durationHour': 7}\n",
      "{'_id': ObjectId('628ec761dbb13400e432a75b'), 'country': 'Australia', 'city': 'Perth', 'price': 881, 'company': 'S Airlines', 'durationHour': 5}\n",
      "{'_id': ObjectId('628ec761dbb13400e432a75c'), 'country': 'UK', 'city': 'London', 'price': 1373, 'company': 'L Airlines', 'durationHour': 19, 'stop': 2}\n",
      "{'_id': ObjectId('628ec761dbb13400e432a75d'), 'country': 'UK', 'city': 'London', 'price': 1561, 'company': 'S Airlines', 'durationHour': 17, 'stop': 1}\n",
      "{'_id': ObjectId('628ec761dbb13400e432a75e'), 'country': 'UK', 'city': 'Manchester', 'price': 1708, 'company': 'E Air', 'durationHour': 25, 'stop': 1}\n",
      "{'_id': ObjectId('628ec761dbb13400e432a75f'), 'country': 'UK', 'city': 'Manchester', 'price': 2917, 'company': 'B Airways', 'durationHour': 17, 'stop': 1}\n",
      "{'_id': ObjectId('628ec761dbb13400e432a760'), 'country': 'Japan', 'city': 'Osaka', 'price': 821, 'company': 'S Airlines', 'durationHour': 10, 'stop': 1}\n",
      "{'_id': ObjectId('628ec761dbb13400e432a761'), 'country': 'Japan', 'city': 'Tokyo', 'price': 1028, 'company': 'J Airlines', 'durationHour': 7}\n",
      "{'_id': ObjectId('628ec761dbb13400e432a762'), 'country': 'Japan', 'city': 'Tokyo', 'price': 1124, 'company': 'Air J', 'durationHour': 7}\n"
     ]
    }
   ],
   "source": [
    "# Task 1.1\n",
    "import pymongo\n",
    "client = pymongo.MongoClient('localhost', 27017)\n",
    "db = client['Travel']\n",
    "coll = db['Flight']\n",
    "import json\n",
    "with open('TICKET.json', 'r') as f:  # closes file automatically\n",
    "    data = json.load(f)\n",
    "coll.insert_many(data)\n",
    "for i in coll.find():\n",
    "    print(i)"
   ]
  },
  {
   "cell_type": "code",
   "execution_count": 23,
   "metadata": {
    "pycharm": {
     "name": "#%%\n"
    }
   },
   "outputs": [
    {
     "name": "stdout",
     "output_type": "stream",
     "text": [
      "Info of all S Airlines flights:\n",
      "{'_id': ObjectId('628ec761dbb13400e432a75b'), 'country': 'Australia', 'city': 'Perth', 'price': 881, 'company': 'S Airlines', 'durationHour': 5, 'stop': 0}\n",
      "{'_id': ObjectId('628ec761dbb13400e432a75d'), 'country': 'UK', 'city': 'London', 'price': 1561, 'company': 'S Airlines', 'durationHour': 17, 'stop': 1}\n",
      "{'_id': ObjectId('628ec761dbb13400e432a760'), 'country': 'Japan', 'city': 'Osaka', 'price': 821, 'company': 'S Airlines', 'durationHour': 10, 'stop': 1}\n",
      "City and price of all flights under 10hrs and $1500\n",
      "City: Sydney, price: $904\n",
      "City: Perth, price: $881\n",
      "City: Tokyo, price: $1028\n",
      "City: Tokyo, price: $1124\n",
      "Info of cheapest airticket:\n",
      "{'_id': ObjectId('628ec761dbb13400e432a760'), 'country': 'Japan', 'city': 'Osaka', 'price': 821, 'company': 'S Airlines', 'durationHour': 10, 'stop': 1}\n"
     ]
    }
   ],
   "source": [
    "# Task 1.2\n",
    "query = {'stop': {'$exists': False}}\n",
    "update = {'$set': {'stop': 0}}\n",
    "coll.update_many(query, update)\n",
    "S_airlines_flights = coll.find({'company': 'S Airlines'})\n",
    "print('Info of all S Airlines flights:')\n",
    "for i in S_airlines_flights:\n",
    "    print(i)\n",
    "result = coll.find({'$and': [{'durationHour': {'$lt': 10}}, {'price': {'$lt': 1500}}]})\n",
    "print('City and price of all flights under 10hrs and $1500')\n",
    "for i in result:\n",
    "    print(f'City: {i[\"city\"]}, price: ${i[\"price\"]}')\n",
    "cheapest = coll.find().sort('price', pymongo.ASCENDING)\n",
    "print('Info of cheapest airticket:')\n",
    "print(cheapest[0])"
   ]
  }
 ],
 "metadata": {
  "kernelspec": {
   "display_name": "Python 3",
   "language": "python",
   "name": "python3"
  },
  "language_info": {
   "codemirror_mode": {
    "name": "ipython",
    "version": 3
   },
   "file_extension": ".py",
   "mimetype": "text/x-python",
   "name": "python",
   "nbconvert_exporter": "python",
   "pygments_lexer": "ipython3",
   "version": "3.6.4"
  }
 },
 "nbformat": 4,
 "nbformat_minor": 2
}