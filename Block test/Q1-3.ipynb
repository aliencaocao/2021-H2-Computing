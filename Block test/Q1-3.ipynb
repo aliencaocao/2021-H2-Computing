{
 "cells": [
  {
   "cell_type": "code",
   "execution_count": null,
   "outputs": [],
   "source": [
    "# Task 1.1 3/3\n",
    "import pymongo\n",
    "client = pymongo.MongoClient('localhost', 27017)\n",
    "db = client['Travel']\n",
    "coll = db['Flight']\n",
    "import json\n",
    "with open('TICKET.json', 'r') as f:  # auto closes\n",
    "    data = json.load(f)\n",
    "coll.insert_many(data)\n",
    "for i in coll.find():\n",
    "    print(i)"
   ],
   "metadata": {
    "collapsed": false,
    "pycharm": {
     "name": "#%%\n",
     "is_executing": true
    }
   }
  },
  {
   "cell_type": "code",
   "execution_count": null,
   "outputs": [],
   "source": [
    "# Task 1.2 7/7\n",
    "query = {'stop': {'exists': False}}\n",
    "update = {'$set': {'stop': 0}}\n",
    "coll.update_many(query, update)\n",
    "S_airlines_flights = coll.find({'company': 'S Airlines'})\n",
    "print('Info of all S Airlines flights:')\n",
    "for i in S_airlines_flights:\n",
    "    print(i)\n",
    "result = coll.find({'$and': [{'durationHour': {'$lt': 10}}, {'price': {'$lt': 1500}}]})\n",
    "print('City and price of all flights under 10hrs and $1500')\n",
    "for i in result:\n",
    "    print(f'City: {i[\"city\"]}, price: ${i[\"price\"]}')\n",
    "cheapest = coll.find().sort('price', pymongo.ASCENDING)\n",
    "print('Info of cheapest airticket:')\n",
    "print(cheapest[0])"
   ],
   "metadata": {
    "collapsed": false,
    "pycharm": {
     "name": "#%%\n"
    }
   }
  },
  {
   "cell_type": "code",
   "execution_count": null,
   "outputs": [],
   "source": [
    "# Task 2.1 5/5\n",
    "import string\n",
    "def task2_1(filename):\n",
    "    with open(filename, 'r') as f:  # auto closes\n",
    "        lines = f.read().splitlines()\n",
    "    stripped_words = []\n",
    "    for line in lines:\n",
    "        line = line.lower()\n",
    "        temp = ''\n",
    "        for letter in line:\n",
    "            if letter in string.ascii_lowercase + ' ':\n",
    "                temp += letter\n",
    "        stripped_words += temp.split()\n",
    "    return stripped_words\n",
    "\n",
    "print(len(task2_1('LYRICS.txt')))  # 882"
   ],
   "metadata": {
    "collapsed": false,
    "pycharm": {
     "name": "#%%\n"
    }
   }
  },
  {
   "cell_type": "code",
   "execution_count": null,
   "outputs": [],
   "source": [
    "# Task 2.2 6/6\n",
    "def task2_2(list_of_words):\n",
    "    words_before_it = [list_of_words[i] for i in range(len(list_of_words)) if list_of_words[i+1] == 'it']\n",
    "    unique_words = list(set(words_before_it))\n",
    "    result = sorted(unique_words, key=lambda w: (len(w), w))  # sorted() will first sort using the 1st element in a tuple, then the 2nd\n",
    "    return result\n",
    "\n",
    "result = task2_2(task2_1('LYRICS.txt'))\n",
    "print(result)\n",
    "print(len(result))  # 56"
   ],
   "metadata": {
    "collapsed": false,
    "pycharm": {
     "name": "#%%\n"
    }
   }
  },
  {
   "cell_type": "code",
   "execution_count": null,
   "outputs": [],
   "source": [
    "# Task 2.3 5/5\n",
    "import random\n",
    "def task2_3(list_of_words, number):\n",
    "    chosen = random.sample(list_of_words, number)\n",
    "    lyric = ' it, '.join(chosen) + ' it.'\n",
    "    return lyric\n",
    "task2_3(result, 8)"
   ],
   "metadata": {
    "collapsed": false,
    "pycharm": {
     "name": "#%%\n"
    }
   }
  },
  {
   "cell_type": "code",
   "execution_count": null,
   "outputs": [],
   "source": [
    "# Task 3.1 14/17\n",
    "class Node:\n",
    "    def __init__(self, data, left, right):\n",
    "        self.data = data\n",
    "        self.left = left\n",
    "        self.right = right\n",
    "\n",
    "class BSTree:\n",
    "    def __init__(self):\n",
    "        self.thisTree = [Node(None, None, None) for i in range(10)]\n",
    "\n",
    "    def constructor(self):\n",
    "        self.root = 0\n",
    "        self.nextFree = 0\n",
    "        for i in range(len(self.thisTree) - 1):\n",
    "            self.thisTree[i].left = self.thisTree[i+1]\n",
    "\n",
    "# TODO"
   ],
   "metadata": {
    "collapsed": false,
    "pycharm": {
     "name": "#%%\n"
    }
   }
  },
  {
   "cell_type": "code",
   "execution_count": null,
   "outputs": [],
   "source": [
    "# Task 3.2 3/7\n",
    "bst = BSTree()\n",
    "bst.constructor()\n",
    "with open('NAMES.txt', 'r') as f:  # Auto closes\n",
    "    names = f.read().splitlines()\n",
    "for name in names:\n",
    "    bst.add(name)\n",
    "bst.display()\n",
    "bst.displayInOrder()\n",
    "bst.displayPostOrder()"
   ],
   "metadata": {
    "collapsed": false,
    "pycharm": {
     "name": "#%%\n"
    }
   }
  }
 ],
 "metadata": {
  "kernelspec": {
   "display_name": "Python 3",
   "language": "python",
   "name": "python3"
  },
  "language_info": {
   "codemirror_mode": {
    "name": "ipython",
    "version": 2
   },
   "file_extension": ".py",
   "mimetype": "text/x-python",
   "name": "python",
   "nbconvert_exporter": "python",
   "pygments_lexer": "ipython2",
   "version": "2.7.6"
  }
 },
 "nbformat": 4,
 "nbformat_minor": 0
}