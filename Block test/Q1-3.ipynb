{
 "cells": [
  {
   "cell_type": "code",
   "execution_count": 1,
   "outputs": [
    {
     "name": "stdout",
     "output_type": "stream",
     "text": [
      "{'_id': ObjectId('62e1d8e70c365c32c1771907'), 'country': 'Australia', 'city': 'Sydney', 'price': 904, 'company': 'B Airways', 'durationHour': 8}\n",
      "{'_id': ObjectId('62e1d8e70c365c32c1771908'), 'country': 'Australia', 'city': 'Melbourne', 'price': 1628, 'company': 'Q Airlines', 'durationHour': 7}\n",
      "{'_id': ObjectId('62e1d8e70c365c32c1771909'), 'country': 'Australia', 'city': 'Perth', 'price': 881, 'company': 'S Airlines', 'durationHour': 5}\n",
      "{'_id': ObjectId('62e1d8e70c365c32c177190a'), 'country': 'UK', 'city': 'London', 'price': 1373, 'company': 'L Airlines', 'durationHour': 19, 'stop': 2}\n",
      "{'_id': ObjectId('62e1d8e70c365c32c177190b'), 'country': 'UK', 'city': 'London', 'price': 1561, 'company': 'S Airlines', 'durationHour': 17, 'stop': 1}\n",
      "{'_id': ObjectId('62e1d8e70c365c32c177190c'), 'country': 'UK', 'city': 'Manchester', 'price': 1708, 'company': 'E Air', 'durationHour': 25, 'stop': 1}\n",
      "{'_id': ObjectId('62e1d8e70c365c32c177190d'), 'country': 'UK', 'city': 'Manchester', 'price': 2917, 'company': 'B Airways', 'durationHour': 17, 'stop': 1}\n",
      "{'_id': ObjectId('62e1d8e70c365c32c177190e'), 'country': 'Japan', 'city': 'Osaka', 'price': 821, 'company': 'S Airlines', 'durationHour': 10, 'stop': 1}\n",
      "{'_id': ObjectId('62e1d8e70c365c32c177190f'), 'country': 'Japan', 'city': 'Tokyo', 'price': 1028, 'company': 'J Airlines', 'durationHour': 7}\n",
      "{'_id': ObjectId('62e1d8e70c365c32c1771910'), 'country': 'Japan', 'city': 'Tokyo', 'price': 1124, 'company': 'Air J', 'durationHour': 7}\n"
     ]
    }
   ],
   "source": [
    "# Task 1.1 3/3\n",
    "import pymongo\n",
    "client = pymongo.MongoClient('localhost', 27017)\n",
    "db = client['Travel']\n",
    "coll = db['Flight']\n",
    "import json\n",
    "with open('TICKET.json', 'r') as f:  # auto closes\n",
    "    data = json.load(f)\n",
    "coll.insert_many(data)\n",
    "for i in coll.find():\n",
    "    print(i)"
   ],
   "metadata": {
    "collapsed": false,
    "pycharm": {
     "name": "#%%\n"
    }
   }
  },
  {
   "cell_type": "code",
   "execution_count": 2,
   "outputs": [
    {
     "name": "stdout",
     "output_type": "stream",
     "text": [
      "Info of all S Airlines flights:\n",
      "{'_id': ObjectId('62e1d8e70c365c32c1771909'), 'country': 'Australia', 'city': 'Perth', 'price': 881, 'company': 'S Airlines', 'durationHour': 5}\n",
      "{'_id': ObjectId('62e1d8e70c365c32c177190b'), 'country': 'UK', 'city': 'London', 'price': 1561, 'company': 'S Airlines', 'durationHour': 17, 'stop': 1}\n",
      "{'_id': ObjectId('62e1d8e70c365c32c177190e'), 'country': 'Japan', 'city': 'Osaka', 'price': 821, 'company': 'S Airlines', 'durationHour': 10, 'stop': 1}\n",
      "City and price of all flights under 10hrs and $1500\n",
      "City: Sydney, price: $904\n",
      "City: Perth, price: $881\n",
      "City: Tokyo, price: $1028\n",
      "City: Tokyo, price: $1124\n",
      "Info of cheapest airticket:\n",
      "{'_id': ObjectId('62e1d8e70c365c32c177190e'), 'country': 'Japan', 'city': 'Osaka', 'price': 821, 'company': 'S Airlines', 'durationHour': 10, 'stop': 1}\n"
     ]
    }
   ],
   "source": [
    "# Task 1.2 7/7\n",
    "query = {'stop': {'exists': False}}\n",
    "update = {'$set': {'stop': 0}}\n",
    "coll.update_many(query, update)\n",
    "S_airlines_flights = coll.find({'company': 'S Airlines'})\n",
    "print('Info of all S Airlines flights:')\n",
    "for i in S_airlines_flights:\n",
    "    print(i)\n",
    "result = coll.find({'$and': [{'durationHour': {'$lt': 10}}, {'price': {'$lt': 1500}}]})\n",
    "print('City and price of all flights under 10hrs and $1500')\n",
    "for i in result:\n",
    "    print(f'City: {i[\"city\"]}, price: ${i[\"price\"]}')\n",
    "cheapest = coll.find().sort('price', pymongo.ASCENDING)\n",
    "print('Info of cheapest airticket:')\n",
    "print(cheapest[0])"
   ],
   "metadata": {
    "collapsed": false,
    "pycharm": {
     "name": "#%%\n"
    }
   }
  },
  {
   "cell_type": "code",
   "execution_count": 3,
   "outputs": [
    {
     "name": "stdout",
     "output_type": "stream",
     "text": [
      "882\n"
     ]
    }
   ],
   "source": [
    "# Task 2.1 5/5\n",
    "import string\n",
    "def task2_1(filename):\n",
    "    with open(filename, 'r') as f:  # auto closes\n",
    "        lines = f.read().splitlines()\n",
    "    stripped_words = []\n",
    "    for line in lines:\n",
    "        line = line.lower()\n",
    "        temp = ''\n",
    "        for letter in line:\n",
    "            if letter in string.ascii_lowercase + ' ':\n",
    "                temp += letter\n",
    "        stripped_words += temp.split()\n",
    "    return stripped_words\n",
    "\n",
    "print(len(task2_1('LYRICS.txt')))  # 882"
   ],
   "metadata": {
    "collapsed": false,
    "pycharm": {
     "name": "#%%\n"
    }
   }
  },
  {
   "cell_type": "code",
   "execution_count": 4,
   "outputs": [
    {
     "name": "stdout",
     "output_type": "stream",
     "text": [
      "['buy', 'cut', 'fix', 'pay', 'rip', 'use', 'burn', 'call', 'code', 'drag', 'drop', 'fill', 'find', 'load', 'lock', 'name', 'play', 'plug', 'read', 'save', 'scan', 'send', 'snap', 'surf', 'tune', 'turn', 'view', 'work', 'zoom', 'break', 'bring', 'check', 'click', 'crack', 'cross', 'erase', 'leave', 'paste', 'pause', 'point', 'press', 'print', 'touch', 'trash', 'unzip', 'watch', 'write', 'change', 'charge', 'format', 'rename', 'scroll', 'unlock', 'update', 'rewrite', 'upgrade']\n",
      "56\n"
     ]
    }
   ],
   "source": [
    "# Task 2.2 6/6\n",
    "def task2_2(list_of_words):\n",
    "    words_before_it = [list_of_words[i] for i in range(len(list_of_words)-1) if list_of_words[i+1] == 'it']\n",
    "    unique_words = list(set(words_before_it))\n",
    "    result = sorted(unique_words, key=lambda w: (len(w), w))  # sorted() will first sort using the 1st element in a tuple, then the 2nd\n",
    "    return result\n",
    "\n",
    "result = task2_2(task2_1('LYRICS.txt'))\n",
    "print(result)\n",
    "print(len(result))  # 56"
   ],
   "metadata": {
    "collapsed": false,
    "pycharm": {
     "name": "#%%\n"
    }
   }
  },
  {
   "cell_type": "code",
   "execution_count": 5,
   "outputs": [
    {
     "data": {
      "text/plain": "'tune it, snap it, upgrade it, touch it, rename it, bring it, play it, view it.'"
     },
     "execution_count": 5,
     "metadata": {},
     "output_type": "execute_result"
    }
   ],
   "source": [
    "# Task 2.3 5/5\n",
    "import random\n",
    "def task2_3(list_of_words, number):\n",
    "    chosen = random.sample(list_of_words, number)\n",
    "    lyric = ' it, '.join(chosen) + ' it.'\n",
    "    return lyric\n",
    "task2_3(result, 8)"
   ],
   "metadata": {
    "collapsed": false,
    "pycharm": {
     "name": "#%%\n"
    }
   }
  },
  {
   "cell_type": "code",
   "execution_count": 6,
   "outputs": [],
   "source": [
    "# Task 3.1 14/17, all correct except add()\n",
    "class Node:\n",
    "    def __init__(self, data, left, right):\n",
    "        self.data = data\n",
    "        self.left = left\n",
    "        self.right = right\n",
    "\n",
    "class BSTree:\n",
    "    def __init__(self):\n",
    "        self.thisTree = [Node(None, None, None) for i in range(10)]\n",
    "\n",
    "    def constructor(self):\n",
    "        self.root = 0\n",
    "        self.nextFree = 0\n",
    "        for i in range(len(self.thisTree) - 1):\n",
    "            self.thisTree[i].left = self.thisTree[i+1]\n",
    "\n",
    "    def add(self, newItem):\n",
    "        if not self.nextFree:\n",
    "            self.thisTree[self.root].data = newItem\n",
    "            self.thisTree[self.root].left = None  # unlink from free nodes\n",
    "            self.nextFree += 1\n",
    "        else:\n",
    "            if self.nextFree > 9:  # 9 is max index, it has to be <= 9 to be able to fit\n",
    "                raise Exception('Tree is full!')\n",
    "            curr = self.thisTree[self.root]\n",
    "            self.thisTree[self.nextFree].data = newItem\n",
    "            while curr:\n",
    "                if newItem > curr.data:\n",
    "                    prev = curr\n",
    "                    curr = curr.right\n",
    "                elif newItem < curr.data:\n",
    "                    prev = curr\n",
    "                    curr = curr.left\n",
    "                else:\n",
    "                    raise Exception('New item equal to existing data is not handled!')\n",
    "            if newItem < prev.data:\n",
    "                prev.left = self.thisTree[self.nextFree]\n",
    "            elif newItem > prev.data:\n",
    "                prev.right = self.thisTree[self.nextFree]\n",
    "            else:  # newItem == curr.data\n",
    "                raise Exception('New item equal to existing data is not handled!')\n",
    "            self.thisTree[self.nextFree].left = None\n",
    "            self.nextFree += 1\n",
    "\n",
    "\n",
    "    def displayInOrder(self):\n",
    "        self._displayInOrder(self.thisTree[self.root])\n",
    "\n",
    "    def _displayInOrder(self, root):\n",
    "        if root:\n",
    "            self._displayInOrder(root.left)\n",
    "            print(root.data)\n",
    "            self._displayInOrder(root.right)\n",
    "\n",
    "    def displayPostOrder(self):\n",
    "        self._displayPostOrder(self.thisTree[self.root])\n",
    "\n",
    "    def _displayPostOrder(self, root):\n",
    "        if root:\n",
    "            self._displayPostOrder(root.left)\n",
    "            self._displayPostOrder(root.right)\n",
    "            print(root.data)\n",
    "\n",
    "    def display(self):\n",
    "        print('Root:', self.root)\n",
    "        print('Next free:', self.nextFree)\n",
    "        for i in self.thisTree:\n",
    "            print(i.data)"
   ],
   "metadata": {
    "collapsed": false,
    "pycharm": {
     "name": "#%%\n"
    }
   }
  },
  {
   "cell_type": "code",
   "execution_count": 7,
   "outputs": [
    {
     "ename": "Exception",
     "evalue": "Tree is full!",
     "output_type": "error",
     "traceback": [
      "\u001B[1;31m---------------------------------------------------------------------------\u001B[0m",
      "\u001B[1;31mException\u001B[0m                                 Traceback (most recent call last)",
      "Input \u001B[1;32mIn [7]\u001B[0m, in \u001B[0;36m<cell line: 6>\u001B[1;34m()\u001B[0m\n\u001B[0;32m      5\u001B[0m     names \u001B[38;5;241m=\u001B[39m f\u001B[38;5;241m.\u001B[39mread()\u001B[38;5;241m.\u001B[39msplitlines()\n\u001B[0;32m      6\u001B[0m \u001B[38;5;28;01mfor\u001B[39;00m name \u001B[38;5;129;01min\u001B[39;00m names:\n\u001B[1;32m----> 7\u001B[0m     \u001B[43mbst\u001B[49m\u001B[38;5;241;43m.\u001B[39;49m\u001B[43madd\u001B[49m\u001B[43m(\u001B[49m\u001B[43mname\u001B[49m\u001B[43m)\u001B[49m\n\u001B[0;32m      8\u001B[0m \u001B[38;5;66;03m# bst.display()\u001B[39;00m\n\u001B[0;32m      9\u001B[0m \u001B[38;5;66;03m# bst.displayInOrder()\u001B[39;00m\n\u001B[0;32m     10\u001B[0m bst\u001B[38;5;241m.\u001B[39mdisplayPostOrder()\n",
      "Input \u001B[1;32mIn [6]\u001B[0m, in \u001B[0;36mBSTree.add\u001B[1;34m(self, newItem)\u001B[0m\n\u001B[0;32m     23\u001B[0m \u001B[38;5;28;01melse\u001B[39;00m:\n\u001B[0;32m     24\u001B[0m     \u001B[38;5;28;01mif\u001B[39;00m \u001B[38;5;28mself\u001B[39m\u001B[38;5;241m.\u001B[39mnextFree \u001B[38;5;241m>\u001B[39m \u001B[38;5;241m9\u001B[39m:  \u001B[38;5;66;03m# 9 is max index, it has to be <= 9 to be able to fit\u001B[39;00m\n\u001B[1;32m---> 25\u001B[0m         \u001B[38;5;28;01mraise\u001B[39;00m \u001B[38;5;167;01mException\u001B[39;00m(\u001B[38;5;124m'\u001B[39m\u001B[38;5;124mTree is full!\u001B[39m\u001B[38;5;124m'\u001B[39m)\n\u001B[0;32m     26\u001B[0m     curr \u001B[38;5;241m=\u001B[39m \u001B[38;5;28mself\u001B[39m\u001B[38;5;241m.\u001B[39mthisTree[\u001B[38;5;28mself\u001B[39m\u001B[38;5;241m.\u001B[39mroot]\n\u001B[0;32m     27\u001B[0m     \u001B[38;5;28mself\u001B[39m\u001B[38;5;241m.\u001B[39mthisTree[\u001B[38;5;28mself\u001B[39m\u001B[38;5;241m.\u001B[39mnextFree]\u001B[38;5;241m.\u001B[39mdata \u001B[38;5;241m=\u001B[39m newItem\n",
      "\u001B[1;31mException\u001B[0m: Tree is full!"
     ]
    }
   ],
   "source": [
    "# Task 3.2 3/7 (should be all correct, marks deducted for error in add())\n",
    "bst = BSTree()\n",
    "bst.constructor()\n",
    "with open('NAMES.txt', 'r') as f:  # Auto closes\n",
    "    names = f.read().splitlines()\n",
    "for name in names:\n",
    "    bst.add(name)\n",
    "# bst.display()\n",
    "# bst.displayInOrder()\n",
    "bst.displayPostOrder()"
   ],
   "metadata": {
    "collapsed": false,
    "pycharm": {
     "name": "#%%\n"
    }
   }
  }
 ],
 "metadata": {
  "kernelspec": {
   "display_name": "Python 3",
   "language": "python",
   "name": "python3"
  },
  "language_info": {
   "codemirror_mode": {
    "name": "ipython",
    "version": 2
   },
   "file_extension": ".py",
   "mimetype": "text/x-python",
   "name": "python",
   "nbconvert_exporter": "python",
   "pygments_lexer": "ipython2",
   "version": "2.7.6"
  }
 },
 "nbformat": 4,
 "nbformat_minor": 0
}