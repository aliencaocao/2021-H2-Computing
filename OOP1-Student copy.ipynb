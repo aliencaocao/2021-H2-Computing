{
 "cells": [
  {
   "cell_type": "markdown",
   "metadata": {},
   "source": [
    "# Object Oriented Programming\n",
    "* **Define and understand classes and objects.**\n",
    "* Understand encapsulation and how classes support information hiding and implementation independence.\n",
    "* Understand inheritance and how it promotes software reuse.\n",
    "* Understand polymorphism and how it enables code generalisation.\n",
    "* Exclude: method overloading and multiple inheritance\n"
   ]
  },
  {
   "cell_type": "markdown",
   "metadata": {},
   "source": [
    "## 1. Class Basics\n",
    "\n",
    "Class is a blueprint or template or set of instructions to build a specific type of object.\n",
    "They define the **structure** and **behavior** of objects. \n",
    "\n",
    "An object is an actual thing that is built based on the ‘blue print’ (class).\n",
    "\n",
    "An instance is a copy of the object at a particular time.\n",
    "\n",
    "Creating a new object is called `instantiation`. An **object** of a class is also called **instance** of that class.\n",
    "* Multiple objects can be created from a class.\n"
   ]
  },
  {
   "cell_type": "markdown",
   "metadata": {},
   "source": [
    "### Class Definition\n",
    "\n",
    "Classes are defined using the `class` keyword followed by class name.\n",
    "* Class instances are created by calling the class as if it is a function.\n",
    "\n",
    "#### Example:\n",
    "```\n",
    "## Class Definition\n",
    "class Student:\n",
    "    pass\n",
    "\n",
    "## OR\n",
    "class Student():\n",
    "    pass\n",
    "\n",
    "## OR\n",
    "class Student(object):\n",
    "    pass\n",
    "\n",
    "## Create a Student object\n",
    "s = Student()\n",
    "print(s)\n",
    "print(type(s))\n",
    "\n",
    "```\n",
    "Copy the code and run it!"
   ]
  },
  {
   "cell_type": "code",
   "execution_count": null,
   "metadata": {},
   "outputs": [],
   "source": [
    "#Copy the code and run it!\n"
   ]
  },
  {
   "cell_type": "markdown",
   "metadata": {},
   "source": [
    "# Initializer Method \\_\\_init\\_\\_()\n",
    "\n",
    "Python class has a initializer method, `__init__`, which is **automatically called** to initialize the newly created object.\n",
    "* Its first argument is always `self` just like other instance methods.\n",
    "* It can take in additional arguments to initialize instance variables.\n",
    "\n",
    "**Note (info only):** We call name of variables and methods with two leading and two trailing underscores ***dunders***.\n",
    "\n",
    "### Instance Attributes\n",
    "\n",
    "Its common to initialize **instance attributes** in the initializer method `__init__()`.\n",
    "\n",
    "#### Keyword `self`\n",
    "\n",
    "To access any instance method or instance attribute in the class, you need to prefix it with `self.`.\n",
    "\n",
    "#### Example:\n",
    "```\n",
    "## Class Definition\n",
    "class Student:\n",
    "    def __init__(self, name, age=17, gender=\"F\"):\n",
    "        self.name = name\n",
    "        self.age = age\n",
    "        self.gender = gender\n",
    "\n",
    "## Create a Student object\n",
    "s = Student(\"Tan Tan Tan\", 17, \"M\")\n",
    "print(\"Name={}, Age={}, Gender={}\".format(s.name, s.age, s.gender))\n",
    "```\n",
    "\n",
    "#### Exercise:\n",
    "\n",
    "1. Create a Student Class with the following attributes:\n",
    "    * Name\n",
    "    * Age\n",
    "    * Gender\n",
    "    * ClassName\n",
    "\n",
    "2. Define a `__init__` method that initialize all the attributes above.\n",
    "3. Create an instance of the student class and print out the attributes as follows:\n",
    "   Name=Tan Tan Tan, Age=17, Gender=M, className=S6A\n"
   ]
  },
  {
   "cell_type": "code",
   "execution_count": null,
   "metadata": {},
   "outputs": [],
   "source": [
    "class Student:\n",
    "    def __init__(self, name, age=17, gender=\"F\", className='S6A'):\n",
    "        self.name = name\n",
    "        self.age = age\n",
    "        self.gender = gender\n",
    "        self.className = className\n",
    "\n",
    "## Create a Student object\n",
    "s = Student(\"Tan Tan Tan\", 17, \"M\", 'S6A')"
   ]
  },
  {
   "cell_type": "markdown",
   "metadata": {},
   "source": [
    "### Instance Methods\n",
    "\n",
    "**Instance Methods** are functions defined within a class.\n",
    "They can be called on objects. \n",
    "* It defines the **behavior** of objects of the class.\n",
    "* Instance methods are called using `instance.method()`. \n",
    "\n",
    "**Argument `self`**\n",
    "* The `self` attribute must be the first input parameter for all instance methods.\n",
    "* The `self` attribute is refer to current object of the class, i.e. the instance calling the method. \n",
    "    * This is similar to the `this` in C# or Java.\n",
    "* When the method is called, `self` argument is omitted.\n",
    "\n",
    "```\n",
    "## Class Definition\n",
    "class Student:\n",
    "    def __init__(self, name, age='17', gender=\"F\"):\n",
    "        self.name = name\n",
    "        self.age = age\n",
    "        self.gender = gender\n",
    "\n",
    "    #instance method\n",
    "    def getAge(self):\n",
    "        return self.age\n",
    "    \n",
    "    #instance method\n",
    "    def getName(self):\n",
    "        return self.name\n",
    "    \n",
    "    #instance method\n",
    "    def getGender(self):\n",
    "        return self.gender\n",
    "\n",
    "## Create a Student object and invoking the instance method\n",
    "s = Student(\"Ang Ang Ang\")\n",
    "print(\"Name={}, Age={}, Gender={}\".format(s.getName(), s.getAge(), s.getGender()))\n",
    "\n",
    "Output : Name=Ang Ang Ang, Age=17, Gender=F\n",
    "\n",
    "```\n",
    "\n",
    "#### Exercise:\n",
    "\n",
    "1. Create a Student Class with the following attributes:\n",
    "a. Name\n",
    "b. Age\n",
    "c. Gender\n",
    "\n",
    "2. Define a `__init__` method that initialize all the attributes above. Age should be defaulted to 17 and Gender to 'F'.\n",
    "3. Define a `setName` method to set the name of the student object.\n",
    "4. Define a `setAge` method to set the age of the student object.  The method should check that the age that is to be set is between 15 and 21. Otherwise the age will not be set.\n",
    "5. Define a `setGender` method to set the gender of the student object.  The method should check that the gender is either 'M' or 'F'. Otherwise the gender will not be set.\n",
    "6. Create an instance of the class that print out the attributes as follows:\n",
    "   Name=Tan Tan Tan, Age=20, Gender=Male\n"
   ]
  },
  {
   "cell_type": "markdown",
   "metadata": {},
   "source": [
    "\n"
   ]
  },
  {
   "cell_type": "code",
   "execution_count": 24,
   "metadata": {},
   "outputs": [
    {
     "name": "stdout",
     "output_type": "stream",
     "text": [
      "Name=Tan Tan Tan, Age=20, Gender=Male\n"
     ]
    }
   ],
   "source": [
    "class Student:\n",
    "    def __init__(self, name, age='17', gender=\"F\"):\n",
    "        self.name = name\n",
    "        self.age = age\n",
    "        self.gender = gender\n",
    "\n",
    "    #instance method\n",
    "    def getAge(self):\n",
    "        return self.age\n",
    "\n",
    "    #instance method\n",
    "    def getName(self):\n",
    "        return self.name\n",
    "\n",
    "    def setName(self, Name):\n",
    "        self.name = Name\n",
    "\n",
    "    def setAge(self, Age):\n",
    "        self.age = age\n",
    "    #instance method\n",
    "    def getGender(self):\n",
    "        return self.gender\n",
    "\n",
    "## Create a Student object and invoking the instance method\n",
    "s = Student(\"Ang Ang Ang\")"
   ]
  },
  {
   "cell_type": "markdown",
   "metadata": {},
   "source": [
    "\n"
   ]
  }
 ],
 "metadata": {
  "kernelspec": {
   "display_name": "Python 3",
   "language": "python",
   "name": "python3"
  },
  "language_info": {
   "codemirror_mode": {
    "name": "ipython",
    "version": 3
   },
   "file_extension": ".py",
   "mimetype": "text/x-python",
   "name": "python",
   "nbconvert_exporter": "python",
   "pygments_lexer": "ipython3",
   "version": "3.8.5"
  }
 },
 "nbformat": 4,
 "nbformat_minor": 2
}