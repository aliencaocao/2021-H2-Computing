{
 "cells": [
  {
   "cell_type": "markdown",
   "metadata": {},
   "source": [
    "2 We want to use linear search to count the number of occurrence of a key in a list. When the key does not exist in the list, it is 0 occurrence. Write a recursive function **RecSearch(A, key, start)** which requires three parameters, the list A, the key to be found, and the start index to search in the \tlist. This function returns the number of occurrence of this key in the list. "
   ]
  },
  {
   "cell_type": "code",
   "execution_count": 2,
   "metadata": {},
   "outputs": [
    {
     "name": "stdout",
     "output_type": "stream",
     "text": [
      "2\n"
     ]
    }
   ],
   "source": [
    "def RecSearch(A, key, start):\n",
    "    if start == len(A):   # terminate if index out of range\n",
    "        return 0\n",
    "    elif A[start] == key:\n",
    "        return 1 + RecSearch(A, key, start+1)\n",
    "    else:\n",
    "        return RecSearch(A, key, start+1)\n",
    "\n",
    "\n",
    "A = [1, 2, 3, 4, 5, 6, 7, 7, 8, 8, 8, 9]\n",
    "print(RecSearch(A, 7, 0))"
   ]
  },
  {
   "cell_type": "markdown",
   "metadata": {},
   "source": [
    "3 Write a recursive function **binSearch ( A, low, high, key)** which searches a sorted list A, A[low] . . . . . A[high] , for a match with **key** using binary search. Return\tthe index of the matching item or −1 if the key is not found. "
   ]
  },
  {
   "cell_type": "code",
   "execution_count": 2,
   "metadata": {
    "pycharm": {
     "name": "#%%\n"
    }
   },
   "outputs": [
    {
     "name": "stdout",
     "output_type": "stream",
     "text": [
      "6\n"
     ]
    }
   ],
   "source": [
    "def binSearch(A, low, high, key):\n",
    "    mid = (low+high)//2\n",
    "    if low <= high:\n",
    "        if A[mid] == key:\n",
    "            return mid\n",
    "        elif key > A[mid]:\n",
    "            return binSearch(A, mid+1, high, key)\n",
    "        else:\n",
    "            return binSearch(A, low, mid-1, key)\n",
    "    else:\n",
    "        return -1\n",
    "\n",
    "A = [1, 2, 3, 4, 5, 6, 7, 7, 8, 8, 8, 9]\n",
    "print(binSearch(A, 0, 10, 7))"
   ]
  }
 ],
 "metadata": {
  "kernelspec": {
   "display_name": "Python 3",
   "language": "python",
   "name": "python3"
  },
  "language_info": {
   "codemirror_mode": {
    "name": "ipython",
    "version": 3
   },
   "file_extension": ".py",
   "mimetype": "text/x-python",
   "name": "python",
   "nbconvert_exporter": "python",
   "pygments_lexer": "ipython3",
   "version": "3.6.4"
  }
 },
 "nbformat": 4,
 "nbformat_minor": 2
}