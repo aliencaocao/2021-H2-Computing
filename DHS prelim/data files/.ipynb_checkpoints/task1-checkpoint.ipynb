{
 "cells": [
  {
   "cell_type": "code",
   "execution_count": 1,
   "metadata": {},
   "outputs": [
    {
     "name": "stdout",
     "output_type": "stream",
     "text": [
      "[177, 179, 167, 165, 179, 158, 153, 151, 163, 165, 179, 154, 159, 172, 161, 152, 168, 156, 165, 152]\n"
     ]
    }
   ],
   "source": [
    "import random\n",
    "def generate_heights(size):\n",
    "    return [random.randint(150, 180) for i in range(size)]\n",
    "\n",
    "print(generate_heights(20))"
   ]
  },
  {
   "cell_type": "code",
   "execution_count": 13,
   "metadata": {},
   "outputs": [
    {
     "data": {
      "text/plain": [
       "[150,\n",
       " 153,\n",
       " 154,\n",
       " 157,\n",
       " 160,\n",
       " 160,\n",
       " 162,\n",
       " 163,\n",
       " 164,\n",
       " 165,\n",
       " 168,\n",
       " 169,\n",
       " 169,\n",
       " 169,\n",
       " 171,\n",
       " 171,\n",
       " 173,\n",
       " 178,\n",
       " 179,\n",
       " 180]"
      ]
     },
     "execution_count": 13,
     "metadata": {},
     "output_type": "execute_result"
    }
   ],
   "source": [
    "def mergesort(input_list):\n",
    "    return _mergesort(input_list)\n",
    "\n",
    "def merge(front, back):\n",
    "    i, j = 0, 0\n",
    "    result = []\n",
    "    while i < len(front) and j < len(back):\n",
    "        if front[i] < back[j]:\n",
    "            result.append(front[i])\n",
    "            i += 1\n",
    "        else:  # front[i] > back[j]\n",
    "            result.append(back[j])\n",
    "            j += 1\n",
    "    # append remaining if any\n",
    "    result += front[i:]\n",
    "    result += back[j:]\n",
    "    return result\n",
    "    \n",
    "def _mergesort(input_list):\n",
    "    if len(input_list) == 1:\n",
    "        return input_list\n",
    "    mid = len(input_list)//2\n",
    "    front = _mergesort(input_list[:mid])\n",
    "    back = _mergesort(input_list[mid:])\n",
    "    return merge(front, back)\n",
    "\n",
    "mergesort(generate_heights(20))"
   ]
  },
  {
   "cell_type": "code",
   "execution_count": 39,
   "metadata": {
    "executionInfo": {
     "elapsed": 336,
     "status": "ok",
     "timestamp": 1662970718154,
     "user": {
      "displayName": "Staff Ho Jiawei Aaron",
      "userId": "17980298717795705409"
     },
     "user_tz": -480
    },
    "id": "KDZX-yGe5C9E"
   },
   "outputs": [
    {
     "name": "stdout",
     "output_type": "stream",
     "text": [
      "-1 1\n",
      "-1 2\n",
      "-2 1\n",
      "-2 2\n",
      "-3 1\n",
      "-3 2\n",
      "-4 1\n",
      "-4 2\n",
      "-5 1\n",
      "-5 2\n",
      "-1 0\n",
      "-2 -1\n",
      "-2 0\n",
      "-3 -1\n",
      "-3 0\n",
      "-4 -1\n",
      "-4 0\n",
      "-5 -1\n",
      "-5 0\n",
      "-1 -1\n",
      "[[178, 'T0281099B'], [168, 'T0254885I'], [171, 'T0482309S'], [178, 'T0340912U']]\n",
      "[[178, 'T0442131M'], [164, 'S7457420P'], [167, 'T0867787F'], [175, 'T0198720F']]\n",
      "[[175, 'S6528694I'], [159, 'S7245932B'], [161, 'T0574412P'], [174, 'S7696370P']]\n",
      "[[174, 'T0849104E'], [155, 'S8547302F'], [157, 'S6254881Y'], [172, 'T0230412W']]\n",
      "[[172, 'T0320135V'], [150, 'S7166399M'], [150, 'S7572379E'], [179, 'T0663758C']]\n"
     ]
    }
   ],
   "source": [
    "# Task 1.3\n",
    "\n",
    "sorted_heights_nrics = [[150, 'S7166399M'], [150, 'S7572379E'], [155, 'S8547302F'], [157, 'S6254881Y'], [159, 'S7245932B'], [161, 'T0574412P'], [164, 'S7457420P'], [167, 'T0867787F'], [168, 'T0254885I'], [171, 'T0482309S'], [172, 'T0320135V'], [172, 'T0230412W'], [174, 'T0849104E'], [174, 'S7696370P'], [175, 'S6528694I'], [175, 'T0198720F'], [178, 'T0442131M'], [178, 'T0340912U'], [178, 'T0281099B'], [179, 'T0663758C']]\n",
    "\n",
    "def arrange(height_list):\n",
    "    # always 5 rows, column is dynamic, can assume height_list is always multiple of 10\n",
    "    column_count = len(height_list) // 5\n",
    "    assert column_count % 2 == 0  # just to check column_count is even no\n",
    "    formation = [[None for i in range(column_count)] for j in range(5)]  # construct 2d array of 5 row * column_count\n",
    "    curr_left_col_idx = column_count//2-1  # middle left\n",
    "    row_reset_counter = 0  # Act as a reset counter for resetting to last row (after all 5 is filled)\n",
    "    insert_pos = [-1, curr_left_col_idx]  # 1 for row index so it is the last row (closest to audience). Pos is in (row, col). Start from last row and middle left\n",
    "    reset_col_index = False\n",
    "    \n",
    "    for solider in height_list:\n",
    "        formation[insert_pos[0]][insert_pos[1]] = solider\n",
    "        if abs(insert_pos[0]) < 5 or not reset_col_index:  # if still have row available to insert into\n",
    "            if reset_col_index:\n",
    "                insert_pos[1] -= 1  # reset to left side from middle and move to next row\n",
    "                insert_pos[0] -= 1\n",
    "            else:\n",
    "                insert_pos[1] += 1  # move to right side from middle\n",
    "            reset_col_index = not reset_col_index  # flip boolean\n",
    "        else:  # if already filled up middle 2 cols for all 5 rows, start filling from left from last row. reset_col_index should be False when it first enter this part\n",
    "            if abs(insert_pos[0]) == 5:  # reset to last row\n",
    "                row_reset_counter += 1\n",
    "                insert_pos = [-1, column_count//2-1-row_reset_counter]  # shift to left of middle and decide column based on how many times has it resetted to last row\n",
    "            else:\n",
    "                if reset_col_index:\n",
    "                    insert_pos[1] -= 2 + row_reset_counter  # shift 2 back then shift by no of times it has reset\n",
    "                    insert_pos[0] -= 1  # move up 1 row\n",
    "                else:\n",
    "                    insert_pos[1] += 2 + row_reset_counter\n",
    "                reset_col_index = not reset_col_index  # flip boolean\n",
    "    return formation\n",
    "\n",
    "formation_result = arrange(sorted_heights_nrics)\n",
    "for i in formation_result:\n",
    "    print(i)"
   ]
  },
  {
   "cell_type": "code",
   "execution_count": 4,
   "metadata": {
    "executionInfo": {
     "elapsed": 2,
     "status": "ok",
     "timestamp": 1662970782588,
     "user": {
      "displayName": "Staff Ho Jiawei Aaron",
      "userId": "17980298717795705409"
     },
     "user_tz": -480
    },
    "id": "hpL_1F3Ixye-"
   },
   "outputs": [],
   "source": [
    "# Task 1.4\n",
    "\n",
    "mod_array = [[[178, 'T0281099B', [0, 0]], [168, 'T0254885I', [0, 1]], [171, 'T0482309S', [0, 2]], [179, 'T0663758C', [0, 3]]], [[178, 'T0442131M', [1, 0]], [164, 'S7457420P', [1, 1]], [167, 'T0867787F', [1, 2]], [178, 'T0340912U', [1, 3]]], [[175, 'S6528694I', [2, 0]], [159, 'S7245932B', [2, 1]], [161, 'T0574412P', [2, 2]], [175, 'T0198720F', [2, 3]]], [[174, 'T0849104E', [3, 0]], [155, 'S8547302F', [3, 1]], [157, 'S6254881Y', [3, 2]], [174, 'S7696370P', [3, 3]]], [[172, 'T0320135V', [4, 0]], [150, 'S7166399M', [4, 1]], [150, 'S7572379E', [4, 2]], [172, 'T0230412W', [4, 3]]]]\n"
   ]
  }
 ],
 "metadata": {
  "colab": {
   "authorship_tag": "ABX9TyNGDJ0twbn/KlpV+l3ocVfj",
   "collapsed_sections": [],
   "provenance": []
  },
  "kernelspec": {
   "display_name": "Python 3 (ipykernel)",
   "language": "python",
   "name": "python3"
  },
  "language_info": {
   "codemirror_mode": {
    "name": "ipython",
    "version": 3
   },
   "file_extension": ".py",
   "mimetype": "text/x-python",
   "name": "python",
   "nbconvert_exporter": "python",
   "pygments_lexer": "ipython3",
   "version": "3.9.13"
  }
 },
 "nbformat": 4,
 "nbformat_minor": 1
}
