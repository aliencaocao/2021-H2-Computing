{
 "cells": [
  {
   "cell_type": "code",
   "execution_count": 1,
   "metadata": {},
   "outputs": [
    {
     "name": "stdout",
     "output_type": "stream",
     "text": [
      "[177, 179, 167, 165, 179, 158, 153, 151, 163, 165, 179, 154, 159, 172, 161, 152, 168, 156, 165, 152]\n"
     ]
    }
   ],
   "source": [
    "# Task 1.1\n",
    "import random\n",
    "def generate_heights(size):\n",
    "    return [random.randint(150, 180) for i in range(size)]\n",
    "\n",
    "print(generate_heights(20))"
   ]
  },
  {
   "cell_type": "code",
   "execution_count": 13,
   "metadata": {},
   "outputs": [
    {
     "data": {
      "text/plain": [
       "[150,\n",
       " 153,\n",
       " 154,\n",
       " 157,\n",
       " 160,\n",
       " 160,\n",
       " 162,\n",
       " 163,\n",
       " 164,\n",
       " 165,\n",
       " 168,\n",
       " 169,\n",
       " 169,\n",
       " 169,\n",
       " 171,\n",
       " 171,\n",
       " 173,\n",
       " 178,\n",
       " 179,\n",
       " 180]"
      ]
     },
     "execution_count": 13,
     "metadata": {},
     "output_type": "execute_result"
    }
   ],
   "source": [
    "# Task 1.2\n",
    "\n",
    "def mergesort(input_list):\n",
    "    return _mergesort(input_list)\n",
    "\n",
    "def merge(front, back):\n",
    "    i, j = 0, 0\n",
    "    result = []\n",
    "    while i < len(front) and j < len(back):\n",
    "        if front[i] < back[j]:\n",
    "            result.append(front[i])\n",
    "            i += 1\n",
    "        else:  # front[i] > back[j]\n",
    "            result.append(back[j])\n",
    "            j += 1\n",
    "    # append remaining if any\n",
    "    result += front[i:]\n",
    "    result += back[j:]\n",
    "    return result\n",
    "    \n",
    "def _mergesort(input_list):\n",
    "    if len(input_list) == 1:\n",
    "        return input_list\n",
    "    mid = len(input_list)//2\n",
    "    front = _mergesort(input_list[:mid])\n",
    "    back = _mergesort(input_list[mid:])\n",
    "    return merge(front, back)\n",
    "\n",
    "mergesort(generate_heights(20))"
   ]
  },
  {
   "cell_type": "code",
   "execution_count": 40,
   "metadata": {
    "executionInfo": {
     "elapsed": 336,
     "status": "ok",
     "timestamp": 1662970718154,
     "user": {
      "displayName": "Staff Ho Jiawei Aaron",
      "userId": "17980298717795705409"
     },
     "user_tz": -480
    },
    "id": "KDZX-yGe5C9E"
   },
   "outputs": [
    {
     "name": "stdout",
     "output_type": "stream",
     "text": [
      "[[178, 'T0281099B'], [168, 'T0254885I'], [171, 'T0482309S'], [178, 'T0340912U']]\n",
      "[[178, 'T0442131M'], [164, 'S7457420P'], [167, 'T0867787F'], [175, 'T0198720F']]\n",
      "[[175, 'S6528694I'], [159, 'S7245932B'], [161, 'T0574412P'], [174, 'S7696370P']]\n",
      "[[174, 'T0849104E'], [155, 'S8547302F'], [157, 'S6254881Y'], [172, 'T0230412W']]\n",
      "[[172, 'T0320135V'], [150, 'S7166399M'], [150, 'S7572379E'], [179, 'T0663758C']]\n"
     ]
    }
   ],
   "source": [
    "# Task 1.3\n",
    "\n",
    "sorted_heights_nrics = [[150, 'S7166399M'], [150, 'S7572379E'], [155, 'S8547302F'], [157, 'S6254881Y'], [159, 'S7245932B'], [161, 'T0574412P'], [164, 'S7457420P'], [167, 'T0867787F'], [168, 'T0254885I'], [171, 'T0482309S'], [172, 'T0320135V'], [172, 'T0230412W'], [174, 'T0849104E'], [174, 'S7696370P'], [175, 'S6528694I'], [175, 'T0198720F'], [178, 'T0442131M'], [178, 'T0340912U'], [178, 'T0281099B'], [179, 'T0663758C']]\n",
    "\n",
    "def arrange(height_list):\n",
    "    # always 5 rows, column is dynamic, can assume height_list is always multiple of 10\n",
    "    column_count = len(height_list) // 5\n",
    "    assert column_count % 2 == 0  # just to check column_count is even no\n",
    "    formation = [[None for i in range(column_count)] for j in range(5)]  # construct 2d array of 5 row * column_count\n",
    "    curr_left_col_idx = column_count//2-1  # middle left\n",
    "    row_reset_counter = 0  # Act as a reset counter for resetting to last row (after all 5 is filled)\n",
    "    insert_pos = [-1, curr_left_col_idx]  # 1 for row index so it is the last row (closest to audience). Pos is in (row, col). Start from last row and middle left\n",
    "    reset_col_index = False\n",
    "    \n",
    "    for solider in height_list:\n",
    "        formation[insert_pos[0]][insert_pos[1]] = solider\n",
    "        if abs(insert_pos[0]) < 5 or not reset_col_index:  # if still have row available to insert into\n",
    "            if reset_col_index:\n",
    "                insert_pos[1] -= 1  # reset to left side from middle and move to next row\n",
    "                insert_pos[0] -= 1\n",
    "            else:\n",
    "                insert_pos[1] += 1  # move to right side from middle\n",
    "            reset_col_index = not reset_col_index  # flip boolean\n",
    "        else:  # if already filled up middle 2 cols for all 5 rows, start filling from left from last row. reset_col_index should be False when it first enter this part\n",
    "            if abs(insert_pos[0]) == 5:  # reset to last row\n",
    "                row_reset_counter += 1\n",
    "                insert_pos = [-1, column_count//2-1-row_reset_counter]  # shift to left of middle and decide column based on how many times has it resetted to last row\n",
    "            else:\n",
    "                if reset_col_index:\n",
    "                    insert_pos[1] -= 2 + row_reset_counter  # shift 2 back then shift by no of times it has reset\n",
    "                    insert_pos[0] -= 1  # move up 1 row\n",
    "                else:\n",
    "                    insert_pos[1] += 2 + row_reset_counter\n",
    "                reset_col_index = not reset_col_index  # flip boolean\n",
    "    return formation\n",
    "\n",
    "formation_result = arrange(sorted_heights_nrics)\n",
    "for i in formation_result:\n",
    "    print(i)"
   ]
  },
  {
   "cell_type": "code",
   "execution_count": 86,
   "metadata": {
    "executionInfo": {
     "elapsed": 2,
     "status": "ok",
     "timestamp": 1662970782588,
     "user": {
      "displayName": "Staff Ho Jiawei Aaron",
      "userId": "17980298717795705409"
     },
     "user_tz": -480
    },
    "id": "hpL_1F3Ixye-"
   },
   "outputs": [
    {
     "name": "stdout",
     "output_type": "stream",
     "text": [
      "[-1, -1, [178, [0, 0]], -1, [168, [0, 1]], -1, [179, [0, 3]], [172, [4, 3]], -1, [161, [2, 2]], [171, [0, 2]], [175, [2, 0]], [164, [1, 1]], [174, [3, 0]], -1, [150, [4, 2]], [155, [3, 1]], [178, [1, 3]], -1, -1, [167, [1, 2]], [159, [2, 1]], -1, -1, -1, -1, [178, [1, 0]], -1, -1]\n"
     ]
    }
   ],
   "source": [
    "# Task 1.4\n",
    "\n",
    "mod_array = [[[178, 'T0281099B', [0, 0]], [168, 'T0254885I', [0, 1]], [171, 'T0482309S', [0, 2]], [179, 'T0663758C', [0, 3]]], [[178, 'T0442131M', [1, 0]], [164, 'S7457420P', [1, 1]], [167, 'T0867787F', [1, 2]], [178, 'T0340912U', [1, 3]]], [[175, 'S6528694I', [2, 0]], [159, 'S7245932B', [2, 1]], [161, 'T0574412P', [2, 2]], [175, 'T0198720F', [2, 3]]], [[174, 'T0849104E', [3, 0]], [155, 'S8547302F', [3, 1]], [157, 'S6254881Y', [3, 2]], [174, 'S7696370P', [3, 3]]], [[172, 'T0320135V', [4, 0]], [150, 'S7166399M', [4, 1]], [150, 'S7572379E', [4, 2]], [172, 'T0230412W', [4, 3]]]]\n",
    "\n",
    "hash_table = [-1 for i in range(29)]\n",
    "\n",
    "def hash_funct(key):\n",
    "    return key % len(hash_table)\n",
    "\n",
    "def insert(key, data):\n",
    "    ori_key = key\n",
    "    if hash_table[key] == -1:\n",
    "        hash_table[key] = data\n",
    "    else:\n",
    "        inserted = False\n",
    "        while hash_table[key] != -1 and not inserted:  # loop until empty slot\n",
    "            key += 1\n",
    "            if key == len(hash_table):\n",
    "                i = 0  # start from front\n",
    "                while not inserted:\n",
    "                    if hash_table[i] == -1:\n",
    "                        hash_table[i] == data\n",
    "                        inserted = True\n",
    "                    elif i == ori_key:\n",
    "                        raise Exception('Hash table is full!')\n",
    "        if not inserted:\n",
    "            hash_table[key] == data\n",
    "\n",
    "def search(key, data):\n",
    "    if hash_table[key][0] == data:  # compare height\n",
    "        return f'Found (no collision resolution): Row {hash_table[key][1][0]} Col {hash_table[key][1][1]}'\n",
    "    elif hash_table[key] == -1:\n",
    "        return 'Not found (no collision resolution)'\n",
    "    else:\n",
    "        offset = 1\n",
    "        found = False\n",
    "        while not found and offset < len(hash_table):\n",
    "            print(hash_table[(key + offset) % len(hash_table)])\n",
    "            if hash_table[(key + offset) % len(hash_table)] != -1:\n",
    "                if hash_table[(key + offset) % len(hash_table)][0] == data:\n",
    "                    real_key = (key + offset) % len(hash_table)\n",
    "                    return f'Found (with collision resolution): Row {hash_table[real_key][1][0]} Col {hash_table[real_key][1][1]}'\n",
    "            offset += 1\n",
    "        if not found:\n",
    "            return 'Not found (with collision resolution)'\n",
    "\n",
    "for j in mod_array:\n",
    "    for i in j:\n",
    "        insert(hash_funct(int(i[1][1:-1])), [i[0], i[2]])\n",
    "        \n",
    "print(hash_table)"
   ]
  },
  {
   "cell_type": "code",
   "execution_count": 87,
   "metadata": {},
   "outputs": [
    {
     "name": "stdout",
     "output_type": "stream",
     "text": [
      "[172, [4, 3]]\n",
      "-1\n",
      "[161, [2, 2]]\n",
      "[171, [0, 2]]\n",
      "[175, [2, 0]]\n",
      "[164, [1, 1]]\n",
      "[174, [3, 0]]\n",
      "-1\n",
      "[150, [4, 2]]\n",
      "Found (with collision resolution): Row 4 Col 2\n"
     ]
    }
   ],
   "source": [
    "# NRIC = input('Input your NRIC: ')\n",
    "# height = int(input('Input your height(cm): '))\n",
    "NRIC = 'S7166399M'\n",
    "height = 150\n",
    "print(search(hash_funct(int(NRIC[1:-1])), height))"
   ]
  },
  {
   "cell_type": "code",
   "execution_count": null,
   "metadata": {},
   "outputs": [],
   "source": []
  },
  {
   "cell_type": "code",
   "execution_count": null,
   "metadata": {},
   "outputs": [],
   "source": []
  }
 ],
 "metadata": {
  "colab": {
   "authorship_tag": "ABX9TyNGDJ0twbn/KlpV+l3ocVfj",
   "collapsed_sections": [],
   "provenance": []
  },
  "kernelspec": {
   "display_name": "Python 3 (ipykernel)",
   "language": "python",
   "name": "python3"
  },
  "language_info": {
   "codemirror_mode": {
    "name": "ipython",
    "version": 3
   },
   "file_extension": ".py",
   "mimetype": "text/x-python",
   "name": "python",
   "nbconvert_exporter": "python",
   "pygments_lexer": "ipython3",
   "version": "3.9.13"
  }
 },
 "nbformat": 4,
 "nbformat_minor": 1
}
