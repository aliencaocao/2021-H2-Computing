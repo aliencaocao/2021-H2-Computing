{
 "cells": [
  {
   "cell_type": "code",
   "execution_count": 2,
   "id": "6e959372",
   "metadata": {},
   "outputs": [],
   "source": [
    "import sqlite3\n",
    "db = sqlite3.connect('ballot.db')\n",
    "with open('Names.csv') as f:  # auto closes\n",
    "    lines = f.read().splitlines()[1:]\n",
    "    for row in lines:\n",
    "        db.execute('INSERT INTO Name (nric, names) VALUES (?, ?)', row.split(','))\n",
    "    db.commit()"
   ]
  },
  {
   "cell_type": "code",
   "execution_count": 4,
   "id": "dd0c80a5",
   "metadata": {},
   "outputs": [],
   "source": [
    "with open('Results.csv') as f:  # auto closes\n",
    "    lines = f.read().splitlines()[1:]\n",
    "    for row in lines:\n",
    "        db.execute('INSERT INTO Results (nric, group_id, ballot_result) VALUES (?, ?, ?)', row.split(','))\n",
    "    db.commit()"
   ]
  }
 ],
 "metadata": {
  "kernelspec": {
   "display_name": "Python 3 (ipykernel)",
   "language": "python",
   "name": "python3"
  },
  "language_info": {
   "codemirror_mode": {
    "name": "ipython",
    "version": 3
   },
   "file_extension": ".py",
   "mimetype": "text/x-python",
   "name": "python",
   "nbconvert_exporter": "python",
   "pygments_lexer": "ipython3",
   "version": "3.9.13"
  }
 },
 "nbformat": 4,
 "nbformat_minor": 5
}
