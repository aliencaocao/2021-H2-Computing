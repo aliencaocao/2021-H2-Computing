{
 "cells": [
  {
   "cell_type": "code",
   "execution_count": null,
   "id": "dc19175c",
   "metadata": {},
   "outputs": [],
   "source": [
    "# Task 4.1\n",
    "import pymongo\n",
    "import json\n",
    "\n",
    "client = pymongo.MongoClient('127.0.0.1', 27017)\n",
    "db = client['applicants']\n",
    "db.drop_collection('contingents')\n",
    "coll = db['contingents']\n",
    "\n",
    "with open('contingents.json') as f:  # auto closes\n",
    "    data = json.load(f)\n",
    "coll.insert_many(data)\n",
    "for i in coll.find():\n",
    "    print(i)"
   ]
  },
  {
   "cell_type": "code",
   "execution_count": null,
   "id": "4d6ed8e2",
   "metadata": {},
   "outputs": [],
   "source": [
    "query = {'$and': [{'medical_history': {'$not':{'$in': ['heart issues']}}},\n",
    "                  {'height': {'$exists': True}},\n",
    "                  {'height': {'$gt': 1.5}},\n",
    "                  {'citizenship': {'$eq': 'Singaporean'}}]\n",
    "        }\n",
    "coll.update(query, {'$set': {'suitability': 'High'}})\n",
    "for i in coll.find():\n",
    "    print(i)"
   ]
  }
 ],
 "metadata": {
  "kernelspec": {
   "display_name": "Python 3 (ipykernel)",
   "language": "python",
   "name": "python3"
  },
  "language_info": {
   "codemirror_mode": {
    "name": "ipython",
    "version": 3
   },
   "file_extension": ".py",
   "mimetype": "text/x-python",
   "name": "python",
   "nbconvert_exporter": "python",
   "pygments_lexer": "ipython3",
   "version": "3.9.13"
  }
 },
 "nbformat": 4,
 "nbformat_minor": 5
}
