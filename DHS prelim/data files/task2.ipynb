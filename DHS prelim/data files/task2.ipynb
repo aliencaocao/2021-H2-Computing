{
 "cells": [
  {
   "cell_type": "code",
   "execution_count": 5,
   "metadata": {
    "colab": {
     "base_uri": "https://localhost:8080/"
    },
    "executionInfo": {
     "elapsed": 400,
     "status": "ok",
     "timestamp": 1662971029874,
     "user": {
      "displayName": "Staff Ho Jiawei Aaron",
      "userId": "17980298717795705409"
     },
     "user_tz": -480
    },
    "id": "7HoMe1YV4DY5",
    "outputId": "4a60007e-c665-44be-d574-b4ac270a3c7f"
   },
   "outputs": [
    {
     "name": "stdout",
     "output_type": "stream",
     "text": [
      "(1) Enqueue Participant_A, Participant_B, Participant_C, Participant_D.\n",
      "\n",
      "Fixed array contents:\n",
      "['Participant_A', 'Participant_B', 'Participant_C', 'Participant_D', None]\n",
      "\n",
      "\n",
      "(2.1) Deleted value =  Participant_A\n",
      "(2.2) Deleted value =  Participant_B\n",
      "Fixed array contents:\n",
      "['Participant_A', 'Participant_B', 'Participant_C', 'Participant_D', None]\n",
      "\n",
      "\n",
      "(3) Enqueue Participant_E, Participant_F, Participant_G.\n",
      "\n",
      "Fixed array contents:\n",
      "['Participant_F', 'Participant_G', 'Participant_C', 'Participant_D', 'Participant_E']\n",
      "\n",
      "\n",
      "(4) Enqueue Participant_H.\n",
      "\n",
      "Cannot enqueue: Queue is full.\n",
      "Fixed array contents:\n",
      "['Participant_F', 'Participant_G', 'Participant_C', 'Participant_D', 'Participant_E']\n",
      "\n",
      "\n"
     ]
    }
   ],
   "source": [
    "# Task 2.1\n",
    "\n",
    "class CircularQueue(): \n",
    " \n",
    "    def __init__(self, size): \n",
    "        self.size = size \n",
    "        self.queue = [None for i in range(size)] \n",
    "        self.front = self.rear = -1 \n",
    "    \n",
    "    def display_raw_array(self):\n",
    "        print(\"Fixed array contents:\")\n",
    "        print(self.queue)\n",
    "        print()\n",
    "        print()\n",
    " \n",
    "\n",
    "    def enqueue(self, string):\n",
    "        if self.front == -1:\n",
    "            self.front = self.rear = 0\n",
    "            self.queue[self.rear] = string\n",
    "        else:\n",
    "            self.rear += 1\n",
    "            if self.rear == self.size:\n",
    "                self.rear = 0\n",
    "            if self.rear == self.front:\n",
    "                return 'Cannot enqueue: Queue is full.'\n",
    "            self.queue[self.rear] = string\n",
    "        \n",
    "    \n",
    "             \n",
    "    def dequeue(self):\n",
    "        r = self.queue[self.front]\n",
    "        self.front += 1\n",
    "        if self.front == self.size:\n",
    "            self.front = 0  # circle back to front\n",
    "        return r\n",
    "\n",
    "\n",
    "# Driver program\n",
    "ob = CircularQueue(5)\n",
    "print(\"(1) Enqueue Participant_A, Participant_B, Participant_C, Participant_D.\")\n",
    "\n",
    "print()\n",
    "\n",
    "return_value = ob.enqueue(\"Participant_A\")\n",
    "if return_value == \"Cannot enqueue: Queue is full.\": print(return_value)\n",
    "return_value = ob.enqueue(\"Participant_B\")\n",
    "if return_value == \"Cannot enqueue: Queue is full.\": print(return_value)\n",
    "return_value = ob.enqueue(\"Participant_C\")\n",
    "if return_value == \"Cannot enqueue: Queue is full.\": print(return_value)\n",
    "return_value = ob.enqueue(\"Participant_D\")\n",
    "if return_value == \"Cannot enqueue: Queue is full.\": print(return_value)\n",
    "ob.display_raw_array()\n",
    "\n",
    "print (\"(2.1) Deleted value = \", ob.dequeue())\n",
    "print (\"(2.2) Deleted value = \", ob.dequeue())\n",
    "ob.display_raw_array()\n",
    "\n",
    "print(\"(3) Enqueue Participant_E, Participant_F, Participant_G.\")\n",
    "print()\n",
    "return_value = ob.enqueue(\"Participant_E\")\n",
    "if return_value == \"Cannot enqueue: Queue is full.\": print(return_value)\n",
    "return_value = ob.enqueue(\"Participant_F\")\n",
    "if return_value == \"Cannot enqueue: Queue is full.\": print(return_value)\n",
    "return_value = ob.enqueue(\"Participant_G\")\n",
    "if return_value == \"Cannot enqueue: Queue is full.\": print(return_value)\n",
    "ob.display_raw_array()\n",
    "\n",
    "print(\"(4) Enqueue Participant_H.\")\n",
    "print()\n",
    "return_value = ob.enqueue(\"Participant_H\")\n",
    "if return_value == \"Cannot enqueue: Queue is full.\": print(return_value)\n",
    "ob.display_raw_array()"
   ]
  },
  {
   "cell_type": "code",
   "execution_count": 38,
   "metadata": {
    "id": "kiCsPKog4Jsi"
   },
   "outputs": [
    {
     "name": "stdout",
     "output_type": "stream",
     "text": [
      "6:20 PM 6:23 PM\n",
      "['Army10C4IBattalion 6:20 PM', 'Army10C4IBattalion 6:20 PM', 'Army10C4IBattalion 6:20 PM', 'Army10C4IBattalion 6:20 PM', 'Army10C4IBattalion 6:20 PM', 'Army10C4IBattalion 6:20 PM', 'Army10C4IBattalion 6:20 PM', 'Army10C4IBattalion 6:20 PM', 'Army10C4IBattalion 6:20 PM', 'Army10C4IBattalion 6:20 PM', 'Army10C4IBattalion 6:20 PM', 'Army10C4IBattalion 6:20 PM', 'Army10C4IBattalion 6:20 PM', 'Army10C4IBattalion 6:20 PM', 'Army10C4IBattalion 6:20 PM', 'Army10C4IBattalion 6:20 PM', 'Army10C4IBattalion 6:20 PM', 'Army10C4IBattalion 6:20 PM', 'Army10C4IBattalion 6:20 PM', 'Army10C4IBattalion 6:20 PM', 'Army10C4IBattalion 6:21 PM', 'Army10C4IBattalion 6:21 PM', 'Army10C4IBattalion 6:21 PM', 'Army10C4IBattalion 6:21 PM', 'Army10C4IBattalion 6:21 PM', 'Army10C4IBattalion 6:21 PM', 'Army10C4IBattalion 6:21 PM', 'Army10C4IBattalion 6:21 PM', 'Army10C4IBattalion 6:21 PM', 'Army10C4IBattalion 6:21 PM', 'Army10C4IBattalion 6:21 PM', 'Army10C4IBattalion 6:21 PM', 'Army10C4IBattalion 6:21 PM', 'Army10C4IBattalion 6:21 PM', 'Army10C4IBattalion 6:21 PM', 'Army10C4IBattalion 6:21 PM', 'Army10C4IBattalion 6:21 PM', 'Army10C4IBattalion 6:21 PM', 'Army10C4IBattalion 6:21 PM', 'Army10C4IBattalion 6:21 PM', 'Army10C4IBattalion 6:22 PM', 'Army10C4IBattalion 6:22 PM', 'Army10C4IBattalion 6:22 PM', 'Army10C4IBattalion 6:22 PM', 'Army10C4IBattalion 6:22 PM', 'Army10C4IBattalion 6:22 PM', 'Army11C4IBattalion 6:22 PM', 'Army11C4IBattalion 6:22 PM', 'Army11C4IBattalion 6:22 PM', 'Army11C4IBattalion 6:22 PM', 'Army11C4IBattalion 6:22 PM', 'Army11C4IBattalion 6:22 PM', 'Army11C4IBattalion 6:22 PM', 'Army11C4IBattalion 6:22 PM', 'Army11C4IBattalion 6:22 PM', 'Army11C4IBattalion 6:22 PM', 'Army11C4IBattalion 6:22 PM', 'Army11C4IBattalion 6:22 PM', 'Army11C4IBattalion 6:22 PM', 'Army11C4IBattalion 6:22 PM', 'Army11C4IBattalion 6:23 PM', 'Army11C4IBattalion 6:23 PM', 'Army11C4IBattalion 6:23 PM', 'Army11C4IBattalion 6:23 PM', 'Army11C4IBattalion 6:23 PM', 'Army11C4IBattalion 6:23 PM', 'Army11C4IBattalion 6:23 PM', 'Army11C4IBattalion 6:23 PM', 'Army11C4IBattalion 6:23 PM', 'Army11C4IBattalion 6:23 PM', 'Army11C4IBattalion 6:23 PM', 'Army11C4IBattalion 6:23 PM', 'Army11C4IBattalion 6:23 PM', 'Army11C4IBattalion 6:23 PM', 'Army11C4IBattalion 6:23 PM', 'Army11C4IBattalion 6:23 PM', 'Army11C4IBattalion 6:23 PM', 'Army11C4IBattalion 6:23 PM', 'Army17C4IBattalion 6:23 PM', 'Army17C4IBattalion 6:23 PM', 'Army17C4IBattalion 6:24 PM', 'Army17C4IBattalion 6:24 PM', 'Army17C4IBattalion 6:24 PM', 'Army17C4IBattalion 6:24 PM', 'Army17C4IBattalion 6:24 PM', 'Army17C4IBattalion 6:24 PM', 'Army17C4IBattalion 6:24 PM', 'Army17C4IBattalion 6:24 PM', 'Army17C4IBattalion 6:24 PM', 'Army17C4IBattalion 6:24 PM', 'Army17C4IBattalion 6:24 PM', 'Army17C4IBattalion 6:24 PM', 'Army17C4IBattalion 6:24 PM', 'Army17C4IBattalion 6:24 PM', 'Army17C4IBattalion 6:24 PM', 'Army17C4IBattalion 6:24 PM', 'Army17C4IBattalion 6:24 PM', 'Army17C4IBattalion 6:24 PM', 'Army17C4IBattalion 6:24 PM', 'Army17C4IBattalion 6:24 PM', 'Army17C4IBattalion 6:25 PM', 'Army17C4IBattalion 6:25 PM', 'Army17C4IBattalion 6:25 PM', 'Army17C4IBattalion 6:25 PM', 'Army17C4IBattalion 6:25 PM', 'Army17C4IBattalion 6:25 PM', 'Army17C4IBattalion 6:25 PM', 'Army17C4IBattalion 6:25 PM', 'ASME 6:25 PM', 'ASME 6:25 PM', 'ASME 6:25 PM', 'ASME 6:25 PM', 'ASME 6:25 PM', 'ASME 6:25 PM', 'ASME 6:25 PM', 'ASME 6:25 PM', 'ASME 6:25 PM', 'ASME 6:25 PM', 'ASME 6:25 PM', 'ASME 6:25 PM', 'ASME 6:26 PM', 'ASME 6:26 PM', 'ASME 6:26 PM', 'ASME 6:26 PM', 'ASME 6:26 PM', 'ASME 6:26 PM', 'ASME 6:26 PM', 'ASME 6:26 PM', 'ASME 6:26 PM', 'ASME 6:26 PM', 'ASME 6:26 PM', 'ASME 6:26 PM', 'ASME 6:26 PM', 'ASME 6:26 PM', 'ASME 6:26 PM', 'ASME 6:26 PM', 'ASME 6:26 PM', 'ASME 6:26 PM', 'ASME 6:26 PM', 'ASME 6:26 PM', 'ASME 6:27 PM', 'ASME 6:27 PM', 'ASME 6:27 PM', 'ASME 6:27 PM', 'DBSBankLtd 6:27 PM', 'DBSBankLtd 6:27 PM', 'DBSBankLtd 6:27 PM', 'DBSBankLtd 6:27 PM', 'DBSBankLtd 6:27 PM', 'DBSBankLtd 6:27 PM', 'DBSBankLtd 6:27 PM', 'DBSBankLtd 6:27 PM', 'DBSBankLtd 6:27 PM', 'DBSBankLtd 6:27 PM', 'DBSBankLtd 6:27 PM', 'DBSBankLtd 6:27 PM', 'DBSBankLtd 6:27 PM', 'DBSBankLtd 6:27 PM', 'DBSBankLtd 6:27 PM', 'DBSBankLtd 6:27 PM', 'DBSBankLtd 6:28 PM', 'DBSBankLtd 6:28 PM', 'DBSBankLtd 6:28 PM', 'DBSBankLtd 6:28 PM', 'DBSBankLtd 6:28 PM', 'DBSBankLtd 6:28 PM', 'DBSBankLtd 6:28 PM', 'DBSBankLtd 6:28 PM', 'DBSBankLtd 6:28 PM', 'DBSBankLtd 6:28 PM', 'DBSBankLtd 6:28 PM', 'DBSBankLtd 6:28 PM', 'DBSBankLtd 6:28 PM', 'DBSBankLtd 6:28 PM', 'DBSBankLtd 6:28 PM', 'DBSBankLtd 6:28 PM', 'DBSBankLtd 6:28 PM', 'DBSBankLtd 6:28 PM', 'DBSBankLtd 6:28 PM', 'DBSBankLtd 6:28 PM', 'FamiliesforLife 6:29 PM', 'FamiliesforLife 6:29 PM', 'FamiliesforLife 6:29 PM', 'FamiliesforLife 6:29 PM', 'FamiliesforLife 6:29 PM', 'FamiliesforLife 6:29 PM', 'FamiliesforLife 6:29 PM', 'FamiliesforLife 6:29 PM', 'FamiliesforLife 6:29 PM', 'FamiliesforLife 6:29 PM', 'FamiliesforLife 6:29 PM', 'FamiliesforLife 6:29 PM', 'FamiliesforLife 6:29 PM', 'FamiliesforLife 6:29 PM', 'FamiliesforLife 6:29 PM', 'FamiliesforLife 6:29 PM', 'FamiliesforLife 6:29 PM', 'FamiliesforLife 6:29 PM', 'FamiliesforLife 6:29 PM', 'FamiliesforLife 6:29 PM', 'FamiliesforLife 6:30 PM', 'FamiliesforLife 6:30 PM', 'FamiliesforLife 6:30 PM', 'FamiliesforLife 6:30 PM', 'FamiliesforLife 6:30 PM', 'FamiliesforLife 6:30 PM', 'FamiliesforLife 6:30 PM', 'FamiliesforLife 6:30 PM', 'FamiliesforLife 6:30 PM', 'GirlGuidesSingapore 6:30 PM', 'GirlGuidesSingapore 6:30 PM', 'GirlGuidesSingapore 6:30 PM', 'GirlGuidesSingapore 6:30 PM', 'GirlGuidesSingapore 6:30 PM', 'GirlGuidesSingapore 6:30 PM', 'GirlGuidesSingapore 6:30 PM', 'GirlGuidesSingapore 6:30 PM', 'GirlGuidesSingapore 6:30 PM', 'GirlGuidesSingapore 6:30 PM', 'GirlGuidesSingapore 6:30 PM', 'GirlGuidesSingapore 6:31 PM', 'GirlGuidesSingapore 6:31 PM', 'GirlGuidesSingapore 6:31 PM', 'GirlGuidesSingapore 6:31 PM', 'GirlGuidesSingapore 6:31 PM', 'GirlGuidesSingapore 6:31 PM', 'GirlGuidesSingapore 6:31 PM', 'GirlGuidesSingapore 6:31 PM', 'GirlGuidesSingapore 6:31 PM', 'GirlGuidesSingapore 6:31 PM', 'GirlGuidesSingapore 6:31 PM', 'GirlGuidesSingapore 6:31 PM', 'GirlGuidesSingapore 6:31 PM', 'GRAB 6:31 PM', 'GRAB 6:31 PM', 'GRAB 6:31 PM', 'GRAB 6:31 PM', 'GRAB 6:31 PM', 'GRAB 6:31 PM', 'GRAB 6:31 PM', 'GRAB 6:32 PM', 'GRAB 6:32 PM', 'GRAB 6:32 PM', 'GRAB 6:32 PM', 'GRAB 6:32 PM', 'GRAB 6:32 PM', 'GRAB 6:32 PM', 'GRAB 6:32 PM', 'GRAB 6:32 PM', 'GRAB 6:32 PM', 'GRAB 6:32 PM', 'GRAB 6:32 PM', 'GRAB 6:32 PM', 'GRAB 6:32 PM', 'GRAB 6:32 PM', 'GRAB 6:32 PM', 'GRAB 6:32 PM', 'GRAB 6:32 PM', 'GRAB 6:32 PM', 'GRAB 6:32 PM', 'GRAB 6:33 PM', 'GRAB 6:33 PM', 'GRAB 6:33 PM', 'GRAB 6:33 PM', 'GRAB 6:33 PM', 'GRAB 6:33 PM', 'GRAB 6:33 PM', 'KeppelCorporationLtd 6:33 PM', 'KeppelCorporationLtd 6:33 PM', 'KeppelCorporationLtd 6:33 PM', 'KeppelCorporationLtd 6:33 PM', 'KeppelCorporationLtd 6:33 PM', 'KeppelCorporationLtd 6:33 PM', 'KeppelCorporationLtd 6:33 PM', 'KeppelCorporationLtd 6:33 PM', 'KeppelCorporationLtd 6:33 PM', 'KeppelCorporationLtd 6:33 PM', 'KeppelCorporationLtd 6:33 PM', 'KeppelCorporationLtd 6:33 PM', 'KeppelCorporationLtd 6:33 PM', 'KeppelCorporationLtd 6:34 PM', 'KeppelCorporationLtd 6:34 PM', 'KeppelCorporationLtd 6:34 PM', 'KeppelCorporationLtd 6:34 PM', 'KeppelCorporationLtd 6:34 PM', 'KeppelCorporationLtd 6:34 PM', 'KeppelCorporationLtd 6:34 PM', 'KeppelCorporationLtd 6:34 PM', 'KeppelCorporationLtd 6:34 PM', 'KeppelCorporationLtd 6:34 PM', 'KeppelCorporationLtd 6:34 PM', 'KeppelCorporationLtd 6:34 PM', 'KeppelCorporationLtd 6:34 PM', 'KeppelCorporationLtd 6:34 PM', 'KeppelCorporationLtd 6:34 PM', 'MaritimeSingapore 6:34 PM', 'MaritimeSingapore 6:34 PM', 'MaritimeSingapore 6:34 PM', 'MaritimeSingapore 6:34 PM', 'MaritimeSingapore 6:34 PM', 'MaritimeSingapore 6:35 PM', 'MaritimeSingapore 6:35 PM', 'MaritimeSingapore 6:35 PM', 'MaritimeSingapore 6:35 PM', 'MaritimeSingapore 6:35 PM', 'MaritimeSingapore 6:35 PM', 'MaritimeSingapore 6:35 PM', 'MaritimeSingapore 6:35 PM', 'MaritimeSingapore 6:35 PM', 'MaritimeSingapore 6:35 PM', 'MaritimeSingapore 6:35 PM', 'MaritimeSingapore 6:35 PM', 'MaritimeSingapore 6:35 PM', 'MaritimeSingapore 6:35 PM', 'MaritimeSingapore 6:35 PM', 'MaritimeSingapore 6:35 PM', 'MaritimeSingapore 6:35 PM', 'MaritimeSingapore 6:35 PM', 'MaritimeSingapore 6:35 PM', 'MaritimeSingapore 6:35 PM', 'MaritimeSingapore 6:36 PM', 'MaritimeSingapore 6:36 PM', 'MaritimeSingapore 6:36 PM', 'MaritimeSingapore 6:36 PM', 'MaritimeSingapore 6:36 PM', 'NationalCadetCorpsLandAir 6:36 PM', 'NationalCadetCorpsLandAir 6:36 PM', 'NationalCadetCorpsLandAir 6:36 PM', 'NationalCadetCorpsLandAir 6:36 PM', 'NationalCadetCorpsLandAir 6:36 PM', 'NationalCadetCorpsLandAir 6:36 PM', 'NationalCadetCorpsLandAir 6:36 PM', 'NationalCadetCorpsLandAir 6:36 PM', 'NationalCadetCorpsLandAir 6:36 PM', 'NationalCadetCorpsLandAir 6:36 PM', 'NationalCadetCorpsLandAir 6:36 PM', 'NationalCadetCorpsLandAir 6:36 PM', 'NationalCadetCorpsLandAir 6:36 PM', 'NationalCadetCorpsLandAir 6:36 PM', 'NationalCadetCorpsLandAir 6:36 PM', 'NationalCadetCorpsLandAir 6:37 PM', 'NationalCadetCorpsLandAir 6:37 PM', 'NationalCadetCorpsLandAir 6:37 PM', 'NationalCadetCorpsLandAir 6:37 PM', 'NationalCadetCorpsLandAir 6:37 PM', 'NationalCadetCorpsLandSea 6:37 PM', 'NationalCadetCorpsLandSea 6:37 PM', 'NationalCadetCorpsLandSea 6:37 PM', 'NationalCadetCorpsLandSea 6:37 PM', 'NationalCadetCorpsLandSea 6:37 PM', 'NationalCadetCorpsLandSea 6:37 PM', 'NationalCadetCorpsLandSea 6:37 PM', 'NationalCadetCorpsLandSea 6:37 PM', 'NationalCadetCorpsLandSea 6:37 PM', 'NationalCadetCorpsLandSea 6:37 PM', 'NationalCadetCorpsLandSea 6:37 PM', 'NationalCadetCorpsLandSea 6:37 PM', 'NationalCadetCorpsLandSea 6:37 PM', 'NationalCadetCorpsLandSea 6:37 PM', 'NationalCadetCorpsLandSea 6:37 PM', 'NationalCadetCorpsLandSea 6:38 PM', 'NationalCadetCorpsLandSea 6:38 PM', 'NationalCadetCorpsLandSea 6:38 PM', 'NationalCadetCorpsLandSea 6:38 PM', 'NationalCadetCorpsLandSea 6:38 PM', 'NationalCadetCorpsLandSea 6:38 PM', 'NationalCadetCorpsLandSea 6:38 PM', 'NationalCadetCorpsLandSea 6:38 PM', 'NationalCadetCorpsLandSea 6:38 PM', 'NationalCadetCorpsLandSea 6:38 PM', 'NationalCadetCorpsLandSea 6:38 PM', 'NationalCadetCorpsLandSea 6:38 PM', 'NationalCadetCorpsLandSea 6:38 PM', 'NationalCadetCorpsLandSea 6:38 PM', 'NationalCadetCorpsLandSea 6:38 PM', 'NationalCadetCorpsLandSea 6:38 PM', 'NationalCivilDefenceCadetCorps 6:38 PM', 'NationalCivilDefenceCadetCorps 6:38 PM', 'NationalCivilDefenceCadetCorps 6:38 PM', 'NationalCivilDefenceCadetCorps 6:38 PM', 'NationalCivilDefenceCadetCorps 6:39 PM', 'NationalCivilDefenceCadetCorps 6:39 PM', 'NationalCivilDefenceCadetCorps 6:39 PM', 'NationalCivilDefenceCadetCorps 6:39 PM', 'NationalCivilDefenceCadetCorps 6:39 PM', 'NationalCivilDefenceCadetCorps 6:39 PM', 'NationalCivilDefenceCadetCorps 6:39 PM', 'NationalCivilDefenceCadetCorps 6:39 PM', 'NationalCivilDefenceCadetCorps 6:39 PM', 'NationalCivilDefenceCadetCorps 6:39 PM', 'NationalCivilDefenceCadetCorps 6:39 PM', 'NationalCivilDefenceCadetCorps 6:39 PM', 'NationalCivilDefenceCadetCorps 6:39 PM', 'NationalCivilDefenceCadetCorps 6:39 PM', 'NationalCivilDefenceCadetCorps 6:39 PM', 'NationalCivilDefenceCadetCorps 6:39 PM', 'NationalCivilDefenceCadetCorps 6:39 PM', 'NationalCivilDefenceCadetCorps 6:39 PM', 'NationalCivilDefenceCadetCorps 6:39 PM', 'NationalCivilDefenceCadetCorps 6:39 PM', 'NationalCivilDefenceCadetCorps 6:40 PM', 'NationalCivilDefenceCadetCorps 6:40 PM', 'NationalCivilDefenceCadetCorps 6:40 PM', 'NationalCivilDefenceCadetCorps 6:40 PM', 'NationalCivilDefenceCadetCorps 6:40 PM', 'NationalCivilDefenceCadetCorps 6:40 PM', 'NationalCivilDefenceCadetCorps 6:40 PM', 'NationalCivilDefenceCadetCorps 6:40 PM', 'NationalCivilDefenceCadetCorps 6:40 PM', 'NationalCivilDefenceCadetCorps 6:40 PM', 'NationalCivilDefenceCadetCorps 6:40 PM', 'NationalCivilDefenceCadetCorps 6:40 PM', 'NationalCivilDefenceCadetCorps 6:40 PM', 'NationalPoliceCadetCorps 6:40 PM', 'NationalPoliceCadetCorps 6:40 PM', 'NationalPoliceCadetCorps 6:40 PM', 'NationalPoliceCadetCorps 6:40 PM', 'NationalPoliceCadetCorps 6:40 PM', 'NationalPoliceCadetCorps 6:40 PM', 'NationalPoliceCadetCorps 6:40 PM', 'NationalPoliceCadetCorps 6:41 PM', 'NationalPoliceCadetCorps 6:41 PM', 'NationalPoliceCadetCorps 6:41 PM', 'NationalPoliceCadetCorps 6:41 PM', 'NationalPoliceCadetCorps 6:41 PM', 'NationalPoliceCadetCorps 6:41 PM', 'NationalPoliceCadetCorps 6:41 PM', 'NationalPoliceCadetCorps 6:41 PM', 'NationalPoliceCadetCorps 6:41 PM', 'NationalPoliceCadetCorps 6:41 PM', 'NationalPoliceCadetCorps 6:41 PM', 'NationalPoliceCadetCorps 6:41 PM', 'NationalPoliceCadetCorps 6:41 PM', 'NationalPoliceCadetCorps 6:41 PM', 'NationalPoliceCadetCorps 6:41 PM', 'NationalPoliceCadetCorps 6:41 PM', 'NationalPoliceCadetCorps 6:41 PM', 'NationalPoliceCadetCorps 6:41 PM', 'NationalPoliceCadetCorps 6:41 PM', 'NationalPoliceCadetCorps 6:41 PM', 'NationalPoliceCadetCorps 6:42 PM', 'NationalPoliceCadetCorps 6:42 PM', 'NationalPoliceCadetCorps 6:42 PM', 'NationalPoliceCadetCorps 6:42 PM', 'NationalTradesUnionCongressNTUC 6:42 PM', 'NationalTradesUnionCongressNTUC 6:42 PM', 'NationalTradesUnionCongressNTUC 6:42 PM', 'NationalTradesUnionCongressNTUC 6:42 PM', 'NationalTradesUnionCongressNTUC 6:42 PM', 'NationalTradesUnionCongressNTUC 6:42 PM', 'NationalTradesUnionCongressNTUC 6:42 PM', 'NationalTradesUnionCongressNTUC 6:42 PM', 'NationalTradesUnionCongressNTUC 6:42 PM', 'NationalTradesUnionCongressNTUC 6:42 PM', 'NationalTradesUnionCongressNTUC 6:42 PM', 'NationalTradesUnionCongressNTUC 6:42 PM', 'NationalTradesUnionCongressNTUC 6:42 PM', 'NationalTradesUnionCongressNTUC 6:42 PM', 'NationalTradesUnionCongressNTUC 6:42 PM', 'NationalTradesUnionCongressNTUC 6:42 PM', 'NationalTradesUnionCongressNTUC 6:43 PM', 'NationalTradesUnionCongressNTUC 6:43 PM', 'NationalTradesUnionCongressNTUC 6:43 PM', 'NationalTradesUnionCongressNTUC 6:43 PM', 'NationalTradesUnionCongressNTUC 6:43 PM', 'NationalTradesUnionCongressNTUC 6:43 PM', 'NationalTradesUnionCongressNTUC 6:43 PM', 'NationalTradesUnionCongressNTUC 6:43 PM', 'NationalTradesUnionCongressNTUC 6:43 PM', 'NationalTradesUnionCongressNTUC 6:43 PM', 'NationalTradesUnionCongressNTUC 6:43 PM', 'NationalTradesUnionCongressNTUC 6:43 PM', 'NationalTradesUnionCongressNTUC 6:43 PM', 'NationalTradesUnionCongressNTUC 6:43 PM', 'NationalTradesUnionCongressNTUC 6:43 PM', 'NationalTradesUnionCongressNTUC 6:43 PM', 'NationalTradesUnionCongressNTUC 6:43 PM', 'NationalTradesUnionCongressNTUC 6:43 PM', 'OSIMInternationalLtd 6:43 PM', 'OSIMInternationalLtd 6:43 PM', 'OSIMInternationalLtd 6:44 PM', 'OSIMInternationalLtd 6:44 PM', 'OSIMInternationalLtd 6:44 PM', 'OSIMInternationalLtd 6:44 PM', 'OSIMInternationalLtd 6:44 PM', 'OSIMInternationalLtd 6:44 PM', 'OSIMInternationalLtd 6:44 PM', 'OSIMInternationalLtd 6:44 PM', 'OSIMInternationalLtd 6:44 PM', 'OSIMInternationalLtd 6:44 PM', 'OSIMInternationalLtd 6:44 PM', 'OSIMInternationalLtd 6:44 PM', 'OSIMInternationalLtd 6:44 PM', 'OSIMInternationalLtd 6:44 PM', 'OSIMInternationalLtd 6:44 PM', 'OSIMInternationalLtd 6:44 PM', 'OSIMInternationalLtd 6:44 PM', 'OSIMInternationalLtd 6:44 PM', 'OSIMInternationalLtd 6:44 PM', 'OSIMInternationalLtd 6:44 PM', 'OSIMInternationalLtd 6:45 PM', 'OSIMInternationalLtd 6:45 PM', 'OSIMInternationalLtd 6:45 PM', 'OSIMInternationalLtd 6:45 PM', 'OSIMInternationalLtd 6:45 PM', 'OSIMInternationalLtd 6:45 PM', 'OSIMInternationalLtd 6:45 PM', 'OSIMInternationalLtd 6:45 PM', 'OSIMInternationalLtd 6:45 PM', 'PAPPCF 6:45 PM', 'PAPPCF 6:45 PM', 'PAPPCF 6:45 PM', 'PAPPCF 6:45 PM', 'PAPPCF 6:45 PM', 'PAPPCF 6:45 PM', 'PAPPCF 6:45 PM', 'PAPPCF 6:45 PM', 'PAPPCF 6:45 PM', 'PAPPCF 6:45 PM', 'PAPPCF 6:45 PM', 'PAPPCF 6:46 PM', 'PAPPCF 6:46 PM', 'PAPPCF 6:46 PM', 'PAPPCF 6:46 PM', 'PAPPCF 6:46 PM', 'PAPPCF 6:46 PM', 'PAPPCF 6:46 PM', 'PAPPCF 6:46 PM', 'PAPPCF 6:46 PM', 'PAPPCF 6:46 PM']\n",
      "Army10C4IBattalion 6:20 PM\n"
     ]
    }
   ],
   "source": [
    "# Task 2.2\n",
    "import csv\n",
    "def simulate(filename, threshold):\n",
    "    ob = CircularQueue(threshold)\n",
    "    with open('marching.csv') as f:  # auto close\n",
    "        reader = csv.reader(f)\n",
    "        for row in reader:\n",
    "            r = ob.enqueue(f'{row[1]} {row[3]}')  # insert army name and exit time\n",
    "            if r == 'Cannot enqueue: Queue is full.':\n",
    "                print(' '.join(ob.queue[ob.front].split()[1:]), row[2])\n",
    "                print(ob.queue)\n",
    "                if ' '.join(ob.queue[ob.front].split()[1:]) < row[2]:  # check the exit time VS entry time if queue is full\n",
    "                    print(ob.dequeue())\n",
    "                    ob.enqueue(f'{row[1]} {row[3]}')\n",
    "                else:\n",
    "                    print(f'Platform full at {row[2]} when {row[1]} is entering.')\n",
    "                    \n",
    "simulate('marching.csv', 530)"
   ]
  }
 ],
 "metadata": {
  "colab": {
   "authorship_tag": "ABX9TyOTkXHZ2SudBL6/hRYpMzcJ",
   "collapsed_sections": [],
   "provenance": []
  },
  "kernelspec": {
   "display_name": "Python 3 (ipykernel)",
   "language": "python",
   "name": "python3"
  },
  "language_info": {
   "codemirror_mode": {
    "name": "ipython",
    "version": 3
   },
   "file_extension": ".py",
   "mimetype": "text/x-python",
   "name": "python",
   "nbconvert_exporter": "python",
   "pygments_lexer": "ipython3",
   "version": "3.9.13"
  }
 },
 "nbformat": 4,
 "nbformat_minor": 1
}
