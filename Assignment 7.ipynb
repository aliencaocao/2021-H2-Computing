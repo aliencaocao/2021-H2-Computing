{
 "cells": [
  {
   "cell_type": "code",
   "execution_count": 1,
   "metadata": {
    "collapsed": true
   },
   "outputs": [
    {
     "name": "stdout",
     "output_type": "stream",
     "text": [
      "Mode: 6\n",
      "Median: 5.0\n"
     ]
    }
   ],
   "source": [
    "import statistics\n",
    "with open('A7 Q1', 'r') as f:\n",
    "    numbers = f.read().splitlines()\n",
    "numbers = [float(x) for x in numbers]\n",
    "print('Mode:', statistics.mode(numbers))\n",
    "print('Median:', statistics.median(numbers))"
   ]
  },
  {
   "cell_type": "code",
   "execution_count": 2,
   "outputs": [
    {
     "name": "stdout",
     "output_type": "stream",
     "text": [
      "No of lines in file is 7\n",
      "hello\n",
      "i\n",
      "am\n",
      "a\n",
      "a\n",
      "human\n",
      "haha\n",
      "Please enter a valid line number\n",
      "Please enter a valid line number\n"
     ]
    }
   ],
   "source": [
    "fileName = input('Enter the file name: ')\n",
    "with open(fileName, 'r') as f:\n",
    "    lines = f.read().splitlines()\n",
    "print('No of lines in file is', len(lines))\n",
    "stop = False\n",
    "while not stop:\n",
    "    lineNum = int(input(f'Enter a line number between 1 to {len(lines)}: '))\n",
    "    if lineNum == 0:\n",
    "        stop = True\n",
    "    elif lineNum <= len(lines):\n",
    "        print(lines[lineNum-1]) # list start from 0\n",
    "    else:\n",
    "        print('Please enter a valid line number')"
   ],
   "metadata": {
    "collapsed": false,
    "pycharm": {
     "name": "#%%\n"
    }
   }
  },
  {
   "cell_type": "code",
   "execution_count": 3,
   "outputs": [
    {
     "name": "stdout",
     "output_type": "stream",
     "text": [
      "a, am, haha, hello, human, i\n",
      "\n",
      "a: 2\n",
      "am: 1\n",
      "haha: 1\n",
      "hello: 1\n",
      "human: 1\n",
      "i: 1\n",
      "\n",
      "Most frequent word is/are a\n"
     ]
    }
   ],
   "source": [
    "# part a\n",
    "with open('A7 Q2', 'r') as f:\n",
    "    words = f.read().splitlines()\n",
    "unique_sorted = sorted(list(dict.fromkeys(words)))\n",
    "print(\", \".join(unique_sorted))\n",
    "\n",
    "# part b\n",
    "print()\n",
    "wordCount = {}\n",
    "for word in lines:\n",
    "    wordCount[word] = wordCount.get(word, 0) + 1  # Assign 0 if not counted yet\n",
    "for word in sorted(wordCount.keys()):\n",
    "    print(f'{word}: {wordCount[word]}')\n",
    "\n",
    "# part c\n",
    "print()\n",
    "words, counts = [], []\n",
    "for word, count in wordCount.items():\n",
    "    # make parallel list\n",
    "    words += [word]\n",
    "    counts += [int(count)]\n",
    "maxCount = max(counts)\n",
    "mostFreqWords = []\n",
    "for word, count in wordCount.items():\n",
    "    if count == maxCount:\n",
    "        mostFreqWords += [word]\n",
    "print(f'Most frequent word is/are {\", \".join(sorted(mostFreqWords))}')\n"
   ],
   "metadata": {
    "collapsed": false,
    "pycharm": {
     "name": "#%%\n"
    }
   }
  }
 ],
 "metadata": {
  "kernelspec": {
   "display_name": "Python 3",
   "language": "python",
   "name": "python3"
  },
  "language_info": {
   "codemirror_mode": {
    "name": "ipython",
    "version": 2
   },
   "file_extension": ".py",
   "mimetype": "text/x-python",
   "name": "python",
   "nbconvert_exporter": "python",
   "pygments_lexer": "ipython2",
   "version": "2.7.6"
  }
 },
 "nbformat": 4,
 "nbformat_minor": 0
}