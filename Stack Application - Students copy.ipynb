{
 "cells": [
  {
   "cell_type": "markdown",
   "metadata": {},
   "source": [
    "\n",
    "## Stack Applications\n",
    "\n",
    "Copy and paste your ArrayStack class (code from previous exercise) and run it."
   ]
  },
  {
   "cell_type": "code",
   "execution_count": 2,
   "metadata": {},
   "outputs": [],
   "source": [
    "class ArrayStack:\n",
    "   def __init__(self):\n",
    "       self.items = []\n",
    "   def push(self, item):\n",
    "       self.items.insert(0, item)\n",
    "   def pop(self):\n",
    "       return self.items.pop(0)"
   ]
  },
  {
   "cell_type": "markdown",
   "metadata": {},
   "source": [
    "Copy and paste your ArrayStack2 class (code from previous exercise) and run it."
   ]
  },
  {
   "cell_type": "code",
   "execution_count": 3,
   "metadata": {},
   "outputs": [],
   "source": [
    "class ArrayStack2(ArrayStack):\n",
    "    def isEmpty(self):\n",
    "       return len(self.items) == 0\n",
    "    def size(self):\n",
    "       return len(self.items)\n",
    "    def peek(self):\n",
    "        if self.items:\n",
    "            return self.items[0]\n",
    "        else:\n",
    "            raise Exception(\"Stack is empty\")\n"
   ]
  },
  {
   "cell_type": "markdown",
   "metadata": {},
   "source": [
    "Copy and paste your Node class (code from previous exercise) and run it."
   ]
  },
  {
   "cell_type": "code",
   "execution_count": 4,
   "metadata": {},
   "outputs": [
    {
     "name": "stdout",
     "output_type": "stream",
     "text": [
      "1\n",
      "\n"
     ]
    }
   ],
   "source": [
    "class Node:\n",
    "    def __init__(self, data, nxt=None):\n",
    "        self._data = data\n",
    "        self._next = nxt\n",
    "\n",
    "    def getData(self):\n",
    "        return self._data\n",
    "\n",
    "    def getNext(self):\n",
    "        return self._next\n",
    "\n",
    "    def setData(self, data):\n",
    "        self._data = data\n",
    "\n",
    "    def setNext(self, node):\n",
    "        self._next = node\n",
    "\n",
    "    def __str__(self):\n",
    "        result = f'Data: {self.getData()}'\n",
    "        if self.getNext():\n",
    "            result += f'\\nNext: {self.getNext().getData()}'\n",
    "        else:\n",
    "            result += '\\nNext: None'\n",
    "        return result\n",
    "\n",
    "class LinkedList:\n",
    "    def __init__(self):\n",
    "        self._head = None\n",
    "        self._tail = None\n",
    "\n",
    "    def isEmpty(self):\n",
    "        return self._head is None\n",
    "\n",
    "    def create_from_list(self, data):\n",
    "        for i in data:\n",
    "            self.append(i)\n",
    "\n",
    "    def peek(self):\n",
    "        return self._head.getData()\n",
    "\n",
    "    def search(self, data):\n",
    "        current = self._head\n",
    "        while current:\n",
    "            if current.getData() == data:\n",
    "                return current\n",
    "            current = current.getNext()\n",
    "        return False\n",
    "\n",
    "    def append(self, data):\n",
    "        node = Node(data)\n",
    "        if self.isEmpty():\n",
    "            self._head = node\n",
    "            self._tail = node\n",
    "        else:\n",
    "            self._tail.setNext(node)\n",
    "            self._tail = node\n",
    "\n",
    "    def prepend(self, data):\n",
    "        node = Node(data)\n",
    "        if self.isEmpty():\n",
    "            self._head = node\n",
    "            self._tail = node\n",
    "        else:\n",
    "            node.setNext(self._head)\n",
    "            self._head = node\n",
    "\n",
    "    def insert(self, index, data):\n",
    "        '''Returns a boolean indicating success or failure'''\n",
    "        if self.isEmpty():\n",
    "            self._head = Node(data)\n",
    "            return True\n",
    "        if index == 0:\n",
    "            self.prepend(data)\n",
    "            return True\n",
    "        current = self._head\n",
    "        for i in range(index-1):\n",
    "            current = current.getNext()\n",
    "        node = Node(data)\n",
    "        node.setNext(current.getNext())\n",
    "        current.setNext(node)  # must set next after setting new node's next else it will be overriden\n",
    "        return True\n",
    "\n",
    "    def remove(self, index):\n",
    "        '''Returns a boolean indicating success or failure'''\n",
    "        if self.isEmpty():\n",
    "            return False\n",
    "        if index == 0:\n",
    "            self._head = self._head.getNext()\n",
    "            return True\n",
    "        current = self._head\n",
    "        for i in range(index-1):  # stop at one node before target\n",
    "            current = current.getNext()\n",
    "        current.setNext(current.getNext().getNext())  # skip the node at index\n",
    "        return True\n",
    "\n",
    "    def replace(self, data_or_index_to_be_replaced, new_data, mode='data'):\n",
    "        '''Mode can be data or index, default data\n",
    "        Returns a boolean indicating success or fail'''\n",
    "        assert mode in ['data', 'index'], 'Mode must be data or index'\n",
    "        current = self._head\n",
    "        counter = 0\n",
    "        found = True\n",
    "        while current:\n",
    "            if mode == 'data' and current.getData() == data_or_index_to_be_replaced:\n",
    "                current.setData(new_data)\n",
    "                found = True\n",
    "            elif mode == 'index' and isinstance(data_or_index_to_be_replaced, int) and counter == data_or_index_to_be_replaced:\n",
    "                current.setData(new_data)\n",
    "                found = True\n",
    "            current = current.getNext()\n",
    "            counter += 1\n",
    "        if found:\n",
    "            return True\n",
    "        else:\n",
    "            return False\n",
    "\n",
    "    def __getitem__(self, index):\n",
    "        '''Allows python-like list index access'''\n",
    "        current = self._head\n",
    "        for i in range(index):\n",
    "            current = current.getNext()\n",
    "        return current.getData()\n",
    "\n",
    "    def __setitem__(self, index, value):\n",
    "        '''Allows python-like list index access'''\n",
    "        self.replace(index, value, mode='index')\n",
    "\n",
    "    def __delitem__(self, index):\n",
    "        '''Allows python-like list index access'''\n",
    "        self.remove(index)\n",
    "\n",
    "    def __len__(self):\n",
    "        counter = 0\n",
    "        current = self._head\n",
    "        while current:\n",
    "            counter += 1\n",
    "            current = current.getNext()\n",
    "        return counter\n",
    "\n",
    "    def __str__(self):\n",
    "        result = ''\n",
    "        current = self._head\n",
    "        while current:\n",
    "            result += f'{current.getData()}\\n'\n",
    "            current = current.getNext()\n",
    "        return result\n",
    "\n",
    "\n",
    "class LinkedListStack:\n",
    "    def __init__(self):\n",
    "         self._stack = LinkedList()\n",
    "\n",
    "    def push(self, data):\n",
    "        self._stack.prepend(data)  # stack is last in first out so prepend on top\n",
    "\n",
    "    def pop(self):\n",
    "        \"\"\"Returns the data that got removed\"\"\"\n",
    "        return self._stack.remove(0)  # first out so always remove first element\n",
    "\n",
    "    def isEmpty(self):\n",
    "        return self._stack.isEmpty()\n",
    "\n",
    "    def peek(self):\n",
    "        return self._stack.peek()\n",
    "\n",
    "    def __str__(self):\n",
    "        return str(self._stack)\n",
    "\n",
    "\n",
    "stack4 = LinkedListStack()\n",
    "stack4.push(1)\n",
    "stack4.push(2)\n",
    "stack4.pop()\n",
    "print(stack4)  # should be 1"
   ]
  },
  {
   "cell_type": "markdown",
   "metadata": {},
   "source": [
    "Copy and paste your LinkedListStack class (code from previous exercise) and run it."
   ]
  },
  {
   "cell_type": "markdown",
   "metadata": {},
   "source": [
    "### Exercise 6\n",
    "\n",
    "Implement a function `check_matching_symbols()`, which checks whether a string contains matching openning and closing symbols for `([{` and `}])`.\n",
    "* It return True if all symbols in string are balanced, else it returns false.\n",
    "* Use `ArrayStack2` class and `LinkedListStack` for the implementation.\n",
    "\n",
    "#### How it works\n",
    "* Read characters from the string one at a time\n",
    "* If you encounter an opening delimiter [,{,(, place it on a stack\n",
    "* if you encounter a closing delimiter, pop the item from the top of the stack\n",
    "* in case they don't match (the opening and closing delimiter), then the symbols do not match."
   ]
  },
  {
   "cell_type": "code",
   "execution_count": 38,
   "metadata": {},
   "outputs": [
    {
     "name": "stdout",
     "output_type": "stream",
     "text": [
      "True\n",
      "True\n",
      "False\n",
      "True\n",
      "True\n",
      "False\n",
      "True\n"
     ]
    }
   ],
   "source": [
    "stack1 = ArrayStack2()\n",
    "def check_matching_symbols(string):  #use ArrayStack2\n",
    "    assert isinstance(string, str), 'Input must be a string'\n",
    "    open_str = '([{'\n",
    "    close_str = ')]}'\n",
    "    flag = None\n",
    "    for i in string:\n",
    "        if i in open_str:\n",
    "            stack1.push(i)\n",
    "        elif i in close_str:\n",
    "            if stack1.isEmpty():\n",
    "                flag = False\n",
    "            elif i != close_str[open_str.index(stack1.peek())]:\n",
    "                flag = False\n",
    "            else:\n",
    "                stack1.pop()\n",
    "                flag = True\n",
    "    return flag\n",
    "    \n",
    "    \n",
    "stack2 = LinkedListStack()\n",
    "def check_matching_symbols2(string):   #use LinkedListStack\n",
    "    assert isinstance(string, str), 'Input must be a string'\n",
    "    open_str = '([{'\n",
    "    close_str = ')]}'\n",
    "    flag = None\n",
    "    for i in string:\n",
    "        if i in open_str:\n",
    "            stack2.push(i)\n",
    "        elif i in close_str:\n",
    "            if stack2.isEmpty():\n",
    "                flag = False\n",
    "            elif i != close_str[open_str.index(stack2.peek())]:\n",
    "                flag = False\n",
    "            else:\n",
    "                stack2.pop()\n",
    "                flag = True\n",
    "    return flag\n",
    "\n",
    "##Test\n",
    "print(check_matching_symbols2('(ab[c]d{e(f)})'))\n",
    "print(check_matching_symbols2('(ab[c]d{ef)})'))\n",
    "print(check_matching_symbols2(')ab[c]d{e(f)})'))\n",
    "print(check_matching_symbols2('(ab[c]d{e(f)})'))\n",
    "print(check_matching_symbols2('(ab[c]d{ef)})'))\n",
    "print(check_matching_symbols2(')ab[c]d{e(f)})'))\n",
    "print(check_matching_symbols2('{}'))"
   ]
  },
  {
   "cell_type": "markdown",
   "metadata": {},
   "source": [
    "### Exercise 7\n",
    "Implement a function `infixToPostfix(infixExpression)`, which convert an infix expression to an postfix expression.\n",
    "\n",
    "* It takes in a Infix expression\n",
    "* It returns a Postfix expression.\n",
    "* Use either stack class for the implementation.\n",
    "\n",
    "#### How it works\n",
    "* Create an empty stack called opstack for keeping operators. \n",
    "* Create an empty list for output.\n",
    "* Scan the infix expression from left to right.\n",
    "    * If the token is an operand, append to the output list.\n",
    "    * If the token is a left parenthesis, push it into the opstack.\n",
    "    * If the token is a right parenthesis, pop the opstack until the corresponding left parenthesis is removed. \n",
    "    * Append each operator (except the left parenthesis) to the output list.\n",
    "    * If the token is an operator, *, /, +, or , remove all operators in the opstack that have higher or equal predence and append them to the output list and push the token into the opstack\n",
    "* When the infix expression has been completely processed, check the opstack. Any operators still on the stack can be removed and appended to the end of the output list.\n"
   ]
  },
  {
   "cell_type": "code",
   "execution_count": null,
   "metadata": {},
   "outputs": [],
   "source": [
    "def infixToPostfix(infixExpression):\n",
    "    \n",
    "    \n",
    "    \n",
    "#Test"
   ]
  },
  {
   "cell_type": "markdown",
   "metadata": {},
   "source": [
    "### Exercise 8\n",
    "Implement a function `evalPostfix(postfixExpression)`, which evaluate a postfix expression.\n",
    "\n",
    "* It takes in a postfix expression\n",
    "* It returns the evaluated value.\n",
    "* Use either stack class for the implementation.\n",
    "\n",
    "#### How it works\n",
    "* Scan across the postfix expression from left to right\n",
    "    * On encountering an operator\n",
    "        * apply it to the two preceding operands; \n",
    "        * replace all three by the result\n",
    "* Continue scanning until you reach expression’s end\n",
    "    at which point only the expression’s value remains \n",
    "    \n",
    "#### Algorithm\n",
    "```\n",
    "Create a new stack \n",
    "While there are more tokens in the expression \n",
    "    Get the next token   \n",
    "    If the token is an operand  \n",
    "        Push the operand onto the stack   \n",
    "    Else  \n",
    "        If the token is an operator \n",
    "            Pop the top-two operands from the stack \n",
    "            Apply the operator to the two operands just popped \n",
    "            Push the resulting value onto the stack \n",
    "        EndIf\n",
    "    EndIf\n",
    "EndWhile \n",
    "Return the value at the top of the stack   \n",
    "```"
   ]
  },
  {
   "cell_type": "code",
   "execution_count": 3,
   "metadata": {},
   "outputs": [
    {
     "name": "stdout",
     "output_type": "stream",
     "text": [
      "117\n"
     ]
    }
   ],
   "source": [
    "def evalPostfix(postFix):\n",
    "    #### write your code here\n",
    "\n",
    "print(evalPostfix(postFix))"
   ]
  },
  {
   "cell_type": "markdown",
   "metadata": {},
   "source": [
    "### Tutorial Questions\n",
    "### Exercise 9 \n",
    "#### Totorial 10BQ1\n",
    "\n",
    "Write a program that uses a stack to test input strings to determine whether they are palindromes. A palindrome is a sequence of words that reads the same as the sequence in reverse: for example, the word  ***madam***  or the sentence \n",
    "***rats live on no evil star***."
   ]
  },
  {
   "cell_type": "code",
   "execution_count": 20,
   "metadata": {},
   "outputs": [
    {
     "data": {
      "text/plain": "True"
     },
     "execution_count": 20,
     "metadata": {},
     "output_type": "execute_result"
    }
   ],
   "source": [
    "# stack3 = ArrayStack()\n",
    "#\n",
    "# def isPalindrome(stringxx):\n",
    "#     for i in stringxx: stack3.push(i)\n",
    "#     return all([False if stack3.pop() != stringxx[i] else True for i in range(len(stringxx)//2)])\n",
    "#\n",
    "# isPalindrome('rats live on no evil star')\n",
    "\n",
    "stack3 = ArrayStack()\n",
    "\n",
    "def isPalindrome(stringxx):\n",
    "    assert isinstance(stringxx, str), 'Input must be a string'\n",
    "    for i in stringxx:\n",
    "        stack3.push(i)\n",
    "    flag = True\n",
    "    for i in range(len(stringxx)//2):\n",
    "        if stack3.pop() != stringxx[i]:\n",
    "            flag = False\n",
    "    return flag\n",
    "\n",
    "isPalindrome('rats live on no evil star')"
   ]
  },
  {
   "cell_type": "markdown",
   "metadata": {},
   "source": [
    "### Exercise 10 \n",
    "#### Totorial 10BQ2\n",
    "\n",
    "Write a function  ***def  selectItem (s,  n):***\n",
    "that uses stack operations to find the first occurrence of *integer n* on *stack s* and move it to the top of the stack.  Maintain ordering for all other elements.   "
   ]
  },
  {
   "cell_type": "code",
   "execution_count": null,
   "metadata": {},
   "outputs": [
    {
     "name": "stdout",
     "output_type": "stream",
     "text": [
      " 13\n",
      " 14 13\n",
      " 9 14 13\n",
      " 6 9 14 13\n",
      " 3 6 9 14 13\n",
      " 3 6 9 14 13\n",
      " 15 3 6 9 14 13\n",
      " 1 15 3 6 9 14 13\n",
      " 10 1 15 3 6 9 14 13\n",
      " 19 10 1 15 3 6 9 14 13\n"
     ]
    }
   ],
   "source": [
    "import random \n",
    "def selectItem(s, n):  \n",
    "   "
   ]
  },
  {
   "cell_type": "markdown",
   "metadata": {},
   "source": [
    "### Exercise 11\n",
    "#### Totorial 10BQ3\n",
    "\n",
    "Write a function  ***def  multiBaseOutput ( num,  b):***  \n",
    "that takes a non-negative *integer num* and a *base b* in the range 2 – 9 and write num to the screen as a base b number. "
   ]
  },
  {
   "cell_type": "code",
   "execution_count": 10,
   "metadata": {},
   "outputs": [
    {
     "name": "stdout",
     "output_type": "stream",
     "text": [
      "Enter number: 79\n",
      "Enter base (2- 9): 2\n",
      "1001111\n"
     ]
    }
   ],
   "source": [
    "def multiBaseOutput (number, base): \n",
    "    "
   ]
  }
 ],
 "metadata": {
  "kernelspec": {
   "display_name": "Python 3",
   "language": "python",
   "name": "python3"
  },
  "language_info": {
   "codemirror_mode": {
    "name": "ipython",
    "version": 3
   },
   "file_extension": ".py",
   "mimetype": "text/x-python",
   "name": "python",
   "nbconvert_exporter": "python",
   "pygments_lexer": "ipython3",
   "version": "3.8.5"
  }
 },
 "nbformat": 4,
 "nbformat_minor": 2
}