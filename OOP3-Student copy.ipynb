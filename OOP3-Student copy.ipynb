{
 "cells": [
  {
   "cell_type": "markdown",
   "metadata": {
    "pycharm": {
     "name": "#%% md\n"
    }
   },
   "source": [
    "# Object Oriented Programming\n",
    "* Define and understand classes and objects.\n",
    "* Understand encapsulation and how classes support information hiding and implementation independence.\n",
    "* **Understand inheritance and how it promotes software reuse.**\n",
    "* **Understand polymorphism and how it enables code generalisation.**\n",
    "* Exclude: method overloading and multiple inheritance\n"
   ]
  },
  {
   "cell_type": "markdown",
   "metadata": {
    "pycharm": {
     "name": "#%% md\n"
    }
   },
   "source": [
    "## Inheritance\n",
    "Similar to other programming lanugages, Python allows class inheritance.\n",
    "\n",
    "Python supports multiple inheritence, i.e. a class may inherit from multiple base classes.\n",
    "In following code sample, both class B and C inherit from class A. Class D inherits from both class B and C.\n",
    "\n",
    "```\n",
    "class A:\n",
    "    pass\n",
    "\n",
    "class B(A):\n",
    "    pass\n",
    "\n",
    "class C(A):\n",
    "    pass\n",
    "\n",
    "class D(B, C):\n",
    "    pass\n",
    "```\n",
    "\n",
    "We can test whether a class is subclass of one or more classes using issubclass() built-in function."
   ]
  },
  {
   "cell_type": "code",
   "execution_count": 3,
   "metadata": {
    "pycharm": {
     "name": "#%%\n"
    }
   },
   "outputs": [
    {
     "name": "stdout",
     "output_type": "stream",
     "text": [
      "<class 'object'>\n",
      "True\n",
      "True\n",
      "True\n"
     ]
    }
   ],
   "source": [
    "class Z:\n",
    "    pass\n",
    "\n",
    "class A:\n",
    "    pass\n",
    "\n",
    "class B(A):\n",
    "    pass\n",
    "\n",
    "class C(A):\n",
    "    pass\n",
    "\n",
    "class D(B, C):\n",
    "    pass\n",
    "\n",
    "print(A.__base__)  ## print the super class of class A\n",
    "### Question : find the super class of class B, C and D\n",
    "\n",
    "\n",
    "print(issubclass(B,A))  ## check whether class B is a subclass of class A\n",
    "print(issubclass(A, object))  ## check whether class B is a subclass of class A\n",
    "### Question: check whether class C is a subclass of object\n",
    "\n",
    "### Question: check whether class C is a subclass of A\n",
    "\n",
    "### Question: check whether class D is a subclass of A , int, str\n"
   ]
  },
  {
   "cell_type": "markdown",
   "metadata": {
    "pycharm": {
     "name": "#%% md\n"
    }
   },
   "source": [
    "### Code Reuse\n",
    "\n",
    "A subclass can be derived from a superclass and inherit its methods and variables. This allows sharing of implementation between classes, which avoids code duplication\n",
    "\n",
    "#### Exercise\n",
    "\n",
    "Study the code in `Teacher` and `Student` classes and perform following:\n",
    "* Abstract common code in `Teacher` and `Student` class to a `Person` class\n",
    "* Modify the two classes to inherit from `Person` class\n",
    "\n",
    "```\n",
    "class Teacher():\n",
    "    def __init__(self, firstName, lastName):\n",
    "        self._firstName = firstName\n",
    "        self._lastName = lastName\n",
    "\n",
    "    def getFullname(self):\n",
    "        return self._firstName + ' ' + self._lastName\n",
    "    \n",
    "    def work(self):\n",
    "        print(\"{} is working\".format(self.getFullname()))\n",
    "    \n",
    "class Student():\n",
    "    def __init__(self, firstName, lastName):\n",
    "        self._firstName = firstName\n",
    "        self._lastName = lastName\n",
    "\n",
    "    def getFullname(self):\n",
    "        return self._firstName + ' ' + self._lastName\n",
    "\n",
    "    def study(self):\n",
    "        print(\"{} is studying\".format(self.getFullname()))\n",
    "\n",
    "```"
   ]
  },
  {
   "cell_type": "code",
   "execution_count": 17,
   "metadata": {
    "pycharm": {
     "name": "#%%\n"
    }
   },
   "outputs": [
    {
     "data": {
      "text/plain": "3"
     },
     "execution_count": 17,
     "metadata": {},
     "output_type": "execute_result"
    }
   ],
   "source": [
    "### Write your code here\n",
    "a = [1, '+', 2]\n",
    "eval(''.join(map(str,a)))"
   ]
  },
  {
   "cell_type": "markdown",
   "metadata": {
    "pycharm": {
     "name": "#%% md\n"
    }
   },
   "source": [
    "### Method Resolution Order  (Info)\n",
    "\n",
    "When an attribute is invoked in a class, Python will try to search for this attribute in current class and followed by its parent classes. The order of resolution is called **Method Resolution Order** (MRO).\n",
    "\n",
    "Each class has a MRO list, which can be accessed using special attribute `__mro__`.\n"
   ]
  },
  {
   "cell_type": "code",
   "execution_count": 8,
   "metadata": {
    "pycharm": {
     "name": "#%%\n"
    }
   },
   "outputs": [
    {
     "name": "stdout",
     "output_type": "stream",
     "text": [
      "B\n",
      "(<class '__main__.D'>, <class '__main__.B'>, <class '__main__.C'>, <class '__main__.A'>, <class 'object'>)\n"
     ]
    }
   ],
   "source": [
    "class A:\n",
    "    x = 'A'\n",
    "    \n",
    "class B(A):\n",
    "    x = 'B'\n",
    "    \n",
    "class C(A):\n",
    "    x = 'C'\n",
    "\n",
    "class D(B, C):\n",
    "    pass\n",
    "\n",
    "print(D.x)\n",
    "print(D.__mro__)"
   ]
  },
  {
   "cell_type": "markdown",
   "metadata": {
    "pycharm": {
     "name": "#%% md\n"
    }
   },
   "source": [
    "### Method Overriding\n",
    "\n",
    "A subclass may override a method defined in its superclass. \n",
    "\n",
    "#### Example:\n",
    "* Class B does not override `hi()` method in class A\n",
    "* Class C overrides `hi()` method in class B"
   ]
  },
  {
   "cell_type": "code",
   "execution_count": 1,
   "metadata": {
    "pycharm": {
     "name": "#%%\n"
    }
   },
   "outputs": [
    {
     "name": "stdout",
     "output_type": "stream",
     "text": [
      "hi A\n",
      "hi C\n"
     ]
    }
   ],
   "source": [
    "class A:\n",
    "    def hi(self):\n",
    "        print('hi A')\n",
    "\n",
    "class B(A):\n",
    "    pass\n",
    "\n",
    "class C(A):\n",
    "    def hi(self):\n",
    "        print('hi C')\n",
    "\n",
    "b = B()\n",
    "b.hi()\n",
    "c = C()\n",
    "c.hi()"
   ]
  },
  {
   "cell_type": "markdown",
   "metadata": {
    "pycharm": {
     "name": "#%% md\n"
    }
   },
   "source": [
    "### Super Function - super()\n",
    "\n",
    "With inheritance, the super() function allows us to call a method from the parent class."
   ]
  },
  {
   "cell_type": "code",
   "execution_count": 2,
   "metadata": {
    "pycharm": {
     "name": "#%%\n"
    }
   },
   "outputs": [
    {
     "name": "stdout",
     "output_type": "stream",
     "text": [
      "hello A\n",
      "hello A\n",
      "hi A\n",
      "super class hi: None\n",
      "hi C\n",
      "100\n",
      "200\n"
     ]
    }
   ],
   "source": [
    "class A:\n",
    "    \n",
    "    def __init__(self, x):\n",
    "        self.x = x\n",
    "    \n",
    "    def hi(self):\n",
    "        print('hi A')\n",
    "\n",
    "    def hello(self):\n",
    "        print('hello A')\n",
    "        \n",
    "class C(A):\n",
    "    def __init__(self, x, y):\n",
    "        super().__init__(x)  ### invoke superclass init method\n",
    "        self.y = y\n",
    "    \n",
    "    def hi(self):\n",
    "        self.hello()\n",
    "        print(f\"super class hi: {super().hi()}\")\n",
    "        print('hi C')\n",
    "        print(self.x)\n",
    "        print(self.y)\n",
    "\n",
    "c = C(100, 200)\n",
    "c.hello()\n",
    "c.hi()"
   ]
  },
  {
   "cell_type": "markdown",
   "metadata": {
    "pycharm": {
     "name": "#%% md\n"
    }
   },
   "source": [
    "#### Exercise\n",
    "\n",
    "Modify the `Teacher` class to add a new data attribute `salary` and the setter/getter methods for the data attribute.\n",
    "\n",
    "Modify the constructor of the `Teacher` class to accept the teacher salary as one of the information for creating the `Teacher` object.\n",
    "\n",
    "Add `__str__` method to `Teacher` class to return a string that contains the first name, last name and salary of the teacher."
   ]
  },
  {
   "cell_type": "code",
   "execution_count": null,
   "metadata": {
    "pycharm": {
     "name": "#%%\n"
    }
   },
   "outputs": [],
   "source": [
    "## write your code here\n"
   ]
  },
  {
   "cell_type": "markdown",
   "metadata": {
    "pycharm": {
     "name": "#%% md\n"
    }
   },
   "source": [
    "## Polymophism\n",
    "\n",
    "Polymophism in object-oriented programming means to process objects differently based on their data type. In another word, one method can have different implementations, either in the same class or between different classes.\n",
    "\n",
    "* **Method Overloading:** Same method with different implementations in **same class**.\n",
    "* **Method Overriding:** Same method with different implementations in **derived classes**.\n",
    "\n",
    "### Method Overloading - Not for Python\n",
    "\n",
    "Python **DOES NOT** support method overloading. It keeps only the latest definition of the method.\n"
   ]
  },
  {
   "cell_type": "code",
   "execution_count": 11,
   "metadata": {
    "pycharm": {
     "name": "#%%\n"
    }
   },
   "outputs": [
    {
     "ename": "TypeError",
     "evalue": "talk() missing 1 required positional argument: 'sound'",
     "output_type": "error",
     "traceback": [
      "\u001B[1;31m---------------------------------------------------------------------------\u001B[0m",
      "\u001B[1;31mTypeError\u001B[0m                                 Traceback (most recent call last)",
      "\u001B[1;32m<ipython-input-11-c05230d8da6f>\u001B[0m in \u001B[0;36m<module>\u001B[1;34m\u001B[0m\n\u001B[0;32m      7\u001B[0m \u001B[1;33m\u001B[0m\u001B[0m\n\u001B[0;32m      8\u001B[0m \u001B[0mp\u001B[0m \u001B[1;33m=\u001B[0m \u001B[0mPet\u001B[0m\u001B[1;33m(\u001B[0m\u001B[1;33m)\u001B[0m\u001B[1;33m\u001B[0m\u001B[1;33m\u001B[0m\u001B[0m\n\u001B[1;32m----> 9\u001B[1;33m \u001B[0mp\u001B[0m\u001B[1;33m.\u001B[0m\u001B[0mtalk\u001B[0m\u001B[1;33m(\u001B[0m\u001B[1;33m)\u001B[0m\u001B[1;33m\u001B[0m\u001B[1;33m\u001B[0m\u001B[0m\n\u001B[0m",
      "\u001B[1;31mTypeError\u001B[0m: talk() missing 1 required positional argument: 'sound'"
     ]
    }
   ],
   "source": [
    "\n",
    "class Pet:\n",
    "    def talk(self):\n",
    "        print('chirp chirp')\n",
    "    \n",
    "    def talk(self, sound):\n",
    "        print(\"{} {}\".format(sound, sound))\n",
    "\n",
    "# talk is overloaded in Pet class\n",
    "\n",
    "p = Pet()\n",
    "p.talk()"
   ]
  },
  {
   "cell_type": "markdown",
   "metadata": {
    "pycharm": {
     "name": "#%% md\n"
    }
   },
   "source": [
    "### Method Overriding\n",
    "\n",
    "A subclass can override a method in the base class.\n",
    "\n",
    "In following example, class `Pet` can have a method `talk()` and its subclasses `Dog` and `Cat` can make different sounds in their `talk()` method."
   ]
  },
  {
   "cell_type": "code",
   "execution_count": 38,
   "metadata": {
    "pycharm": {
     "name": "#%%\n"
    }
   },
   "outputs": [
    {
     "name": "stdout",
     "output_type": "stream",
     "text": [
      "chirp chirp\n",
      "woof woof\n",
      "meow meow\n"
     ]
    }
   ],
   "source": [
    "class Pet:\n",
    "    def talk(self):\n",
    "        print('chirp chirp')\n",
    "\n",
    "class Dog(Pet):\n",
    "    def talk(self):\n",
    "        print('woof woof')\n",
    "\n",
    "class Cat(Pet):\n",
    "    def talk(self):\n",
    "        print('meow meow')\n",
    "\n",
    "def animal_sound(animal):\n",
    "    animal.talk()\n",
    "\n",
    "animal_sound(Pet())\n",
    "animal_sound(Dog())\n",
    "animal_sound(Cat())\n"
   ]
  },
  {
   "cell_type": "markdown",
   "metadata": {
    "pycharm": {
     "name": "#%% md\n"
    }
   },
   "source": [
    "## Some useful stuff ...\n",
    "\n",
    "#### Find the object's class\n",
    "```\n",
    "a = 'abc'\n",
    "# Find out object's class\n",
    "print(type(a))\n",
    "print(a.__class__)\n",
    "```\n",
    "#### Check whether an object is an instance of a class\n",
    "```\n",
    "a= 'abc'\n",
    "print(isinstance(a, str))\n",
    "print(type(a) is str)\n",
    "```\n",
    "\n",
    "#### Get the name of the class\n",
    "```\n",
    "a='abc'\n",
    "print(type(a).__name__)\n",
    "```\n",
    "\n",
    "### Docstring\n",
    "\n",
    "Similiar to modules and functions. You can add docstring to class and its methods.\n",
    "* Docstring is enclosed by triple-quotes\n",
    "* It must be the 1st statement in the class\n",
    "* Docstrings can be accesses by `__doc__` attribute\n",
    "* It is used by the `help()` function\n"
   ]
  },
  {
   "cell_type": "code",
   "execution_count": 4,
   "metadata": {
    "pycharm": {
     "name": "#%%\n"
    }
   },
   "outputs": [
    {
     "name": "stdout",
     "output_type": "stream",
     "text": [
      "Class implementation of Student\n",
      "    attributes: name, age, gender\n",
      "    methods: getName, setName\n",
      "    \n",
      "Set name of student\n",
      "Help on class Student in module __main__:\n",
      "\n",
      "class Student(builtins.object)\n",
      " |  Student(name, age, gender)\n",
      " |  \n",
      " |  Class implementation of Student\n",
      " |  attributes: name, age, gender\n",
      " |  methods: getName, setName\n",
      " |  \n",
      " |  Methods defined here:\n",
      " |  \n",
      " |  __init__(self, name, age, gender)\n",
      " |      Initialize self.  See help(type(self)) for accurate signature.\n",
      " |  \n",
      " |  getName(self)\n",
      " |      Return the name of the student\n",
      " |  \n",
      " |  setName(self, name)\n",
      " |      Set name of student\n",
      " |  \n",
      " |  ----------------------------------------------------------------------\n",
      " |  Data descriptors defined here:\n",
      " |  \n",
      " |  __dict__\n",
      " |      dictionary for instance variables (if defined)\n",
      " |  \n",
      " |  __weakref__\n",
      " |      list of weak references to the object (if defined)\n",
      "\n"
     ]
    }
   ],
   "source": [
    "class Student:\n",
    "    '''Class implementation of Student\n",
    "    attributes: name, age, gender\n",
    "    methods: getName, setName\n",
    "    '''\n",
    "    \n",
    "    def __init__(self, name, age, gender):\n",
    "        self._name = name\n",
    "        self._age =age\n",
    "        self._gender = gender\n",
    "        \n",
    "    def getName(self):\n",
    "        '''Return the name of the student'''\n",
    "        return self._name\n",
    "        \n",
    "    def setName(self, name):\n",
    "        '''Set name of student'''\n",
    "        self._name=name\n",
    "\n",
    "\n",
    "print(Student.__doc__)\n",
    "print(Student.setName.__doc__)\n",
    "help(Student)"
   ]
  },
  {
   "cell_type": "markdown",
   "metadata": {
    "pycharm": {
     "name": "#%% md\n"
    }
   },
   "source": [
    "### Implement `__str__()`  for Custom Object\n",
    "\n",
    "By default, our `Student` class inherits `__str__()` methods from `Object` class, which print class name and memory location of the object. \n",
    "\n",
    "```\n",
    "class Student:\n",
    "    def __init__(self, name):\n",
    "        self._name = name\n",
    "\n",
    "s = Student('Tan Tan Tan')\n",
    "print(str(s))\n",
    "print(s)\n",
    "\n",
    "Output:\n",
    "<__main__.Student object at 0x000001A707E72D68>\n",
    "<__main__.Student object at 0x000001A707E72D68>\n",
    "\n",
    "```\n",
    "By implementing __str__ method in the `Student` class, we are able to change what is printed.\n",
    "\n",
    "```\n",
    "class Student:\n",
    "    def __init__(self, name):\n",
    "        self._name = name\n",
    "    \n",
    "    def __str__(self):\n",
    "        return 'Student: {}'.format(self.__name)\n",
    "\n",
    "s = Student('Tan Tan Tan')\n",
    "print(str(s))\n",
    "print(s)\n",
    "\n",
    "Output :\n",
    "Student: Tan Tan Tan\n",
    "Student: Tan Tan Tan\n",
    "```"
   ]
  },
  {
   "cell_type": "code",
   "execution_count": 5,
   "metadata": {
    "pycharm": {
     "name": "#%%\n"
    }
   },
   "outputs": [
    {
     "name": "stdout",
     "output_type": "stream",
     "text": [
      "Student: Tan Tan Tan\n",
      "Student: Tan Tan Tan\n"
     ]
    }
   ],
   "source": [
    "class Student:\n",
    "    def __init__(self, name):\n",
    "        self._name = name\n",
    "    \n",
    "    def __str__(self):\n",
    "        return 'Student: {}'.format(self._name)\n",
    "\n",
    "s = Student('Tan Tan Tan')\n",
    "print(str(s))\n",
    "print(s)\n"
   ]
  },
  {
   "cell_type": "markdown",
   "metadata": {
    "pycharm": {
     "name": "#%% md\n"
    }
   },
   "source": [
    "### Exercise\n",
    "\n",
    "\n",
    "Implement the class MyDate which has the following attributes:\n",
    "* `_day`\n",
    "* `_month`\n",
    "* `_year`\n",
    "\n",
    "and methods:\n",
    "* `_getDay` which returns _day of the MyDate object.\n",
    "* `_getMonth` which returns _month of the MyDate object.\n",
    "* `_getYear` which returns _year of the MyDate object.\n",
    "* `_setDay` which accepts one argument 'day' that is between 1 and 31. The value of 'day' will be assign to the attribute _day of the MyDate object.\n",
    "* `_setMonth` which accepts one argument 'month' that is between 1 and 12. The value of 'month' will be assign to the attribute _month of the MyDate object.\n",
    "* `_setYear` which accepts one argument 'year' that is between 1990 and 2020. The value of 'year' will be assign to the attribute _year of the MyDate object.\n",
    "* `__init__` which accepts three arguments 'day', 'month' and 'year' which follows the same rules as above.\n",
    "* `__str__` which print out the string format of the MyDate object as '1-Jan-2019'.\n",
    "\n"
   ]
  },
  {
   "cell_type": "code",
   "execution_count": null,
   "metadata": {
    "pycharm": {
     "name": "#%%\n"
    }
   },
   "outputs": [],
   "source": []
  },
  {
   "cell_type": "markdown",
   "metadata": {
    "pycharm": {
     "name": "#%% md\n"
    }
   },
   "source": [
    "### Exercise\n",
    "\n",
    "Implement the class MyTask that extends MyDate. The class should contains 3 additional attributes:\n",
    "    * `_timefrom` -a string eg. '0900'\n",
    "    * `_timeto` -a string eg. '1000'\n",
    "    * `_task` -a string that contains the task to perform\n",
    "\n",
    "Implement the setter and getter methods for the data attributes.\n",
    "Implement getDuration method which returns a formatted string that contains the time from and time to\n",
    "Implement getInformation method which returns a formatted strings that contains the task information - Date, Duration and Task\n",
    "\n",
    "Implement the class MyLesson that extends MyDate. The class should contains 4 additional attributes:\n",
    "    * `_timefrom` -a string eg. '0900'\n",
    "    * `_timeto` -a string eg. '1000'\n",
    "    * `_subject` -a string that contains the subject name of the lesson\n",
    "    * `_venue` -a string that contains the venue of the lesson\n",
    "    \n",
    "Implement the setter and getter methods for the data attributes.\n",
    "Implement the getDuration method which returns a formatted string that contains the time from and time to\n",
    "Implement getInformation method which returns a formatted strings that contains the lesson information - Date, Duration, Subject and Venue\n"
   ]
  },
  {
   "cell_type": "code",
   "execution_count": null,
   "metadata": {
    "pycharm": {
     "name": "#%%\n"
    }
   },
   "outputs": [],
   "source": []
  },
  {
   "cell_type": "markdown",
   "metadata": {
    "pycharm": {
     "name": "#%% md\n"
    }
   },
   "source": [
    "### Exercise\n",
    "\n",
    "Write a program to allow user to keep his/her task or lesson.\n",
    "The program should allow the user to do the following\n",
    "    * add a task\n",
    "    * add a lesson\n",
    "    * print all tasks that the user has added\n",
    "    * print all lessons that the user has added\n",
    "    * print all the tasks and lessons that the user has added\n",
    "   \n",
    "Hint: Use a python list to contain the tasks and lessons in your program.\n"
   ]
  },
  {
   "cell_type": "code",
   "execution_count": null,
   "metadata": {
    "pycharm": {
     "name": "#%%\n"
    }
   },
   "outputs": [],
   "source": []
  }
 ],
 "metadata": {
  "kernelspec": {
   "display_name": "Python 3",
   "language": "python",
   "name": "python3"
  },
  "language_info": {
   "codemirror_mode": {
    "name": "ipython",
    "version": 3
   },
   "file_extension": ".py",
   "mimetype": "text/x-python",
   "name": "python",
   "nbconvert_exporter": "python",
   "pygments_lexer": "ipython3",
   "version": "3.8.5"
  }
 },
 "nbformat": 4,
 "nbformat_minor": 2
}