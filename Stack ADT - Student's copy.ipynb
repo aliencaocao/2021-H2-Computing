{
 "cells": [
  {
   "cell_type": "markdown",
   "metadata": {
    "pycharm": {
     "name": "#%% md\n"
    }
   },
   "source": [
    "\n",
    "## Stack ADT\n",
    "\n",
    "**Stack** is a Last in First Out (LIFO) structure in which access is completely restricted to just one end – this end is known as top.\n",
    "\n",
    "### Operations\n",
    "The basic operations of a stack is to add and remove item from its top. \n",
    "* **push()**: Add an item into the stack\n",
    "* **pop()**: Remove item from the stack\n",
    "\n",
    "Other supporting functions to be added are:\n",
    "* **isEmpty()**: Returns true if the stack is empty\n",
    "* **size()**: Returns the size of the stack\n",
    "* **peek()**: Peek at the topmost item without removing it\n",
    "\n",
    "### Exercise 1\n",
    "\n",
    "Complete the `ArrayStack` class implementation using **Python list**:\n",
    "* Initialize an empty list in initializer method\n",
    "* Code `push()` and `pop()` functions to implement basic oprations of a stack"
   ]
  },
  {
   "cell_type": "code",
   "execution_count": 1,
   "metadata": {
    "pycharm": {
     "name": "#%%\n"
    }
   },
   "outputs": [
    {
     "name": "stdout",
     "output_type": "stream",
     "text": [
      "<__main__.ArrayStack object at 0x00000218384E5490>\n",
      "c\n",
      "b\n",
      "a\n"
     ]
    }
   ],
   "source": [
    "class ArrayStack:\n",
    "   def __init__(self):\n",
    "       self.items = []\n",
    "   def push(self, item):\n",
    "       self.items.insert(0, item)\n",
    "   def pop(self):\n",
    "       if self.items:\n",
    "           return self.items.pop(0)\n",
    "       else:\n",
    "           raise Exception(\"Stack is empty\")\n",
    "\n",
    "        \n",
    "stack = ArrayStack()\n",
    "stack.push('a')\n",
    "stack.push('b')\n",
    "stack.push('c')\n",
    "print(stack)\n",
    "print(stack.pop())\n",
    "print(stack.pop())\n",
    "print(stack.pop() if stack else None)"
   ]
  },
  {
   "cell_type": "markdown",
   "metadata": {
    "pycharm": {
     "name": "#%% md\n"
    }
   },
   "source": [
    "### Exercise 2\n",
    "\n",
    "Complete the `ArrayStack2` class implementation:\n",
    "* It inherits from `ArrayStack` class\n",
    "* Code the supplementry functions `size()`, `is_empty()`, `peek()`"
   ]
  },
  {
   "cell_type": "code",
   "execution_count": 2,
   "metadata": {
    "pycharm": {
     "name": "#%%\n"
    }
   },
   "outputs": [
    {
     "name": "stdout",
     "output_type": "stream",
     "text": [
      "2\n",
      "a\n",
      "False\n",
      "None\n"
     ]
    }
   ],
   "source": [
    "class ArrayStack2(ArrayStack):\n",
    "    def is_empty(self):\n",
    "       return bool(self.items)\n",
    "    def size(self):\n",
    "       return len(self.items)\n",
    "    def peek(self):\n",
    "       return self.items[0] if self.items else None\n",
    "    \n",
    "    \n",
    "stack = ArrayStack2()\n",
    "stack.push('a')\n",
    "stack.push('b')\n",
    "print(stack.size())\n",
    "stack.pop()\n",
    "print(stack.peek())\n",
    "stack.pop()\n",
    "print(stack.is_empty())\n",
    "print(stack.peek())"
   ]
  },
  {
   "cell_type": "markdown",
   "metadata": {
    "pycharm": {
     "name": "#%% md\n"
    }
   },
   "source": [
    "### Exercise 3\n",
    "\n",
    "Complete the `ArrayStack3` class implementation:\n",
    "* The stack has a size of 12\n",
    "* Initialize an list in initializer method with a size of 12\n",
    "* Code `push()`, `pop()`, `peek()`, `isEmpty()` and `size()` functions to implement basic operations of a stack.\n"
   ]
  },
  {
   "cell_type": "code",
   "execution_count": 3,
   "metadata": {
    "pycharm": {
     "name": "#%%\n"
    }
   },
   "outputs": [
    {
     "name": "stdout",
     "output_type": "stream",
     "text": [
      "['a', 'b', 'c', None, None, None, None, None, None, None, None, None]\n",
      "c\n",
      "b\n",
      "a\n",
      "[None, None, None, None, None, None, None, None, None, None, None, None]\n"
     ]
    }
   ],
   "source": [
    "class ArrayStack3:\n",
    "    def __init__(self, max_size):\n",
    "        self.size = 0  # equal to top pointer\n",
    "        self.max_size = max_size\n",
    "        self._items = [None] * self.max_size\n",
    "    def push(self, item):\n",
    "        if self.size == self.max_size:\n",
    "            raise Exception('Stack is full')\n",
    "        else:\n",
    "            self._items[self.size] = item\n",
    "            self.size += 1\n",
    "    def pop(self):\n",
    "        if self.is_empty():\n",
    "            raise Exception('Stack is empty')\n",
    "        else:\n",
    "            self.size -= 1\n",
    "            removed_data = self._items[self.size]\n",
    "            self._items[self.size] = None\n",
    "            return removed_data\n",
    "    def peek(self):\n",
    "        return self._items[self.size - 1]\n",
    "    def is_empty(self):\n",
    "        return not bool(self.size)\n",
    "    def __len__(self):\n",
    "        return self.size\n",
    "    \n",
    "    \n",
    "stack = ArrayStack3(12)\n",
    "stack.push('a')\n",
    "stack.push('b')\n",
    "stack.push('c')\n",
    "print(stack._items)\n",
    "print(stack.pop())\n",
    "print(stack.pop())\n",
    "print(stack.pop() if stack else None)\n",
    "print(stack._items)"
   ]
  },
  {
   "cell_type": "markdown",
   "metadata": {
    "pycharm": {
     "name": "#%% md\n"
    }
   },
   "source": [
    "### Exercise 4\n",
    "\n",
    "Complete the Stack class implementation using linked list which you have implemented previously:\n",
    "\n",
    "Define the Node and LinkedList class and The LinkedListStack class"
   ]
  },
  {
   "cell_type": "code",
   "execution_count": 4,
   "metadata": {
    "pycharm": {
     "name": "#%%\n"
    }
   },
   "outputs": [
    {
     "name": "stdout",
     "output_type": "stream",
     "text": [
      "1\n",
      "\n"
     ]
    }
   ],
   "source": [
    "class Node:\n",
    "    def __init__(self, data, nxt=None):\n",
    "        self._data = data\n",
    "        self._next = nxt\n",
    "\n",
    "    def getData(self):\n",
    "        return self._data\n",
    "\n",
    "    def getNext(self):\n",
    "        return self._next\n",
    "\n",
    "    def setData(self, data):\n",
    "        self._data = data\n",
    "\n",
    "    def setNext(self, node):\n",
    "        self._next = node\n",
    "\n",
    "    def __str__(self):\n",
    "        result = f'Data: {self.getData()}'\n",
    "        if self.getNext():\n",
    "            result += f'\\nNext: {self.getNext().getData()}'\n",
    "        else:\n",
    "            result += '\\nNext: None'\n",
    "        return result\n",
    "\n",
    "class LinkedList:\n",
    "    def __init__(self):\n",
    "        self._head = None\n",
    "        self._tail = None\n",
    "\n",
    "    def isEmpty(self):\n",
    "        return self._head is None\n",
    "\n",
    "    def create_from_list(self, data):\n",
    "        for i in data:\n",
    "            self.append(i)\n",
    "\n",
    "    def peek(self):\n",
    "        return self._head.getData()\n",
    "\n",
    "    def search(self, data):\n",
    "        current = self._head\n",
    "        while current:\n",
    "            if current.getData() == data:\n",
    "                return current\n",
    "            current = current.getNext()\n",
    "        return False\n",
    "\n",
    "    def append(self, data):\n",
    "        node = Node(data)\n",
    "        if self.isEmpty():\n",
    "            self._head = node\n",
    "            self._tail = node\n",
    "        else:\n",
    "            self._tail.setNext(node)\n",
    "            self._tail = node\n",
    "\n",
    "    def prepend(self, data):\n",
    "        node = Node(data)\n",
    "        if self.isEmpty():\n",
    "            self._head = node\n",
    "            self._tail = node\n",
    "        else:\n",
    "            node.setNext(self._head)\n",
    "            self._head = node\n",
    "\n",
    "    def insert(self, index, data):\n",
    "        '''Returns a boolean indicating success or failure'''\n",
    "        if self.isEmpty():\n",
    "            self._head = Node(data)\n",
    "            return True\n",
    "        if index == 0:\n",
    "            self.prepend(data)\n",
    "            return True\n",
    "        current = self._head\n",
    "        for i in range(index-1):\n",
    "            current = current.getNext()\n",
    "        node = Node(data)\n",
    "        node.setNext(current.getNext())\n",
    "        current.setNext(node)  # must set next after setting new node's next else it will be overriden\n",
    "        return True\n",
    "\n",
    "    def remove(self, index):\n",
    "        '''Returns a boolean indicating success or failure'''\n",
    "        if self.isEmpty():\n",
    "            return False\n",
    "        if index == 0:\n",
    "            self._head = self._head.getNext()\n",
    "            return True\n",
    "        current = self._head\n",
    "        for i in range(index-1):  # stop at one node before target\n",
    "            current = current.getNext()\n",
    "        current.setNext(current.getNext().getNext())  # skip the node at index\n",
    "        return True\n",
    "\n",
    "    def replace(self, data_or_index_to_be_replaced, new_data, mode='data'):\n",
    "        '''Mode can be data or index, default data\n",
    "        Returns a boolean indicating success or fail'''\n",
    "        assert mode in ['data', 'index'], 'Mode must be data or index'\n",
    "        current = self._head\n",
    "        counter = 0\n",
    "        found = True\n",
    "        while current:\n",
    "            if mode == 'data' and current.getData() == data_or_index_to_be_replaced:\n",
    "                current.setData(new_data)\n",
    "                found = True\n",
    "            elif mode == 'index' and isinstance(data_or_index_to_be_replaced, int) and counter == data_or_index_to_be_replaced:\n",
    "                current.setData(new_data)\n",
    "                found = True\n",
    "            current = current.getNext()\n",
    "            counter += 1\n",
    "        if found:\n",
    "            return True\n",
    "        else:\n",
    "            return False\n",
    "\n",
    "    def __getitem__(self, index):\n",
    "        '''Allows python-like list index access'''\n",
    "        current = self._head\n",
    "        for i in range(index):\n",
    "            current = current.getNext()\n",
    "        return current.getData()\n",
    "\n",
    "    def __setitem__(self, index, value):\n",
    "        '''Allows python-like list index access'''\n",
    "        self.replace(index, value, mode='index')\n",
    "\n",
    "    def __delitem__(self, index):\n",
    "        '''Allows python-like list index access'''\n",
    "        self.remove(index)\n",
    "\n",
    "    def __len__(self):\n",
    "        counter = 0\n",
    "        current = self._head\n",
    "        while current:\n",
    "            counter += 1\n",
    "            current = current.getNext()\n",
    "        return counter\n",
    "\n",
    "    def __str__(self):\n",
    "        result = ''\n",
    "        current = self._head\n",
    "        while current:\n",
    "            result += f'{current.getData()}\\n'\n",
    "            current = current.getNext()\n",
    "        return result\n",
    "\n",
    "\n",
    "class LinkedListStack:\n",
    "    def __init__(self):\n",
    "         self._stack = LinkedList()\n",
    "\n",
    "    def push(self, data):\n",
    "        self._stack.prepend(data)  # stack is last in first out so prepend on top\n",
    "\n",
    "    def pop(self):\n",
    "        \"\"\"Returns the data that got removed\"\"\"\n",
    "        if not self._stack.isEmpty():\n",
    "            self._stack.remove(0)  # first out so always remove first element\n",
    "        else:\n",
    "            raise Exception('Stack is empty')\n",
    "    \n",
    "    def __str__(self):\n",
    "        return str(self._stack)\n",
    "\n",
    "\n",
    "stack4 = LinkedListStack()\n",
    "stack4.push(1)\n",
    "stack4.push(2)\n",
    "stack4.pop()\n",
    "print(stack4)  # should be 1"
   ]
  },
  {
   "cell_type": "markdown",
   "metadata": {
    "pycharm": {
     "name": "#%% md\n"
    }
   },
   "source": [
    "### Exercise 5\n",
    "\n",
    "Note: Do not use Python list! Use Node and Pointers to implement the Stack!\n",
    "\n",
    "Define a `LinkedListStack2` class that has 2 attributes.\n",
    " * top- That points to the top of the stack\n",
    " * size- contains the size of the stack\n",
    "\n",
    "Define the following methods.\n",
    "* Initialize the attribute top to None and size to 0 in initializer method\n",
    "* Code push() and pop() functions to implement basic operations of a stack\n",
    "* Code isEmpty(),peek() and size() function\n",
    "\n",
    "\n",
    "   "
   ]
  },
  {
   "cell_type": "code",
   "execution_count": 5,
   "metadata": {
    "pycharm": {
     "name": "#%%\n"
    }
   },
   "outputs": [
    {
     "name": "stdout",
     "output_type": "stream",
     "text": [
      "1\n",
      "\n"
     ]
    }
   ],
   "source": [
    "class Node:\n",
    "    def __init__(self, data, nxt=None):\n",
    "        self._data = data\n",
    "        self._next = nxt\n",
    "\n",
    "    def getData(self):\n",
    "        return self._data\n",
    "\n",
    "    def getNext(self):\n",
    "        return self._next\n",
    "\n",
    "    def setData(self, data):\n",
    "        self._data = data\n",
    "\n",
    "    def setNext(self, node):\n",
    "        self._next = node\n",
    "\n",
    "    def __str__(self):\n",
    "        result = f'Data: {self.getData()}'\n",
    "        if self.getNext():\n",
    "            result += f'\\nNext: {self.getNext().getData()}'\n",
    "        else:\n",
    "            result += '\\nNext: None'\n",
    "        return result\n",
    "\n",
    "\n",
    "class LinkedListStack2:\n",
    "    def __init__(self):\n",
    "         self.top = None\n",
    "         self.size = 0\n",
    "\n",
    "    def push(self, data):\n",
    "        \"\"\"Push to the top of the linked list structure so new.setnext(top)\"\"\"\n",
    "        if self.isEmpty():\n",
    "            self.top = Node(data)\n",
    "        else:\n",
    "            new = Node(data)\n",
    "            new.setNext(self.top)\n",
    "            self.top = new\n",
    "        self.size += 1\n",
    "\n",
    "    def pop(self):\n",
    "        \"\"\"Returns a boolean indicating success or fail\"\"\"\n",
    "        if self.isEmpty():\n",
    "            raise Exception('Stack is empty')\n",
    "        else:\n",
    "            removed_data = self.top.getData()\n",
    "            self.top = self.top.getNext()  # remove the linkage of top and set the next of the old top to be new top\n",
    "            self.size -= 1\n",
    "            return removed_data  # first out\n",
    "\n",
    "    def isEmpty(self):\n",
    "        return self.size == 0\n",
    "\n",
    "    def peek(self):\n",
    "        if self.isEmpty():\n",
    "            raise Exception('Stack is empty')\n",
    "        else:\n",
    "            return self.top.getData()\n",
    "\n",
    "    def size(self):\n",
    "        return self.size\n",
    "\n",
    "    def __str__(self):\n",
    "        curr = self.top\n",
    "        temp = ''\n",
    "        while curr:\n",
    "            temp += str(curr.getData()) + '\\n'\n",
    "            curr = curr.getNext()\n",
    "        return temp\n",
    "\n",
    "stack5 = LinkedListStack2()\n",
    "stack5.push(1)\n",
    "stack5.push(2)\n",
    "stack5.pop()\n",
    "print(stack5)  # should be 1"
   ]
  }
 ],
 "metadata": {
  "kernelspec": {
   "display_name": "Python 3",
   "language": "python",
   "name": "python3"
  },
  "language_info": {
   "codemirror_mode": {
    "name": "ipython",
    "version": 3
   },
   "file_extension": ".py",
   "mimetype": "text/x-python",
   "name": "python",
   "nbconvert_exporter": "python",
   "pygments_lexer": "ipython3",
   "version": "3.8.5"
  }
 },
 "nbformat": 4,
 "nbformat_minor": 2
}