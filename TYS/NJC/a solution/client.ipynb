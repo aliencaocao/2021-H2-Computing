{
 "cells": [
  {
   "cell_type": "code",
   "execution_count": 4,
   "metadata": {},
   "outputs": [
    {
     "name": "stdout",
     "output_type": "stream",
     "text": [
      "1.highest high tide with one corresponding date and time it happened\n",
      "2. Lowest low tide with one corredsponding date and time it happened \n",
      " 3. Largest tidal range \n",
      " 4. smallest tidal range\n",
      "Option entered is \n"
     ]
    }
   ],
   "source": [
    "import socket            \n",
    " \n",
    "# Create a socket object\n",
    "s = socket.socket()        \n",
    " \n",
    "# Define the port on which you want to connect\n",
    "port = 8888               \n",
    " \n",
    "# connect to the server on local computer\n",
    "s.connect(('127.0.0.1', port))\n",
    " \n",
    "# receive data from the server and decoding to get the string.\n",
    "print (s.recv(1024).decode())\n",
    "\n",
    "option = input('Please enter the option number. ')\n",
    "print(f'Option entered is {option}')\n",
    "s.sendall(option.encode())\n",
    "\n",
    "# receive data from the server and decoding to get the string.\n",
    "print (s.recv(1024).decode())\n",
    "\n",
    "# close the connection\n",
    "s.close()    \n",
    "\n",
    "# Option entered is 1 7.4, Date: 2017-08-23 Time: 03:38\n",
    "# Option entered is 2 0.1, Date: 2017-08-22 Time: 22:11\n",
    "# Option entered is 3 7.3\n",
    "# Option entered is 4 3.8"
   ]
  },
  {
   "cell_type": "code",
   "execution_count": 6,
   "metadata": {},
   "outputs": [
    {
     "name": "stdout",
     "output_type": "stream",
     "text": [
      "Please choose one of the following option:\n",
      "1.\tHighest high tide with one corresponding date and time it happened\n",
      "2.\tLowest low tide with one corresponding date and time it happened\n",
      "3.\tLargest tidal range\n",
      "4.\tSmallest tidal range\n",
      "\n",
      "3.8\n"
     ]
    }
   ],
   "source": [
    "from socket import socket\n",
    "port = 8888\n",
    "with socket() as c:\n",
    "\tc.connect(('localhost',port))\n",
    "\tprint(c.recv(1024).decode())\n",
    "\to = input('enter option (1-4) : ') # asking for input\n",
    "\tc.send(o.encode())\n",
    "\tprint(c.recv(1024).decode())\n",
    "\t"
   ]
  },
  {
   "cell_type": "code",
   "execution_count": null,
   "metadata": {},
   "outputs": [],
   "source": []
  }
 ],
 "metadata": {
  "kernelspec": {
   "display_name": "Python 3.8.3 ('base')",
   "language": "python",
   "name": "python3"
  },
  "language_info": {
   "codemirror_mode": {
    "name": "ipython",
    "version": 3
   },
   "file_extension": ".py",
   "mimetype": "text/x-python",
   "name": "python",
   "nbconvert_exporter": "python",
   "pygments_lexer": "ipython3",
   "version": "3.8.3"
  },
  "orig_nbformat": 4,
  "vscode": {
   "interpreter": {
    "hash": "3af30755f7aa494d49e3fa27298fdfe6dfc0e4c055ac7441a9780cac40fe01d0"
   }
  }
 },
 "nbformat": 4,
 "nbformat_minor": 2
}
