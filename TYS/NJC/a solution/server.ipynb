{
 "cells": [
  {
   "cell_type": "code",
   "execution_count": 3,
   "metadata": {},
   "outputs": [
    {
     "name": "stdout",
     "output_type": "stream",
     "text": [
      "Got connection from ('127.0.0.1', 56618)\n",
      "Got connection from ('127.0.0.1', 56622)\n",
      "Got connection from ('127.0.0.1', 56627)\n",
      "Got connection from ('127.0.0.1', 56629)\n"
     ]
    }
   ],
   "source": [
    "# Task 4.2\n",
    "\n",
    "# Helper functions to calculate values\n",
    "\n",
    "import sqlite3\n",
    "\n",
    "def option_one():\n",
    "    conn = sqlite3.connect('tide.db')\n",
    "    cur = conn.cursor()\n",
    "    sql_query = 'SELECT Date, Time, Max(height) FROM Tide WHERE isHigh = 1'\n",
    "    to_return = list(cur.execute(sql_query))\n",
    "    return str(to_return[0][2])\n",
    "\n",
    "\n",
    "def option_two():\n",
    "    conn = sqlite3.connect('tide.db')\n",
    "    cur = conn.cursor()\n",
    "    sql_query = 'SELECT Date, Time, Min(height) FROM Tide WHERE isHigh = 0'\n",
    "    to_return = list(cur.execute(sql_query))\n",
    "    return str(to_return[0][2])\n",
    "\n",
    "def option_three():\n",
    "    conn = sqlite3.connect('tide.db')\n",
    "    cur = conn.cursor()\n",
    "    sql_query = 'SELECT Height FROM Tide'\n",
    "    to_return = list(cur.execute(sql_query))\n",
    "    to_return = [i[0] for i in to_return]\n",
    "    to_return = max([abs(to_return[i]-to_return[i+1]) for i in range(0,len(to_return)-1)])\n",
    "    return str(round(to_return,2))\n",
    "\n",
    "def option_four():\n",
    "    conn = sqlite3.connect('tide.db')\n",
    "    cur = conn.cursor()\n",
    "    sql_query = 'SELECT Height FROM Tide'\n",
    "    to_return = list(cur.execute(sql_query))\n",
    "    to_return = [i[0] for i in to_return]\n",
    "    to_return = min([abs(to_return[i]-to_return[i+1]) for i in range(0,len(to_return)-1)])\n",
    "    return str(round(to_return,1))\n",
    "\n",
    "# Server starts here\n",
    "\n",
    "import socket\n",
    "\n",
    "s = socket.socket()\n",
    "\n",
    "port = 8888\n",
    "\n",
    "s.bind(('', port))\n",
    "\n",
    "s.listen(5)\n",
    "\n",
    "while True:\n",
    " \n",
    "# Establish connection with client.\n",
    "  c, addr = s.accept()    \n",
    "  print ('Got connection from', addr )\n",
    " \n",
    "  # send the menu to the client. encoding to send byte type.\n",
    "  with open('menu.txt') as f:\n",
    "    menu = f.read()\n",
    "    c.send(menu.encode())\n",
    "\n",
    "  option = c.recv(1024).decode()\n",
    "  \n",
    "  #calculating the values for the different options\n",
    "  if option == '1':\n",
    "    c.send(option_one().encode())\n",
    "  if option == '2':\n",
    "    c.send(option_two().encode())\n",
    "  if option == '3':\n",
    "    c.send(option_three().encode())\n",
    "  if option == '4':\n",
    "    c.send(option_four().encode())\n",
    " \n",
    "  # Close the connection with the client\n",
    "  c.close()\n",
    "   \n",
    "  # Breaking once connection closed\n",
    "  # break"
   ]
  }
 ],
 "metadata": {
  "kernelspec": {
   "display_name": "Python 3.8.3 ('base')",
   "language": "python",
   "name": "python3"
  },
  "language_info": {
   "codemirror_mode": {
    "name": "ipython",
    "version": 3
   },
   "file_extension": ".py",
   "mimetype": "text/x-python",
   "name": "python",
   "nbconvert_exporter": "python",
   "pygments_lexer": "ipython3",
   "version": "3.8.3"
  },
  "orig_nbformat": 4,
  "vscode": {
   "interpreter": {
    "hash": "3af30755f7aa494d49e3fa27298fdfe6dfc0e4c055ac7441a9780cac40fe01d0"
   }
  }
 },
 "nbformat": 4,
 "nbformat_minor": 2
}
