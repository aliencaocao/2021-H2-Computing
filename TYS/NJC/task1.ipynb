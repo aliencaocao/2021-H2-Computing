{
 "cells": [
  {
   "cell_type": "code",
   "execution_count": 2,
   "metadata": {
    "collapsed": true
   },
   "outputs": [
    {
     "data": {
      "text/plain": "36"
     },
     "execution_count": 2,
     "metadata": {},
     "output_type": "execute_result"
    }
   ],
   "source": [
    "# task 1.1\n",
    "def fun(expression, num):\n",
    "    return eval(expression.replace('x', str(num)))\n",
    "\n",
    "fun('x**2+3*4-1', 5)"
   ]
  },
  {
   "cell_type": "code",
   "execution_count": 32,
   "outputs": [
    {
     "data": {
      "text/plain": "457.6296000000002"
     },
     "execution_count": 32,
     "metadata": {},
     "output_type": "execute_result"
    }
   ],
   "source": [
    "# task 1.2\n",
    "def left_sum(expr, a, b, num):\n",
    "    step_x = (b-a)/num\n",
    "    rects = []\n",
    "    for step in range(num):\n",
    "        rects.append((fun(expr, a+step_x*step), step_x))  # (height, width)\n",
    "    return sum([rect[0] * rect[1] for rect in rects])\n",
    "\n",
    "left_sum('8*x**3-5*x+6', 2, 4, 100)"
   ],
   "metadata": {
    "collapsed": false
   }
  },
  {
   "cell_type": "code",
   "execution_count": 95,
   "outputs": [
    {
     "data": {
      "text/plain": "456.17851528069247"
     },
     "execution_count": 95,
     "metadata": {},
     "output_type": "execute_result"
    }
   ],
   "source": [
    "# task 1.3\n",
    "import random\n",
    "def random_sum(expr, a, b, num):\n",
    "    rects = []\n",
    "    start_a = a\n",
    "    for step in range(num-1):  # exclude last iteration as the last one cannot be random width but the rest of the width\n",
    "        width = random.uniform(start_a, b)-start_a\n",
    "        rects.append((fun(expr, (start_a+start_a+width)/2), width))  # (mean value of x as height, width)\n",
    "        start_a += width\n",
    "    rects.append((fun(expr, (start_a+b)/2), b-start_a))\n",
    "    # print(rects)\n",
    "    return sum([rect[0] * rect[1] for rect in rects])\n",
    "\n",
    "random_sum('8*x**3-5*x+6', 2, 4, 100)"
   ],
   "metadata": {
    "collapsed": false
   }
  }
 ],
 "metadata": {
  "kernelspec": {
   "display_name": "Python 3",
   "language": "python",
   "name": "python3"
  },
  "language_info": {
   "codemirror_mode": {
    "name": "ipython",
    "version": 2
   },
   "file_extension": ".py",
   "mimetype": "text/x-python",
   "name": "python",
   "nbconvert_exporter": "python",
   "pygments_lexer": "ipython2",
   "version": "2.7.6"
  }
 },
 "nbformat": 4,
 "nbformat_minor": 0
}
