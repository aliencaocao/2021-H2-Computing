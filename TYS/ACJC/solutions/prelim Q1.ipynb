{
 "cells": [
  {
   "cell_type": "code",
   "execution_count": 1,
   "metadata": {},
   "outputs": [
    {
     "data": {
      "text/plain": [
       "'saist'"
      ]
     },
     "execution_count": 1,
     "metadata": {},
     "output_type": "execute_result"
    }
   ],
   "source": [
    "import random\n",
    "def get_word(f):\n",
    "    f1 = open(f)\n",
    "    lst = []\n",
    "    for item in f1:\n",
    "        lst.append(item.strip())\n",
    "    f1.close()\n",
    "    return random.choice(lst)\n",
    "\n",
    "get_word('words.txt')\n",
    "    \n",
    "\n",
    "#open and close file\n",
    "#randomly choose a word from file\n",
    "#stripped away white space\n",
    "\n",
    "#test out function\n",
    "# 3+1 = 4 marks"
   ]
  },
  {
   "cell_type": "code",
   "execution_count": 4,
   "metadata": {},
   "outputs": [],
   "source": [
    "def check_validity(s):\n",
    "    if len(s) == 5 and s.isalpha() and s.islower():\n",
    "        return True\n",
    "    return False\n",
    "\n",
    "#check for length\n",
    "#check for only alphabets\n",
    "#check for all lower caps\n",
    "\n",
    "#1 mark for a passing test case\n",
    "#1 mark for a failing test case"
   ]
  },
  {
   "cell_type": "code",
   "execution_count": 22,
   "metadata": {},
   "outputs": [
    {
     "data": {
      "text/plain": [
       "[[0, 1, 4], [3]]"
      ]
     },
     "execution_count": 22,
     "metadata": {},
     "output_type": "execute_result"
    }
   ],
   "source": [
    "def check_guess(guess, word):\n",
    "    correct = []\n",
    "    in_word = []\n",
    "    to_skip = [] #represents the indices in the word that are tagged, either because it is\n",
    "    #a correct index, or it is an in_word index\n",
    "    for i in range(5): #find matching characters\n",
    "        if guess[i] == word[i]:\n",
    "            correct.append(i)\n",
    "            to_skip.append(i) #add to to_skip list\n",
    "    for i in range(5): #nested loop to iterate through guess and word\n",
    "        for j in range(5):#i represents index of guess, j index of word\n",
    "            if guess[i] == word[i]:#break out and skip to next i directly if this is true\n",
    "                break\n",
    "            elif j in to_skip:#this is to handle repeated letters in the word\n",
    "                continue\n",
    "            elif guess[i] == word[j]:\n",
    "                in_word.append(i)\n",
    "                to_skip.append(j)\n",
    "                break\n",
    "        \n",
    "    return [correct,in_word]\n",
    "\n",
    "check_guess('apepe', 'apple')\n",
    "\n",
    "\n",
    "#1 mark for creating correct and in_word\n",
    "#1 mark for adding matching indices to correct list\n",
    "#1 mark for adding appropriate indices into in_word (award even if student cannot handle duplicates)\n",
    "#2 mark for handling repeated letters in word: \"poppy\", word:\"apple\"\n",
    "#1 mark returns list of lists containing correct_position and inword\n",
    "\n",
    "#3 marks if pass all 4 test cases\n",
    "#2 marks if pass 3\n",
    "#1 mark if pass any 2\n",
    "#0 if pass only 1"
   ]
  },
  {
   "cell_type": "code",
   "execution_count": 3,
   "metadata": {},
   "outputs": [],
   "source": [
    "def display_result(correct, incorrect):\n",
    "    ans = ''\n",
    "    for i in range(5):\n",
    "        if i in correct:\n",
    "            ans += '^'\n",
    "        elif i in incorrect:\n",
    "            ans += '*'\n",
    "        else:\n",
    "            ans += '_'\n",
    "    print(ans)\n",
    "    \n",
    "#correctly handled ^\n",
    "#correctly handled *\n",
    "#correctly handled _\n",
    "#correctly display ans\n",
    "\n",
    "#4 marks\n",
    "\n",
    "#2 mark for 3 correct test case\n",
    "#1 marks for 2 correct test cases\n",
    "#\n"
   ]
  },
  {
   "cell_type": "code",
   "execution_count": 7,
   "metadata": {},
   "outputs": [],
   "source": [
    "def play_wordle():\n",
    "    print(\"_ _ _ _ _\")\n",
    "    word = get_word('words.txt')\n",
    "    print(\"you get 6 guesses!\")\n",
    "    for i in range(1,7):\n",
    "        guess = input(\"what is your guess?: \")\n",
    "        while (check_validity(guess) == False):\n",
    "            print(\"please enter exactly 5 lower case letters only\")\n",
    "            guess = input(\"what is your guess?: \")\n",
    "        correct, incorrect = check_guess(guess, word) #returns a list of matching indexes\n",
    "        print(guess)\n",
    "        display_result(correct, incorrect)\n",
    "        if len(correct) == 5:\n",
    "            print(f\"you used {i} guesses!\")\n",
    "            print(\"You win!\")\n",
    "            return None\n",
    "    print(\"You ran out guesses!\")\n",
    "    print(\"The word was:\", word)\n",
    "    return None\n",
    "\n",
    "#repeatedly accepts user's guess\n",
    "#limited number of guesses to 6\n",
    "#handled correct guess\n",
    "#printed number of guesses used\n",
    "#handled running out of guesses\n",
    "#correctly displayed result of user's guess\n",
    "\n",
    "#test ran the game once\n",
    "\n",
    "#6 + 1 = 7 marks\n",
    "\n",
    "#what about checking of validity of user input?"
   ]
  },
  {
   "cell_type": "code",
   "execution_count": 8,
   "metadata": {},
   "outputs": [
    {
     "name": "stdout",
     "output_type": "stream",
     "text": [
      "_ _ _ _ _\n",
      "you get 6 guesses!\n",
      "what is your guess?: abcde\n",
      "abcde\n",
      "*_*__\n",
      "what is your guess?: ijhlk\n",
      "ijhlk\n",
      "___*^\n",
      "what is your guess?: ememe\n",
      "ememe\n",
      "_____\n",
      "what is your guess?: aaaaa\n",
      "aaaaa\n",
      "__^__\n",
      "what is your guess?: deaee\n",
      "deaee\n",
      "__^__\n",
      "what is your guess?: poiaa\n",
      "poiaa\n",
      "___*_\n",
      "You ran out guesses!\n",
      "The word was:  slack\n"
     ]
    }
   ],
   "source": [
    "play_wordle()"
   ]
  },
  {
   "cell_type": "code",
   "execution_count": null,
   "metadata": {},
   "outputs": [],
   "source": []
  }
 ],
 "metadata": {
  "kernelspec": {
   "display_name": "Python 3",
   "language": "python",
   "name": "python3"
  },
  "language_info": {
   "codemirror_mode": {
    "name": "ipython",
    "version": 3
   },
   "file_extension": ".py",
   "mimetype": "text/x-python",
   "name": "python",
   "nbconvert_exporter": "python",
   "pygments_lexer": "ipython3",
   "version": "3.6.4"
  }
 },
 "nbformat": 4,
 "nbformat_minor": 2
}
