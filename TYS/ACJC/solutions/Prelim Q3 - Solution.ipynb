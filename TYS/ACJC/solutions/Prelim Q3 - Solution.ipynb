{
 "cells": [
  {
   "cell_type": "code",
   "execution_count": 5,
   "metadata": {},
   "outputs": [
    {
     "name": "stdout",
     "output_type": "stream",
     "text": [
      "{'n': 0, 'a': 1, 'm': 2}\n",
      "False\n",
      "True\n",
      "True\n",
      "True\n",
      "False\n"
     ]
    }
   ],
   "source": [
    "def dict1(s):\n",
    "    result = {}\n",
    "    length = len(s)\n",
    "    for i in range(length):\n",
    "        char = s[length-i-1] \n",
    "        if char not in result:\n",
    "            result[char] = i\n",
    "    return result\n",
    "\n",
    "def search(t, s, dic):\n",
    "    if len(t) < len(s): # length check\n",
    "        return False\n",
    "    else:\n",
    "        length = len(s) \n",
    "        i = length-1 # intialise value of i and iteration\n",
    "        while True:\n",
    "            j = 0 # initialise value of j (iterate through s backwards)\n",
    "            while j < length:\n",
    "                if t[i] == s[length-j-1]: # matching letters\n",
    "                    i -= 1 # go backwards in both t\n",
    "                    j += 1 # and s\n",
    "                else:\n",
    "                    if t[i] in dic: # letters do not match\n",
    "                        if dic[t[i]] < j: # taking care of edge case\n",
    "                            i += j+1\n",
    "                        else:\n",
    "                            i += dic[t[i]]\n",
    "                    else:\n",
    "                        i += length # letter not in dic\n",
    "                    j = 0 # reset value of j\n",
    "                if i >= len(t): # terminating condition\n",
    "                    return False\n",
    "            return True\n",
    "\n",
    "s = 'anman'\n",
    "t0 = 'aman'\n",
    "t1 = 'anpanpanman'\n",
    "t2 = 'anpanmanpan'\n",
    "t3 = 'anmanpanpan'\n",
    "t4 = 'anpanpnnpan'\n",
    "\n",
    "print(dict1(s))\n",
    "print(search(t0,s,dict1(s)))\n",
    "print(search(t1,s,dict1(s)))\n",
    "print(search(t2,s,dict1(s)))\n",
    "print(search(t3,s,dict1(s)))\n",
    "print(search(t4,s,dict1(s)))"
   ]
  }
 ],
 "metadata": {
  "kernelspec": {
   "display_name": "Python 3",
   "language": "python",
   "name": "python3"
  },
  "language_info": {
   "codemirror_mode": {
    "name": "ipython",
    "version": 3
   },
   "file_extension": ".py",
   "mimetype": "text/x-python",
   "name": "python",
   "nbconvert_exporter": "python",
   "pygments_lexer": "ipython3",
   "version": "3.6.4"
  }
 },
 "nbformat": 4,
 "nbformat_minor": 2
}
