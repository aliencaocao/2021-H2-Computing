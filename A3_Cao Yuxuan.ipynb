{
 "cells": [
  {
   "cell_type": "code",
   "execution_count": 14,
   "metadata": {
    "collapsed": true
   },
   "outputs": [
    {
     "name": "stdout",
     "output_type": "stream",
     "text": [
      "3628800\n"
     ]
    }
   ],
   "source": [
    "from math import factorial\n",
    "N = int(input(\"Enter an integer here: \"))\n",
    "print(factorial(N))"
   ]
  },
  {
   "cell_type": "code",
   "execution_count": 16,
   "outputs": [
    {
     "name": "stdout",
     "output_type": "stream",
     "text": [
      "The triangle is equilateral.\n"
     ]
    }
   ],
   "source": [
    "l1 = float(input(\"Input length 1: \"))\n",
    "l2 = float(input(\"Input length 2: \"))\n",
    "l3 = float(input(\"Input length 3: \"))\n",
    "\n",
    "if l1 == l2 and l2 == l3 and l1 == l3:\n",
    "    print('The triangle is equilateral.')\n",
    "else:\n",
    "    print('The triangle is not equilateral.')"
   ],
   "metadata": {
    "collapsed": false,
    "pycharm": {
     "name": "#%%\n"
    }
   }
  },
  {
   "cell_type": "code",
   "execution_count": 20,
   "outputs": [
    {
     "name": "stdout",
     "output_type": "stream",
     "text": [
      "Length of word is 16\n",
      "Number of vowels: 11\n"
     ]
    }
   ],
   "source": [
    "vowels = ['a', 'e', 'i', 'o', 'u']\n",
    "word = input('Enter a word: ').lower()\n",
    "print('Length of word is', len(word))\n",
    "counter = 0\n",
    "for i in word:\n",
    "    if i in vowels:\n",
    "        counter += 1\n",
    "    else:\n",
    "        pass\n",
    "else:\n",
    "    print('Number of vowels:', counter)"
   ],
   "metadata": {
    "collapsed": false,
    "pycharm": {
     "name": "#%%\n"
    }
   }
  },
  {
   "cell_type": "code",
   "execution_count": 2,
   "outputs": [
    {
     "name": "stdout",
     "output_type": "stream",
     "text": [
      "**********\n",
      "*        *\n",
      "*        *\n",
      "*        *\n",
      "**********\n"
     ]
    }
   ],
   "source": [
    "n = int(input(\"Enter a positive integer here: \"))\n",
    "if n > 0:\n",
    "    print('*' * (2 * n))\n",
    "    for i in range(n-2):\n",
    "        print('*' + \" \" * (2*n-2) + \"*\")\n",
    "    print('*' * (2 * n))\n",
    "else:\n",
    "    print(\"Enter a proper positive integer pls\")"
   ],
   "metadata": {
    "collapsed": false,
    "pycharm": {
     "name": "#%%\n"
    }
   }
  },
  {
   "cell_type": "code",
   "execution_count": 12,
   "outputs": [
    {
     "name": "stdout",
     "output_type": "stream",
     "text": [
      "100:  [1, 2, 4, 5, 10, 20, 25, 50, 100]\n",
      "Sum of divisors: 217\n",
      "101:  [1, 101]\n",
      "Sum of divisors: 102\n",
      "102:  [1, 2, 3, 6, 17, 34, 51, 102]\n",
      "Sum of divisors: 216\n",
      "103:  [1, 103]\n",
      "Sum of divisors: 104\n",
      "104:  [1, 2, 4, 8, 13, 26, 52, 104]\n",
      "Sum of divisors: 210\n",
      "105:  [1, 3, 5, 7, 15, 21, 35, 105]\n",
      "Sum of divisors: 192\n",
      "106:  [1, 2, 53, 106]\n",
      "Sum of divisors: 162\n",
      "107:  [1, 107]\n",
      "Sum of divisors: 108\n",
      "108:  [1, 2, 3, 4, 6, 9, 12, 18, 27, 36, 54, 108]\n",
      "Sum of divisors: 280\n",
      "109:  [1, 109]\n",
      "Sum of divisors: 110\n",
      "110:  [1, 2, 5, 10, 11, 22, 55, 110]\n",
      "Sum of divisors: 216\n",
      "108 has maximum sum of divisors.\n"
     ]
    }
   ],
   "source": [
    "num = 99  # Start from 99 as first iteration will add it to 100\n",
    "divisors = []\n",
    "sums = [0]\n",
    "maxnum = 0\n",
    "for i in range(11):  # 100 to 110 is a total of 11 numbers so range of 11\n",
    "    num +=1\n",
    "    divisors = []  # clear divisors for each num else it will stack.\n",
    "    for j in range(num + 1):  # iterate through all integers from 1 to the num. +1 because range start from 0 so excludes the number itself\n",
    "        if j == 0:  # Prevent zero divisor error since j start from 0\n",
    "            j+=1\n",
    "        elif num % j == 0:  # Check if remainder is 0. If it is 0, it means j is a divisor.\n",
    "            divisors.append(j)  # Add j to the list of divisors.\n",
    "        if max(sums) < sum(divisors):\n",
    "            maxnum = num\n",
    "        else:\n",
    "            continue\n",
    "    else:\n",
    "        print(f\"{num}: \", divisors)\n",
    "        print('Sum of divisors:', sum(divisors))\n",
    "        sums.append(sum(divisors))\n",
    "\n",
    "print(maxnum, 'has maximum sum of divisors.')"
   ],
   "metadata": {
    "collapsed": false,
    "pycharm": {
     "name": "#%%\n"
    }
   }
  },
  {
   "cell_type": "code",
   "execution_count": 8,
   "outputs": [
    {
     "name": "stdout",
     "output_type": "stream",
     "text": [
      "Num of rolls it took to break the player: 638\n",
      "Max amount of money in pot: 83\n"
     ]
    }
   ],
   "source": [
    "import random\n",
    "money = int(input(\"Amount of money to put in the pot: \"))\n",
    "a, b = 0, 0\n",
    "count = 0\n",
    "maxMoney = []\n",
    "while money > 0:\n",
    "    a, b = random.randint(1,6), random.randint(1,6)\n",
    "    count+=1\n",
    "    if a + b == 7:\n",
    "        money+=4\n",
    "        maxMoney.append(money)\n",
    "    else:\n",
    "        money-=1\n",
    "\n",
    "print(\"Num of rolls it took to break the player:\", count)\n",
    "print(\"Max amount of money in pot:\", max(maxMoney))"
   ],
   "metadata": {
    "collapsed": false,
    "pycharm": {
     "name": "#%%\n"
    }
   }
  },
  {
   "cell_type": "code",
   "execution_count": 3,
   "outputs": [
    {
     "name": "stdout",
     "output_type": "stream",
     "text": [
      "You got it in 1 tries!\n"
     ]
    }
   ],
   "source": [
    "import random\n",
    "num = random.randint(1, 100)\n",
    "tries = 0\n",
    "guess = 101  # Make it impossible to be same as num so the while loop will surely get executed for at least one time.\n",
    "while guess != num:\n",
    "    guess = int(input(\"Enter a guess: \"))\n",
    "    tries+=1\n",
    "    if guess > num:\n",
    "        print (\"Too large\")\n",
    "    elif guess < num:\n",
    "        print (\"Too small\")\n",
    "\n",
    "print(f\"You got it in {tries} tries!\")"
   ],
   "metadata": {
    "collapsed": false,
    "pycharm": {
     "name": "#%%\n"
    }
   }
  },
  {
   "cell_type": "code",
   "execution_count": 1,
   "outputs": [
    {
     "name": "stdout",
     "output_type": "stream",
     "text": [
      "100\n",
      "40\n",
      "66\n",
      "20\n",
      "16\n",
      "21\n",
      "76\n",
      "69\n",
      "60\n",
      "45\n",
      "56\n",
      "62\n",
      "49\n",
      "83\n",
      "87\n",
      "52\n",
      "71\n",
      "26\n",
      "57\n",
      "50\n",
      "47\n",
      "6\n",
      "60\n",
      "17\n",
      "19\n",
      "34\n",
      "20\n",
      "76\n",
      "39\n",
      "53\n",
      "66\n",
      "54\n",
      "49\n",
      "59\n",
      "33\n",
      "35\n",
      "57\n",
      "59\n",
      "20\n",
      "13\n",
      "35\n",
      "58\n",
      "Computer got it in 43 tries!\n"
     ]
    }
   ],
   "source": [
    "import random\n",
    "num = int(input(\"Input a number between 1 to 100 inclusive: \"))\n",
    "tries = 0\n",
    "guess = 101  # Make it impossible to be same as num so the while loop will surely get executed for at least one time.\n",
    "small, big = 1, 100  # For later adjustment to increase accuracy - similar to gradient descent\n",
    "while guess != num:\n",
    "    guess = random.randint(small, big)\n",
    "    tries+=1\n",
    "    if guess > num:\n",
    "        print (guess)\n",
    "        big-=1\n",
    "    elif guess < num:\n",
    "        print (guess)\n",
    "        small+=1\n",
    "\n",
    "print(f\"Computer got it in {tries} tries!\")"
   ],
   "metadata": {
    "collapsed": false,
    "pycharm": {
     "name": "#%%\n"
    }
   }
  }
 ],
 "metadata": {
  "kernelspec": {
   "display_name": "Python 3",
   "language": "python",
   "name": "python3"
  },
  "language_info": {
   "codemirror_mode": {
    "name": "ipython",
    "version": 2
   },
   "file_extension": ".py",
   "mimetype": "text/x-python",
   "name": "python",
   "nbconvert_exporter": "python",
   "pygments_lexer": "ipython2",
   "version": "2.7.6"
  }
 },
 "nbformat": 4,
 "nbformat_minor": 0
}