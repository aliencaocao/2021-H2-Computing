{
 "nbformat": 4,
 "nbformat_minor": 0,
 "metadata": {
  "kernelspec": {
   "display_name": "Python 3",
   "language": "python",
   "name": "python3"
  },
  "language_info": {
   "codemirror_mode": {
    "name": "ipython",
    "version": 3
   },
   "file_extension": ".py",
   "mimetype": "text/x-python",
   "name": "python",
   "nbconvert_exporter": "python",
   "pygments_lexer": "ipython3",
   "version": "3.6.4"
  },
  "colab": {
   "name": "Assignment 4_your name.ipynb",
   "provenance": []
  }
 },
 "cells": [
  {
   "cell_type": "markdown",
   "metadata": {
    "id": "QMgI91we8BjR"
   },
   "source": [
    "1. Design a recursive function that accepts two arguments into the parametrs x and y. The function should return the value of x times y. Remember, multiplication can be performed as repeated addition as follows:\n",
    " \n",
    "                  7 x 4 = 4 + 4 + 4 + 4 + 4 + 4 + 4\n",
    "                  \n",
    "   (To keep the function simple, assume that x and y will always hold positive integers.)"
   ]
  },
  {
   "cell_type": "code",
   "metadata": {
    "id": "80lyPLsH8BjW"
   },
   "source": [
    "def mul(x, y):\n",
    "    if y == 1:\n",
    "        return x\n",
    "    elif y == 0 or x == 0:\n",
    "        return 0\n",
    "    else:\n",
    "        return x + mul(x, y-1)  # Add x for y times\n",
    "\n",
    "def main():\n",
    "    x = int(input('Enter the multiple 1: '))\n",
    "    y = int(input('Enter the multiple 2: '))\n",
    "    print(mul(x, y))\n",
    "\n",
    "main()"
   ],
   "execution_count": 1,
   "outputs": [
    {
     "name": "stdout",
     "output_type": "stream",
     "text": [
      "0\n"
     ]
    }
   ]
  },
  {
   "cell_type": "markdown",
   "metadata": {
    "id": "4xvaVeY_8BjX"
   },
   "source": [
    "2. Write a recursive function that accepts an integer argument, n. The function should display n lines of asterisks on the screen, with the first line showing 1 asterisk, the second line showing 2 asterisks, up to the nth line which shows n asterisks."
   ]
  },
  {
   "cell_type": "code",
   "metadata": {
    "id": "72oJPrdy8BjX"
   },
   "source": [
    "def printast(n):\n",
    "    if n == 1:\n",
    "        print('*')\n",
    "    else:\n",
    "        printast(n-1)\n",
    "        print('*' * n)\n",
    "\n",
    "def main():\n",
    "    n = int(input(\"Enter the value of n: \"))\n",
    "    printast(n)\n",
    "\n",
    "main()"
   ],
   "execution_count": null,
   "outputs": []
  },
  {
   "cell_type": "markdown",
   "metadata": {
    "id": "bRa7xkkp8BjX"
   },
   "source": [
    "3. Design a function that accepts an integer argument and returns the sum of all the integers from 1 up to the number passed as an argument. For example, if 50 is passed as an argument, the function will return the sum of  1, 2 , 3, . . . ,50. Use recursion to calculate the sum. "
   ]
  },
  {
   "cell_type": "code",
   "metadata": {
    "id": "ZDleG-vP8BjY"
   },
   "source": [
    "def add(n):\n",
    "    if n == 1:\n",
    "        return 1\n",
    "    else:\n",
    "        return n + add(n-1)  # Add the input n to sum of all numbers smaller than n\n",
    "\n",
    "def main():\n",
    "    n = int(input(\"Enter the value of n: \"))\n",
    "    print(add(n))\n",
    "\n",
    "main()"
   ],
   "execution_count": null,
   "outputs": []
  },
  {
   "cell_type": "markdown",
   "metadata": {
    "id": "iE3xvlN08BjY"
   },
   "source": [
    "4 Write a menu-driven automatic teller program in which the user’s bank balance is initialized to $1,000.  The user should be allowed to perform as many transactions as he or she wishes from the menu.\n",
    "\n",
    " 1.\tDeposit\n",
    " 2.\tWithdrawal\n",
    " 3.\tSee balance\n",
    " 4.\tQuit\n",
    "\n",
    "For the withdrawal option, the user should be prompted to select from the choices `$50`, \t`$100`, `$200`, and `$500`.  (Do not allow user to overdraw.)  After each transaction, the \tprogram should print the current balance.  On exiting, the program should print a \tcourteous message. In this program, design a function for each option. \n"
   ]
  },
  {
   "cell_type": "code",
   "metadata": {
    "id": "a0NCnmcS8BjY"
   },
   "source": [
    "balance = 1000.00\n",
    "\n",
    "def deposit(amt):\n",
    "    global balance\n",
    "    balance += amt\n",
    "    print(f'Deposited ${amt}, new balance is ${balance:.2f}.')\n",
    "    return 0\n",
    "\n",
    "def withdraw():\n",
    "    global balance\n",
    "    print('You can withdraw the following amount:\\n1. $50\\n2. $100\\n3. $200\\n4. $500\\n5. Back\\nPlease input your choice below: ')\n",
    "    withdrawChoice = int(input('Withdrawal Choice (1-5)； '))\n",
    "    if withdrawChoice == 1:\n",
    "        if balance < 50:\n",
    "            print(f'Your bank balance is ${balance:.2f}, which is lower than the minimum withdrawal amount of $50.')\n",
    "            return 1\n",
    "        else:\n",
    "            balance -= 50\n",
    "            print(f'Withdrawal success. New balance: ${balance:.2f}.')\n",
    "    elif withdrawChoice == 2:\n",
    "        if balance < 100:\n",
    "            print(f'Your bank balance is ${balance:.2f}, which is lower than the amount requested to withdraw ($100).')\n",
    "            return 1\n",
    "        else:\n",
    "            balance -= 100\n",
    "            print(f'Withdrawal success. New balance: ${balance:.2f}.')\n",
    "            return 0\n",
    "    elif withdrawChoice == 3:\n",
    "        if balance < 200:\n",
    "            print(f'Your bank balance is ${balance:.2f}, which is lower than the amount requested to withdraw ($200).')\n",
    "            return 1\n",
    "        else:\n",
    "            balance -= 200\n",
    "            print(f'Withdrawal success. New balance: ${balance:.2f}.')\n",
    "            return 0\n",
    "    elif withdrawChoice == 4:\n",
    "        if balance < 500:\n",
    "            print(f'Your bank balance is ${balance:.2f}, which is lower than the amount requested to withdraw ($500).')\n",
    "            return 1\n",
    "        else:\n",
    "            balance -= 500\n",
    "            print(f'Withdrawal success. New balance: ${balance:.2f}.')\n",
    "            return 0\n",
    "    elif withdrawChoice == 5:\n",
    "        return 0\n",
    "    else:\n",
    "        print('Please enter a valid choice.')\n",
    "        return 1\n",
    "\n",
    "def seeBalance():\n",
    "    global balance\n",
    "    print(f'The balance is ${balance:.2f}')\n",
    "\n",
    "def quit():\n",
    "    print('Thanks and have a great day!')\n",
    "\n",
    "def main():\n",
    "    print('Welcome to ATM!')\n",
    "    while True:\n",
    "        print('\\n1. Deposit\\n2. Withdrawal\\n3. See balance\\n4. Quit\\n')\n",
    "        choice = int(input('Select the task (1-4): '))\n",
    "        if choice == 1:\n",
    "            deposit(float(input('Enter the amount to deposit: ')))\n",
    "        elif choice == 2:\n",
    "            success = withdraw()\n",
    "            if success == 0:  # 0 means success, 1 means error. If error, keep retrying in withdraw function\n",
    "                continue\n",
    "            else:\n",
    "                withdraw()\n",
    "        elif choice == 3:\n",
    "            seeBalance()\n",
    "        elif choice == 4:\n",
    "            quit()\n",
    "            break\n",
    "        else:\n",
    "            print('Please input an integer from 1 to 4')\n",
    "\n",
    "main()\n"
   ],
   "execution_count": null,
   "outputs": []
  }
 ]
}