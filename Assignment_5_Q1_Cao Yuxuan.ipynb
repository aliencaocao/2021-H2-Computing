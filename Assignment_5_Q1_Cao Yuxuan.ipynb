{
 "nbformat": 4,
 "nbformat_minor": 0,
 "metadata": {
  "kernelspec": {
   "display_name": "Python 3",
   "language": "python",
   "name": "python3"
  },
  "language_info": {
   "codemirror_mode": {
    "name": "ipython",
    "version": 3
   },
   "file_extension": ".py",
   "mimetype": "text/x-python",
   "name": "python",
   "nbconvert_exporter": "python",
   "pygments_lexer": "ipython3",
   "version": "3.6.4"
  },
  "colab": {
   "name": "Assignment 5 Q1_your name.ipynb",
   "provenance": []
  }
 },
 "cells": [
  {
   "cell_type": "markdown",
   "metadata": {
    "id": "rr37phjcXkCh"
   },
   "source": [
    "1.\tWrite a function, for each part, that converts\n",
    "```\n",
    "\t(a)\tBinary numbers to decimal numbers\n",
    "\t(b)\tDecimal numbers to hexadecimal numbers\n",
    "\t(c)\tHexadecimal numbers to binary numbers\n",
    "```"
   ]
  },
  {
   "cell_type": "code",
   "metadata": {
    "id": "eGN5F8K5XkCm"
   },
   "source": [
    "# 1(a) Binary numbers to decimal numbers\n",
    "\n",
    "def bin2dec(input):\n",
    "    counter = 1\n",
    "    terms = []\n",
    "    for i in input:\n",
    "        terms += [int(i) * (2 ** (len(input) - counter))]  # if no int(), i will be a string and multiply will return 4 'i's instead\n",
    "        counter += 1\n",
    "    return sum(terms)\n",
    "print (bin2dec('10011'))    # 19\n"
   ],
   "execution_count": 1,
   "outputs": [
    {
     "name": "stdout",
     "output_type": "stream",
     "text": [
      "19\n"
     ]
    }
   ]
  },
  {
   "cell_type": "code",
   "metadata": {
    "id": "O19sTdXLXkCo"
   },
   "source": [
    "# 1(b)  Decimal numbers to hexadecimal numbers\n",
    "\n",
    "def dec2hex(input):\n",
    "    results = []\n",
    "    value = int(input)\n",
    "    letters = 'ABCDEF'\n",
    "    while value >= 1:  # Stop when dividing by 16 results in a number smaller than 1\n",
    "        remainder = value%16\n",
    "        if remainder >= 10:  # if remainder larger than 9, map letters\n",
    "            results += [letters[remainder%10]]  # int % 10 returns the last digit as it is the remainder, used as list index to map onto letter\n",
    "        else:\n",
    "            results += [remainder]  # if its just a single digit number, add it to results list\n",
    "        value = value//16\n",
    "    return reversed(results)  # LSD is at front so need reverse\n",
    "\n",
    "print (*dec2hex(46), sep='')         # 2E\n",
    "\n"
   ],
   "execution_count": 24,
   "outputs": [
    {
     "name": "stdout",
     "output_type": "stream",
     "text": [
      "2E\n"
     ]
    }
   ]
  },
  {
   "cell_type": "code",
   "metadata": {
    "id": "Ldw_KBbpXkCo"
   },
   "source": [
    "# 1(c)  Hexadecimal numbers to binary numbers\n",
    "# method 1  (hex -> dec -> bin)\n",
    "\n",
    "    .\n",
    "    .\n",
    "    .\n",
    "    \n",
    "  \n",
    "\n",
    "\n",
    "\n",
    "def main():\n",
    "    hex = input(\"Enter a hexadecimal number: \")    # 2AF\n",
    "\n",
    "    print(\"\\nMethod 1: convert hex to dec then from dec to bin\")\n",
    "    dec = hex2dec(hex)\n",
    "    bin = dec2bin(dec)\n",
    "\n",
    "    print ('Hexadecimal: ', hex)    # 2AF\n",
    "    print ('Binary:      ', bin)    # 1010101111\n",
    "\n",
    "main()"
   ],
   "execution_count": null,
   "outputs": []
  },
  {
   "cell_type": "code",
   "metadata": {
    "id": "Arq9bcuMXkCp"
   },
   "source": [
    "# 1(c)  Hexadecimal numbers to binary numbers\n",
    "#  method 2  (hex -> bin)\n",
    "\n",
    "        .\n",
    "        .\n",
    "        .\n",
    "\n",
    "\n",
    "\n",
    "\n",
    "def main():\n",
    "    hex = input(\"Enter a hexadecimal number: \")     # 2AF\n",
    "    \n",
    "    print (\"Method 2: convert each hexa digit to 4 binary bits\") \n",
    "    bin = hex2bin(hex)\n",
    "    #bin = bin.lstrip('0')    # remove leading '0's\n",
    "    \n",
    "    print ('Hexadecimal: ', hex)    # 2AF\n",
    "    print ('Binary:      ', bin)    # 1010101111\n",
    "\n",
    "main()    \n",
    "\n"
   ],
   "execution_count": null,
   "outputs": []
  }
 ]
}