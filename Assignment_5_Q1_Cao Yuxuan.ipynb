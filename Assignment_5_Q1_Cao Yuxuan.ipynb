{
 "nbformat": 4,
 "nbformat_minor": 0,
 "metadata": {
  "kernelspec": {
   "display_name": "Python 3",
   "language": "python",
   "name": "python3"
  },
  "language_info": {
   "codemirror_mode": {
    "name": "ipython",
    "version": 3
   },
   "file_extension": ".py",
   "mimetype": "text/x-python",
   "name": "python",
   "nbconvert_exporter": "python",
   "pygments_lexer": "ipython3",
   "version": "3.6.4"
  },
  "colab": {
   "name": "Assignment 5 Q1_your name.ipynb",
   "provenance": []
  }
 },
 "cells": [
  {
   "cell_type": "markdown",
   "metadata": {
    "id": "rr37phjcXkCh"
   },
   "source": [
    "1.\tWrite a function, for each part, that converts\n",
    "```\n",
    "\t(a)\tBinary numbers to decimal numbers\n",
    "\t(b)\tDecimal numbers to hexadecimal numbers\n",
    "\t(c)\tHexadecimal numbers to binary numbers\n",
    "```"
   ]
  },
  {
   "cell_type": "code",
   "metadata": {
    "id": "eGN5F8K5XkCm"
   },
   "source": [
    "# 1(a) Binary numbers to decimal numbers\n",
    "\n",
    "def bin2dec(input):\n",
    "    counter = 1\n",
    "    terms = []\n",
    "    for i in input:\n",
    "        terms += [int(i) * (2 ** (len(input) - counter))]  # if no int(), i will be a string and multiply will return 4 'i's instead\n",
    "        counter += 1\n",
    "    return sum(terms)\n",
    "print (bin2dec('10011'))    # 19\n"
   ],
   "execution_count": 1,
   "outputs": [
    {
     "name": "stdout",
     "output_type": "stream",
     "text": [
      "19\n"
     ]
    }
   ]
  },
  {
   "cell_type": "code",
   "metadata": {
    "id": "O19sTdXLXkCo"
   },
   "source": [
    "# 1(b)  Decimal numbers to hexadecimal numbers\n",
    "\n",
    "def dec2hex(input):\n",
    "    results = []\n",
    "    value = int(input)\n",
    "    letters = 'ABCDEF'\n",
    "    while value >= 1:  # Stop when dividing by 16 results in a number smaller than 1\n",
    "        remainder = value%16\n",
    "        if remainder >= 10:  # if remainder larger than 9, map letters\n",
    "            results += [letters[remainder%10]]  # int % 10 returns the last digit as it is the remainder, used as list index to map onto letter\n",
    "        else:\n",
    "            results += [remainder]  # if its just a single digit number, add it to results list\n",
    "        value = value//16\n",
    "    return ''.join(map(str, reversed(results)))  # LSD is at front so need reverse\n",
    "\n",
    "print (dec2hex(46))         # 2E\n",
    "\n"
   ],
   "execution_count": 1,
   "outputs": [
    {
     "name": "stdout",
     "output_type": "stream",
     "text": [
      "2E\n"
     ]
    }
   ]
  },
  {
   "cell_type": "code",
   "metadata": {
    "id": "Ldw_KBbpXkCo"
   },
   "source": [
    "# 1(c)  Hexadecimal numbers to binary numbers\n",
    "# method 1  (hex -> dec -> bin)\n",
    "def hex2dec(input):\n",
    "    result = 0\n",
    "    letters = 'ABCDEF'\n",
    "    placeValue = len(input)-1\n",
    "    for i in input:\n",
    "        if i.isdigit():\n",
    "            value = int(i)\n",
    "        else:\n",
    "            value = 10 + letters.index(i.upper())\n",
    "        value *= 16 ** placeValue\n",
    "        result += value\n",
    "        placeValue -= 1\n",
    "    return result\n",
    "\n",
    "def dec2bin(input):\n",
    "    terms = []\n",
    "    while input >= 1:  # convert from decimal to binary\n",
    "        terms += str(input%2)\n",
    "        input //= 2\n",
    "    terms.reverse()\n",
    "    return ''.join(terms)\n",
    "\n",
    "def main():\n",
    "    hex = input(\"Enter a hexadecimal number: \")    # 2AF\n",
    "\n",
    "    print(\"\\nMethod 1: convert hex to dec then from dec to bin\")\n",
    "    dec = hex2dec(hex)\n",
    "    bin = dec2bin(dec)\n",
    "\n",
    "    print ('Hexadecimal: ', hex)    # 2AF\n",
    "    print('dec', dec)\n",
    "    print ('Binary:      ', bin)    # 1010101111\n",
    "\n",
    "main()"
   ],
   "execution_count": 5,
   "outputs": [
    {
     "name": "stdout",
     "output_type": "stream",
     "text": [
      "\n",
      "Method 1: convert hex to dec then from dec to bin\n",
      "Hexadecimal:  2af\n",
      "dec 687\n",
      "Binary:       1010101111\n"
     ]
    }
   ]
  },
  {
   "cell_type": "code",
   "metadata": {
    "id": "Arq9bcuMXkCp"
   },
   "source": [
    "# 1(c)  Hexadecimal numbers to binary numbers\n",
    "#  method 2  (hex -> bin)\n",
    "def hex2bin(input):\n",
    "    input = reversed(input)  # make LSD to be at front for conversion\n",
    "    result = []\n",
    "    letters = 'ABCDEF'\n",
    "    for i in input:\n",
    "        terms = []\n",
    "        # Convert back to decimal\n",
    "        if i.isdigit():\n",
    "            value = int(i)\n",
    "        else:\n",
    "            value = 10 + letters.index(i.upper())  # find corresponding int value for letters\n",
    "        while value >= 1:  # convert from decimal to binary\n",
    "            terms += [str(value%2)]\n",
    "            value //= 2\n",
    "        terms.reverse()  # Reverse here to pad 0s at front\n",
    "        terms.insert(0, '0' * (4-len(terms)))  # Pad each binary term into 4 digits with 0\n",
    "        result += [''.join(terms)] # Reverse back and remove 0 at beginning\n",
    "    return ''.join(map(str, reversed(result)))\n",
    "\n",
    "def main():\n",
    "    hex = input(\"Enter a hexadecimal number: \")     # 2AF\n",
    "    \n",
    "    print (\"Method 2: convert each hexa digit to 4 binary bits\") \n",
    "    bin = hex2bin(hex)\n",
    "    bin = bin.lstrip('0')\n",
    "    print ('Hexadecimal: ', hex)    # 2AF\n",
    "    print ('Binary:      ', bin)    # 1010101111\n",
    "\n",
    "main()    \n",
    "\n"
   ],
   "execution_count": 9,
   "outputs": [
    {
     "name": "stdout",
     "output_type": "stream",
     "text": [
      "Method 2: convert each hexa digit to 4 binary bits\n",
      "Hexadecimal:  2af\n",
      "Binary:       1010101111\n"
     ]
    }
   ]
  }
 ]
}