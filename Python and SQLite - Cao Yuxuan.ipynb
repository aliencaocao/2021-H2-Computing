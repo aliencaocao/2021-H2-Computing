{
 "cells": [
  {
   "cell_type": "markdown",
   "metadata": {
    "pycharm": {
     "name": "#%% md\n"
    }
   },
   "source": [
    "### Python and SQLite \n",
    "\n",
    "\n",
    "\n",
    "**Exercise 1**\n",
    "\n",
    "Use DBBrowser, create a database library.db.  \n",
    "Create tables BOOK and AUTHOR with the following fields.\n",
    "\n",
    "```\n",
    "Table BOOK\n",
    "a. ID INTEGER AUTO INCREMENT (Primary Key)\n",
    "b. NAME TEXT\n",
    "c. AUTHORID INTEGER  \n",
    "\n",
    "Note: AUTHORID is a Foreign Key that is link to the Primary key of Author table\n",
    "```\n",
    "\n",
    "```\n",
    "Table AUTHOR\n",
    "a. ID INTEGER AUTO INCREMENT (Primary Key)\n",
    "b. NAME TEXT\n",
    "```\n",
    "\n"
   ]
  },
  {
   "cell_type": "markdown",
   "metadata": {
    "pycharm": {
     "name": "#%% md\n"
    }
   },
   "source": [
    "**Exercise 2**\n",
    "\n",
    "Write a program that read the file books.txt and store the name of book in the BOOK table and name of the author in the AUTHOR table.\n",
    "\n",
    "If there are no author information, replace the author as \"unknown\"."
   ]
  },
  {
   "cell_type": "code",
   "execution_count": 15,
   "metadata": {
    "scrolled": true,
    "pycharm": {
     "name": "#%%\n"
    }
   },
   "outputs": [],
   "source": [
    "import sqlite3\n",
    "\n",
    "authors, books = [], []\n",
    "with open('books.txt', 'r') as f:\n",
    "    for line in f:\n",
    "        book, author = line.strip().split(' by ')\n",
    "        authors.append(author)\n",
    "        books.append(book.replace('\"', ''))\n",
    "\n",
    "connection = sqlite3.connect('../DB/library.db')\n",
    "\n",
    "\n",
    "authors_books = {authors[i]: books[i] for i in range(len(authors))}\n",
    "authors = list(set(authors))\n",
    "authors_id = {author: i for i, author in enumerate(authors)}\n",
    "\n",
    "\n",
    "for author in authors:\n",
    "    connection.execute(\"INSERT INTO AUTHOR(NAME)\" + \"VALUES(?)\", (author,))\n",
    "\n",
    "for author, book in authors_books.items():\n",
    "    connection.execute(\"INSERT INTO BOOK(NAME, AUTHORID)\" + \"VALUES(?, ?)\", (book, authors_id[author]))\n",
    "\n",
    "connection.commit()"
   ]
  },
  {
   "cell_type": "code",
   "execution_count": 16,
   "outputs": [],
   "source": [
    "connection.close()"
   ],
   "metadata": {
    "collapsed": false,
    "pycharm": {
     "name": "#%%\n"
    }
   }
  },
  {
   "cell_type": "markdown",
   "metadata": {
    "pycharm": {
     "name": "#%% md\n"
    }
   },
   "source": [
    "**Exercise 3**\n",
    "    \n",
    "Write a program to print out a menu that allow user to choose the function they would like to perform.\n",
    "\n",
    "Menu:\n",
    "\n",
    "Please select a function to perform:\n",
    "\n",
    "[a] Add a book\n",
    "\n",
    "[b] Update Book\n",
    "\n",
    "[c] Update Author\n",
    "\n",
    "[d] Delete Book\n",
    "\n",
    "[e] Print Book List BY Author\n",
    "\n",
    "[q] Quit\n",
    "\n",
    "\n",
    "1. Add a book - User will input the book's name and author's name of the book to be added\n",
    "\n",
    "\n",
    "2. Update Book- User will input part or full book's name. \n",
    "   With the part or full book's, the program will list out the books and prompt the user to select the\n",
    "   a book to update.\n",
    "   \n",
    "   \n",
    "3. Update Author - User will input part or full author's name.\n",
    "   With the part or full author name, the program will list out the authors and prompt the user to select    the author to update.\n",
    "\n",
    "\n",
    "4. Delete a book by Name  -  User will input part or full book's name,  the program will list out and prompt the user to select the book to be deleted.\n",
    "\n",
    "\n",
    "5. Print books by Author - User will input part or full author's name, the program will list out the books that matches the  author's name\n",
    "\n",
    "\n",
    "6. Quit - Exit from the program\n",
    "\n"
   ]
  },
  {
   "cell_type": "code",
   "execution_count": null,
   "metadata": {
    "pycharm": {
     "name": "#%%\n"
    }
   },
   "outputs": [],
   "source": []
  }
 ],
 "metadata": {
  "kernelspec": {
   "display_name": "Python 3",
   "language": "python",
   "name": "python3"
  },
  "language_info": {
   "codemirror_mode": {
    "name": "ipython",
    "version": 3
   },
   "file_extension": ".py",
   "mimetype": "text/x-python",
   "name": "python",
   "nbconvert_exporter": "python",
   "pygments_lexer": "ipython3",
   "version": "3.8.5"
  }
 },
 "nbformat": 4,
 "nbformat_minor": 2
}