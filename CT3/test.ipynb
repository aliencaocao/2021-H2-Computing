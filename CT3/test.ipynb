{
 "cells": [
  {
   "cell_type": "code",
   "execution_count": 1,
   "metadata": {
    "collapsed": true,
    "pycharm": {
     "name": "#%%\n"
    }
   },
   "outputs": [],
   "source": [
    "import json\n",
    "import pymongo\n",
    "\n",
    "conn = pymongo.MongoClient('127.0.0.1', 27017)"
   ]
  },
  {
   "cell_type": "code",
   "execution_count": 6,
   "outputs": [
    {
     "data": {
      "text/plain": "<pymongo.results.InsertManyResult at 0x19e7661e8c0>"
     },
     "execution_count": 6,
     "metadata": {},
     "output_type": "execute_result"
    }
   ],
   "source": [
    "moviedb = conn['movieDB']\n",
    "movie_coll = moviedb['movie']\n",
    "data = [{\"Title\": \"Mortal Kombat\",\"Year\": \"2021\",\"Rated\": \"R\",\"Runtime\": 110,\"Genre\": [\"Action\",\"Adventure\",\"Fantasy\"],\"Rating\": \"7\"}, {\"Title\": \"Wrong Turn\",\"Year\": \"2021\",\"Rated\": \"R\",\"Runtime\": 109,\"Genre\": [\"Horror\",\"Thriller\"], \"Rating\":\"5\"}, {\"Title\": \"The Little Things\",\"Year\":\"2021\",\"Rated\": \"R\",\"Runtime\": 130,\"Genre\": [\"Crime\", \"Drama\", \"Thriller\"],\"Rating\": \"6\"}, {\"Title\": \"Barb and Star Go to Vista Del Mar\",\"Year\": \"2021\",\"Rated\": \"PG-13\",\"Runtime\": 100,\"Genre\":[\"Comedy\"],\"Rating\": \"7\"}, {\"Title\": \"Minari\",\"Year\": \"2020\",\"Rated\": \"PG-13\",\"Runtime\": 115,\"Genre\": [\"Drama\"],\"Rating\": \"8\"}, {\"Title\": \"Music\",\"Year\": \"2021\",\"Rated\": \"PG-13\",\"Runtime\": 110,\"Genre\":[\"Drama\", \"Musical\"],\"Rating\": \"3\"}, {\"Title\": \"Nomadland\",\"Year\": \"2020\",\"Rated\": \"R\",\"Runtime\": 105,\"Genre\": [\"Drama\"],\"Rating\": \"8\"}, {\"Title\": \"Flora & Ulysses\",\"Year\": \"2021\",\"Rated\": \"PG\",\"Runtime\": 95,\"Genre\": [\"Comedy\", \"Adventure\", \"Family\"],\"Rating\": \"6\"}, {\"Title\": \"Tom and Jerry\",\"Year\": \"2021\",\"Rated\": \"PG\",\"Runtime\": 100,\"Genre\": [\"Animation\", \"Comedy\", \"Family\"],\"Rating\": \"5\"}, {\"Title\": \"The Unholy\",\"Year\": \"2021\",\"Rated\": \"PG\",\"Runtime\": 99,\"Genre\": [\"Horror\"],\"Rating\": \"5\"}, {\"Title\": \"The Courier\",\"Year\": \"2020\",\"Rated\": \"PG\",\"Runtime\": 112,\"Genre\": [\"Thriller\"],\"Rating\": \"7\"}]\n",
    "movie_coll.insert_many(data)"
   ],
   "metadata": {
    "collapsed": false,
    "pycharm": {
     "name": "#%%\n"
    }
   }
  },
  {
   "cell_type": "code",
   "execution_count": 9,
   "outputs": [
    {
     "name": "stdout",
     "output_type": "stream",
     "text": [
      "{'_id': ObjectId('6260a4bea6369ffa5e265d59'), 'Title': 'Mortal Kombat', 'Year': '2021', 'Rated': 'R', 'Runtime': 110, 'Genre': ['Action', 'Adventure', 'Fantasy'], 'Rating': '7'}\n",
      "{'_id': ObjectId('6260a4bea6369ffa5e265d5a'), 'Title': 'Wrong Turn', 'Year': '2021', 'Rated': 'R', 'Runtime': 109, 'Genre': ['Horror', 'Thriller'], 'Rating': '5'}\n",
      "{'_id': ObjectId('6260a4bea6369ffa5e265d5b'), 'Title': 'The Little Things', 'Year': '2021', 'Rated': 'R', 'Runtime': 130, 'Genre': ['Crime', 'Drama', 'Thriller'], 'Rating': '6'}\n",
      "{'_id': ObjectId('6260a4bea6369ffa5e265d5c'), 'Title': 'Barb and Star Go to Vista Del Mar', 'Year': '2021', 'Rated': 'PG-13', 'Runtime': 100, 'Genre': ['Comedy'], 'Rating': '7'}\n",
      "{'_id': ObjectId('6260a4bea6369ffa5e265d5d'), 'Title': 'Minari', 'Year': '2020', 'Rated': 'PG-13', 'Runtime': 115, 'Genre': ['Drama'], 'Rating': '8'}\n",
      "{'_id': ObjectId('6260a4bea6369ffa5e265d5e'), 'Title': 'Music', 'Year': '2021', 'Rated': 'PG-13', 'Runtime': 110, 'Genre': ['Drama', 'Musical'], 'Rating': '3'}\n",
      "{'_id': ObjectId('6260a4bea6369ffa5e265d5f'), 'Title': 'Nomadland', 'Year': '2020', 'Rated': 'R', 'Runtime': 105, 'Genre': ['Drama'], 'Rating': '8'}\n",
      "{'_id': ObjectId('6260a4bea6369ffa5e265d60'), 'Title': 'Flora & Ulysses', 'Year': '2021', 'Rated': 'PG', 'Runtime': 95, 'Genre': ['Comedy', 'Adventure', 'Family'], 'Rating': '6'}\n",
      "{'_id': ObjectId('6260a4bea6369ffa5e265d61'), 'Title': 'Tom and Jerry', 'Year': '2021', 'Rated': 'PG', 'Runtime': 100, 'Genre': ['Animation', 'Comedy', 'Family'], 'Rating': '5'}\n",
      "{'_id': ObjectId('6260a4bea6369ffa5e265d62'), 'Title': 'The Unholy', 'Year': '2021', 'Rated': 'PG', 'Runtime': 99, 'Genre': ['Horror'], 'Rating': '5'}\n",
      "{'_id': ObjectId('6260a4bea6369ffa5e265d63'), 'Title': 'The Courier', 'Year': '2020', 'Rated': 'PG', 'Runtime': 112, 'Genre': ['Thriller'], 'Rating': '7'}\n"
     ]
    }
   ],
   "source": [
    "result = movie_coll.find()\n",
    "for i in result:\n",
    "    print(i)"
   ],
   "metadata": {
    "collapsed": false,
    "pycharm": {
     "name": "#%%\n"
    }
   }
  },
  {
   "cell_type": "code",
   "execution_count": 16,
   "outputs": [
    {
     "name": "stdout",
     "output_type": "stream",
     "text": [
      "Movies rated PG:\n",
      "Title: Flora & Ulysses, Year: 2021, Rated: PG, Rating: 6, Runtime: 95\n",
      "Title: Tom and Jerry, Year: 2021, Rated: PG, Rating: 5, Runtime: 100\n",
      "Title: The Unholy, Year: 2021, Rated: PG, Rating: 5, Runtime: 99\n",
      "Title: The Courier, Year: 2020, Rated: PG, Rating: 7, Runtime: 112\n",
      "\n",
      "Movies with Drama genre sorted by descending runtime:\n",
      "Title: The Little Things, Year: 2021, Rated: R, Rating: 6, Runtime: 130\n",
      "Title: Minari, Year: 2020, Rated: PG-13, Rating: 8, Runtime: 115\n",
      "Title: Music, Year: 2021, Rated: PG-13, Rating: 3, Runtime: 110\n",
      "Title: Nomadland, Year: 2020, Rated: R, Rating: 8, Runtime: 105\n",
      "\n",
      "Movies with runtime greater than or equal to 95 and less than 110min:\n",
      "Title: Wrong Turn, Year: 2021, Rated: R, Rating: 5, Runtime: 109\n",
      "Title: Barb and Star Go to Vista Del Mar, Year: 2021, Rated: PG-13, Rating: 7, Runtime: 100\n",
      "Title: Nomadland, Year: 2020, Rated: R, Rating: 8, Runtime: 105\n",
      "Title: Flora & Ulysses, Year: 2021, Rated: PG, Rating: 6, Runtime: 95\n",
      "Title: Tom and Jerry, Year: 2021, Rated: PG, Rating: 5, Runtime: 100\n",
      "Title: The Unholy, Year: 2021, Rated: PG, Rating: 5, Runtime: 99\n",
      "\n"
     ]
    }
   ],
   "source": [
    "def printAllResults(result):\n",
    "    for i in result:\n",
    "        print(f'Title: {i[\"Title\"]}, Year: {i[\"Year\"]}, Rated: {i[\"Rated\"]}, Rating: {i[\"Rating\"]}, Runtime: {i[\"Runtime\"]}')\n",
    "\n",
    "print('Movies rated PG:')\n",
    "result = movie_coll.find({'Rated': 'PG'})\n",
    "printAllResults(result)\n",
    "print()\n",
    "\n",
    "print('Movies with Drama genre sorted by descending runtime:')\n",
    "result = movie_coll.find({'Genre': 'Drama'}).sort('Runtime', pymongo.DESCENDING)\n",
    "printAllResults(result)\n",
    "print()\n",
    "\n",
    "print('Movies with runtime greater than or equal to 95 and less than 110min:')\n",
    "result = movie_coll.find({'Runtime': {'$gte': 95, '$lt': 110}})\n",
    "printAllResults(result)\n",
    "print()"
   ],
   "metadata": {
    "collapsed": false,
    "pycharm": {
     "name": "#%%\n"
    }
   }
  }
 ],
 "metadata": {
  "kernelspec": {
   "display_name": "Python 3",
   "language": "python",
   "name": "python3"
  },
  "language_info": {
   "codemirror_mode": {
    "name": "ipython",
    "version": 2
   },
   "file_extension": ".py",
   "mimetype": "text/x-python",
   "name": "python",
   "nbconvert_exporter": "python",
   "pygments_lexer": "ipython2",
   "version": "2.7.6"
  }
 },
 "nbformat": 4,
 "nbformat_minor": 0
}