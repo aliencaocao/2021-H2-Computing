{
 "cells": [
  {
   "cell_type": "markdown",
   "metadata": {},
   "source": [
    "1.\tThe factorial of an integer N is the product of all of the integers between 1 and N, inclusive. Write a program that computes the factorial of a given integer N."
   ]
  },
  {
   "cell_type": "code",
   "execution_count": 1,
   "outputs": [
    {
     "name": "stdout",
     "output_type": "stream",
     "text": [
      "120\n"
     ]
    }
   ],
   "source": [
    "from math import factorial\n",
    "N = int(input(\"Enter an integer here: \"))\n",
    "print(factorial(N))"
   ],
   "metadata": {
    "collapsed": false,
    "pycharm": {
     "name": "#%%\n"
    }
   }
  },
  {
   "cell_type": "markdown",
   "metadata": {},
   "source": [
    "2.\tWrite a program that accepts the lengths of three sides of a triangle as inputs. \n",
    "The program output should indicate whether or not the triangle is an equilateral triangle."
   ]
  },
  {
   "cell_type": "code",
   "execution_count": 2,
   "metadata": {},
   "outputs": [
    {
     "name": "stdout",
     "output_type": "stream",
     "text": [
      "The triangle is not equilateral.\n"
     ]
    }
   ],
   "source": [
    "l1 = float(input(\"Input length 1: \"))\n",
    "l2 = float(input(\"Input length 2: \"))\n",
    "l3 = float(input(\"Input length 3: \"))\n",
    "\n",
    "if l1 == l2 and l2 == l3 and l1 == l3:\n",
    "    print('The triangle is equilateral.')\n",
    "else:\n",
    "    print('The triangle is not equilateral.')\n"
   ]
  },
  {
   "cell_type": "markdown",
   "metadata": {},
   "source": [
    "3. Write a program that reads a word and print the numbe of letters in the word, the number of vowels in the word, and the percentage of vowels.\n",
    "\n",
    "  **Enter a word: sequoia**\n",
    "\n",
    "  **Letters:  7**\n",
    "\n",
    "  **Vowels:  5**\n",
    "\n",
    "  **Perentage of vowels:  71.43**\n"
   ]
  },
  {
   "cell_type": "code",
   "execution_count": 4,
   "metadata": {},
   "outputs": [
    {
     "name": "stdout",
     "output_type": "stream",
     "text": [
      "Length of word is 11\n",
      "Number of vowels: 3\n"
     ]
    }
   ],
   "source": [
    "vowels = ['a', 'e', 'i', 'o', 'u']\n",
    "word = input('Enter a word: ').lower()\n",
    "print('Length of word is', len(word))\n",
    "counter = 0\n",
    "for i in word:\n",
    "    if i in vowels:\n",
    "        counter += 1\n",
    "    else:\n",
    "        pass\n",
    "else:\n",
    "    print('Number of vowels:', counter)"
   ]
  },
  {
   "cell_type": "markdown",
   "metadata": {},
   "source": [
    "4. Write a progam that inputs a positive integer n and then prints a rectangle of asterisks n lines high and 2n columns wide. For example, if the input is 5 then the output should be\n",
    "\n",
    "                      * * * * * * * * * *\n",
    "                      *                 *\n",
    "                      *                 *\n",
    "                      *                 *\n",
    "                      * * * * * * * * * *\n",
    "                      "
   ]
  },
  {
   "cell_type": "code",
   "execution_count": 6,
   "metadata": {},
   "outputs": [
    {
     "name": "stdout",
     "output_type": "stream",
     "text": [
      "**********\n",
      "*        *\n",
      "*        *\n",
      "*        *\n",
      "**********\n"
     ]
    }
   ],
   "source": [
    "n = int(input(\"Enter a positive integer here: \"))\n",
    "if n > 0:\n",
    "    print('*' * (2 * n))\n",
    "    for i in range(n-2):\n",
    "        print('*' + \" \" * (2*n-2) + \"*\")\n",
    "    print('*' * (2 * n))\n",
    "else:\n",
    "    print(\"Enter a proper positive integer pls\")"
   ]
  },
  {
   "cell_type": "markdown",
   "metadata": {},
   "source": [
    "5. The sum of the divisors of the number 15 is 24 (= 1 + 3 + 5 + 15). Write a program that will print the sum of the divisors for each of the integers from 100 to 110. The final line of the printout should state which integer has the largest sum. Format the output as follows:\n",
    "\n",
    "```\n",
    "100:  1   2   4   5   10  20  25  50  100\n",
    "sum of divisors 217\n",
    ".\n",
    ".\n",
    ".\n",
    "110:  1   2   5   10  11  22  55  110\n",
    "sum of divisors ________\n",
    "\n",
    "________ has maximum sum of divisors\n",
    "```\n",
    "  \n"
   ]
  },
  {
   "cell_type": "code",
   "execution_count": 12,
   "metadata": {},
   "outputs": [
    {
     "name": "stdout",
     "output_type": "stream",
     "text": [
      "100:  1 2 4 5 10 20 25 50 100\n",
      "Sum of divisors: 217\n",
      "101:  1 101\n",
      "Sum of divisors: 102\n",
      "102:  1 2 3 6 17 34 51 102\n",
      "Sum of divisors: 216\n",
      "103:  1 103\n",
      "Sum of divisors: 104\n",
      "104:  1 2 4 8 13 26 52 104\n",
      "Sum of divisors: 210\n",
      "105:  1 3 5 7 15 21 35 105\n",
      "Sum of divisors: 192\n",
      "106:  1 2 53 106\n",
      "Sum of divisors: 162\n",
      "107:  1 107\n",
      "Sum of divisors: 108\n",
      "108:  1 2 3 4 6 9 12 18 27 36 54 108\n",
      "Sum of divisors: 280\n",
      "109:  1 109\n",
      "Sum of divisors: 110\n",
      "110:  1 2 5 10 11 22 55 110\n",
      "Sum of divisors: 216\n",
      "108 has maximum sum of divisors.\n"
     ]
    }
   ],
   "source": [
    "num = 99  # Start from 99 as first iteration will add it to 100\n",
    "divisors = []\n",
    "sums = [0]  # Initial a value to prevent error when first run\n",
    "maxnum = 0\n",
    "for i in range(11):  # 100 to 110 is a total of 11 numbers so range of 11\n",
    "    num +=1\n",
    "    divisors = []  # clear divisors for each num else it will stack.\n",
    "    for j in range(num + 1):  # iterate through all integers from 1 to the num. +1 because range start from 0 so excludes the number itself\n",
    "        if j == 0:  # Prevent zero divisor error since j start from 0\n",
    "            j+=1\n",
    "        elif num % j == 0:  # Check if remainder is 0. If it is 0, it means j is a divisor.\n",
    "            divisors.append(j)  # Add j to the list of divisors.\n",
    "        if max(sums) < sum(divisors):\n",
    "            maxnum = num\n",
    "        else:\n",
    "            continue\n",
    "    else:\n",
    "        print(f\"{num}: \", *divisors)  # * to unpack list\n",
    "        print('Sum of divisors:', sum(divisors))\n",
    "        sums.append(sum(divisors))\n",
    "\n",
    "print(maxnum, 'has maximum sum of divisors.')"
   ]
  },
  {
   "cell_type": "markdown",
   "metadata": {},
   "source": [
    "6. In the game of Lucky Sevens, the player rolls a pair of dice. If the dots add up to 7, the \tplayer wins ```$4```; otherwise, the player loses $1. Suppose that a casino tells player that there are lots of ways to win: (1, 6), (2, 5), etc. Write a program that takes as input the\tamount of money that the player wants to put into the pot, and play the game until the pot is empty. At that point, the program should print the number of rolls it took to break the player, as well as maximum amount of money in the pot."
   ]
  },
  {
   "cell_type": "code",
   "execution_count": 8,
   "metadata": {},
   "outputs": [
    {
     "name": "stdout",
     "output_type": "stream",
     "text": [
      "Num of rolls it took to break the player: 477\n",
      "Max amount of money in pot: 89\n"
     ]
    }
   ],
   "source": [
    "import random\n",
    "money = int(input(\"Amount of money to put in the pot: \"))\n",
    "a, b = 0, 0\n",
    "count = 0\n",
    "maxMoney = []\n",
    "while money > 0:\n",
    "    a, b = random.randint(1,6), random.randint(1,6)\n",
    "    count+=1\n",
    "    if a + b == 7:\n",
    "        money+=4\n",
    "        maxMoney.append(money)\n",
    "    else:\n",
    "        money-=1\n",
    "\n",
    "print(\"Num of rolls it took to break the player:\", count)\n",
    "print(\"Max amount of money in pot:\", max(maxMoney))"
   ]
  },
  {
   "cell_type": "markdown",
   "metadata": {},
   "source": [
    "7.\t**Guess My Number Game (Design the program for both versions)**\n",
    "\n",
    "   __Version A:__ the computer picks a random number between 1 and 100 that the player has to guess. For each guess, the computer must tell the player if the number is too small or too large for the actual number. When the player gets the number, the program will display the number of tries that the player used. A sample output is shown below.\n",
    "\n",
    "```\n",
    "  Enter your guess: 50\n",
    "  Too small\n",
    "  Enter your guess: 75\n",
    "  Too large\n",
    "  Enter your guess: 60\n",
    "  Too large\n",
    "  Enter your guess: 56\n",
    "  You've got it in 4 tries!\n",
    "```\n",
    " \n",
    "   **Verion B:** The player and the computer trade places. That is, the player picks a random number between 1 and 100 that the computer has to guess. Before you start, think about how the computer will guess.  \n",
    "Hint: you may use random.randint to generate random number from among numbers between two arguments, included.\n",
    "            \n"
   ]
  },
  {
   "cell_type": "code",
   "execution_count": 10,
   "metadata": {},
   "outputs": [
    {
     "name": "stdout",
     "output_type": "stream",
     "text": [
      "You got it in 1 tries!\n"
     ]
    }
   ],
   "source": [
    "import random\n",
    "num = random.randint(1, 100)\n",
    "tries = 0\n",
    "guess = 101  # Make it impossible to be same as num so the while loop will surely get executed for at least one time.\n",
    "while guess != num:\n",
    "    guess = int(input(\"Enter a guess: \"))\n",
    "    tries+=1\n",
    "    if guess > num:\n",
    "        print (\"Too large\")\n",
    "    elif guess < num:\n",
    "        print (\"Too small\")\n",
    "\n",
    "print(f\"You got it in {tries} tries!\")"
   ]
  },
  {
   "cell_type": "code",
   "execution_count": 11,
   "metadata": {},
   "outputs": [
    {
     "name": "stdout",
     "output_type": "stream",
     "text": [
      "6\n",
      "90\n",
      "13\n",
      "44\n",
      "54\n",
      "76\n",
      "82\n",
      "Computer got it in 8 tries!\n"
     ]
    }
   ],
   "source": [
    "import random\n",
    "num = int(input(\"Input a number between 1 to 100 inclusive: \"))\n",
    "tries = 0\n",
    "guess = 101  # Make it impossible to be same as num so the while loop will surely get executed for at least one time.\n",
    "small, big = 1, 100  # For later adjustment to increase accuracy - similar to gradient descent\n",
    "while guess != num:\n",
    "    guess = random.randint(small, big)\n",
    "    tries+=1\n",
    "    if guess > num:\n",
    "        print (guess)\n",
    "        big = guess\n",
    "    elif guess < num:\n",
    "        print (guess)\n",
    "        small = guess\n",
    "\n",
    "print(f\"Computer got it in {tries} tries!\")"
   ]
  }
 ],
 "metadata": {
  "kernelspec": {
   "display_name": "Python 3",
   "language": "python",
   "name": "python3"
  },
  "language_info": {
   "codemirror_mode": {
    "name": "ipython",
    "version": 3
   },
   "file_extension": ".py",
   "mimetype": "text/x-python",
   "name": "python",
   "nbconvert_exporter": "python",
   "pygments_lexer": "ipython3",
   "version": "3.6.4"
  }
 },
 "nbformat": 4,
 "nbformat_minor": 2
}