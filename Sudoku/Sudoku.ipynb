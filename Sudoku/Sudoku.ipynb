{
 "cells": [
  {
   "cell_type": "code",
   "execution_count": 14,
   "metadata": {
    "collapsed": true,
    "pycharm": {
     "name": "#%%\n"
    }
   },
   "outputs": [
    {
     "name": "stdout",
     "output_type": "stream",
     "text": [
      "4 3 2 1\n",
      "1 2 4 3\n",
      "3 4 1 2\n",
      "2 1 3 4\n"
     ]
    }
   ],
   "source": [
    "import random\n",
    "\n",
    "class Sudoku:\n",
    "    def __init__(self, array=None):\n",
    "        self.array = array\n",
    "\n",
    "    def generate(self):\n",
    "        self.array = list(self._gen_col())\n",
    "        return self.array\n",
    "\n",
    "    def _gen_row(self):\n",
    "        row_ok = False\n",
    "        while not row_ok:\n",
    "            n1 = random.randint(1, 10-3-2-1)\n",
    "            n2 = random.randint(1, 10-n1)  # no need check for early termination before this line as n1<=7\n",
    "            if 10-n1-n2 < 1:  # early termination of loop as it already exceeded 1-\n",
    "                continue\n",
    "            n3 = random.randint(1, 10-n1-n2)\n",
    "            if 10-n1-n2-n3 < 1:  # early termination of loop as it already exceeded 10\n",
    "                continue\n",
    "            n4 = random.randint(1, 10-n1-n2-n3)\n",
    "            row = [n1, n2, n3, n4]\n",
    "            row_ok = self.check(row)\n",
    "        return row\n",
    "\n",
    "    def _gen_quad(self):\n",
    "        quad_ok = False\n",
    "        while not quad_ok:\n",
    "            # generate 2 rows first then repeat until quadrant passes check\n",
    "            row1, row2 = self._gen_row(), self._gen_row()\n",
    "            quad_ok = self.check(row1[:2] + row2[:2]) and self.check(row1[2:] + row2[2:])\n",
    "        return row1, row2\n",
    "\n",
    "    def _gen_col(self):\n",
    "        col_ok = False\n",
    "        while not col_ok:\n",
    "            row1, row2 = self._gen_quad()\n",
    "            row3, row4 = self._gen_quad()\n",
    "            col_ok = all([self.check([row1[i], row2[i], row3[i], row4[i]]) for i in range(4)])  # check each of the 4 cols\n",
    "        return row1, row2, row3, row4\n",
    "\n",
    "    def check(self, numbers):\n",
    "        if sum(numbers) == 10 and len(numbers) == len(set(numbers)):\n",
    "            return True\n",
    "        else:\n",
    "            return False\n",
    "\n",
    "    def show(self):\n",
    "        if self.array:\n",
    "            for row in self.array:\n",
    "                print(' '.join(map(str, row)))\n",
    "        else:\n",
    "            raise Exception('Array is empty!')\n",
    "\n",
    "grid1 = Sudoku([[4, 3, 2, 1], [1, 2, 4, 3], [3, 4, 1, 2], [2, 1, 3, 4]])\n",
    "grid1.show()"
   ]
  },
  {
   "cell_type": "code",
   "execution_count": 16,
   "outputs": [
    {
     "name": "stdout",
     "output_type": "stream",
     "text": [
      "2 1 4 3\n",
      "4 3 1 2\n",
      "1 2 3 4\n",
      "3 4 2 1\n"
     ]
    }
   ],
   "source": [
    "grid2 = Sudoku()\n",
    "grid2.generate()\n",
    "grid2.show()"
   ],
   "metadata": {
    "collapsed": false,
    "pycharm": {
     "name": "#%%\n"
    }
   }
  }
 ],
 "metadata": {
  "kernelspec": {
   "display_name": "Python 3",
   "language": "python",
   "name": "python3"
  },
  "language_info": {
   "codemirror_mode": {
    "name": "ipython",
    "version": 2
   },
   "file_extension": ".py",
   "mimetype": "text/x-python",
   "name": "python",
   "nbconvert_exporter": "python",
   "pygments_lexer": "ipython2",
   "version": "2.7.6"
  }
 },
 "nbformat": 4,
 "nbformat_minor": 0
}