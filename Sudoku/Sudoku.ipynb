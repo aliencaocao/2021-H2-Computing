{
 "cells": [
  {
   "cell_type": "code",
   "execution_count": 59,
   "metadata": {
    "collapsed": true,
    "pycharm": {
     "name": "#%%\n"
    }
   },
   "outputs": [
    {
     "name": "stdout",
     "output_type": "stream",
     "text": [
      "4 3 2 1\n",
      "1 2 4 3\n",
      "3 4 1 2\n",
      "2 1 3 4\n"
     ]
    }
   ],
   "source": [
    "import random\n",
    "\n",
    "class Sudoku:\n",
    "    def __init__(self, array=None):\n",
    "        self.array = array\n",
    "\n",
    "    def generate(self):\n",
    "        self.array = list(self._gen_col())\n",
    "        transformations = [self._t1_random, self._t2_random, self._t3, self._t4]\n",
    "        transformations_to_apply = random.sample(transformations, k=2)\n",
    "        for t in transformations_to_apply:\n",
    "            t()\n",
    "        return self.array\n",
    "\n",
    "    def _gen_row(self):\n",
    "        row_ok = False\n",
    "        while not row_ok:\n",
    "            n1 = random.randint(1, 10-3-2-1)\n",
    "            n2 = random.randint(1, 10-n1)  # no need check for early termination before this line as n1<=7\n",
    "            if 10-n1-n2 < 1:  # early termination of loop as it already exceeded 1-\n",
    "                continue\n",
    "            n3 = random.randint(1, 10-n1-n2)\n",
    "            if 10-n1-n2-n3 < 1:  # early termination of loop as it already exceeded 10\n",
    "                continue\n",
    "            n4 = random.randint(1, 10-n1-n2-n3)\n",
    "            row = [n1, n2, n3, n4]\n",
    "            row_ok = self._check(row)\n",
    "        return row\n",
    "\n",
    "    def _gen_quad(self):\n",
    "        quad_ok = False\n",
    "        while not quad_ok:\n",
    "            # generate 2 rows first then repeat until quadrant passes check\n",
    "            row1, row2 = self._gen_row(), self._gen_row()\n",
    "            quad_ok = self._check(row1[:2] + row2[:2]) and self._check(row1[2:] + row2[2:])\n",
    "        return row1, row2\n",
    "\n",
    "    def _gen_col(self):\n",
    "        col_ok = False\n",
    "        while not col_ok:\n",
    "            row1, row2 = self._gen_quad()\n",
    "            row3, row4 = self._gen_quad()\n",
    "            col_ok = all([self._check([row1[i], row2[i], row3[i], row4[i]]) for i in range(4)])  # check each of the 4 cols\n",
    "        return row1, row2, row3, row4\n",
    "\n",
    "    def _check(self, numbers):\n",
    "        return sum(numbers) == 10 and len(numbers) == len(set(numbers))\n",
    "\n",
    "    def _rand_a_b(self):\n",
    "        a, b = None, None\n",
    "        while a == b:\n",
    "            a = random.randint(0, 3)\n",
    "            b = random.randint(0, 3)\n",
    "        return a, b\n",
    "\n",
    "    def _t1(self, a, b):\n",
    "        \"\"\"swap two rows in the same quadrants\"\"\"\n",
    "        self.array[a], self.array[b] = self.array[b], self.array[a]\n",
    "\n",
    "    def _t1_random(self):\n",
    "        \"\"\"randomly swap two rows in the same quadrants\"\"\"\n",
    "        print('Transformation 1: randomly swap two rows in the same quadrants')\n",
    "        self._t1(*self._rand_a_b())\n",
    "        self.show()\n",
    "\n",
    "    def _t2(self, a, b):\n",
    "        \"\"\"swap two columns in the same quadrants\"\"\"\n",
    "        for row in range(4):\n",
    "            self.array[row][a], self.array[row][b] = self.array[row][b], self.array[row][a]\n",
    "\n",
    "    def _t2_random(self):\n",
    "        \"\"\"randomly swap two columns in the same quadrants\"\"\"\n",
    "        print('Transformation 2: randomly swap two columns in the same quadrants')\n",
    "        self._t2(*self._rand_a_b())\n",
    "        self.show()\n",
    "\n",
    "    def _t3(self):\n",
    "        \"\"\"swap the top and button quadrant\"\"\"\n",
    "        print('Transformation 3: swap the top and button quadrant')\n",
    "        self.array = self.array[2:] + self.array[:2]\n",
    "        self.show()\n",
    "\n",
    "    def _t4(self):\n",
    "        \"\"\"swap the left and right quadrant columns entirely\"\"\"\n",
    "        print('Transformation 4: swap the left and right quadrant columns entirely')\n",
    "        self.array = [self.array[row][2:] + self.array[row][:2] for row in range(4)]\n",
    "        self.show()\n",
    "\n",
    "    def show(self):\n",
    "        if self.array:\n",
    "            for row in self.array:\n",
    "                print(' '.join(map(str, row)))\n",
    "        else:\n",
    "            raise Exception('Array is empty!')\n",
    "\n",
    "grid1 = Sudoku([[4, 3, 2, 1], [1, 2, 4, 3], [3, 4, 1, 2], [2, 1, 3, 4]])\n",
    "grid1.show()"
   ]
  },
  {
   "cell_type": "code",
   "execution_count": 62,
   "outputs": [
    {
     "name": "stdout",
     "output_type": "stream",
     "text": [
      "Transformation 2: randomly swap two columns in the same quadrants\n",
      "4 1 3 2\n",
      "2 3 1 4\n",
      "3 4 2 1\n",
      "1 2 4 3\n",
      "Transformation 4: swap the left and right quadrant columns entirely\n",
      "3 2 4 1\n",
      "1 4 2 3\n",
      "2 1 3 4\n",
      "4 3 1 2\n"
     ]
    }
   ],
   "source": [
    "grid2 = Sudoku()\n",
    "generated = grid2.generate()"
   ],
   "metadata": {
    "collapsed": false,
    "pycharm": {
     "name": "#%%\n"
    }
   }
  }
 ],
 "metadata": {
  "kernelspec": {
   "display_name": "Python 3",
   "language": "python",
   "name": "python3"
  },
  "language_info": {
   "codemirror_mode": {
    "name": "ipython",
    "version": 2
   },
   "file_extension": ".py",
   "mimetype": "text/x-python",
   "name": "python",
   "nbconvert_exporter": "python",
   "pygments_lexer": "ipython2",
   "version": "2.7.6"
  }
 },
 "nbformat": 4,
 "nbformat_minor": 0
}