{
 "cells": [
  {
   "cell_type": "code",
   "execution_count": 1,
   "metadata": {
    "collapsed": true
   },
   "outputs": [
    {
     "name": "stdout",
     "output_type": "stream",
     "text": [
      "Decimal form of binary value 1001111 is 79\n"
     ]
    }
   ],
   "source": [
    "def binToDec (input):\n",
    "    counter = 1\n",
    "    terms = []\n",
    "    for i in input:\n",
    "        terms += [int(i) * (2 ** (len(input) - counter))]  # if no int(), i will be a string and multiply will return 4 'i's instead\n",
    "        counter += 1\n",
    "    return sum(terms)\n",
    "\n",
    "def main():\n",
    "    value = input('Enter a binary here: ')\n",
    "    print(f'Decimal form of binary value {value} is', binToDec(value))\n",
    "\n",
    "main()"
   ]
  },
  {
   "cell_type": "code",
   "execution_count": 2,
   "outputs": [
    {
     "name": "stdout",
     "output_type": "stream",
     "text": [
      "Hex form of decimal value 79 is 4F\n"
     ]
    }
   ],
   "source": [
    "def decToHex (input):\n",
    "    results = []\n",
    "    value = int(input)\n",
    "    letters = 'ABCDEF'\n",
    "    while value >= 1:  # Stop when dividing by 16 results in a number smaller than 1\n",
    "        remainder = value%16\n",
    "        if remainder >= 10:  # if remainder larger than 9, map letters\n",
    "            results += [letters[remainder%10]]  # int % 10 returns the last digit as it is the remainder, used as list index to map onto letter\n",
    "        else:\n",
    "            results += [remainder]  # if its just a single digit number, add it to results list\n",
    "        value = value//16\n",
    "    return reversed(results)  # LSD is at front so need reverse\n",
    "\n",
    "def main():\n",
    "    value = input('Enter a decimal here: ')\n",
    "    print(f'Hex form of decimal value {value} is ', *decToHex(value), sep='')\n",
    "\n",
    "main()"
   ],
   "metadata": {
    "collapsed": false,
    "pycharm": {
     "name": "#%%\n"
    }
   }
  },
  {
   "cell_type": "code",
   "execution_count": 3,
   "outputs": [
    {
     "name": "stdout",
     "output_type": "stream",
     "text": [
      "Binary form of hex value 2a57 is 0010 1010 0101 0111\n"
     ]
    }
   ],
   "source": [
    "def hexToBin(input):\n",
    "    input = reversed(input)  # make LSD to be at front for conversion\n",
    "    result = []\n",
    "    letters = 'ABCDEF'\n",
    "    for i in input:\n",
    "        terms = []\n",
    "        # Convert back to decimal\n",
    "        if i.isdigit():\n",
    "            value = int(i)\n",
    "        else:\n",
    "            value = 10 + letters.index(i.upper())  # find corresponding int value for letters\n",
    "        while value >= 1:  # convert from decimal to binary\n",
    "            terms += [str(value%2)]\n",
    "            value //= 2\n",
    "        terms.reverse()  # Reverse here to pad 0s at front\n",
    "        terms.insert(0, '0' * (4-len(terms)))  # Pad each binary term into 4 digits with 0\n",
    "        result += [''.join(terms)]\n",
    "    return reversed(result)  # Reverse back\n",
    "\n",
    "def main():\n",
    "    value = input('Enter a hexadecimal here: ')\n",
    "    print(f'Binary form of hex value {value} is', *hexToBin(value), sep=' ')\n",
    "\n",
    "main()"
   ],
   "metadata": {
    "collapsed": false,
    "pycharm": {
     "name": "#%%\n"
    }
   }
  },
  {
   "cell_type": "code",
   "execution_count": 2,
   "outputs": [
    {
     "name": "stdout",
     "output_type": "stream",
     "text": [
      "4\n"
     ]
    }
   ],
   "source": [
    "def check(input):\n",
    "    sum = 0\n",
    "    for i in range(1, 5):\n",
    "        sum += (i+1) * int(input[-i])  # Weight times digit, going backwards\n",
    "    output = 11 - sum%11\n",
    "    if output == 11:\n",
    "        output = 0\n",
    "    elif output == 10:\n",
    "        output = 'X'\n",
    "    return str(output)\n",
    "\n",
    "def main():\n",
    "    value = input('Enter 4 digits here: ')\n",
    "    print(check(value))\n",
    "\n",
    "main()"
   ],
   "metadata": {
    "collapsed": false,
    "pycharm": {
     "name": "#%%\n"
    }
   }
  },
  {
   "cell_type": "code",
   "execution_count": 5,
   "outputs": [
    {
     "name": "stdout",
     "output_type": "stream",
     "text": [
      "J\n"
     ]
    }
   ],
   "source": [
    "def checkNRIC(input):  # only works for NRIC starting with S. For NRIC starting with T, add 4 to sum.\n",
    "    sum = 0\n",
    "    letters = 'ABCDEFGHIZJ'  # For NRIC starting with F or G, letter mapping is 'KLMNPQRTUW'\n",
    "    for i in range(1, 7):\n",
    "        sum += (i+1) * int(input[-i])  # Weight times digit, going backwards, exclude first digit special weight of 2\n",
    "    sum += 2 * int(input[0])  # first digit special weight of 2\n",
    "    output = 11 - sum%11\n",
    "    output = letters[output - 1]  # list index start from 0\n",
    "    return output\n",
    "\n",
    "def main():\n",
    "    value = input('Enter 7 digit NRIC here: ')\n",
    "    print(checkNRIC(value))\n",
    "\n",
    "main()"
   ],
   "metadata": {
    "collapsed": false,
    "pycharm": {
     "name": "#%%\n"
    }
   }
  }
 ],
 "metadata": {
  "kernelspec": {
   "display_name": "Python 3",
   "language": "python",
   "name": "python3"
  },
  "language_info": {
   "codemirror_mode": {
    "name": "ipython",
    "version": 2
   },
   "file_extension": ".py",
   "mimetype": "text/x-python",
   "name": "python",
   "nbconvert_exporter": "python",
   "pygments_lexer": "ipython2",
   "version": "2.7.6"
  }
 },
 "nbformat": 4,
 "nbformat_minor": 0
}