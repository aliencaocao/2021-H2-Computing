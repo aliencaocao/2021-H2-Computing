{
 "cells": [
  {
   "cell_type": "code",
   "execution_count": 26,
   "metadata": {
    "collapsed": true
   },
   "outputs": [
    {
     "name": "stdout",
     "output_type": "stream",
     "text": [
      "170\n"
     ]
    }
   ],
   "source": [
    "def binToDec (input):\n",
    "    counter = 1\n",
    "    terms = []\n",
    "    for i in input:\n",
    "        terms += [int(i) * (2 ** (len(input) - counter))]  # if no int(), i will be a string and multiply will return 4 'i's instead\n",
    "        counter += 1\n",
    "    terms = [int(term) for term in terms]\n",
    "    return sum(terms)\n",
    "\n",
    "def main():\n",
    "    value = list(input('Enter a binary here: '))\n",
    "    print(binToDec(value))\n",
    "\n",
    "main()"
   ]
  },
  {
   "cell_type": "code",
   "execution_count": 11,
   "outputs": [
    {
     "name": "stdout",
     "output_type": "stream",
     "text": [
      "4F\n"
     ]
    }
   ],
   "source": [
    "def decToHex (input):\n",
    "    results = []\n",
    "    value = int(input)\n",
    "    letters = 'ABCDEF'\n",
    "    while value >= 1:\n",
    "        remainder = value%16\n",
    "        if remainder >= 10:\n",
    "            results += [letters[remainder%10]]  # int % 10 returns the last digit as it is the remainder\n",
    "        else:\n",
    "            results += [remainder]\n",
    "        value = value//16\n",
    "    return reversed(results)\n",
    "\n",
    "def main():\n",
    "    value = input('Enter a decimal here: ')\n",
    "    print(*decToHex(value), sep='')\n",
    "\n",
    "main()"
   ],
   "metadata": {
    "collapsed": false,
    "pycharm": {
     "name": "#%%\n"
    }
   }
  },
  {
   "cell_type": "code",
   "execution_count": 27,
   "outputs": [
    {
     "name": "stdout",
     "output_type": "stream",
     "text": [
      "0001 1100\n"
     ]
    }
   ],
   "source": [
    "def hexToBin(input):\n",
    "    input = reversed(input)\n",
    "    result = []\n",
    "    letters = 'ABCDEF'\n",
    "    for i in input:\n",
    "        terms = []\n",
    "        if i.isdigit():\n",
    "            value = int(i)\n",
    "        else:\n",
    "            value = 10 + letters.index(i.upper())\n",
    "\n",
    "        while value / 2 >= 1:\n",
    "            terms += [str(value%2)]\n",
    "            value //= 2\n",
    "        terms += [str(value%2)]  # add last remainder of 1\n",
    "        terms.reverse()\n",
    "        if len(terms) < 4:\n",
    "            terms.insert(0, '0' * (4-len(terms)))\n",
    "        result += [''.join(terms)]\n",
    "    return reversed(result)\n",
    "\n",
    "def main():\n",
    "    value = input('Enter a hexadecimal here: ')\n",
    "    print(*hexToBin(value), sep=' ')\n",
    "\n",
    "main()"
   ],
   "metadata": {
    "collapsed": false,
    "pycharm": {
     "name": "#%%\n"
    }
   }
  },
  {
   "cell_type": "code",
   "execution_count": null,
   "outputs": [],
   "source": [],
   "metadata": {
    "collapsed": false,
    "pycharm": {
     "name": "#%%\n"
    }
   }
  }
 ],
 "metadata": {
  "kernelspec": {
   "display_name": "Python 3",
   "language": "python",
   "name": "python3"
  },
  "language_info": {
   "codemirror_mode": {
    "name": "ipython",
    "version": 2
   },
   "file_extension": ".py",
   "mimetype": "text/x-python",
   "name": "python",
   "nbconvert_exporter": "python",
   "pygments_lexer": "ipython2",
   "version": "2.7.6"
  }
 },
 "nbformat": 4,
 "nbformat_minor": 0
}