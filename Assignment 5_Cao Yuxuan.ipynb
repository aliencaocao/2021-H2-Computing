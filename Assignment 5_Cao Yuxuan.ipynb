{
 "cells": [
  {
   "cell_type": "code",
   "execution_count": 26,
   "metadata": {
    "collapsed": true
   },
   "outputs": [
    {
     "name": "stdout",
     "output_type": "stream",
     "text": [
      "170\n"
     ]
    }
   ],
   "source": [
    "# Write a function, for each part, that converts\n",
    "# (a) Binary numbers to decimal numbers\n",
    "# (b) Decimal numbers to hexadecimal numbers\n",
    "# (c) Hexadecimal numbers to binary numbers\n",
    "\n",
    "def binToDec (input):\n",
    "    counter = 1\n",
    "    terms = []\n",
    "    for i in input:\n",
    "        terms += [int(i) * (2 ** (len(input) - counter))]  # if no int(), i will be a string and multiply will return 4 'i's instead\n",
    "        counter += 1\n",
    "    terms = [int(term) for term in terms]\n",
    "    return sum(terms)\n",
    "\n",
    "def main():\n",
    "    value = list(input('Enter a binary here: '))\n",
    "    print(binToDec(value))\n",
    "\n",
    "main()"
   ]
  },
  {
   "cell_type": "code",
   "execution_count": 11,
   "outputs": [
    {
     "name": "stdout",
     "output_type": "stream",
     "text": [
      "4F\n"
     ]
    }
   ],
   "source": [
    "def decToHex (input):\n",
    "    results = []\n",
    "    value = int(input)\n",
    "    letters = 'ABCDEF'\n",
    "    while value >= 1:\n",
    "        remainder = value%16\n",
    "        if remainder >= 10:\n",
    "            results += [letters[remainder%10]]  # int % 10 returns the last digit as it is the remainder\n",
    "        else:\n",
    "            results += [remainder]\n",
    "        value = value//16\n",
    "    return reversed(results)\n",
    "\n",
    "def main():\n",
    "    value = input('Enter a decimal here: ')\n",
    "    print(*decToHex(value), sep='')\n",
    "\n",
    "main()"
   ],
   "metadata": {
    "collapsed": false,
    "pycharm": {
     "name": "#%%\n"
    }
   }
  },
  {
   "cell_type": "code",
   "execution_count": 17,
   "outputs": [
    {
     "name": "stdout",
     "output_type": "stream",
     "text": [
      "['0', '0', '0', '1']\n",
      "['0000']\n",
      "0 0 0 1 0000\n"
     ]
    }
   ],
   "source": [
    "def hexToBin(input):\n",
    "    input = reversed(input)\n",
    "    result = []\n",
    "    letters = 'ABCDEF'\n",
    "    for i in input:\n",
    "        terms = []\n",
    "        if i.isdigit():\n",
    "            value = int(i)\n",
    "        else:\n",
    "            value = 10 + letters.index(i.upper())\n",
    "\n",
    "        while value / 2 >= 1:\n",
    "            terms += [str(value%2)]\n",
    "            value //= 2\n",
    "        if len(terms) < 4:\n",
    "            terms.insert(0, '0' * (4-len(terms)))\n",
    "            result += [*terms]\n",
    "        print(terms)\n",
    "    # result = ['0' * (4-len(str(x))) + f'{str(x)}' for x in result if len(str(x)) < 4]\n",
    "    return result\n",
    "def main():\n",
    "    value = input('Enter a hexadecimal here: ')\n",
    "    print(*hexToBin(value), sep=' ')\n",
    "\n",
    "main()"
   ],
   "metadata": {
    "collapsed": false,
    "pycharm": {
     "name": "#%%\n"
    }
   }
  },
  {
   "cell_type": "code",
   "execution_count": null,
   "outputs": [],
   "source": [],
   "metadata": {
    "collapsed": false,
    "pycharm": {
     "name": "#%%\n"
    }
   }
  }
 ],
 "metadata": {
  "kernelspec": {
   "display_name": "Python 3",
   "language": "python",
   "name": "python3"
  },
  "language_info": {
   "codemirror_mode": {
    "name": "ipython",
    "version": 2
   },
   "file_extension": ".py",
   "mimetype": "text/x-python",
   "name": "python",
   "nbconvert_exporter": "python",
   "pygments_lexer": "ipython2",
   "version": "2.7.6"
  }
 },
 "nbformat": 4,
 "nbformat_minor": 0
}