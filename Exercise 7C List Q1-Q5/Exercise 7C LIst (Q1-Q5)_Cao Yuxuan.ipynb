{
 "cells": [
  {
   "cell_type": "markdown",
   "metadata": {},
   "source": [
    "Operations on Lists\n",
    "```--------------------------------------------------------------------------\n",
    "Function    Descriptions\n",
    "----------------------------------------------------------------------------\n",
    "len(L)      Returns the number of items in list L\n",
    "max(L)      Returns the maximum value in list L\n",
    "min(L)      Returns the minimum value in list L\n",
    "sum(L)      Returns the sum of the values in list L\n",
    "sorted(L)   Returns a copy of list L where the items are in order\n",
    "            from smallest to largest (This does not mutate L.)```\n",
    "\n",
    "List Methods\n",
    "```----------------------------------------------------------------------\n",
    "Method                 Description\n",
    "----------------------------------------------------------------------------\n",
    "L.clear()              Removes all items from list L\n",
    "L.append(v)            Appends value v to list L\n",
    "L.count(v)             Returns the number of occurrences of v in list L\n",
    "L.extend(v)            Appends the items in list v to L\n",
    "L.index(v)             Returns the index of the first occurrence of v in L\n",
    "                       An error is raised if v doesn't occur in L.\n",
    "L.insert(i, v)         Inserts value v at index i in list L, shifting subsequent items to make\n",
    "                       room\n",
    "L.pop()                Removes and returns the last item of L\n",
    "L.pop(i)               Removes and returns the item at index i in list L\n",
    "L.remove(v)            Removes the first occurrence of value v in list L\n",
    "                       An error is raised if v dosen't occur in L.\n",
    "L.reverse()            Reverse the order of the values in list L\n",
    "L.sort()               Sorts the values in list L in ascending order (for strings with\n",
    "                       the same letter case, it sorts in alphabetical order)\n",
    "L.sort(reverse = True) Sorts the values in list L ind descending order (for strings with\n",
    "                       the same letter case, it sorts in reverse alphabetical order)``` \n",
    "\n",
    "\n"
   ]
  },
  {
   "cell_type": "markdown",
   "metadata": {},
   "source": [
    "1  Write a program that reads integers from the user and stores them in a list. Use 0 as a sentinal value to mark the end of the input. Once all the values have been read your program should display all the values entered (except for the 0) in order from largest to smallest, with one value appearing on each line. Use either the **sort** method or the **sorted** function to sort the list."
   ]
  },
  {
   "cell_type": "code",
   "execution_count": 1,
   "metadata": {},
   "outputs": [
    {
     "name": "stdout",
     "output_type": "stream",
     "text": [
      "99\n",
      "20\n",
      "10\n",
      "4\n",
      "3\n",
      "2\n",
      "1\n",
      "0\n"
     ]
    }
   ],
   "source": [
    "i=1\n",
    "nums = []\n",
    "while i != 0:\n",
    "    i = int(input('Enter an integer: '))\n",
    "    nums += [i]\n",
    "\n",
    "nums.sort(reverse=True)\n",
    "print(*nums, sep='\\n')"
   ]
  },
  {
   "cell_type": "markdown",
   "metadata": {},
   "source": [
    "2  The function  **randint** from the random module  can be used to produce random numbers. A call on **random.randint(1, 6)**, for example, will produce the values 1 to 6 with equal probability. Write a program that loops 1000 times. On each iteration, it makes two calls on **randint** to simulate the rolling a pair of dice. Compute the sum of the two dice, and record the number of times each value appears. After the loop, print the array of sums. Here is what the output should look like:\n",
    "```\n",
    "Sum       Frequency \n",
    "2         27        \n",
    "3         47        \n",
    "4         80        \n",
    "5         94        \n",
    "6         143       \n",
    "7         184       \n",
    "8         137       \n",
    "9         109       \n",
    "10        97        \n",
    "11        54        \n",
    "12        28        \n",
    "Total     1000      \n",
    "```\n"
   ]
  },
  {
   "cell_type": "code",
   "execution_count": 2,
   "metadata": {},
   "outputs": [
    {
     "name": "stdout",
     "output_type": "stream",
     "text": [
      "Sum       Frequency\n",
      "2         26        \n",
      "3         59        \n",
      "4         77        \n",
      "5         97        \n",
      "6         147       \n",
      "7         183       \n",
      "8         141       \n",
      "9         96        \n",
      "10        85        \n",
      "11        56        \n",
      "12        33        \n"
     ]
    }
   ],
   "source": [
    "from random import randint\n",
    "sums = []\n",
    "i=0\n",
    "while i < 1000:\n",
    "    dice1 = randint(1, 6)\n",
    "    dice2 = randint(1, 6)\n",
    "    sums += [dice1+dice2]\n",
    "    i += 1\n",
    "print('Sum       Frequency')\n",
    "for num in range(2, 13):\n",
    "    sums.count(num)\n",
    "    print(f'{num:<10}{sums.count(num):<10}')"
   ]
  },
  {
   "cell_type": "markdown",
   "metadata": {},
   "source": [
    "3  In order to win the top prize in a lottery, one must match all 6 numbers on his ticket to the 6 numbers between 1 and 49 that are drawn by the lottery organizer. Write a program that generates a random selection of 6 numbers for a lottery ticket. Ensure that the 6 numbers selected do not contain any duplicates. Display the numbers in ascending order.  "
   ]
  },
  {
   "cell_type": "code",
   "execution_count": 3,
   "metadata": {},
   "outputs": [
    {
     "name": "stdout",
     "output_type": "stream",
     "text": [
      "1 10 12 20 33 39\n"
     ]
    }
   ],
   "source": [
    "from random import sample\n",
    "numbers = sorted(sample(range(1, 50), 6))\n",
    "print(*numbers)"
   ]
  },
  {
   "cell_type": "markdown",
   "metadata": {},
   "source": [
    "4   The data file ```VIA.DAT``` contains information about students and the number of hours of the various types of Values in Action projects that the students have completed. The format of \n",
    "   a student record is as follows:\n",
    "  ```\n",
    "  <Student Name>\n",
    "  <Self-Initiated VIA Hours>:<School VIA Hours>:<Other VIA Hours>\n",
    "  ```\n",
    "  Sample record:\n",
    "  ```\n",
    "  Tan Ah Beng\n",
    "  13:5:8\n",
    "  ```\n",
    "  The civics tutor of the class would like to find out the names of the students who have not completed __x__, the minimum number of VIA hours entered by the civics tutor, so that she can 'motivate' them. Write a program to output the count and names of students who have completed less than **x** hours of VIA in ascending number of total VIA hours. \n",
    "\n"
   ]
  },
  {
   "cell_type": "code",
   "execution_count": 4,
   "metadata": {},
   "outputs": [
    {
     "name": "stdout",
     "output_type": "stream",
     "text": [
      "Yeo Janet: 2hr\n",
      "Leow Yoyo: 3hr\n",
      "Rachel Toh: 4hr\n",
      "Ben Soh: 13hr\n",
      "Tan Tua Tow: 16hr\n",
      "Tommy Chua: 16hr\n",
      "Chew Xiaoli: 17hr\n",
      "Foo Harry: 17hr\n",
      "Banana Hong: 18hr\n",
      "Botak Teo: 19hr\n",
      "Ali Mohammed: 22hr\n",
      "Vanessa Lee: 24hr\n",
      "Wong Hui Ting: 24hr\n",
      "Chan Jian Wei: 26hr\n",
      "Tan Ah Beng: 26hr\n",
      "Morgan Ahmad: 28hr\n",
      "Cheong Clement: 30hr\n",
      "Bernard Oh: 33hr\n",
      "Timberly Harris: 37hr\n",
      "Goh Papaya: 43hr\n",
      "Ong Mary: 47hr\n",
      "Gina Tong: 49hr\n",
      "Ann Ng: 56hr\n",
      "Alice Tey: 75hr\n",
      "Huang Eunice: 75hr\n",
      "Poh Freddie: 80hr\n",
      "Teo Jackson: 80hr\n"
     ]
    }
   ],
   "source": [
    "x = 100\n",
    "names, hrs, failed_names, failed_hrs = [], [], [], []\n",
    "with open('VIA.DAT', 'r') as f:\n",
    "    lines = f.read().splitlines()\n",
    "    for i in range(len(lines)):\n",
    "        if i % 2:  # odd no, as 0 = False, time\n",
    "            hrs += [sum(map(int, lines[i].split(':')))]\n",
    "        else:  # even no, names\n",
    "            names += [lines[i]]\n",
    "if x < min(hrs):\n",
    "    print('All students passed')\n",
    "else:\n",
    "    for i in range(len(hrs)):\n",
    "        if hrs[i] < x:\n",
    "            failed_hrs += [hrs[i]]\n",
    "            failed_names += [names[i]]\n",
    "    failed_hrs, failed_names = zip(*sorted(zip(failed_hrs, failed_names)))\n",
    "    for i in range(len(failed_names)):\n",
    "        print(f'{failed_names[i]}: {failed_hrs[i]}hr')"
   ]
  },
  {
   "cell_type": "markdown",
   "metadata": {},
   "source": [
    "5(a) The file **words1.txt** and **words2.txt** store a list of single word computing terms used in a text book.\n",
    "\n",
    "Each entry has the following format:\n",
    "```\n",
    "<computing term>\n",
    "<number>\n",
    "```\n",
    "One of the entries is:\n",
    "```\n",
    "program\n",
    "52```\n",
    "\n",
    "This means that after a complete scan of the texbook the word **program** was found **52** times. Write a program code to find and output the term with the highest number of occurrences. Use the file **words1.txt** to test your program\n",
    "(ans: computing 75)\n",
    "\n",
    "[9]"
   ]
  },
  {
   "cell_type": "code",
   "execution_count": 5,
   "metadata": {},
   "outputs": [
    {
     "name": "stdout",
     "output_type": "stream",
     "text": [
      "Most frequent word is computing, count: 75\n"
     ]
    }
   ],
   "source": [
    "term, count = [], []\n",
    "with open('WORDS1.txt', 'r') as f:\n",
    "    lines = f.read().splitlines()\n",
    "    for i in range(len(lines)):\n",
    "        if i % 2:  # odd no, as 0 = False, time\n",
    "            count += [int(lines[i])]\n",
    "        else:  # even no, names\n",
    "            term += [lines[i]]\n",
    "most_freq_term = term[count.index(max(count))]\n",
    "print(f'Most frequent word is {most_freq_term}, count: {max(count)}')"
   ]
  },
  {
   "cell_type": "markdown",
   "metadata": {},
   "source": [
    "5(b) Amend your program code in 5(a) so that if more than one term exists with the highest number of occurrences, all items are reported. Use the file words2.txt to test your program. (ans: 86, system, computer)\n",
    "\n",
    "[6]"
   ]
  },
  {
   "cell_type": "code",
   "execution_count": 6,
   "metadata": {},
   "outputs": [
    {
     "name": "stdout",
     "output_type": "stream",
     "text": [
      "Most frequent words are system, computer, count: 86\n"
     ]
    }
   ],
   "source": [
    "term, count, most_freq_terms = [], [], []\n",
    "with open('WORDS2.txt', 'r') as f:\n",
    "    lines = f.read().splitlines()\n",
    "    for i in range(len(lines)):\n",
    "        if i % 2:  # odd no, as 0 = False, time\n",
    "            count += [int(lines[i])]\n",
    "        else:  # even no, names\n",
    "            term += [lines[i]]\n",
    "index = [i for i, x in enumerate(count) if x == max(count)]\n",
    "for i in index:\n",
    "    most_freq_terms += [term[i]]\n",
    "print(f'Most frequent words are {\", \".join(most_freq_terms)}, count: {max(count)}')\n"
   ]
  }
 ],
 "metadata": {
  "kernelspec": {
   "display_name": "Python 3",
   "language": "python",
   "name": "python3"
  },
  "language_info": {
   "codemirror_mode": {
    "name": "ipython",
    "version": 3
   },
   "file_extension": ".py",
   "mimetype": "text/x-python",
   "name": "python",
   "nbconvert_exporter": "python",
   "pygments_lexer": "ipython3",
   "version": "3.6.4"
  }
 },
 "nbformat": 4,
 "nbformat_minor": 2
}