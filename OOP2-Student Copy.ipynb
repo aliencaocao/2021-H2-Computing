{
 "cells": [
  {
   "cell_type": "markdown",
   "metadata": {
    "pycharm": {
     "name": "#%% md\n"
    }
   },
   "source": [
    "# Object Oriented Programming\n",
    "* Define and understand classes and objects.\n",
    "* **Understand encapsulation and how classes support information hiding and implementation independence.**\n",
    "* Understand inheritance and how it promotes software reuse.\n",
    "* Understand polymorphism and how it enables code generalisation.\n",
    "* Exclude: method overloading and multiple inheritance\n"
   ]
  },
  {
   "cell_type": "markdown",
   "metadata": {
    "pycharm": {
     "name": "#%% md\n"
    }
   },
   "source": [
    "## 2. Encapsulation and Data Hiding\n",
    "\n",
    "### Access modifiers \n",
    "\n",
    "Access modifiers (or access specifiers) are keywords in object-oriented languages that set the accessibility of classes, methods, and other members. Access modifiers are a specific part of programming language syntax used to facilitate the encapsulation of components.\n",
    "\n",
    "###  In Python, everything is Public\n",
    "\n",
    "All methods and attributes in Python class are *public*, i.e. they can be accessed by users. \n",
    "* Python has **NO access modifier**, i.e. `public` & `protected` & `private`, like in C# or Java.\n",
    "* It's a convention to prefix a instance variable with `_` to indicate a method or an attribute is only for internal use. \n",
    "* Such methods and attributes should not be used directly by users of the class. But you can still access them directly, which is useful for debugging purpose.\n",
    "\n",
    "\n",
    "### Double_leading_and_trailing_underscore\n",
    "\n",
    "Python use this convention for special variables or methods (so-called “magic method”) such as `__init__()`. \n",
    "* These methods provides special syntactic features or does special things. \n",
    "* User might modify such special method in rare case. E.g. You customize `__init__()` to initialize an object.\n",
    "* User should not define his own method in such convention.\n",
    "\n",
    "\n",
    "### Single-leading-underscore \n",
    "\n",
    "Single leading underscores is a **convention** to indicate an attribute is for internal use or treated as non-public. For example, user of a class `A` should not be using `A._attr` directly because `_attr` is meant for internal use in class. \n",
    "* This is a convention only and it does not affect the behavior of your programs. \n",
    "* The single-leading underscore is meant as a hint to another programmer that the variable or method starting with a single underscore is intended for internal use. It should be considered an implementation detail and subject to change without notice.\n",
    "* This isn’t enforced by Python. Python does not have strong distinctions between “private” and “public” variables like Java does.\n",
    "\n",
    "\n",
    "### Double-leading-underscore\n",
    "\n",
    "When a class attribute is named with double-leading-underscore, it invokes **name mangling**.\n",
    "\n",
    "### Name Mangling\n",
    "\n",
    "**Name Mangling** is a process where if a method has **at least two underscores leading the name and at the most one underscore trailing the name**, Python interpretor will textually replaced with *_ClassName* before it.\n",
    "For example, *__method()* becomes *_ClassName*__method()*. \n",
    "\n",
    "*Example* `__foo` in class `MyClass` will become `_MyClass__foo`.\n",
    "\n",
    "**Name Mangling is primarily done to avoid accidents of overriding the methods of parent classes by inherited classes.**\n",
    "\n",
    "**Example**\n",
    "```\n",
    "class MyClass():\n",
    "    def __init__(self):\n",
    "        self._a = 'a'\n",
    "        self.__b = 'b'\n",
    "        self.__c_ = 'c'\n",
    "        self.__d__ = 'd'\n",
    "        \n",
    "m = MyClass()\n",
    "print(m._a)\n",
    "print(m.__b) # Error\n",
    "print(m.__c_) # Error\n",
    "print(m.__d__)  \n",
    "print(m._MyClass__b)  #can access the attribute using m._CLASSNAME__b  (name mangling)\n",
    "print(m._MyClass__c_) #can access the attribute using m._CLASSNAME__b  (name mangling)\n",
    "\n",
    "Output:\n",
    "\n",
    "a\n",
    "---------------------------------------------------------------------------\n",
    "AttributeError                            Traceback (most recent call last)\n",
    "<ipython-input-52-47571c9e4bd8> in <module>\n",
    "      8 m = MyClass()\n",
    "      9 print(m._a)\n",
    "---> 10 print(m.__b)\n",
    "     11 print(m.__c_)\n",
    "     12 print(m.__d__)\n",
    "\n",
    "AttributeError: 'MyClass' object has no attribute '__b'\n",
    "\n",
    "```\n",
    "#### Exercise\n",
    "Copy the code and run.\n",
    "\n",
    "Comment the line `print(m.__b)` and  execute the code.  What happen?\n",
    "\n",
    "Comment the line `print(m.__c_)` and  execute the code.  What happen?\n"
   ]
  },
  {
   "cell_type": "code",
   "execution_count": null,
   "metadata": {
    "pycharm": {
     "name": "#%%\n"
    }
   },
   "outputs": [],
   "source": []
  },
  {
   "cell_type": "markdown",
   "metadata": {
    "pycharm": {
     "name": "#%% md\n"
    }
   },
   "source": [
    "### Private, Protected and Public (Python)\n",
    "\n",
    "#### Note: \n",
    "* All attributes and methods in Python class are *public*, i.e. they can be accessed by anyone outside the class.\n",
    "* In other languages (Java, C++):\n",
    "    * Private – only accessible by class itself \n",
    "    * Protected – accessible by class itself and derived/sub classes \n",
    "    * Public – accessible by anyone – outside the class \n",
    "       \n",
    "#### Private attributes and method in Python\n",
    "\n",
    "By convention, we use single-leading-underscore name to indicate that the attribute or method is non-public and is intended for internal use. It should be considered an implementation detail and subject to change without notice.\n",
    "\n",
    "In order to support data hidding, the instance attributes are set as Private attributes so that code outside the class will not be able to access or modify them.  The code outside the class can only obtain and modify the Private attributes via Public methods provided in the class.  \n",
    "\n",
    "**Accessor or getter** is method that is use to access and return the attribute. \n",
    "**Mutator or setter** is method that is use to change the value of the attribute.  \n",
    "\n",
    "#### Exercise:\n",
    "\n",
    "1. Rewrite the Student Class which you have written previously such that the attributes are \"private\" and codes outside the class can only access the attributes and set the attributes value via the methods.\n",
    "\n",
    "\n",
    "1. Create a Student Class with the following attributes:\n",
    "a. Name\n",
    "b. Age\n",
    "c. Gender\n",
    "\n",
    "2. Define a `__init__` method that initialize all the attributes above. Age should be defaulted to 17 and Gender to 'F'.\n",
    "3. Define a `setName` method to set the name of the student object.\n",
    "4. Define a `setAge` method to set the age of the student object.  The method should check that the age that is to be set is between 15 and 21. Otherwise the age will not be set.\n",
    "5. Define a `setGender` method to set the gender of the student object.  The method should check that the gender is either 'M' or 'F'. Otherwise the gender will not be set.\n",
    "6. Create an instance of the class that print out the attributes as follows:\n",
    "   Name=Tan Tan Tan, Age=20, Gender=Male\n"
   ]
  },
  {
   "cell_type": "code",
   "execution_count": null,
   "metadata": {
    "pycharm": {
     "name": "#%%\n"
    }
   },
   "outputs": [],
   "source": []
  }
 ],
 "metadata": {
  "kernelspec": {
   "display_name": "Python 3",
   "language": "python",
   "name": "python3"
  },
  "language_info": {
   "codemirror_mode": {
    "name": "ipython",
    "version": 3
   },
   "file_extension": ".py",
   "mimetype": "text/x-python",
   "name": "python",
   "nbconvert_exporter": "python",
   "pygments_lexer": "ipython3",
   "version": "3.8.5"
  }
 },
 "nbformat": 4,
 "nbformat_minor": 2
}