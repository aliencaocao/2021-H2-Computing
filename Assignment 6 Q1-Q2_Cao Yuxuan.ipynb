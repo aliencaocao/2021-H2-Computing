{
 "cells": [
  {
   "cell_type": "markdown",
   "metadata": {},
   "source": [
    "1  Assume that the variable **myString** refers to a string. Write a code segment that uses a loop to print the characters of the string in reverse order."
   ]
  },
  {
   "cell_type": "code",
   "execution_count": 1,
   "metadata": {},
   "outputs": [
    {
     "name": "stdout",
     "output_type": "stream",
     "text": [
      "edcba"
     ]
    }
   ],
   "source": [
    "myString = 'abcde'\n",
    "i=1\n",
    "while i != len(myString)+1:  # Stop when reaching max len\n",
    "    print(myString[-i], end='')\n",
    "    i+=1\n"
   ]
  },
  {
   "cell_type": "markdown",
   "metadata": {},
   "source": [
    "2  Write a function that takes a binary number of up to 16 digits, and converts it into a hexadecimal number. "
   ]
  },
  {
   "cell_type": "code",
   "execution_count": 2,
   "metadata": {},
   "outputs": [
    {
     "name": "stdout",
     "output_type": "stream",
     "text": [
      "Method 1: convert bin to dec then from dec to hex\n",
      "Binary:       1001001111\n",
      "Hexadecimal:  24F\n"
     ]
    }
   ],
   "source": [
    "# Binary numbers to Hexadecimal numbers\n",
    "\n",
    "# Method 1  (bin -> dec -> hex)\n",
    "\n",
    "def bin2dec(bin):\n",
    "    counter = 1\n",
    "    terms = []\n",
    "    for i in bin:\n",
    "        terms += [int(i) * (2 ** (len(bin) - counter))]  # if no int(), i will be a string and multiply will return 4 'i's instead\n",
    "        counter += 1\n",
    "    return sum(terms)\n",
    "\n",
    "def dec2hex(dec):\n",
    "    if dec == 0:\n",
    "        return 0\n",
    "    else:\n",
    "        results = []\n",
    "        letters = 'ABCDEF'\n",
    "        while dec >= 1:  # Stop when dividing by 16 results in a number smaller than 1\n",
    "            remainder = dec%16\n",
    "            if remainder >= 10:  # if remainder larger than 9, map letters\n",
    "                results += [letters[remainder%10]]  # int % 10 returns the last digit as it is the remainder, used as list index to map onto letter\n",
    "            else:\n",
    "                results += [remainder]  # if its just a single digit number, add it to results list\n",
    "            dec = dec//16\n",
    "        return ''.join(map(str, reversed(results)))  # LSD is at front so need reverse\n",
    "\n",
    "def main():\n",
    "    print(\"Method 1: convert bin to dec then from dec to hex\")\n",
    "    repeat = True\n",
    "    while repeat:\n",
    "        bin = input(\"Enter a binary number (up to 16 digits): \")\n",
    "        bin = \"\".join(bin.split())  # Remove all sorts of spaces from input\n",
    "        if len(bin) > 16:\n",
    "            print('Please enter up to 16 digits')\n",
    "        else:\n",
    "            dec = bin2dec(bin)\n",
    "            hex = dec2hex(dec)\n",
    "            repeat = False\n",
    "    print ('Binary:      ', bin)   # 1001001111\n",
    "    print ('Hexadecimal: ', hex)   # 24F\n",
    "        \n",
    "\n",
    "main()"
   ]
  },
  {
   "cell_type": "code",
   "execution_count": 3,
   "metadata": {},
   "outputs": [
    {
     "name": "stdout",
     "output_type": "stream",
     "text": [
      "Method 2\n",
      "- Starting from right-most bit, sector in group of four.\n",
      "- Insert dummy 0’s when there is not enough.\n",
      "- For each group of four, calculate its decimal value, and it is the digit for hexadecimal\n",
      "Binary:  1001001111\n",
      "Hexadecimal: 24F\n"
     ]
    }
   ],
   "source": [
    "# Binary numbers to Hexadecimal numbers\n",
    "\n",
    "# Method 2  \n",
    "# -- Starting from LSD, sector in group of four. Insert dummy 0’s when there is not enough\n",
    "# -- For each group of four, calculate its decimal value, and it is the digit for hexadecimal\n",
    "\n",
    "# e.g.  1011110100 --> 001011110100 --> 2F4\n",
    "         \n",
    "       \n",
    "def bin2hex(bin):\n",
    "    counter = 1\n",
    "    dec = 0\n",
    "    for i in bin:\n",
    "        dec += int(i) * (2 ** (len(bin) - counter))  # if no int(), i will be a string and multiply will return 4 'i's instead\n",
    "        counter += 1\n",
    "    if dec == 0:\n",
    "        return 0\n",
    "    else:\n",
    "        hex = ''\n",
    "        quo = dec\n",
    "        while quo != 0:    # Keep on looping until quotient = 0\n",
    "            rem = quo % 16\n",
    "            if 10 <= rem <= 15:\n",
    "                rem = chr(ord(\"A\") + (rem-10))\n",
    "            hex = str(rem) + hex\n",
    "            quo = quo // 16\n",
    "        return hex\n",
    "\n",
    "def main():\n",
    "    repeat = True\n",
    "    print (\"Method 2\")\n",
    "    print (\"- Starting from right-most bit, sector in group of four.\")\n",
    "    print (\"- Insert dummy 0’s when there is not enough.\")\n",
    "    print (\"- For each group of four, calculate its decimal value, and it is the digit for hexadecimal\")\n",
    "    while repeat:\n",
    "        bin = input(\"Enter a binary number (up to 16 digits): \")\n",
    "        bin = ''.join(bin.split())  # Remove all sorts of spaces from input\n",
    "        if len(bin) > 16:\n",
    "            print('Please enter up to 16 digits')\n",
    "        else:\n",
    "            hexa = bin2hex(bin)\n",
    "            repeat = False\n",
    "    print ('Binary: ', bin)       # 1011110100\n",
    "    print ('Hexadecimal:', hexa)  # 24F\n",
    "    \n",
    "main()"
   ]
  }
 ],
 "metadata": {
  "kernelspec": {
   "display_name": "Python 3",
   "language": "python",
   "name": "python3"
  },
  "language_info": {
   "codemirror_mode": {
    "name": "ipython",
    "version": 3
   },
   "file_extension": ".py",
   "mimetype": "text/x-python",
   "name": "python",
   "nbconvert_exporter": "python",
   "pygments_lexer": "ipython3",
   "version": "3.6.4"
  }
 },
 "nbformat": 4,
 "nbformat_minor": 2
}