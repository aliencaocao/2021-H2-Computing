{
 "cells": [
  {
   "cell_type": "code",
   "execution_count": 3,
   "metadata": {
    "collapsed": true
   },
   "outputs": [
    {
     "name": "stdout",
     "output_type": "stream",
     "text": [
      "In order\n",
      "5\n",
      "204\n",
      "273\n",
      "424\n",
      "453\n",
      "503\n",
      "541\n",
      "617\n",
      "745\n",
      "951\n",
      "\n",
      "Post order\n",
      "204\n",
      "503\n",
      "453\n",
      "424\n",
      "273\n",
      "5\n",
      "951\n",
      "745\n",
      "617\n",
      "541\n"
     ]
    }
   ],
   "source": [
    "# Task 3.1\n",
    "import random\n",
    "class Tree:  # getter and setters for data, left_pointer and right_pointer omitted as they are trivial\n",
    "    def __init__(self, data):\n",
    "        self.data = data\n",
    "        self.left_pointer = None\n",
    "        self.right_pointer = None\n",
    "\n",
    "    def insert(self, data):\n",
    "        self._insert(self, data)\n",
    "\n",
    "    def _insert(self, root, data):\n",
    "        if data > root.data:\n",
    "            if root.right_pointer:\n",
    "                self._insert(root.right_pointer, data)\n",
    "            else:\n",
    "                root.right_pointer = Tree(data)\n",
    "        elif data < root.data:\n",
    "            if root.left_pointer:\n",
    "                self._insert(root.left_pointer, data)\n",
    "            else:\n",
    "                root.left_pointer = Tree(data)\n",
    "        else:\n",
    "            raise Exception('Equal values are not handled!')\n",
    "\n",
    "    def inOrder(self):\n",
    "        self._inOrder(self)\n",
    "\n",
    "    def _inOrder(self, root):\n",
    "        if root:\n",
    "            self._inOrder(root.left_pointer)\n",
    "            print(root.data)\n",
    "            self._inOrder(root.right_pointer)\n",
    "\n",
    "    def postOrder(self):\n",
    "        self._postOrder(self)\n",
    "\n",
    "    def _postOrder(self, root):\n",
    "        if root:\n",
    "            self._postOrder(root.left_pointer)\n",
    "            self._postOrder(root.right_pointer)\n",
    "            print(root.data)\n",
    "\n",
    "nums = [random.randint(0, 999) for i in range(10)]\n",
    "tree = Tree(nums.pop())\n",
    "for num in nums:\n",
    "    tree.insert(num)\n",
    "\n",
    "print('In order')\n",
    "tree.inOrder()\n",
    "print()\n",
    "print('Post order')\n",
    "tree.postOrder()"
   ]
  }
 ],
 "metadata": {
  "kernelspec": {
   "display_name": "Python 3",
   "language": "python",
   "name": "python3"
  },
  "language_info": {
   "codemirror_mode": {
    "name": "ipython",
    "version": 2
   },
   "file_extension": ".py",
   "mimetype": "text/x-python",
   "name": "python",
   "nbconvert_exporter": "python",
   "pygments_lexer": "ipython2",
   "version": "2.7.6"
  }
 },
 "nbformat": 4,
 "nbformat_minor": 0
}
