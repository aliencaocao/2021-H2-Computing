{
 "cells": [
  {
   "cell_type": "code",
   "execution_count": null,
   "metadata": {
    "collapsed": true
   },
   "outputs": [],
   "source": [
    "# Task 4.1\n",
    "import sqlite3\n",
    "db = sqlite3.connect('LIBRARY.db')\n",
    "db.execute('CREATE TABLE \"Book\" ( \"BookID\" INTEGER NOT NULL UNIQUE, \"Title\" TEXT NOT NULL, \"Genre\" TEXT NOT NULL, PRIMARY KEY(\"BookID\") );')\n",
    "db.execute('CREATE TABLE \"Member\" ( \"MemberNumber\" INTEGER NOT NULL UNIQUE, \"FamilyName\" TEXT NOT NULL, \"GivenName\" TEXT NOT NULL, PRIMARY KEY(\"MemberNumber\") );')\n",
    "db.execute('CREATE TABLE \"Loan\" ( \"LoanID\" INTEGER NOT NULL UNIQUE, \"MemberNumber\" INTEGER NOT NULL, \"BookID\" INTEGER NOT NULL, \"DateLoaned\" TEXT NOT NULL, \"Returned\" TEXT NOT NULL DEFAULT \"FALSE\", PRIMARY KEY(\"LoanID\" AUTOINCREMENT), FOREIGN KEY(\"MemberNumber\") REFERENCES \"Member\"(\"MemberNumber\"), FOREIGN KEY(\"BookID\") REFERENCES \"Book\"(\"BookID\") );')\n",
    "db.commit()\n",
    "db.close()"
   ]
  },
  {
   "cell_type": "code",
   "execution_count": null,
   "outputs": [],
   "source": [
    "db = sqlite3.connect('LIBRARY.db')\n",
    "\n",
    "with open('BOOK.txt') as f:\n",
    "    lines = f.read().splitlines()\n",
    "    for line in lines:\n",
    "        db.execute('INSERT INTO Book VALUES (?, ?, ?)', line.split(','))\n",
    "with open('MEMBER.txt') as f:\n",
    "    lines = f.read().splitlines()\n",
    "    for line in lines:\n",
    "        db.execute('INSERT INTO Member VALUES (?, ?, ?)', line.split(','))\n",
    "\n",
    "with open('LOAN.txt') as f:\n",
    "    lines = f.read().splitlines()\n",
    "    for line in lines:\n",
    "        db.execute('INSERT INTO Loan VALUES (?, ?, ?, ?, ?)', line.split(','))\n",
    "\n",
    "db.commit()\n",
    "db.close()"
   ],
   "metadata": {
    "collapsed": false
   }
  },
  {
   "cell_type": "code",
   "execution_count": 4,
   "outputs": [
    {
     "name": "stdout",
     "output_type": "stream",
     "text": [
      "Title: hello, Returned: FALSE\n"
     ]
    }
   ],
   "source": [
    "import sqlite3\n",
    "db = sqlite3.connect('LIBRARY.db')\n",
    "db.row_factory = sqlite3.Row\n",
    "MemberNumber = int(input('Enter a member number: '))\n",
    "cursor = db.execute('SELECT Book.Title as title, Loan.Returned as returned FROM Book, Member, Loan WHERE Book.BookID=Loan.BookID AND Member.MemberNumber=Loan.MemberNumber AND Member.MemberNumber=?', (MemberNumber,))\n",
    "results = cursor.fetchall()\n",
    "for r in results:\n",
    "    print(f'Title: {r[\"title\"]}, Returned: {r[\"returned\"]}')\n",
    "db.close()"
   ],
   "metadata": {
    "collapsed": false
   }
  }
 ],
 "metadata": {
  "kernelspec": {
   "display_name": "Python 3",
   "language": "python",
   "name": "python3"
  },
  "language_info": {
   "codemirror_mode": {
    "name": "ipython",
    "version": 2
   },
   "file_extension": ".py",
   "mimetype": "text/x-python",
   "name": "python",
   "nbconvert_exporter": "python",
   "pygments_lexer": "ipython2",
   "version": "2.7.6"
  }
 },
 "nbformat": 4,
 "nbformat_minor": 0
}
