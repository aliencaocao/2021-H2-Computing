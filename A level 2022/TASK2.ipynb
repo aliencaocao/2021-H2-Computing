{
 "cells": [
  {
   "cell_type": "code",
   "execution_count": 3,
   "metadata": {
    "collapsed": true
   },
   "outputs": [
    {
     "name": "stdout",
     "output_type": "stream",
     "text": [
      "[96, 67, 7, 69, 95, 74, 79, 99, 90, 78, 83, 1, 66, 77, 25, 92, 77, 54, 74, 12, 89, 10, 48, 23, 50, 1, 11, 62, 34, 75, 23, 40, 46, 24, 72, 95, 17, 68, 10, 37, 17, 65, 58, 43, 90, 61, 49, 35, 33, 70, 60, 27, 37, 57, 67, 5, 8, 99, 38, 98, 45, 14, 80, 11, 1, 1, 67, 89, 94, 44, 79, 16, 63, 58, 79, 82, 23, 20, 67, 85, 51, 69, 40, 95, 97, 9, 26, 32, 40, 23, 34, 11, 44, 25, 64, 74, 94, 2, 73, 97]\n"
     ]
    }
   ],
   "source": [
    "# Task 2.1\n",
    "import random\n",
    "lst = []\n",
    "def task2_1():\n",
    "    global lst\n",
    "    lst = [random.randint(1, 100) for i in range(100)]\n",
    "    print(lst)\n",
    "\n",
    "task2_1()"
   ]
  },
  {
   "cell_type": "code",
   "execution_count": 2,
   "outputs": [
    {
     "name": "stdout",
     "output_type": "stream",
     "text": [
      "[96, 67, 79, 44, 84, 14, 25, 80, 25, 62, 32, 95, 43, 72, 19, 28, 10, 47, 53, 2, 60, 14, 38, 87, 60, 49, 1, 56, 53, 77, 91, 53, 3, 20, 44, 90, 25, 57, 81, 96, 84, 32, 78, 32, 85, 48, 11, 78, 88, 86, 59, 10, 16, 54, 55, 62, 61, 31, 36, 67, 85, 92, 20, 67, 16, 10, 85, 72, 63, 67, 74, 64, 97, 52, 18, 15, 67, 35, 66, 41, 62, 27, 74, 42, 53, 69, 26, 44, 40, 83, 58, 72, 4, 6, 1, 50, 26, 16, 84, 10]\n",
      "[1, 1, 2, 3, 4, 6, 10, 10, 10, 10, 11, 14, 14, 15, 16, 16, 16, 18, 19, 20, 20, 25, 25, 25, 26, 26, 27, 28, 31, 32, 32, 32, 35, 36, 38, 40, 41, 42, 43, 44, 44, 44, 47, 48, 49, 50, 52, 53, 53, 53, 53, 54, 55, 56, 57, 58, 59, 60, 60, 61, 62, 62, 62, 63, 64, 66, 67, 67, 67, 67, 67, 69, 72, 72, 72, 74, 74, 77, 78, 78, 79, 80, 81, 83, 84, 84, 84, 85, 85, 85, 86, 87, 88, 90, 91, 92, 95, 96, 96, 97]\n"
     ]
    }
   ],
   "source": [
    "# Task 2.2\n",
    "def swap(l, a, b):\n",
    "    temp = l[a]\n",
    "    l[a] = l[b]\n",
    "    l[b] = temp\n",
    "    return l\n",
    "\n",
    "def bubble_sort():  # procedure: no return value\n",
    "    for j in range(len(lst)-1):\n",
    "       for i in range(len(lst)-j-1):\n",
    "           if lst[i] > lst[i+1]:\n",
    "               swap(lst, i, i+1)\n",
    "\n",
    "task2_1()\n",
    "bubble_sort()\n",
    "print(lst)"
   ],
   "metadata": {
    "collapsed": false
   }
  },
  {
   "cell_type": "code",
   "execution_count": 6,
   "outputs": [
    {
     "name": "stdout",
     "output_type": "stream",
     "text": [
      "[100, 50, 4, 2, 65, 63, 48, 56, 60, 25, 2, 21, 13, 96, 17, 70, 36, 36, 25, 1, 51, 40, 70, 63, 96, 38, 49, 40, 21, 8, 98, 20, 92, 33, 4, 70, 50, 9, 7, 16, 16, 9, 80, 47, 45, 66, 86, 85, 53, 84, 62, 16, 28, 79, 9, 59, 17, 78, 39, 28, 12, 83, 19, 94, 96, 34, 58, 36, 82, 64, 31, 82, 72, 85, 69, 45, 39, 60, 15, 28, 57, 38, 4, 67, 35, 60, 15, 3, 47, 5, 61, 49, 39, 25, 53, 34, 1, 15, 74, 94]\n",
      "[1, 1, 2, 2, 3, 4, 4, 4, 5, 7, 8, 9, 9, 9, 12, 13, 15, 15, 15, 16, 16, 16, 17, 17, 19, 20, 21, 21, 25, 25, 25, 28, 28, 28, 31, 33, 34, 34, 35, 36, 36, 36, 38, 38, 39, 39, 39, 40, 40, 45, 45, 47, 47, 48, 49, 49, 50, 50, 51, 53, 53, 56, 57, 58, 59, 60, 60, 60, 61, 62, 63, 63, 64, 65, 66, 67, 69, 70, 70, 70, 72, 74, 78, 79, 80, 82, 82, 83, 84, 85, 85, 86, 92, 94, 94, 96, 96, 96, 98, 100]\n"
     ]
    }
   ],
   "source": [
    "# Task 2.3\n",
    "def merge(left, right):\n",
    "    i, j = 0, 0\n",
    "    result = []\n",
    "    while i < len(left) and j < len(right):\n",
    "        if left[i] < right[j]:\n",
    "            result.append(left[i])\n",
    "            i += 1\n",
    "        else:\n",
    "            result.append(right[j])\n",
    "            j += 1\n",
    "    result += left[i:]\n",
    "    result += right[j:]\n",
    "    return result\n",
    "\n",
    "def merge_sort(data):\n",
    "    if len(data) == 1:\n",
    "        return data\n",
    "    mid = len(data)//2\n",
    "    left = merge_sort(data[:mid])\n",
    "    right = merge_sort(data[mid:])\n",
    "    return merge(left, right)\n",
    "\n",
    "def mergesort():  # procedure: no return value\n",
    "    global lst\n",
    "    lst = merge_sort(lst)\n",
    "\n",
    "sort_to_use = None\n",
    "sorts = {'bubble': bubble_sort, 'merge': mergesort}\n",
    "while sort_to_use not in sorts:\n",
    "    sort_to_use = input('Enter the sort to use, \"bubble\" for bubble sort, \"merge\" for merge sort: ')\n",
    "task2_1()\n",
    "sorts[sort_to_use]()\n",
    "print(lst)\n",
    "\n",
    "# Omitted automated testing code written using for loops to simulate inputs"
   ],
   "metadata": {
    "collapsed": false
   }
  },
  {
   "cell_type": "code",
   "execution_count": 9,
   "outputs": [
    {
     "name": "stdout",
     "output_type": "stream",
     "text": [
      "Found at index 99\n"
     ]
    }
   ],
   "source": [
    "# Task 2.4\n",
    "def binary_search(data, target, start, end):\n",
    "    if start <= end:\n",
    "        mid = (start+end)//2\n",
    "        if data[mid] == target:\n",
    "            return mid\n",
    "        elif data[mid] > target:\n",
    "            return binary_search(data, target, start, mid-1)\n",
    "        else:  # data[mid] < target\n",
    "            return binary_search(data, target, mid+1, end)\n",
    "    else:\n",
    "        return -1\n",
    "\n",
    "target = int(input('Enter an integer: '))\n",
    "r = binary_search(lst, target, 0, len(lst)-1)\n",
    "if r == -1:\n",
    "    print('Not found')\n",
    "else:\n",
    "    print(f'Found at index {r}')\n",
    "\n",
    "# Omitted automated testing code written using for loops to simulate inputs"
   ],
   "metadata": {
    "collapsed": false
   }
  }
 ],
 "metadata": {
  "kernelspec": {
   "display_name": "Python 3",
   "language": "python",
   "name": "python3"
  },
  "language_info": {
   "codemirror_mode": {
    "name": "ipython",
    "version": 2
   },
   "file_extension": ".py",
   "mimetype": "text/x-python",
   "name": "python",
   "nbconvert_exporter": "python",
   "pygments_lexer": "ipython2",
   "version": "2.7.6"
  }
 },
 "nbformat": 4,
 "nbformat_minor": 0
}
