{
 "cells": [
  {
   "cell_type": "code",
   "execution_count": null,
   "metadata": {
    "collapsed": true,
    "pycharm": {
     "is_executing": true
    }
   },
   "outputs": [],
   "source": [
    "# Task 1.1\n",
    "from string import ascii_letters\n",
    "def caesar(c):\n",
    "    if c not in ascii_letters + ' ':\n",
    "        return -1\n",
    "    elif c == ' ':\n",
    "        return ord('!')\n",
    "    ascii_of_c = ord(c)\n",
    "    if ascii_of_c >= ord('a'):\n",
    "        ascii_of_c -= ord('a')  # convert to letter index starting from a=1\n",
    "        ascii_of_c += 10  # shift by 10\n",
    "        ascii_of_c %= 26  # loop back to start if needed\n",
    "        ascii_of_c += ord('a')  # restore ascii value of result\n",
    "    else:\n",
    "        ascii_of_c -= ord('A')\n",
    "        ascii_of_c += 10\n",
    "        ascii_of_c %= 26\n",
    "        ascii_of_c += ord('A')\n",
    "    return ascii_of_c"
   ]
  },
  {
   "cell_type": "code",
   "execution_count": 8,
   "outputs": [
    {
     "name": "stdout",
     "output_type": "stream",
     "text": [
      "k\n"
     ]
    }
   ],
   "source": [
    "# Task 1.2\n",
    "c = input('Enter a letter: ')\n",
    "r = caesar(c)\n",
    "if r == -1:\n",
    "    print('Invalid character!')\n",
    "else:\n",
    "    print(chr(r))\n",
    "\n",
    "# Omitted automated testing code written using for loops to simulate inputs"
   ],
   "metadata": {
    "collapsed": false
   }
  },
  {
   "cell_type": "code",
   "execution_count": 13,
   "outputs": [
    {
     "name": "stdout",
     "output_type": "stream",
     "text": [
      "Vybow!szcew!nyvyb!csd!kwod\n"
     ]
    }
   ],
   "source": [
    "# Task 1.3\n",
    "with open('DATATOENCRYPT.txt', 'r') as f:\n",
    "    lines = f.read().splitlines()\n",
    "    enc_lines = [[caesar(c) for c in line] for line in lines]\n",
    "    enc_lines = [''.join([chr(c) for c in line if c != -1]) for line in enc_lines]\n",
    "\n",
    "with open('ENCRYPTEDMESSAGE.txt', 'w+') as f:\n",
    "    f.write('\\n'.join(enc_lines))\n",
    "\n",
    "with open('ENCRYPTEDMESSAGE.txt', 'r') as f:\n",
    "    print(f.read())"
   ],
   "metadata": {
    "collapsed": false
   }
  }
 ],
 "metadata": {
  "kernelspec": {
   "display_name": "Python 3",
   "language": "python",
   "name": "python3"
  },
  "language_info": {
   "codemirror_mode": {
    "name": "ipython",
    "version": 2
   },
   "file_extension": ".py",
   "mimetype": "text/x-python",
   "name": "python",
   "nbconvert_exporter": "python",
   "pygments_lexer": "ipython2",
   "version": "2.7.6"
  }
 },
 "nbformat": 4,
 "nbformat_minor": 0
}
