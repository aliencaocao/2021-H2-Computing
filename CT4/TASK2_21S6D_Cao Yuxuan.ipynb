{
 "cells": [
  {
   "cell_type": "code",
   "execution_count": 1,
   "metadata": {
    "collapsed": true,
    "pycharm": {
     "name": "#%%\n"
    }
   },
   "outputs": [],
   "source": [
    "# Task 2.1\n",
    "class TreeNode:\n",
    "    def __init__(self, value):\n",
    "        self.word = value\n",
    "        self.left_ptr = None\n",
    "        self.right_ptr = None"
   ]
  },
  {
   "cell_type": "code",
   "execution_count": 2,
   "outputs": [],
   "source": [
    "# Task 2.2\n",
    "class BinarySearchTree:\n",
    "    def __init__(self):\n",
    "        self.root = None\n",
    "\n",
    "    def add(self, word, tree):\n",
    "        if self.root is None:\n",
    "            self.root = TreeNode(word)\n",
    "        else:\n",
    "            if word < tree.word:\n",
    "                if tree.left_ptr is None:\n",
    "                    tree.left_ptr = TreeNode(word)\n",
    "                else:\n",
    "                    self.add(word, tree.left_ptr)\n",
    "            else:\n",
    "                if tree.right_ptr is None:\n",
    "                    tree.right_ptr = TreeNode(word)\n",
    "                else:\n",
    "                    self.add(word, tree.right_ptr)\n",
    "\n",
    "    def inOrder(self, tree):\n",
    "        if tree is not None:\n",
    "            self.inOrder(tree.left_ptr)\n",
    "            print(tree.word)\n",
    "            self.inOrder(tree.right_ptr)\n",
    "\n",
    "    def preOrder(self, tree):\n",
    "        if tree is not None:\n",
    "            print(tree.word)\n",
    "            self.preOrder(tree.left_ptr)\n",
    "            self.preOrder(tree.right_ptr)"
   ],
   "metadata": {
    "collapsed": false,
    "pycharm": {
     "name": "#%%\n"
    }
   }
  },
  {
   "cell_type": "code",
   "execution_count": 3,
   "outputs": [
    {
     "name": "stdout",
     "output_type": "stream",
     "text": [
      "advance\n",
      "and\n",
      "as\n",
      "civilization\n",
      "consume\n",
      "create\n",
      "more\n",
      "people\n",
      "technology\n",
      "than\n",
      "they\n"
     ]
    }
   ],
   "source": [
    "# Task 2.3\n",
    "BST = BinarySearchTree()\n",
    "with open('TEXT.txt', 'r') as f:\n",
    "    words = f.read().split()\n",
    "\n",
    "for word in words:\n",
    "    BST.add(word, BST.root)\n",
    "\n",
    "BST.inOrder(BST.root)"
   ],
   "metadata": {
    "collapsed": false,
    "pycharm": {
     "name": "#%%\n"
    }
   }
  },
  {
   "cell_type": "code",
   "execution_count": 4,
   "outputs": [
    {
     "name": "stdout",
     "output_type": "stream",
     "text": [
      "create\n",
      "as\n",
      "advance\n",
      "and\n",
      "civilization\n",
      "consume\n",
      "technology\n",
      "more\n",
      "people\n",
      "than\n",
      "they\n"
     ]
    }
   ],
   "source": [
    "# Task 2.4\n",
    "sorted_array = ['advance', 'and', 'as', 'civilization', 'consume', 'create', 'more', 'people', 'technology', 'than', 'they']\n",
    "\n",
    "def BalancedBST(sorted_array, start, end):\n",
    "    if start > end:\n",
    "        return None\n",
    "    else:\n",
    "        middle_id = (start + end) // 2\n",
    "        root = TreeNode(sorted_array[middle_id])\n",
    "        root.left_ptr = BalancedBST(sorted_array, start, middle_id - 1)\n",
    "        root.right_ptr = BalancedBST(sorted_array, middle_id + 1, end)\n",
    "        return root\n",
    "\n",
    "balanced_bst = BinarySearchTree()\n",
    "balanced_bst.root = BalancedBST(sorted_array, 0, len(sorted_array) - 1)\n",
    "balanced_bst.preOrder(balanced_bst.root)"
   ],
   "metadata": {
    "collapsed": false,
    "pycharm": {
     "name": "#%%\n"
    }
   }
  }
 ],
 "metadata": {
  "kernelspec": {
   "display_name": "Python 3",
   "language": "python",
   "name": "python3"
  },
  "language_info": {
   "codemirror_mode": {
    "name": "ipython",
    "version": 2
   },
   "file_extension": ".py",
   "mimetype": "text/x-python",
   "name": "python",
   "nbconvert_exporter": "python",
   "pygments_lexer": "ipython2",
   "version": "2.7.6"
  }
 },
 "nbformat": 4,
 "nbformat_minor": 0
}