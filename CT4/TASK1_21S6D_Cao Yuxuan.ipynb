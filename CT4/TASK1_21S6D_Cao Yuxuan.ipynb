{
 "cells": [
  {
   "cell_type": "code",
   "execution_count": 41,
   "metadata": {
    "collapsed": true,
    "pycharm": {
     "name": "#%%\n"
    }
   },
   "outputs": [],
   "source": [
    "# Task 1.1\n",
    "class Node:\n",
    "    def __init__(self, data, priority):\n",
    "        self.data = data\n",
    "        self.Priority = int(priority)\n",
    "        self.next = None\n",
    "\n",
    "class PQueue:\n",
    "    def __init__(self):\n",
    "        self.Front = 0\n",
    "        self.Rear = 0\n",
    "        self.ThisPQueue = [None] * 10\n",
    "        self.NextFree = 0\n",
    "\n",
    "    def Initialise(self):\n",
    "        self.__init__()\n",
    "        for i in range(len(self.ThisPQueue) - 1):  # do not set next of last element else list index out of range\n",
    "            self.ThisPQueue[i] = Node(None, 0)\n",
    "            self.ThisPQueue[i].next = i + 1\n",
    "        self.ThisPQueue[9] = Node(None, 0)\n",
    "\n",
    "    def PQInsert(self, NewItem, Priority):\n",
    "        if len([i for i in self.ThisPQueue if i.data]) == len(self.ThisPQueue):  # check length of all elements in the queue whose data is not None\n",
    "            raise Exception(\"PQueue is full\")\n",
    "        else:\n",
    "            NewNode = Node(NewItem, Priority)\n",
    "            if self.Front != self.Rear:  # set the next pointer of previous node in queue only if it exists, that means front and rear must be different\n",
    "                self.ThisPQueue[self.Rear].next = self.NextFree  # next here is a integer index, not Node object\n",
    "            self.Rear = self.NextFree  # set new rear to be the current next free (where the new node will be placed)\n",
    "            self.ThisPQueue[self.NextFree] = NewNode\n",
    "            # Find NextFree by looping until an element is not None\n",
    "            i = 0\n",
    "            while i < len(self.ThisPQueue) and self.ThisPQueue[i].data:\n",
    "                i += 1\n",
    "            self.ThisPQueue[self.NextFree].next = i  # set the next pointer of the new node to be the next free index\n",
    "            self.NextFree = i\n",
    "\n",
    "    def PQDelete(self):\n",
    "        if self.Front == self.Rear:\n",
    "            raise Exception(\"PQueue is empty\")\n",
    "        else:\n",
    "            currHighestPrio = 0\n",
    "            currHighestPrioIndex = self.Front\n",
    "            probe = self.ThisPQueue[self.Front]\n",
    "            while probe.next:\n",
    "                if probe.Priority > currHighestPrio:  # no need check for equal as if it is equal, we are removing the earlier added queue item, and if we iternate front the Front, the earlier added item will already be saved to CurrHighestPrioIndex\n",
    "                    currHighestPrio = probe.Priority\n",
    "                    currHighestPrioIndex = probe.next\n",
    "                if probe.next:  # do a check here in case .next is None which gives error\n",
    "                    probe = self.ThisPQueue[probe.next]\n",
    "            removed_node = self.ThisPQueue[currHighestPrioIndex]\n",
    "            # Find the previous index of the removed node\n",
    "            prev_index = self.Front\n",
    "            while prev_index and self.ThisPQueue[prev_index].next != currHighestPrioIndex:  # check for prev_index also as it can be None at the end of the queue\n",
    "                prev_index = probe.next\n",
    "            self.ThisPQueue[prev_index].next = self.ThisPQueue[currHighestPrioIndex].next  # skip the removed node\n",
    "            self.ThisPQueue[currHighestPrioIndex] = Node(None, 0)  # set the removed node's index to an empty Node\n",
    "            self.NextFree = currHighestPrioIndex  # set the next free to be the removed node index (can do a full search like in Insert() but no point and waste time)\n",
    "            return removed_node.data\n",
    "\n",
    "    def DisplayPQueue(self):\n",
    "        print(f'Front: {self.Front}, Rear: {self.Rear}, NextFree: {self.NextFree}')\n",
    "        for i in self.ThisPQueue:\n",
    "            if i:\n",
    "                print(f'Data: {i.data}, Priority: {i.Priority}, Next: {i.next}')\n",
    "            else:\n",
    "                print(\"None\")\n"
   ]
  },
  {
   "cell_type": "code",
   "execution_count": 42,
   "outputs": [
    {
     "name": "stdout",
     "output_type": "stream",
     "text": [
      "Front: 0, Rear: 5, NextFree: 6\n",
      "Data: George, Priority: 2, Next: 1\n",
      "Data: Jane, Priority: 1, Next: 2\n",
      "Data: Sandra, Priority: 4, Next: 3\n",
      "Data: Bill, Priority: 3, Next: 4\n",
      "Data: Dave, Priority: 5, Next: 5\n",
      "Data: Bob, Priority: 1, Next: 6\n",
      "Data: None, Priority: 0, Next: 7\n",
      "Data: None, Priority: 0, Next: 8\n",
      "Data: None, Priority: 0, Next: 9\n",
      "Data: None, Priority: 0, Next: None\n"
     ]
    }
   ],
   "source": [
    "# Task 1.2\n",
    "PriorityQueue = PQueue()\n",
    "PriorityQueue.Initialise()\n",
    "with open('PATIENTS.txt', 'r') as f:\n",
    "    lines = f.read().splitlines()\n",
    "    for line in lines:\n",
    "        PriorityQueue.PQInsert(*line.split(','))\n",
    "\n",
    "PriorityQueue.DisplayPQueue()"
   ],
   "metadata": {
    "collapsed": false,
    "pycharm": {
     "name": "#%%\n"
    }
   }
  },
  {
   "cell_type": "code",
   "execution_count": 43,
   "outputs": [
    {
     "name": "stdout",
     "output_type": "stream",
     "text": [
      "Front: 0, Rear: 6, NextFree: 8\n",
      "Data: George, Priority: 2, Next: 9\n",
      "Data: Jane, Priority: 1, Next: 2\n",
      "Data: Sandra, Priority: 4, Next: 3\n",
      "Data: Bill, Priority: 3, Next: 4\n",
      "Data: Dave, Priority: 5, Next: 5\n",
      "Data: None, Priority: 0, Next: 6\n",
      "Data: Carol, Priority: 4, Next: 5\n",
      "Data: None, Priority: 0, Next: None\n",
      "Data: None, Priority: 0, Next: None\n",
      "Data: None, Priority: 0, Next: None\n"
     ]
    }
   ],
   "source": [
    "# Task 1.3\n",
    "PriorityQueue.PQDelete()\n",
    "PriorityQueue.PQDelete()\n",
    "PriorityQueue.PQInsert('Carol', 4)\n",
    "PriorityQueue.PQDelete()\n",
    "PriorityQueue.PQDelete()\n",
    "PriorityQueue.DisplayPQueue()"
   ],
   "metadata": {
    "collapsed": false,
    "pycharm": {
     "name": "#%%\n"
    }
   }
  }
 ],
 "metadata": {
  "kernelspec": {
   "display_name": "Python 3",
   "language": "python",
   "name": "python3"
  },
  "language_info": {
   "codemirror_mode": {
    "name": "ipython",
    "version": 2
   },
   "file_extension": ".py",
   "mimetype": "text/x-python",
   "name": "python",
   "nbconvert_exporter": "python",
   "pygments_lexer": "ipython2",
   "version": "2.7.6"
  }
 },
 "nbformat": 4,
 "nbformat_minor": 0
}