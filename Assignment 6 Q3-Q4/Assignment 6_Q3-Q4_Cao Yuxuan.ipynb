{
 "cells": [
  {
   "cell_type": "markdown",
   "metadata": {},
   "source": [
    "3 Write a script to prompt the user for the names of two text files. The contents of the first file should be input and written to the second file."
   ]
  },
  {
   "cell_type": "code",
   "execution_count": 1,
   "metadata": {},
   "outputs": [],
   "source": [
    "file1 = input('Enter file name 1: ')\n",
    "file2 = input('Enter file name 2: ')\n",
    "\n",
    "with open(file2,'w') as f2:\n",
    "    for line in open(file1, 'r'):\n",
    "        f2.write(f'{line}')"
   ]
  },
  {
   "cell_type": "markdown",
   "metadata": {},
   "source": [
    "4  The Payroll Department keeps a list of employee information for each pay period in a text file. The format of each line of the file is the following:\n",
    "\n",
    "```<last name>  <hourly wage>  <hours worked>```\n",
    "\n",
    "Write a program that inputs a filename from the user and prints to the terminal a report of the wages paid to the employees for the given period. The report should be in tabular format with the appropriate header. Each line should contain an employee’s name, the hours worked and the wages paid for that period."
   ]
  },
  {
   "cell_type": "code",
   "execution_count": 1,
   "metadata": {},
   "outputs": [
    {
     "name": "stdout",
     "output_type": "stream",
     "text": [
      "Name: Tommy   Hours worked: 10   Wages paid: $85.00\n",
      "Name: Amy   Hours worked: 20.5   Wages paid: $123.00\n",
      "Name: Johnson   Hours worked: 8   Wages paid: $240.00\n"
     ]
    }
   ],
   "source": [
    "def getInfo(fileName):\n",
    "    for line in open(fileName):\n",
    "        info = line.split()\n",
    "        print(f'Name: {info[0]}   Hours worked: {info[2]}   Wages paid: ${float(info[1]) * float(info[2]):.2f}')\n",
    "\n",
    "def main():\n",
    "    fileName = input('Enter the file name: ')\n",
    "    getInfo(fileName)\n",
    "\n",
    "main()"
   ]
  }
 ],
 "metadata": {
  "kernelspec": {
   "display_name": "Python 3",
   "language": "python",
   "name": "python3"
  },
  "language_info": {
   "codemirror_mode": {
    "name": "ipython",
    "version": 3
   },
   "file_extension": ".py",
   "mimetype": "text/x-python",
   "name": "python",
   "nbconvert_exporter": "python",
   "pygments_lexer": "ipython3",
   "version": "3.6.4"
  }
 },
 "nbformat": 4,
 "nbformat_minor": 2
}