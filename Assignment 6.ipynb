{
 "cells": [
  {
   "cell_type": "code",
   "execution_count": 12,
   "metadata": {
    "collapsed": true
   },
   "outputs": [
    {
     "name": "stdout",
     "output_type": "stream",
     "text": [
      "edcba"
     ]
    }
   ],
   "source": [
    "myString = 'abcde'\n",
    "i=1\n",
    "while i != len(myString)+1:  # Stop when reaching max len\n",
    "    print(myString[-i], end='')\n",
    "    i+=1"
   ]
  },
  {
   "cell_type": "code",
   "execution_count": 14,
   "outputs": [
    {
     "name": "stdout",
     "output_type": "stream",
     "text": [
      "2a5\n"
     ]
    }
   ],
   "source": [
    "# Write a function that takes a binary number of up to 16 digits, and converts it into a hexadecimal number.\n",
    "\n",
    "repeat = True\n",
    "while repeat:\n",
    "    value = input('Enter binary here:')\n",
    "    value = \"\".join(value.split())  # Remove all sorts of spaces from input\n",
    "    if len(value) > 16:\n",
    "        print('Please enter up to 16 digits')\n",
    "    else:\n",
    "        print(hex(int(value, 2))[2:])  # Remove the 0x at front\n",
    "        repeat = False"
   ],
   "metadata": {
    "collapsed": false,
    "pycharm": {
     "name": "#%%\n"
    }
   }
  },
  {
   "cell_type": "code",
   "execution_count": 17,
   "outputs": [],
   "source": [
    "# Write a script named copyfile.py. This script should prompt the user for the names of\n",
    "# two text files. The contents of the first file should be input and written to the second\n",
    "# file.\n",
    "\n",
    "file1 = input('Enter file name 1: ')\n",
    "file2 = input('Enter file name 2: ')\n",
    "\n",
    "with open(file2,'w') as f2:\n",
    "    for line in open(file1, 'r'):\n",
    "        f2.write(f'{line}')"
   ],
   "metadata": {
    "collapsed": false,
    "pycharm": {
     "name": "#%%\n"
    }
   }
  },
  {
   "cell_type": "code",
   "execution_count": 27,
   "outputs": [
    {
     "name": "stdout",
     "output_type": "stream",
     "text": [
      "Name: billy   Hours worked: 100   Wages paid: $800.00\n"
     ]
    }
   ],
   "source": [
    "# The Payroll Department keeps a list of employee information for each pay period in a\n",
    "# text file. The format of each line of the file is the following:\n",
    "#\n",
    "# <last name> <hourly wage> <hours worked>\n",
    "#\n",
    "# Write a program that inputs a filename from the user and prints to the terminal a\n",
    "# report of the wages paid to the employees for the given period. The report should be\n",
    "# in tabular format with the appropriate header. Each line should contain an employee’s\n",
    "# name, the hours worked and the wages paid for that period.\n",
    "\n",
    "def getInfo(name):\n",
    "    file  = 'info'  # change this to change file to read\n",
    "    for line in open(file):\n",
    "        if name in line:\n",
    "            info = line.split()\n",
    "            return f'Name: {info[0]}   Hours worked: {info[2]}   Wages paid: ${float(info[1]) * float(info[2]):.2f}'\n",
    "    else:  # If searched through entire file and found no match\n",
    "        return f'Name not found!'\n",
    "\n",
    "def main():\n",
    "    name = input('Enter the name: ')\n",
    "    print(getInfo(name))\n",
    "\n",
    "main()"
   ],
   "metadata": {
    "collapsed": false,
    "pycharm": {
     "name": "#%%\n"
    }
   }
  }
 ],
 "metadata": {
  "kernelspec": {
   "display_name": "Python 3",
   "language": "python",
   "name": "python3"
  },
  "language_info": {
   "codemirror_mode": {
    "name": "ipython",
    "version": 2
   },
   "file_extension": ".py",
   "mimetype": "text/x-python",
   "name": "python",
   "nbconvert_exporter": "python",
   "pygments_lexer": "ipython2",
   "version": "2.7.6"
  }
 },
 "nbformat": 4,
 "nbformat_minor": 0
}