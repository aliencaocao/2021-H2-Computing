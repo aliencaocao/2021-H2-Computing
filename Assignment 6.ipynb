{
 "cells": [
  {
   "cell_type": "code",
   "execution_count": 12,
   "metadata": {
    "collapsed": true
   },
   "outputs": [
    {
     "name": "stdout",
     "output_type": "stream",
     "text": [
      "edcba"
     ]
    }
   ],
   "source": [
    "myString = 'abcde'\n",
    "i=1\n",
    "while i != len(myString)+1:\n",
    "    print(myString[-i], end='')\n",
    "    i+=1"
   ]
  },
  {
   "cell_type": "code",
   "execution_count": null,
   "outputs": [],
   "source": [
    "# Write a function that takes a binary number of up to 16 digits, and converts it into a hexadecimal number."
   ],
   "metadata": {
    "collapsed": false,
    "pycharm": {
     "name": "#%%\n"
    }
   }
  },
  {
   "cell_type": "code",
   "execution_count": null,
   "outputs": [],
   "source": [
    "# Write a script named copyfile.py. This script should prompt the user for the names of\n",
    "# two text files. The contents of the first file should be input and written to the second\n",
    "# file.\n"
   ],
   "metadata": {
    "collapsed": false,
    "pycharm": {
     "name": "#%%\n"
    }
   }
  },
  {
   "cell_type": "code",
   "execution_count": null,
   "outputs": [],
   "source": [
    "# The Payroll Department keeps a list of employee information for each pay period in a\n",
    "# text file. The format of each line of the file is the following:\n",
    "#\n",
    "# <last name> <hourly wage> <hours worked>\n",
    "#\n",
    "# Write a program that inputs a filename from the user and prints to the terminal a\n",
    "# report of the wages paid to the employees for the given period. The report should be\n",
    "# in tabular format with the appropriate header. Each line should contain an employee’s\n",
    "# name, the hours worked and the wages paid for that period.\n",
    "\n"
   ],
   "metadata": {
    "collapsed": false,
    "pycharm": {
     "name": "#%%\n"
    }
   }
  }
 ],
 "metadata": {
  "kernelspec": {
   "display_name": "Python 3",
   "language": "python",
   "name": "python3"
  },
  "language_info": {
   "codemirror_mode": {
    "name": "ipython",
    "version": 2
   },
   "file_extension": ".py",
   "mimetype": "text/x-python",
   "name": "python",
   "nbconvert_exporter": "python",
   "pygments_lexer": "ipython2",
   "version": "2.7.6"
  }
 },
 "nbformat": 4,
 "nbformat_minor": 0
}