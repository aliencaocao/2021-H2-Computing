{
 "cells": [
  {
   "cell_type": "code",
   "execution_count": 1,
   "metadata": {
    "collapsed": true
   },
   "outputs": [
    {
     "name": "stdout",
     "output_type": "stream",
     "text": [
      "Eric is 24 years old.\n"
     ]
    }
   ],
   "source": [
    "name = 'Eric'\n",
    "age = 24\n",
    "print (f'{name} is {age} years old.')  # f-string method"
   ]
  },
  {
   "cell_type": "code",
   "execution_count": 3,
   "outputs": [
    {
     "name": "stdout",
     "output_type": "stream",
     "text": [
      "The average was 38.235%\n",
      "The average was 38.23%\n",
      "The average was 38.23500%\n"
     ]
    }
   ],
   "source": [
    "# f-string format floats\n",
    "avg = 38.234\n",
    "print (f'The average was {avg}%')\n",
    "print (f'The average was {avg:.2f}%')\n",
    "print (f'The average was {avg:.5f}%')"
   ],
   "metadata": {
    "collapsed": false,
    "pycharm": {
     "name": "#%%\n"
    }
   }
  },
  {
   "cell_type": "code",
   "execution_count": 6,
   "outputs": [
    {
     "name": "stdout",
     "output_type": "stream",
     "text": [
      "Eric    \n",
      "      24\n",
      "  38.235\n",
      "\n",
      "NAME      Average   AGE\n",
      "-------------------------\n",
      "Eric      38.23     24\n",
      "      Eric     38.2324\n"
     ]
    }
   ],
   "source": [
    "print (f'{name:8}')  # String: Left justified by 8 spaces (the last character is the 8th one)\n",
    "print (f'{age:8}')  # Integer: right justified by 8 spaces\n",
    "print (f'{avg:8}')  # float: right justified by 8 spaces\n",
    "print ()\n",
    "\n",
    "print(f\"{'NAME':<10}{'Average':<10}AGE\")  # Force all to be left justified (<)\n",
    "print ('-' * 25)\n",
    "print (f\"{name:<10}{avg:<10.2f}{age}\")"
   ],
   "metadata": {
    "collapsed": false,
    "pycharm": {
     "name": "#%%\n"
    }
   }
  },
  {
   "cell_type": "code",
   "execution_count": 8,
   "outputs": [
    {
     "name": "stdout",
     "output_type": "stream",
     "text": [
      "a         |         a\n",
      "ab        |        ab\n",
      "abc       |       abc\n"
     ]
    }
   ],
   "source": [
    "# > or < changes where to align to (to the arrow direction)\n",
    "s1, s2, s3 = 'a', 'ab', 'abc'\n",
    "print (f'{s1:<10}|{s1:>10}')\n",
    "print (f'{s2:<10}|{s2:>10}')\n",
    "print (f'{s3:<10}|{s3:>10}')"
   ],
   "metadata": {
    "collapsed": false,
    "pycharm": {
     "name": "#%%\n"
    }
   }
  },
  {
   "cell_type": "code",
   "execution_count": 9,
   "outputs": [
    {
     "name": "stdout",
     "output_type": "stream",
     "text": [
      "Item      Qty   Price\n",
      "=======================\n",
      "Apple     10    $ 5.00\n",
      "Bread     4     $14.00\n",
      "\n",
      "          Total:$19.00\n"
     ]
    }
   ],
   "source": [
    "apple, bread = 0.50, 3.50\n",
    "numApple, numBread = 10, 4\n",
    "prcApple, prcBread = numApple*apple, numBread * bread\n",
    "total = prcApple + prcBread\n",
    "strApple = 'Apple'\n",
    "strBread = 'Bread'\n",
    "\n",
    "print (f\"{'Item':<10}{'Qty':<6}{'Price'}\")\n",
    "print ('=' * 23)\n",
    "print (f\"{strApple:<10}{numApple:<6}${prcApple:>5.2f}\")\n",
    "print (f\"{strBread:<10}{numBread:<6}${prcBread:>5.2f}\")\n",
    "print()\n",
    "print (f\"{'Total:':>16}${total:>5.2f}\")  # justify to right 5 spaces, and format as 2 d.p"
   ],
   "metadata": {
    "collapsed": false,
    "pycharm": {
     "name": "#%%\n"
    }
   }
  }
 ],
 "metadata": {
  "kernelspec": {
   "display_name": "Python 3",
   "language": "python",
   "name": "python3"
  },
  "language_info": {
   "codemirror_mode": {
    "name": "ipython",
    "version": 2
   },
   "file_extension": ".py",
   "mimetype": "text/x-python",
   "name": "python",
   "nbconvert_exporter": "python",
   "pygments_lexer": "ipython2",
   "version": "2.7.6"
  }
 },
 "nbformat": 4,
 "nbformat_minor": 0
}