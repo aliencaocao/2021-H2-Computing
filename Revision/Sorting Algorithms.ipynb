{
 "cells": [
  {
   "cell_type": "code",
   "execution_count": 98,
   "metadata": {
    "collapsed": true,
    "pycharm": {
     "name": "#%%\n"
    }
   },
   "outputs": [],
   "source": [
    "import random\n",
    "data = list(range(10))\n",
    "random.shuffle(data)"
   ]
  },
  {
   "cell_type": "code",
   "execution_count": 14,
   "metadata": {
    "pycharm": {
     "name": "#%%\n"
    }
   },
   "outputs": [
    {
     "name": "stdout",
     "output_type": "stream",
     "text": [
      "[0, 1, 2, 3, 4, 5, 6, 7, 8, 9]\n",
      "[0, 1, 2, 3, 4, 5, 6, 7, 8, 9]\n"
     ]
    }
   ],
   "source": [
    "# Bubble sort\n",
    "def swap(l, a, b):\n",
    "    temp = l[a]\n",
    "    l[a] = l[b]\n",
    "    l[b] = temp\n",
    "    return l\n",
    "\n",
    "def bubble_sort(data):  # the default one to code\n",
    "    \"\"\"\n",
    "    Sort the list by moving the largest element to the end of the list and 2nd largest to 2nd last item etc. First run move the largest to the end, then j increments, which limit the inner for loop up to the 2nd last item and repeats until it reaches the first item\n",
    "    \"\"\"\n",
    "    for j in range(len(data)-1):  # Repeat the swapping process for each element in the list except for the final\n",
    "       for i in range(len(data)-j-1):  # Iternate through every item in the list and swap with the next item in list if is larger than the next item. Range need -1 else i+1 will give index error\n",
    "           if data[i] > data[i+1]:\n",
    "               swap(data, i, i+1)\n",
    "    return data\n",
    "\n",
    "def improved_bubble_sort(data):  # only needed if asked for\n",
    "    last = len(data) - 1\n",
    "    done = False\n",
    "    while not done:\n",
    "        done = True  # if swap didnt happen for the entire for loop below, means list is already sorted\n",
    "        for i in range(last):\n",
    "            if data[i] > data[i+1]:\n",
    "                swap(data, i, i+1)\n",
    "                done = False\n",
    "    return data\n",
    "\n",
    "print(bubble_sort(data))\n",
    "print(improved_bubble_sort(data))"
   ]
  },
  {
   "cell_type": "code",
   "execution_count": 80,
   "metadata": {
    "pycharm": {
     "name": "#%%\n"
    }
   },
   "outputs": [
    {
     "data": {
      "text/plain": "[0, 1, 2, 3, 4, 5, 6, 7, 8, 9]"
     },
     "execution_count": 80,
     "metadata": {},
     "output_type": "execute_result"
    }
   ],
   "source": [
    "# Quick sort\n",
    "def swap(l, a, b):\n",
    "    temp = l[a]\n",
    "    l[a] = l[b]\n",
    "    l[b] = temp\n",
    "    return l\n",
    "\n",
    "def partition(A, start, end):\n",
    "    \"\"\"\n",
    "    Make sure the elements to left and right of pivot are all less and more than the pivot, that is, the pivot is in the right location. However the left and right side may not be sorted so need recursive to sort those sides too until only left with 1 item (then end -1 will be < start and it will stop recursing)\n",
    "    \"\"\"\n",
    "    i = start + 1  # skip the first element as using first element as pivot\n",
    "    pivot = A[start]\n",
    "    for j in range(start+1, end+1):  # start from 2nd element as first one is pivot, end+1 because range() dont include the last item\n",
    "        if A[j] < pivot:  # if current element is less than pivot, exchange ith and jth element, then increase i and j by 1, else, only increase j by 1\n",
    "            swap(A, i, j)\n",
    "            i += 1\n",
    "    swap(A, start, i-1)  # After loop is done, swap the start (pivot) with (i-1)th element, (i-1)th is like a borderline of the smaller segment and larger segment\n",
    "    return i-1  # return the index of the pivot\n",
    "\n",
    "def quicksort(A, start, end):\n",
    "    if start < end:\n",
    "        pivot_pos = partition(A, start, end)  # index of the pivot\n",
    "        quicksort(A, start, pivot_pos-1)  # quick sort the front part\n",
    "        quicksort(A, pivot_pos+1, end)  # quick sort the back part\n",
    "\n",
    "quicksort(data, 0, len(data)-1)\n",
    "data"
   ]
  },
  {
   "cell_type": "code",
   "execution_count": 4,
   "metadata": {
    "pycharm": {
     "name": "#%%\n"
    }
   },
   "outputs": [
    {
     "data": {
      "text/plain": [
       "[0, 1, 2, 3, 4, 5, 6, 7, 8, 9]"
      ]
     },
     "execution_count": 4,
     "metadata": {},
     "output_type": "execute_result"
    }
   ],
   "source": [
    "# Merge sort\n",
    "def merge(left, right):\n",
    "    \"\"\"\n",
    "    Compare element by element between left and right (left and right are both lists that are already sorted). Make a temp list and insert items from left or right in increasing order so the final temp list is a sorted merge of left and right.\n",
    "    \"\"\"\n",
    "    i, j = 0, 0\n",
    "    result = []\n",
    "    while i < len(left) and j < len(right):  # run until i and j are larger than the length of left and right, increment the index of the side that got the item inserted into the result list\n",
    "        if left[i] < right[j]:  # ith item in left is smaller than jth item in right so insert left ith item into result list then increment i by 1 so next run it compares i+1th item in left with jth item in right\n",
    "            result.append(left[i])\n",
    "            i += 1\n",
    "        else:  # left[i] > right[j] so insert right jth item into result list then increment j by 1\n",
    "            result.append(right[j])\n",
    "            j += 1\n",
    "    # may have left over if every item in 1 side is smaller than some item in another side so the while loop ends as i or j reached end\n",
    "    result += left[i:]  # append the rest of left if any (might be empty)\n",
    "    result += right[j:]  # append the rest of right if any (might be empty)\n",
    "    return result\n",
    "\n",
    "def merge_sort(data):\n",
    "    \"\"\"\n",
    "    Breaks entire list into individual items from the center then merge them back\n",
    "    \"\"\"\n",
    "    if len(data) == 1:\n",
    "        return data\n",
    "    mid = len(data)//2\n",
    "    left = merge_sort(data[:mid])\n",
    "    right = merge_sort(data[mid:])\n",
    "    return merge(left, right)\n",
    "\n",
    "merge_sort(data)"
   ]
  },
  {
   "cell_type": "code",
   "execution_count": 100,
   "metadata": {},
   "outputs": [
    {
     "data": {
      "text/plain": "[0, 1, 2, 3, 4, 5, 6, 7, 8, 9]"
     },
     "execution_count": 100,
     "metadata": {},
     "output_type": "execute_result"
    }
   ],
   "source": [
    "# Insertion sort\n",
    "def insertion_sort(data):\n",
    "    \"\"\"\n",
    "    Insert each item to the correct position\n",
    "    i is a marker to divide sorted part and unsorted part of a list. Items before i are sorted and from i onwards are not. Initialize i to be 1. Then move ith item to the correct location in front of i by comparing 1 by 1 until the target (jth item) is smaller than ith item (similar to bubble sort but bubble forward)\n",
    "    \"\"\"\n",
    "    for i in range(1, len(data)):\n",
    "        j = i\n",
    "        while j > 0 and data[j-1] > data[j]:  # stop swapping when reached first item in list (when j=0) or when the target is smaller than the previous item ( stop when data[j] > data[j-1])\n",
    "            swap(data, j, j-1)\n",
    "            j -= 1\n",
    "    return data\n",
    "\n",
    "insertion_sort(data)"
   ]
  }
 ],
 "metadata": {
  "kernelspec": {
   "display_name": "Python 3 (ipykernel)",
   "language": "python",
   "name": "python3"
  },
  "language_info": {
   "codemirror_mode": {
    "name": "ipython",
    "version": 3
   },
   "file_extension": ".py",
   "mimetype": "text/x-python",
   "name": "python",
   "nbconvert_exporter": "python",
   "pygments_lexer": "ipython3",
   "version": "3.9.13"
  }
 },
 "nbformat": 4,
 "nbformat_minor": 1
}
