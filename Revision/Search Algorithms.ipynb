{
 "cells": [
  {
   "cell_type": "code",
   "execution_count": 2,
   "metadata": {
    "collapsed": true,
    "pycharm": {
     "name": "#%%\n"
    }
   },
   "outputs": [],
   "source": [
    "data = list(range(10))"
   ]
  },
  {
   "cell_type": "code",
   "execution_count": 4,
   "outputs": [
    {
     "data": {
      "text/plain": "5"
     },
     "execution_count": 4,
     "metadata": {},
     "output_type": "execute_result"
    }
   ],
   "source": [
    "def linear_search(data, target):\n",
    "    for i in range(len(data)):\n",
    "        if data[i] == target:\n",
    "            return i\n",
    "    return -1\n",
    "linear_search(data, 5)"
   ],
   "metadata": {
    "collapsed": false,
    "pycharm": {
     "name": "#%%\n"
    }
   }
  },
  {
   "cell_type": "code",
   "execution_count": 4,
   "outputs": [
    {
     "data": {
      "text/plain": "5"
     },
     "execution_count": 4,
     "metadata": {},
     "output_type": "execute_result"
    }
   ],
   "source": [
    "def binary_search(data, target):\n",
    "    \"\"\"ONLY works on a sorted list! Compare the middle of the whole list to decide where the target could lie in (left or right side), then compare with the middle of that one side and repeat.\"\"\"\n",
    "    found = False\n",
    "    low = 0\n",
    "    high = len(data) - 1\n",
    "    while not found and low <= high:  # repeat until found or low exceeds high (which means not found)\n",
    "        mid = (low + high) // 2\n",
    "        if data[mid] == target:\n",
    "            found = True\n",
    "        elif data[mid] < target:  # zoom into the half that may contain the target\n",
    "            low = mid + 1  # +1 as no need compare mid itself again\n",
    "        else:\n",
    "            high = mid - 1\n",
    "    if found:\n",
    "        return mid\n",
    "    else:\n",
    "        return -1\n",
    "\n",
    "binary_search(data, 5)"
   ],
   "metadata": {
    "collapsed": false,
    "pycharm": {
     "name": "#%%\n"
    }
   }
  },
  {
   "cell_type": "code",
   "execution_count": 5,
   "outputs": [
    {
     "data": {
      "text/plain": "5"
     },
     "execution_count": 5,
     "metadata": {},
     "output_type": "execute_result"
    }
   ],
   "source": [
    "# Hash table search with linear probing\n",
    "def hash_func(data):\n",
    "    return data % 25  # simple hash function that allows for up to 25 unique values\n",
    "\n",
    "def insert(hash_table, data):\n",
    "    slot = hash_func(data)\n",
    "    if hash_table[slot] is None:  # if empty, just insert\n",
    "        hash_table[slot] = data\n",
    "    else:  # if not empty, do linear probing\n",
    "        while hash_table[slot] is not None:\n",
    "            slot += 1\n",
    "            if hash_value > 25:  # return to start if reached end\n",
    "                slot = 0\n",
    "        hash_table[slot] = data\n",
    "\n",
    "\n",
    "hash_table = [None] * 25  # create a hash table with 25 slots\n",
    "for i in data:\n",
    "    insert(hash_table, i)\n",
    "\n",
    "def hash_table_search(data, target):\n",
    "    slot = hash_func(target)\n",
    "    if data[slot]:\n",
    "        if data[slot] == target:\n",
    "            return slot\n",
    "        else:\n",
    "            for i in range(1, 25):  # linear probing, for linked list, just\n",
    "                if data[(slot + i) % 25] == target:  # goes back to front if reached end by using mod (size of hash table)\n",
    "                    return (slot + i) % 25\n",
    "    else:  # if slot is empty, means doesnt exist\n",
    "        return -1\n",
    "\n",
    "hash_table_search(hash_table, 5)"
   ],
   "metadata": {
    "collapsed": false,
    "pycharm": {
     "name": "#%%\n"
    }
   }
  }
 ],
 "metadata": {
  "kernelspec": {
   "display_name": "Python 3",
   "language": "python",
   "name": "python3"
  },
  "language_info": {
   "codemirror_mode": {
    "name": "ipython",
    "version": 2
   },
   "file_extension": ".py",
   "mimetype": "text/x-python",
   "name": "python",
   "nbconvert_exporter": "python",
   "pygments_lexer": "ipython2",
   "version": "2.7.6"
  }
 },
 "nbformat": 4,
 "nbformat_minor": 0
}