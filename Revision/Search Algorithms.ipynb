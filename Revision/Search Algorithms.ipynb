{
 "cells": [
  {
   "cell_type": "code",
   "execution_count": 1,
   "metadata": {
    "collapsed": true,
    "pycharm": {
     "name": "#%%\n"
    }
   },
   "outputs": [],
   "source": [
    "data = list(range(10))"
   ]
  },
  {
   "cell_type": "code",
   "execution_count": 4,
   "outputs": [
    {
     "data": {
      "text/plain": "5"
     },
     "execution_count": 4,
     "metadata": {},
     "output_type": "execute_result"
    }
   ],
   "source": [
    "def linear_search(data, target):\n",
    "    for i in range(len(data)):\n",
    "        if data[i] == target:\n",
    "            return i\n",
    "    return -1\n",
    "linear_search(data, 5)"
   ],
   "metadata": {
    "collapsed": false,
    "pycharm": {
     "name": "#%%\n"
    }
   }
  },
  {
   "cell_type": "code",
   "execution_count": 4,
   "outputs": [
    {
     "data": {
      "text/plain": "5"
     },
     "execution_count": 4,
     "metadata": {},
     "output_type": "execute_result"
    }
   ],
   "source": [
    "def binary_search(data, target):\n",
    "    \"\"\"ONLY works on a sorted list! Compare the middle of the whole list to decide where the target could lie in (left or right side), then compare with the middle of that one side and repeat.\"\"\"\n",
    "    found = False\n",
    "    low = 0\n",
    "    high = len(data) - 1\n",
    "    while not found and low <= high:  # repeat until found or low exceeds high (which means not found)\n",
    "        mid = (low + high) // 2\n",
    "        if data[mid] == target:\n",
    "            found = True\n",
    "        elif data[mid] < target:  # zoom into the half that may contain the target\n",
    "            low = mid + 1  # +1 as no need compare mid itself again\n",
    "        else:\n",
    "            high = mid - 1\n",
    "    if found:\n",
    "        return mid\n",
    "    else:\n",
    "        return -1\n",
    "\n",
    "binary_search(data, 5)"
   ],
   "metadata": {
    "collapsed": false,
    "pycharm": {
     "name": "#%%\n"
    }
   }
  },
  {
   "cell_type": "code",
   "execution_count": null,
   "outputs": [],
   "source": [],
   "metadata": {
    "collapsed": false,
    "pycharm": {
     "name": "#%%\n"
    }
   }
  }
 ],
 "metadata": {
  "kernelspec": {
   "display_name": "Python 3",
   "language": "python",
   "name": "python3"
  },
  "language_info": {
   "codemirror_mode": {
    "name": "ipython",
    "version": 2
   },
   "file_extension": ".py",
   "mimetype": "text/x-python",
   "name": "python",
   "nbconvert_exporter": "python",
   "pygments_lexer": "ipython2",
   "version": "2.7.6"
  }
 },
 "nbformat": 4,
 "nbformat_minor": 0
}