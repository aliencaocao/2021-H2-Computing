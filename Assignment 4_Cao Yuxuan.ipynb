{
 "cells": [
  {
   "cell_type": "code",
   "execution_count": 4,
   "metadata": {
    "collapsed": true
   },
   "outputs": [
    {
     "name": "stdout",
     "output_type": "stream",
     "text": [
      "2000\n"
     ]
    }
   ],
   "source": [
    "def mul(x, y):\n",
    "    if y == 1:\n",
    "        return x\n",
    "    else:\n",
    "        return x + mul(x, y-1)  # Add x for y times\n",
    "\n",
    "def main():\n",
    "    x = int(input('Enter the multiple 1: '))\n",
    "    y = int(input('Enter the multiple 2: '))\n",
    "    print(mul(x, y))\n",
    "\n",
    "main()"
   ]
  },
  {
   "cell_type": "code",
   "execution_count": 8,
   "outputs": [
    {
     "name": "stdout",
     "output_type": "stream",
     "text": [
      "*\n",
      "**\n",
      "***\n",
      "****\n",
      "*****\n",
      "******\n",
      "*******\n",
      "********\n",
      "*********\n",
      "**********\n"
     ]
    }
   ],
   "source": [
    "def printast(n):\n",
    "    if n == 1:\n",
    "        print('*')\n",
    "    else:\n",
    "        printast(n-1)\\\n",
    "        print('*' * n)\n",
    "\n",
    "def main():\n",
    "    n = int(input(\"Enter the value of n: \"))\n",
    "    printast(n)\n",
    "\n",
    "main()"
   ],
   "metadata": {
    "collapsed": false,
    "pycharm": {
     "name": "#%%\n"
    }
   }
  },
  {
   "cell_type": "code",
   "execution_count": 9,
   "outputs": [
    {
     "name": "stdout",
     "output_type": "stream",
     "text": [
      "5050\n"
     ]
    }
   ],
   "source": [
    "def add(n):\n",
    "    if n == 1:\n",
    "        return 1\n",
    "    else:\n",
    "        return n + add(n-1)  # Add the input n to sum of all numbers smaller than n\n",
    "\n",
    "def main():\n",
    "    n = int(input(\"Enter the value of n: \"))\n",
    "    print(add(n))\n",
    "\n",
    "main()"
   ],
   "metadata": {
    "collapsed": false,
    "pycharm": {
     "name": "#%%\n"
    }
   }
  },
  {
   "cell_type": "code",
   "execution_count": 4,
   "outputs": [
    {
     "name": "stdout",
     "output_type": "stream",
     "text": [
      "Welcome to ATM!\n",
      "\n",
      "1. Deposit\n",
      "2. Withdrawal\n",
      "3. See balance\n",
      "4. Quit\n",
      "\n",
      "\n",
      "Deposited $20.0, new balance is $69.90.\n",
      "\n",
      "1. Deposit\n",
      "2. Withdrawal\n",
      "3. See balance\n",
      "4. Quit\n",
      "\n",
      "\n",
      "\n",
      "You can with draw the following amount:\n",
      "1. $50\n",
      "2. $100\n",
      "3. $200\n",
      "4. $500\n",
      "5. Back\n",
      "Please input your choice below: \n",
      "Your bank balance is $69.90, which is lower than the amount requested to withdraw.\n",
      "\n",
      "1. Deposit\n",
      "2. Withdrawal\n",
      "3. See balance\n",
      "4. Quit\n",
      "\n",
      "\n",
      "\n",
      "You can with draw the following amount:\n",
      "1. $50\n",
      "2. $100\n",
      "3. $200\n",
      "4. $500\n",
      "5. Back\n",
      "Please input your choice below: \n",
      "Withdrawal success. New balance: $19.90.\n",
      "\n",
      "1. Deposit\n",
      "2. Withdrawal\n",
      "3. See balance\n",
      "4. Quit\n",
      "\n",
      "\n",
      "The balance is $19.90\n",
      "\n",
      "1. Deposit\n",
      "2. Withdrawal\n",
      "3. See balance\n",
      "4. Quit\n",
      "\n",
      "\n",
      "Thanks and have a great day!\n"
     ]
    }
   ],
   "source": [
    "balance = 1000\n",
    "\n",
    "\n",
    "def deposit(amt):\n",
    "    global balance\n",
    "    balance += amt\n",
    "    print(f'Deposited ${amt}, new balance is ${balance:.2f}.')\n",
    "    return 0\n",
    "\n",
    "\n",
    "def withdraw():\n",
    "    global balance\n",
    "    if balance < 50:\n",
    "        print(f'Your bank balance is ${balance:.2f}, which is lower than the minimum withdrawal amount of $50.')\n",
    "        return 1\n",
    "    else:\n",
    "        print('You can with draw the following amount:\\n1. $50\\n2. $100\\n3. $200\\n4. $500\\n5. Back\\nPlease input your choice below: ')\n",
    "        withdrawChoice = int(input('Withdrawal Choice (1-5)； '))\n",
    "        if withdrawChoice == 1:\n",
    "            balance -= 50\n",
    "            print(f'Withdrawal success. New balance: ${balance:.2f}.')\n",
    "        elif withdrawChoice == 2:\n",
    "            if balance < 100:\n",
    "                print(f'Your bank balance is ${balance:.2f}, which is lower than the amount requested to withdraw ($100).')\n",
    "                return 1\n",
    "            else:\n",
    "                balance -= 100\n",
    "                print(f'Withdrawal success. New balance: ${balance:.2f}.')\n",
    "                return 0\n",
    "        elif withdrawChoice == 3:\n",
    "            if balance < 200:\n",
    "                print(f'Your bank balance is ${balance:.2f}, which is lower than the amount requested to withdraw ($200).')\n",
    "                return 1\n",
    "            else:\n",
    "                balance -= 200\n",
    "                print(f'Withdrawal success. New balance: ${balance:.2f}.')\n",
    "                return 0\n",
    "        elif withdrawChoice == 4:\n",
    "            if balance < 500:\n",
    "                print(f'Your bank balance is ${balance:.2f}, which is lower than the amount requested to withdraw ($500).')\n",
    "                return 1\n",
    "            else:\n",
    "                balance -= 500\n",
    "                print(f'Withdrawal success. New balance: ${balance:.2f}.')\n",
    "                return 0\n",
    "        elif withdrawChoice == 5:\n",
    "            return 0\n",
    "        else:\n",
    "            print('Please enter a valid choice.')\n",
    "            return 1\n",
    "\n",
    "\n",
    "def seeBalance():\n",
    "    global balance\n",
    "    return f'The balance is ${balance:.2f}'\n",
    "\n",
    "\n",
    "def quit():\n",
    "    return 'Thanks and have a great day!'\n",
    "\n",
    "\n",
    "def main():\n",
    "    print('Welcome to ATM!')\n",
    "    while True:\n",
    "        print()\n",
    "        print('1. Deposit\\n2. Withdrawal\\n3. See balance\\n4. Quit\\n')\n",
    "        print()\n",
    "        choice = int(input('Select the task (1-4): '))\n",
    "        if choice == 1:\n",
    "            deposit(float(input('Enter the amount to deposit: ')))\n",
    "            continue\n",
    "        elif choice == 2:\n",
    "            success = withdraw()\n",
    "            if success == 0:  # 0 means success, 1 means error. If error, keep retrying in withdraw function\n",
    "                continue\n",
    "        elif choice == 3:\n",
    "            print(seeBalance())\n",
    "            continue\n",
    "        elif choice == 4:\n",
    "            print(quit())\n",
    "            break\n",
    "        else:\n",
    "            print('Please input an integer from 1 to 4')\n",
    "            continue\n",
    "\n",
    "\n",
    "main()"
   ],
   "metadata": {
    "collapsed": false,
    "pycharm": {
     "name": "#%%\n"
    }
   }
  }
 ],
 "metadata": {
  "kernelspec": {
   "display_name": "Python 3",
   "language": "python",
   "name": "python3"
  },
  "language_info": {
   "codemirror_mode": {
    "name": "ipython",
    "version": 2
   },
   "file_extension": ".py",
   "mimetype": "text/x-python",
   "name": "python",
   "nbconvert_exporter": "python",
   "pygments_lexer": "ipython2",
   "version": "2.7.6"
  }
 },
 "nbformat": 4,
 "nbformat_minor": 0
}