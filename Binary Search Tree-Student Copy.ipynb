{
 "cells": [
  {
   "cell_type": "markdown",
   "metadata": {
    "pycharm": {
     "name": "#%% md\n"
    }
   },
   "source": [
    "## Binary Search Tree\n",
    "\n",
    "A **Binary Search Tree** is a binary tree where nodes are ordered in the following way:\n",
    "* each node contains one key (also known as data)\n",
    "* the keys in the left subtree are less then the key in its parent node\n",
    "* the keys in the right subtree are greater the key in its parent node\n",
    "* the left and right subtree each must also be a binary search tree.\n",
    "* duplicate keys are not allowed\n",
    "\n",
    "### Exercise 1 \n",
    "Implement a `Node` class which has the follwing attributes\n",
    "* `data` contains the data\n",
    "* `left` pointer that points to the left subtree\n",
    "* `right` pointer that points to the right subtree\n",
    "\n",
    "* Initialize `data`, `left` and `right` in initializer. Both `left` and `right` has default value of `None`.\n",
    "* Implement `__str__()` method to return string with format `Node(data, left.data, right.data)`\n",
    " "
   ]
  },
  {
   "cell_type": "code",
   "execution_count": 17,
   "metadata": {
    "pycharm": {
     "name": "#%%\n"
    }
   },
   "outputs": [
    {
     "name": "stdout",
     "output_type": "stream",
     "text": [
      "Node(10,5,15)\n",
      "Node(5,None,None)\n"
     ]
    }
   ],
   "source": [
    "class Node:\n",
    "  \n",
    "\n",
    "\n",
    "\n",
    "l = Node(5)\n",
    "r = Node(15)\n",
    "n1 = Node(10, l, r)\n",
    "print(n1)\n",
    "print(n1.left)"
   ]
  },
  {
   "cell_type": "markdown",
   "metadata": {
    "pycharm": {
     "name": "#%% md\n"
    }
   },
   "source": [
    "### Exercise 2\n",
    "\n",
    "Implement a class BinarySearchTree.\n",
    "\n",
    "It has a root attribute pointing to its root node.\n",
    "Define an `add()` method to add a val to the tree.\n",
    "\n",
    "The operation to insert a value is a recursive process at each node of the tree. \n",
    "* First we compare with the root node.\n",
    "* If root node is a None, put it in root node.\n",
    "* If the value is greater then the root node, recurse into right subtree.\n",
    "* If the value is less than the root node, recurse into left subtree.\n",
    "* Recurse until it reach a leaf node with None value, and add the node to the tree."
   ]
  },
  {
   "cell_type": "code",
   "execution_count": 16,
   "metadata": {
    "pycharm": {
     "name": "#%%\n"
    }
   },
   "outputs": [
    {
     "name": "stdout",
     "output_type": "stream",
     "text": [
      "Node(10,5,15)\n",
      "Node(5,1,None)\n",
      "Node(15,None,None)\n"
     ]
    }
   ],
   "source": [
    "class BinarySearchTree:\n",
    "\n",
    "   \n",
    "\n",
    "\n",
    "\n",
    "                \n",
    "t = BinarySearchTree()\n",
    "t.add(10)\n",
    "t.add(5)\n",
    "t.add(15)\n",
    "t.add(1)\n",
    "print(t.root)\n",
    "print(t.root.left)\n",
    "print(t.root.right)\n",
    " "
   ]
  },
  {
   "cell_type": "markdown",
   "metadata": {
    "pycharm": {
     "name": "#%% md\n"
    }
   },
   "source": [
    "### Exercise 3\n",
    "\n",
    "* Define a `inorder` method that perform an inorder traversal of the tree \n",
    "\n",
    "#### Inorder Traversal \n",
    "* Traverse the left subtree\n",
    "* Visit the root.\n",
    "* Traverse the right subtree\n",
    "\n",
    "Inorder traversal gives nodes in increasing order."
   ]
  },
  {
   "cell_type": "code",
   "execution_count": 18,
   "metadata": {
    "pycharm": {
     "name": "#%%\n"
    }
   },
   "outputs": [
    {
     "name": "stdout",
     "output_type": "stream",
     "text": [
      "1\n",
      "5\n",
      "7\n",
      "10\n",
      "12\n",
      "15\n",
      "17\n"
     ]
    }
   ],
   "source": [
    "class BinarySearchTree:\n",
    "\n",
    "    \n",
    "    \n",
    "    \n",
    "    \n",
    "\n",
    "\n",
    "t = BinarySearchTree()\n",
    "t.add(10)\n",
    "t.add(5)\n",
    "t.add(15)\n",
    "t.add(1)\n",
    "t.add(7)\n",
    "t.add(12)\n",
    "t.add(17)\n",
    "t.inorder(t.root)\n",
    "\n"
   ]
  },
  {
   "cell_type": "markdown",
   "metadata": {
    "pycharm": {
     "name": "#%% md\n"
    }
   },
   "source": [
    "### Exercise 4\n",
    "\n",
    "* Define a `preorder` method that perform a preorder traversal of the tree \n",
    "\n",
    "#### Preorder Traversal \n",
    "* Visit the root.\n",
    "* Traverse the left subtree\n",
    "* Traverse the right subtree\n",
    "\n",
    "Preorder traversal is used to create a copy of the tree "
   ]
  },
  {
   "cell_type": "code",
   "execution_count": 11,
   "metadata": {
    "pycharm": {
     "name": "#%%\n"
    }
   },
   "outputs": [
    {
     "name": "stdout",
     "output_type": "stream",
     "text": [
      "10\n",
      "5\n",
      "1\n",
      "7\n",
      "15\n",
      "12\n",
      "17\n"
     ]
    }
   ],
   "source": [
    "class BinarySearchTree:\n",
    "\n",
    "   \n",
    "\n",
    "\n",
    "\n",
    "            \n",
    "if __name__ == '__main__':\n",
    "    t = BinarySearchTree()\n",
    "    t.add(10)\n",
    "    t.add(5)\n",
    "    t.add(15)\n",
    "    t.add(1)\n",
    "    t.add(7)\n",
    "    t.add(12)\n",
    "    t.add(17)\n",
    "    #t.inorder(t.root)\n",
    "    t.preorder(t.root)"
   ]
  },
  {
   "cell_type": "markdown",
   "metadata": {
    "pycharm": {
     "name": "#%% md\n"
    }
   },
   "source": [
    "### Exercise 5\n",
    "\n",
    "* Define a `postorder` method that perform a postorder traversal of the tree \n",
    "\n",
    "#### Postorder Traversal \n",
    "* Traverse the left subtree\n",
    "* Traverse the right subtree\n",
    "* Visit the root.\n",
    "\n",
    "Postorder traversal is used to delete the tree."
   ]
  },
  {
   "cell_type": "code",
   "execution_count": 22,
   "metadata": {
    "pycharm": {
     "name": "#%%\n"
    }
   },
   "outputs": [
    {
     "name": "stdout",
     "output_type": "stream",
     "text": [
      "1\n",
      "7\n",
      "5\n",
      "12\n",
      "17\n",
      "15\n",
      "10\n"
     ]
    }
   ],
   "source": [
    "class BinarySearchTree:\n",
    "\n",
    "    \n",
    "            \n",
    "\n",
    "t = BinarySearchTree()\n",
    "t.add(10)\n",
    "t.add(5)\n",
    "t.add(15)\n",
    "t.add(1)\n",
    "t.add(7)\n",
    "t.add(12)\n",
    "t.add(17)\n",
    "t.postorder(t.root)\n",
    "    "
   ]
  },
  {
   "cell_type": "markdown",
   "metadata": {
    "pycharm": {
     "name": "#%% md\n"
    }
   },
   "source": [
    "### Exercise 6\n",
    "\n",
    "* Define a `find` method that accept a value. The method returns the node if the value is found, otherwise None is returned.\n",
    "\n",
    "#### Find item\n",
    "To search a given value in Binary Search Tree, we compare it with root.\n",
    "\n",
    "* If the value is present at root, we return the root.\n",
    "* If the value is greater than root’s value, we recurse into the right subtree of root node.\n",
    "* Otherwise we recurse in the left subtree.\n"
   ]
  },
  {
   "cell_type": "code",
   "execution_count": 25,
   "metadata": {
    "pycharm": {
     "name": "#%%\n"
    }
   },
   "outputs": [
    {
     "name": "stdout",
     "output_type": "stream",
     "text": [
      "Found: Node: 20\n"
     ]
    }
   ],
   "source": [
    "class BinarySearchTree:\n",
    "\n",
    "    \n",
    "    \n",
    "\n",
    "t = BinarySearchTree()\n",
    "t.add(10)\n",
    "t.add(5)\n",
    "t.add(15)\n",
    "t.add(1)\n",
    "t.add(7)\n",
    "t.add(12)\n",
    "t.add(17)\n",
    "t.add(20)\n",
    "t.add(16)\n",
    "t.add(18)\n",
    "#t.inorderTraverse()\n",
    "#t.preorderTraverse()\n",
    "#t.preorder(t.root)\n",
    "#t.postorder(t.root)\n",
    "node = t.find(20)\n",
    "if node:\n",
    "    print(\"Found: Node: {}\".format(node.data))\n",
    "else:\n",
    "    print(\"Not found\")\n",
    "                \n"
   ]
  },
  {
   "cell_type": "markdown",
   "metadata": {
    "pycharm": {
     "name": "#%% md\n"
    }
   },
   "source": [
    "### Exercise 7\n",
    "\n",
    "* Define a `insert` method that add a val to the tree **without recursion**\n"
   ]
  },
  {
   "cell_type": "code",
   "execution_count": null,
   "metadata": {
    "pycharm": {
     "name": "#%%\n"
    }
   },
   "outputs": [],
   "source": []
  },
  {
   "cell_type": "markdown",
   "metadata": {
    "pycharm": {
     "name": "#%% md\n"
    }
   },
   "source": [
    "### Exercise 8\n",
    "\n",
    "* Define a `search` method that search for a val in the tree **without recursion**. The method returns the Node if the value is found, otherwise None will be returned.\n"
   ]
  },
  {
   "cell_type": "code",
   "execution_count": null,
   "metadata": {
    "pycharm": {
     "name": "#%%\n"
    }
   },
   "outputs": [],
   "source": []
  }
 ],
 "metadata": {
  "kernelspec": {
   "display_name": "Python 3",
   "language": "python",
   "name": "python3"
  },
  "language_info": {
   "codemirror_mode": {
    "name": "ipython",
    "version": 3
   },
   "file_extension": ".py",
   "mimetype": "text/x-python",
   "name": "python",
   "nbconvert_exporter": "python",
   "pygments_lexer": "ipython3",
   "version": "3.8.5"
  }
 },
 "nbformat": 4,
 "nbformat_minor": 2
}